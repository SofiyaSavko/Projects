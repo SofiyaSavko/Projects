{
 "cells": [
  {
   "cell_type": "markdown",
   "id": "9ff43d42",
   "metadata": {},
   "source": [
    "# Анализ сервиса аренды самокатов GoFast"
   ]
  },
  {
   "cell_type": "markdown",
   "id": "c8badcc8",
   "metadata": {},
   "source": [
    "**Описание проекта** \n",
    "\n",
    "От популярного сервиса аренды самокатов GoFast были переданы данные о некоторых пользователях из нескольких городов, а также об их поездках. Проанализируем данные и проверим некоторые гипотезы, которые могут помочь бизнесу вырасти.\n",
    "\n",
    "\n",
    "Чтобы совершать поездки по городу, пользователи сервиса GoFast пользуются мобильным приложением. Сервисом можно пользоваться:\n",
    "\n",
    "*без подписки*\n",
    "- абонентская плата отсутствует;\n",
    "- стоимость одной минуты поездки — 8 рублей;\n",
    "- стоимость старта (начала поездки) — 50 рублей;\n",
    "\n",
    "*с подпиской Ultra*\n",
    "- абонентская плата — 199 рублей в месяц;\n",
    "- стоимость одной минуты поездки — 6 рублей;\n",
    "- стоимость старта — бесплатно.\n",
    "\n",
    "\n",
    "**Цель исследования** \n",
    "\n",
    "Проверить некоторые гипотезы на основе анализа данных.\n",
    "\n",
    "**Ход исследования** \n",
    "\n",
    "Для начала будет произведена загрузка и обзор данных: на этом этапе лишь узнаем общую информацию о данных. Затем будет произведена предобработка данных: поиск явных и неявных дубликатов, выявление пропусков и их замена, если такие будут обнаржуены, приведение данных к правильному типу данных и т.д. Следом проведем исследовательский анализ данных: опишем и визуализируем основную информацию, выявим, какие действия с данными нужны для дальнейшей проверки гипотез, и выполним их. Затем проверим гипотезы и сделаем выводы.\n",
    "\n",
    "***План работы***\n",
    "\n",
    "\n",
    "[***Шаг 1. Загрузка данных***](#1)\n",
    "\n",
    "[***Шаг 2. Предобработка данных***](#2)\n",
    "\n",
    "[***Шаг 3. Исследовательский анализ данных***](#3)\n",
    "\n",
    "[***Шаг 4. Объединение данных***](#4)\n",
    "\n",
    "[***Шаг 5. Подсчет выручки***](#5)\n",
    "\n",
    "[***Шаг 6. Проверка гипотез***](#6)\n",
    "\n",
    "[***Шаг 7. Распределения***](#7)\n",
    "\n",
    "[***Шаг 8. Общий вывод***](#8)"
   ]
  },
  {
   "cell_type": "markdown",
   "id": "c42cbe00",
   "metadata": {},
   "source": [
    "<a id ='1'></a>\n",
    "### Шаг 1. Загрузка данных"
   ]
  },
  {
   "cell_type": "code",
   "execution_count": 1,
   "id": "72576667",
   "metadata": {},
   "outputs": [],
   "source": [
    "import warnings\n",
    "import matplotlib.pyplot as plt\n",
    "import pandas as pd\n",
    "import numpy as np\n",
    "import scipy.stats as st\n",
    "\n",
    "pd.set_option('display.max_columns', None)\n",
    "warnings.filterwarnings('ignore')"
   ]
  },
  {
   "cell_type": "code",
   "execution_count": 2,
   "id": "eff9f206",
   "metadata": {},
   "outputs": [],
   "source": [
    "# считаем CSV-файлы и сохраним их в датафреймы\n",
    "users = pd.read_csv('/datasets/users_go.csv')\n",
    "rides = pd.read_csv('/datasets/rides_go.csv')\n",
    "subscriptions = pd.read_csv('/datasets/subscriptions_go.csv')"
   ]
  },
  {
   "cell_type": "code",
   "execution_count": 3,
   "id": "e1cf6297",
   "metadata": {},
   "outputs": [],
   "source": [
    "# создадим универсальную функцию, которая выводит необходимые характеристики для датафрейма\n",
    "def data_info(df):\n",
    "    print(df.head())\n",
    "    df.info()\n",
    "    print(df.duplicated().sum())"
   ]
  },
  {
   "cell_type": "code",
   "execution_count": 4,
   "id": "6dc78e33",
   "metadata": {},
   "outputs": [
    {
     "name": "stdout",
     "output_type": "stream",
     "text": [
      "   user_id        name  age            city subscription_type\n",
      "0        1        Кира   22          Тюмень             ultra\n",
      "1        2   Станислав   31            Омск             ultra\n",
      "2        3     Алексей   20          Москва             ultra\n",
      "3        4  Константин   26  Ростов-на-Дону             ultra\n",
      "4        5       Адель   28            Омск             ultra\n",
      "<class 'pandas.core.frame.DataFrame'>\n",
      "RangeIndex: 1565 entries, 0 to 1564\n",
      "Data columns (total 5 columns):\n",
      " #   Column             Non-Null Count  Dtype \n",
      "---  ------             --------------  ----- \n",
      " 0   user_id            1565 non-null   int64 \n",
      " 1   name               1565 non-null   object\n",
      " 2   age                1565 non-null   int64 \n",
      " 3   city               1565 non-null   object\n",
      " 4   subscription_type  1565 non-null   object\n",
      "dtypes: int64(2), object(3)\n",
      "memory usage: 61.3+ KB\n",
      "31\n"
     ]
    }
   ],
   "source": [
    "data_info(users)"
   ]
  },
  {
   "cell_type": "markdown",
   "id": "2002986a",
   "metadata": {},
   "source": [
    "В датафрейме 1565 строк, при этом все столбцы полностью заполнены (нет NaN), присутствует 31 строка дубликатов: во время предобработки данных дубликаты надо будет убрать."
   ]
  },
  {
   "cell_type": "code",
   "execution_count": 5,
   "id": "782fe62c",
   "metadata": {},
   "outputs": [
    {
     "name": "stdout",
     "output_type": "stream",
     "text": [
      "   user_id     distance   duration        date\n",
      "0        1  4409.919140  25.599769  2021-01-01\n",
      "1        1  2617.592153  15.816871  2021-01-18\n",
      "2        1   754.159807   6.232113  2021-04-20\n",
      "3        1  2694.783254  18.511000  2021-08-11\n",
      "4        1  4028.687306  26.265803  2021-08-28\n",
      "<class 'pandas.core.frame.DataFrame'>\n",
      "RangeIndex: 18068 entries, 0 to 18067\n",
      "Data columns (total 4 columns):\n",
      " #   Column    Non-Null Count  Dtype  \n",
      "---  ------    --------------  -----  \n",
      " 0   user_id   18068 non-null  int64  \n",
      " 1   distance  18068 non-null  float64\n",
      " 2   duration  18068 non-null  float64\n",
      " 3   date      18068 non-null  object \n",
      "dtypes: float64(2), int64(1), object(1)\n",
      "memory usage: 564.8+ KB\n",
      "0\n"
     ]
    }
   ],
   "source": [
    "data_info(rides)"
   ]
  },
  {
   "cell_type": "markdown",
   "id": "4aaf6e02",
   "metadata": {},
   "source": [
    "В датафрейме 18068 строк, при этом все столбцы полностью заполнены (нет NaN), дубликаты отсутствуют."
   ]
  },
  {
   "cell_type": "code",
   "execution_count": 6,
   "id": "50329198",
   "metadata": {
    "scrolled": true
   },
   "outputs": [
    {
     "name": "stdout",
     "output_type": "stream",
     "text": [
      "  subscription_type  minute_price  start_ride_price  subscription_fee\n",
      "0              free             8                50                 0\n",
      "1             ultra             6                 0               199\n",
      "<class 'pandas.core.frame.DataFrame'>\n",
      "RangeIndex: 2 entries, 0 to 1\n",
      "Data columns (total 4 columns):\n",
      " #   Column             Non-Null Count  Dtype \n",
      "---  ------             --------------  ----- \n",
      " 0   subscription_type  2 non-null      object\n",
      " 1   minute_price       2 non-null      int64 \n",
      " 2   start_ride_price   2 non-null      int64 \n",
      " 3   subscription_fee   2 non-null      int64 \n",
      "dtypes: int64(3), object(1)\n",
      "memory usage: 192.0+ bytes\n",
      "0\n"
     ]
    }
   ],
   "source": [
    "data_info(subscriptions)"
   ]
  },
  {
   "cell_type": "markdown",
   "id": "f6b6e1af",
   "metadata": {},
   "source": [
    "В датафрейме две строки, все столбцы полностью заполнены (нет NaN), строки друг друга не дублируют."
   ]
  },
  {
   "cell_type": "markdown",
   "id": "e95ebca7",
   "metadata": {},
   "source": [
    "<a id ='2'></a>\n",
    "### Шаг 2. Предобработка данных"
   ]
  },
  {
   "cell_type": "markdown",
   "id": "ffd27bbc",
   "metadata": {},
   "source": [
    "**Обработка дубликатов**"
   ]
  },
  {
   "cell_type": "markdown",
   "id": "4c8aeb26",
   "metadata": {},
   "source": [
    "Явные дубликаты присутствуют только в датафрейме `users`. Очистим этот датафрейм от дубликатов."
   ]
  },
  {
   "cell_type": "code",
   "execution_count": 7,
   "id": "f4def59c",
   "metadata": {},
   "outputs": [
    {
     "data": {
      "text/plain": [
       "0"
      ]
     },
     "execution_count": 7,
     "metadata": {},
     "output_type": "execute_result"
    }
   ],
   "source": [
    "users = users.drop_duplicates()\n",
    "users.duplicated().sum()"
   ]
  },
  {
   "cell_type": "code",
   "execution_count": 8,
   "id": "52ca570b",
   "metadata": {},
   "outputs": [
    {
     "data": {
      "text/plain": [
       "array(['Тюмень', 'Омск', 'Москва', 'Ростов-на-Дону', 'Краснодар',\n",
       "       'Пятигорск', 'Екатеринбург', 'Сочи'], dtype=object)"
      ]
     },
     "execution_count": 8,
     "metadata": {},
     "output_type": "execute_result"
    }
   ],
   "source": [
    "# проверим users на наличие неявных дубликатов\n",
    "users['city'].unique()"
   ]
  },
  {
   "cell_type": "markdown",
   "id": "e29789d3",
   "metadata": {},
   "source": [
    "**Изменение типа данных**"
   ]
  },
  {
   "cell_type": "markdown",
   "id": "bef7fbba",
   "metadata": {},
   "source": [
    "Столбец `date` датафрейма `rides` содержит информацию о дате, однако имеет тип данных `object`. Приведем данный столбец к нужному типу данных."
   ]
  },
  {
   "cell_type": "code",
   "execution_count": 9,
   "id": "77df6abe",
   "metadata": {},
   "outputs": [
    {
     "name": "stdout",
     "output_type": "stream",
     "text": [
      "<class 'pandas.core.frame.DataFrame'>\n",
      "RangeIndex: 18068 entries, 0 to 18067\n",
      "Data columns (total 4 columns):\n",
      " #   Column    Non-Null Count  Dtype         \n",
      "---  ------    --------------  -----         \n",
      " 0   user_id   18068 non-null  int64         \n",
      " 1   distance  18068 non-null  float64       \n",
      " 2   duration  18068 non-null  float64       \n",
      " 3   date      18068 non-null  datetime64[ns]\n",
      "dtypes: datetime64[ns](1), float64(2), int64(1)\n",
      "memory usage: 564.8 KB\n"
     ]
    }
   ],
   "source": [
    "rides['date'] = pd.to_datetime(rides['date'], format='%Y-%m-%d')\n",
    "rides.info()"
   ]
  },
  {
   "cell_type": "markdown",
   "id": "14785e6d",
   "metadata": {},
   "source": [
    "**Добавление нового столбца**"
   ]
  },
  {
   "cell_type": "markdown",
   "id": "3bdf557b",
   "metadata": {},
   "source": [
    "Создадим новый столбец с информацией о номере месяца в датафрейме `rides` на основе столбца `date`.\n",
    "\n",
    "Для этого сначала проверим, за какой период имеются данные."
   ]
  },
  {
   "cell_type": "code",
   "execution_count": 10,
   "id": "6771a5f1",
   "metadata": {},
   "outputs": [
    {
     "data": {
      "text/plain": [
       "(Timestamp('2021-01-01 00:00:00'), Timestamp('2021-12-30 00:00:00'))"
      ]
     },
     "execution_count": 10,
     "metadata": {},
     "output_type": "execute_result"
    }
   ],
   "source": [
    "min(rides['date']), max(rides['date'])"
   ]
  },
  {
   "cell_type": "markdown",
   "id": "1244f561",
   "metadata": {},
   "source": [
    "Данные с информацией о дате представлены только за 2021 год. Теперь смело можем создавать новый столбец с информацией о номере месяца."
   ]
  },
  {
   "cell_type": "code",
   "execution_count": 11,
   "id": "a74925bb",
   "metadata": {
    "scrolled": true
   },
   "outputs": [
    {
     "data": {
      "text/plain": [
       "0    1\n",
       "1    1\n",
       "2    4\n",
       "3    8\n",
       "4    8\n",
       "Name: month, dtype: int64"
      ]
     },
     "execution_count": 11,
     "metadata": {},
     "output_type": "execute_result"
    }
   ],
   "source": [
    "rides['month'] = pd.DatetimeIndex(rides['date']).month\n",
    "rides['month'].head()"
   ]
  },
  {
   "cell_type": "markdown",
   "id": "212593c7",
   "metadata": {},
   "source": [
    "<a id ='3'></a>\n",
    "### Шаг 3. Исследовательский анализ данных"
   ]
  },
  {
   "cell_type": "markdown",
   "id": "cc69f77b",
   "metadata": {},
   "source": [
    "Опишим и визуализируем общую информацию о пользователях и поездках."
   ]
  },
  {
   "cell_type": "markdown",
   "id": "de4983a3",
   "metadata": {},
   "source": [
    "*1. Частота встречаемости городов*"
   ]
  },
  {
   "cell_type": "code",
   "execution_count": 12,
   "id": "70f869be",
   "metadata": {},
   "outputs": [
    {
     "data": {
      "image/png": "[encoded data removed]",
      "text/plain": [
       "<Figure size 576x432 with 1 Axes>"
      ]
     },
     "metadata": {
      "needs_background": "light"
     },
     "output_type": "display_data"
    }
   ],
   "source": [
    "# подсчитываем частоту для уникальных значений столбца city, сортируем по частоте и строим график\n",
    "users['city'].value_counts().sort_values().plot(\n",
    "    kind='barh',\n",
    "    figsize=(8,6),\n",
    "    ec='black',\n",
    "    title='Частота встречаемости городов',\n",
    "    color='#9467bd'\n",
    ");\n",
    "# задаем подписи для осей графика\n",
    "plt.xlabel('Частота');\n",
    "plt.ylabel('Город');"
   ]
  },
  {
   "cell_type": "code",
   "execution_count": 13,
   "id": "0926d3f5",
   "metadata": {},
   "outputs": [
    {
     "data": {
      "text/plain": [
       "Пятигорск         219\n",
       "Екатеринбург      204\n",
       "Ростов-на-Дону    198\n",
       "Краснодар         193\n",
       "Сочи              189\n",
       "Омск              183\n",
       "Тюмень            180\n",
       "Москва            168\n",
       "Name: city, dtype: int64"
      ]
     },
     "execution_count": 13,
     "metadata": {},
     "output_type": "execute_result"
    }
   ],
   "source": [
    "users['city'].value_counts().sort_values(ascending=False)"
   ]
  },
  {
   "cell_type": "markdown",
   "id": "58d9b46e",
   "metadata": {},
   "source": [
    "По графику заметно, что чаще всего в данных встречаются пользователи из городов Пятигорск и Екатеринбург, при этом меньше всего пользователей из города Москвы."
   ]
  },
  {
   "cell_type": "markdown",
   "id": "b4326476",
   "metadata": {},
   "source": [
    "*2. Соотношение пользователей с подпиской и без подписки*"
   ]
  },
  {
   "cell_type": "code",
   "execution_count": 14,
   "id": "82e4434e",
   "metadata": {},
   "outputs": [
    {
     "data": {
      "image/png": "[encoded data removed]",
      "text/plain": [
       "<Figure size 432x288 with 1 Axes>"
      ]
     },
     "metadata": {},
     "output_type": "display_data"
    }
   ],
   "source": [
    "# cтроим круговую диаграмму для информации о подписках\n",
    "plt.pie(users['subscription_type'].value_counts(),\n",
    "        labels=['free', 'ultra'], autopct='%1.1f%%');\n",
    "# подписываем график\n",
    "plt.title('Соотношение пользователей с подпиской и без подписки');"
   ]
  },
  {
   "cell_type": "markdown",
   "id": "c6ecfd30",
   "metadata": {},
   "source": [
    "По графику заметно, что пользователей без подписки больше, чем пользователей с подпиской, что вполне логично, ведь не так часто люди пользуются самокатами каждый день, чтобы приобретать подписку. Однако стоит отметить, что число пользователй с подпиской не намного меньше числа пользователей без подписки. Можно предположить, что подписка довольно популярна в сервисе."
   ]
  },
  {
   "cell_type": "markdown",
   "id": "7fff2aa3",
   "metadata": {},
   "source": [
    "*3. Возраст пользователей*"
   ]
  },
  {
   "cell_type": "code",
   "execution_count": 15,
   "id": "1141d2b9",
   "metadata": {
    "scrolled": true
   },
   "outputs": [
    {
     "data": {
      "image/png": "[encoded data removed]",
      "text/plain": [
       "<Figure size 576x432 with 1 Axes>"
      ]
     },
     "metadata": {
      "needs_background": "light"
     },
     "output_type": "display_data"
    },
    {
     "data": {
      "text/plain": [
       "count    1534.000000\n",
       "mean       24.903520\n",
       "std         4.572367\n",
       "min        12.000000\n",
       "25%        22.000000\n",
       "50%        25.000000\n",
       "75%        28.000000\n",
       "max        43.000000\n",
       "Name: age, dtype: float64"
      ]
     },
     "execution_count": 15,
     "metadata": {},
     "output_type": "execute_result"
    }
   ],
   "source": [
    "# строим график для столбца с данными о возрасте\n",
    "users['age'].plot(\n",
    "    kind='hist',\n",
    "    bins=15,\n",
    "    figsize=(8,6),\n",
    "    ec='black',\n",
    "    title='Возраст пользователей',\n",
    "    color='#9467bd'\n",
    ");\n",
    "# задаем подписи для осей графика\n",
    "plt.xlabel('Возраст');\n",
    "plt.ylabel('Частота');\n",
    "plt.show()\n",
    "# выводим описание данных\n",
    "users['age'].describe()"
   ]
  },
  {
   "cell_type": "markdown",
   "id": "e284f212",
   "metadata": {},
   "source": [
    "По графику заметно, что пользователи по возрасту распределены нормально. Средний возраст пользователей сервиса находится в промежутке 23-26 лет, при этом встречаются и пользователи с возрастом меньше 15 лет и больше 40 лет, однако таких пользователей очень мало.\n",
    "\n",
    "Основная масса пользователей находится в промежутке от 22 до 28 лет."
   ]
  },
  {
   "cell_type": "markdown",
   "id": "5c1aa4e0",
   "metadata": {},
   "source": [
    "*4. Расстояние, которое пользователь преодолел за одну поездку*"
   ]
  },
  {
   "cell_type": "code",
   "execution_count": 16,
   "id": "9e44d0b3",
   "metadata": {},
   "outputs": [
    {
     "data": {
      "image/png": "[encoded data removed]",
      "text/plain": [
       "<Figure size 576x432 with 1 Axes>"
      ]
     },
     "metadata": {
      "needs_background": "light"
     },
     "output_type": "display_data"
    },
    {
     "data": {
      "text/plain": [
       "count    18068.000000\n",
       "mean      3070.659976\n",
       "std       1116.831209\n",
       "min          0.855683\n",
       "25%       2543.226360\n",
       "50%       3133.609994\n",
       "75%       3776.222735\n",
       "max       7211.007745\n",
       "Name: distance, dtype: float64"
      ]
     },
     "execution_count": 16,
     "metadata": {},
     "output_type": "execute_result"
    }
   ],
   "source": [
    "rides['distance'].plot(\n",
    "    kind='hist',\n",
    "    bins=25,\n",
    "    figsize=(8,6),\n",
    "    ec='black',\n",
    "    title='Расстояние, преодоленное за одну поездку',\n",
    "    color='#9467bd'\n",
    ");\n",
    "# задаем подписи для осей графика\n",
    "plt.xlabel('Расстояние, м.');\n",
    "plt.ylabel('Частота');\n",
    "plt.show()\n",
    "# выводим описание данных\n",
    "rides['distance'].describe()"
   ]
  },
  {
   "cell_type": "markdown",
   "id": "8ff3e474",
   "metadata": {},
   "source": [
    "По графику заметно, что чаще всего пользователи проезжают около 3000 метров, при этом есть длинные поездки (более 6000 метров), и короткие (менее 1000 метров). И хоть и наблюдается некое повышение частотности коротких поездок, они, как и длинные поездки, все равно остаются немногочисленными. \n",
    "\n",
    "Основная масса пользователей преодолевает расстояние от 2544 до 3777 метров за одну поездку."
   ]
  },
  {
   "cell_type": "markdown",
   "id": "dba80473",
   "metadata": {},
   "source": [
    "*5. Продолжительность поездок*"
   ]
  },
  {
   "cell_type": "code",
   "execution_count": 17,
   "id": "ed588a38",
   "metadata": {},
   "outputs": [
    {
     "data": {
      "image/png": "[encoded data removed]",
      "text/plain": [
       "<Figure size 576x432 with 1 Axes>"
      ]
     },
     "metadata": {
      "needs_background": "light"
     },
     "output_type": "display_data"
    },
    {
     "data": {
      "text/plain": [
       "count    18068.000000\n",
       "mean        17.805011\n",
       "std          6.091051\n",
       "min          0.500000\n",
       "25%         13.597563\n",
       "50%         17.678395\n",
       "75%         21.724800\n",
       "max         40.823963\n",
       "Name: duration, dtype: float64"
      ]
     },
     "execution_count": 17,
     "metadata": {},
     "output_type": "execute_result"
    }
   ],
   "source": [
    "rides['duration'].plot(\n",
    "    kind='hist',\n",
    "    bins=15,\n",
    "    figsize=(8,6),\n",
    "    ec='black',\n",
    "    title='Продолжительность поездок',\n",
    "    color='#9467bd'\n",
    ");\n",
    "# задаем подписи для осей графика\n",
    "plt.xlabel('Продолжительность, мин.');\n",
    "plt.ylabel('Частота');\n",
    "plt.show()\n",
    "# выводим описание данных\n",
    "rides['duration'].describe()"
   ]
  },
  {
   "cell_type": "markdown",
   "id": "f18e8b95",
   "metadata": {},
   "source": [
    "Чаще всего продолжительность поездки составляет около 18 минут, при этом есть как и короткие поездки (менее 5 мин.), так и долгие поездки (более 35 мин.), однако их число в общем количестве поездок слишком мало.\n",
    "\n",
    "Основная масса поездок лежит в промежутке 14-22 минут."
   ]
  },
  {
   "cell_type": "markdown",
   "id": "c491b22c",
   "metadata": {},
   "source": [
    "**Вывод**\n",
    "\n",
    "Были произведены визуализация и описание общей информации о пользователях и поездках. Аномалии во время исследовательского анализа данных посредством визуализации данных выявлены не были.\n",
    "\n",
    "Можно составить портрет типичного пользователя сервиса аренды самокатов GoFast: человек 25 лет из Пятигорска с бесплатной подпиской на сервис, который преодолевает около 3 км. за поездку, продолжительностью 18 минут."
   ]
  },
  {
   "cell_type": "markdown",
   "id": "4ef51331",
   "metadata": {},
   "source": [
    "<a id ='4'></a>\n",
    "### Шаг 4. Объединение данных"
   ]
  },
  {
   "cell_type": "markdown",
   "id": "1d4b3b0d",
   "metadata": {},
   "source": [
    "Объединим данные о пользователях, поездках и подписках в один датафрейм."
   ]
  },
  {
   "cell_type": "code",
   "execution_count": 18,
   "id": "c7f3ef94",
   "metadata": {
    "scrolled": true
   },
   "outputs": [
    {
     "name": "stdout",
     "output_type": "stream",
     "text": [
      "   user_id     distance   duration       date  month  name  age    city  \\\n",
      "0        1  4409.919140  25.599769 2021-01-01      1  Кира   22  Тюмень   \n",
      "1        1  2617.592153  15.816871 2021-01-18      1  Кира   22  Тюмень   \n",
      "2        1   754.159807   6.232113 2021-04-20      4  Кира   22  Тюмень   \n",
      "3        1  2694.783254  18.511000 2021-08-11      8  Кира   22  Тюмень   \n",
      "4        1  4028.687306  26.265803 2021-08-28      8  Кира   22  Тюмень   \n",
      "\n",
      "  subscription_type  minute_price  start_ride_price  subscription_fee  \n",
      "0             ultra             6                 0               199  \n",
      "1             ultra             6                 0               199  \n",
      "2             ultra             6                 0               199  \n",
      "3             ultra             6                 0               199  \n",
      "4             ultra             6                 0               199  \n",
      "<class 'pandas.core.frame.DataFrame'>\n",
      "Int64Index: 18068 entries, 0 to 18067\n",
      "Data columns (total 12 columns):\n",
      " #   Column             Non-Null Count  Dtype         \n",
      "---  ------             --------------  -----         \n",
      " 0   user_id            18068 non-null  int64         \n",
      " 1   distance           18068 non-null  float64       \n",
      " 2   duration           18068 non-null  float64       \n",
      " 3   date               18068 non-null  datetime64[ns]\n",
      " 4   month              18068 non-null  int64         \n",
      " 5   name               18068 non-null  object        \n",
      " 6   age                18068 non-null  int64         \n",
      " 7   city               18068 non-null  object        \n",
      " 8   subscription_type  18068 non-null  object        \n",
      " 9   minute_price       18068 non-null  int64         \n",
      " 10  start_ride_price   18068 non-null  int64         \n",
      " 11  subscription_fee   18068 non-null  int64         \n",
      "dtypes: datetime64[ns](1), float64(2), int64(6), object(3)\n",
      "memory usage: 1.8+ MB\n",
      "0\n"
     ]
    },
    {
     "data": {
      "text/plain": [
       "18068"
      ]
     },
     "execution_count": 18,
     "metadata": {},
     "output_type": "execute_result"
    }
   ],
   "source": [
    "# присоединяем к датафрейму rides датафрейм users\n",
    "data = rides.merge(users, on='user_id')\n",
    "# присоединяем к датафрейму data датафрейм subscriptions\n",
    "data = data.merge(subscriptions, on='subscription_type')\n",
    "data_info(data)\n",
    "len(rides)"
   ]
  },
  {
   "cell_type": "markdown",
   "id": "22c97c82",
   "metadata": {},
   "source": [
    "Объединение датафреймов произошло корректно: пропуски отсутствуют, данные не были потеряные, лишние записи не появились, так как количество строк полученного датафрейма совпадает с количеством строк исходной таблицы `rides`."
   ]
  },
  {
   "cell_type": "markdown",
   "id": "abf6e10a",
   "metadata": {},
   "source": [
    "Теперь поместим данные о пользователях с подпиской и без в разные датафреймы."
   ]
  },
  {
   "cell_type": "code",
   "execution_count": 19,
   "id": "c335c5cb",
   "metadata": {},
   "outputs": [
    {
     "data": {
      "text/html": [
       "<div>\n",
       "<style scoped>\n",
       "    .dataframe tbody tr th:only-of-type {\n",
       "        vertical-align: middle;\n",
       "    }\n",
       "\n",
       "    .dataframe tbody tr th {\n",
       "        vertical-align: top;\n",
       "    }\n",
       "\n",
       "    .dataframe thead th {\n",
       "        text-align: right;\n",
       "    }\n",
       "</style>\n",
       "<table border=\"1\" class=\"dataframe\">\n",
       "  <thead>\n",
       "    <tr style=\"text-align: right;\">\n",
       "      <th></th>\n",
       "      <th>user_id</th>\n",
       "      <th>distance</th>\n",
       "      <th>duration</th>\n",
       "      <th>date</th>\n",
       "      <th>month</th>\n",
       "      <th>name</th>\n",
       "      <th>age</th>\n",
       "      <th>city</th>\n",
       "      <th>subscription_type</th>\n",
       "      <th>minute_price</th>\n",
       "      <th>start_ride_price</th>\n",
       "      <th>subscription_fee</th>\n",
       "    </tr>\n",
       "  </thead>\n",
       "  <tbody>\n",
       "    <tr>\n",
       "      <th>6500</th>\n",
       "      <td>700</td>\n",
       "      <td>2515.690719</td>\n",
       "      <td>14.944286</td>\n",
       "      <td>2021-01-02</td>\n",
       "      <td>1</td>\n",
       "      <td>Айдар</td>\n",
       "      <td>22</td>\n",
       "      <td>Омск</td>\n",
       "      <td>free</td>\n",
       "      <td>8</td>\n",
       "      <td>50</td>\n",
       "      <td>0</td>\n",
       "    </tr>\n",
       "    <tr>\n",
       "      <th>6501</th>\n",
       "      <td>700</td>\n",
       "      <td>846.932642</td>\n",
       "      <td>16.234663</td>\n",
       "      <td>2021-02-01</td>\n",
       "      <td>2</td>\n",
       "      <td>Айдар</td>\n",
       "      <td>22</td>\n",
       "      <td>Омск</td>\n",
       "      <td>free</td>\n",
       "      <td>8</td>\n",
       "      <td>50</td>\n",
       "      <td>0</td>\n",
       "    </tr>\n",
       "    <tr>\n",
       "      <th>6502</th>\n",
       "      <td>700</td>\n",
       "      <td>4004.434142</td>\n",
       "      <td>20.016628</td>\n",
       "      <td>2021-02-04</td>\n",
       "      <td>2</td>\n",
       "      <td>Айдар</td>\n",
       "      <td>22</td>\n",
       "      <td>Омск</td>\n",
       "      <td>free</td>\n",
       "      <td>8</td>\n",
       "      <td>50</td>\n",
       "      <td>0</td>\n",
       "    </tr>\n",
       "    <tr>\n",
       "      <th>6503</th>\n",
       "      <td>700</td>\n",
       "      <td>1205.911290</td>\n",
       "      <td>9.782872</td>\n",
       "      <td>2021-02-10</td>\n",
       "      <td>2</td>\n",
       "      <td>Айдар</td>\n",
       "      <td>22</td>\n",
       "      <td>Омск</td>\n",
       "      <td>free</td>\n",
       "      <td>8</td>\n",
       "      <td>50</td>\n",
       "      <td>0</td>\n",
       "    </tr>\n",
       "    <tr>\n",
       "      <th>6504</th>\n",
       "      <td>700</td>\n",
       "      <td>3047.379435</td>\n",
       "      <td>17.427673</td>\n",
       "      <td>2021-02-14</td>\n",
       "      <td>2</td>\n",
       "      <td>Айдар</td>\n",
       "      <td>22</td>\n",
       "      <td>Омск</td>\n",
       "      <td>free</td>\n",
       "      <td>8</td>\n",
       "      <td>50</td>\n",
       "      <td>0</td>\n",
       "    </tr>\n",
       "  </tbody>\n",
       "</table>\n",
       "</div>"
      ],
      "text/plain": [
       "      user_id     distance   duration       date  month   name  age  city  \\\n",
       "6500      700  2515.690719  14.944286 2021-01-02      1  Айдар   22  Омск   \n",
       "6501      700   846.932642  16.234663 2021-02-01      2  Айдар   22  Омск   \n",
       "6502      700  4004.434142  20.016628 2021-02-04      2  Айдар   22  Омск   \n",
       "6503      700  1205.911290   9.782872 2021-02-10      2  Айдар   22  Омск   \n",
       "6504      700  3047.379435  17.427673 2021-02-14      2  Айдар   22  Омск   \n",
       "\n",
       "     subscription_type  minute_price  start_ride_price  subscription_fee  \n",
       "6500              free             8                50                 0  \n",
       "6501              free             8                50                 0  \n",
       "6502              free             8                50                 0  \n",
       "6503              free             8                50                 0  \n",
       "6504              free             8                50                 0  "
      ]
     },
     "execution_count": 19,
     "metadata": {},
     "output_type": "execute_result"
    }
   ],
   "source": [
    "# дф с данными о поездках пользователей без подписки\n",
    "data_free = data.loc[data['subscription_type'] == 'free']\n",
    "data_free.head()"
   ]
  },
  {
   "cell_type": "code",
   "execution_count": 20,
   "id": "fdca389f",
   "metadata": {},
   "outputs": [
    {
     "data": {
      "text/html": [
       "<div>\n",
       "<style scoped>\n",
       "    .dataframe tbody tr th:only-of-type {\n",
       "        vertical-align: middle;\n",
       "    }\n",
       "\n",
       "    .dataframe tbody tr th {\n",
       "        vertical-align: top;\n",
       "    }\n",
       "\n",
       "    .dataframe thead th {\n",
       "        text-align: right;\n",
       "    }\n",
       "</style>\n",
       "<table border=\"1\" class=\"dataframe\">\n",
       "  <thead>\n",
       "    <tr style=\"text-align: right;\">\n",
       "      <th></th>\n",
       "      <th>user_id</th>\n",
       "      <th>distance</th>\n",
       "      <th>duration</th>\n",
       "      <th>date</th>\n",
       "      <th>month</th>\n",
       "      <th>name</th>\n",
       "      <th>age</th>\n",
       "      <th>city</th>\n",
       "      <th>subscription_type</th>\n",
       "      <th>minute_price</th>\n",
       "      <th>start_ride_price</th>\n",
       "      <th>subscription_fee</th>\n",
       "    </tr>\n",
       "  </thead>\n",
       "  <tbody>\n",
       "    <tr>\n",
       "      <th>0</th>\n",
       "      <td>1</td>\n",
       "      <td>4409.919140</td>\n",
       "      <td>25.599769</td>\n",
       "      <td>2021-01-01</td>\n",
       "      <td>1</td>\n",
       "      <td>Кира</td>\n",
       "      <td>22</td>\n",
       "      <td>Тюмень</td>\n",
       "      <td>ultra</td>\n",
       "      <td>6</td>\n",
       "      <td>0</td>\n",
       "      <td>199</td>\n",
       "    </tr>\n",
       "    <tr>\n",
       "      <th>1</th>\n",
       "      <td>1</td>\n",
       "      <td>2617.592153</td>\n",
       "      <td>15.816871</td>\n",
       "      <td>2021-01-18</td>\n",
       "      <td>1</td>\n",
       "      <td>Кира</td>\n",
       "      <td>22</td>\n",
       "      <td>Тюмень</td>\n",
       "      <td>ultra</td>\n",
       "      <td>6</td>\n",
       "      <td>0</td>\n",
       "      <td>199</td>\n",
       "    </tr>\n",
       "    <tr>\n",
       "      <th>2</th>\n",
       "      <td>1</td>\n",
       "      <td>754.159807</td>\n",
       "      <td>6.232113</td>\n",
       "      <td>2021-04-20</td>\n",
       "      <td>4</td>\n",
       "      <td>Кира</td>\n",
       "      <td>22</td>\n",
       "      <td>Тюмень</td>\n",
       "      <td>ultra</td>\n",
       "      <td>6</td>\n",
       "      <td>0</td>\n",
       "      <td>199</td>\n",
       "    </tr>\n",
       "    <tr>\n",
       "      <th>3</th>\n",
       "      <td>1</td>\n",
       "      <td>2694.783254</td>\n",
       "      <td>18.511000</td>\n",
       "      <td>2021-08-11</td>\n",
       "      <td>8</td>\n",
       "      <td>Кира</td>\n",
       "      <td>22</td>\n",
       "      <td>Тюмень</td>\n",
       "      <td>ultra</td>\n",
       "      <td>6</td>\n",
       "      <td>0</td>\n",
       "      <td>199</td>\n",
       "    </tr>\n",
       "    <tr>\n",
       "      <th>4</th>\n",
       "      <td>1</td>\n",
       "      <td>4028.687306</td>\n",
       "      <td>26.265803</td>\n",
       "      <td>2021-08-28</td>\n",
       "      <td>8</td>\n",
       "      <td>Кира</td>\n",
       "      <td>22</td>\n",
       "      <td>Тюмень</td>\n",
       "      <td>ultra</td>\n",
       "      <td>6</td>\n",
       "      <td>0</td>\n",
       "      <td>199</td>\n",
       "    </tr>\n",
       "  </tbody>\n",
       "</table>\n",
       "</div>"
      ],
      "text/plain": [
       "   user_id     distance   duration       date  month  name  age    city  \\\n",
       "0        1  4409.919140  25.599769 2021-01-01      1  Кира   22  Тюмень   \n",
       "1        1  2617.592153  15.816871 2021-01-18      1  Кира   22  Тюмень   \n",
       "2        1   754.159807   6.232113 2021-04-20      4  Кира   22  Тюмень   \n",
       "3        1  2694.783254  18.511000 2021-08-11      8  Кира   22  Тюмень   \n",
       "4        1  4028.687306  26.265803 2021-08-28      8  Кира   22  Тюмень   \n",
       "\n",
       "  subscription_type  minute_price  start_ride_price  subscription_fee  \n",
       "0             ultra             6                 0               199  \n",
       "1             ultra             6                 0               199  \n",
       "2             ultra             6                 0               199  \n",
       "3             ultra             6                 0               199  \n",
       "4             ultra             6                 0               199  "
      ]
     },
     "execution_count": 20,
     "metadata": {},
     "output_type": "execute_result"
    }
   ],
   "source": [
    "# дф с данными о поездках пользователей с подпиской\n",
    "data_ultra = data.loc[data['subscription_type'] == 'ultra']\n",
    "data_ultra.head()"
   ]
  },
  {
   "cell_type": "code",
   "execution_count": 21,
   "id": "9c244e88",
   "metadata": {},
   "outputs": [
    {
     "data": {
      "text/plain": [
       "(18068, 18068)"
      ]
     },
     "execution_count": 21,
     "metadata": {},
     "output_type": "execute_result"
    }
   ],
   "source": [
    "# проверим, совпадает ли совокупный размер датафреймов с кол-вом строк в исходной табл.\n",
    "len(data_free) + len(data_ultra), len(data)"
   ]
  },
  {
   "cell_type": "code",
   "execution_count": 22,
   "id": "c14eedc2",
   "metadata": {
    "scrolled": true
   },
   "outputs": [
    {
     "data": {
      "image/png": "[encoded data removed]",
      "text/plain": [
       "<Figure size 576x432 with 1 Axes>"
      ]
     },
     "metadata": {
      "needs_background": "light"
     },
     "output_type": "display_data"
    },
    {
     "data": {
      "text/plain": [
       "count    11568.000000\n",
       "mean      3045.495282\n",
       "std       1246.173806\n",
       "min          0.855683\n",
       "25%       2366.562689\n",
       "50%       3114.648465\n",
       "75%       3905.697894\n",
       "max       7211.007745\n",
       "Name: distance, dtype: float64"
      ]
     },
     "execution_count": 22,
     "metadata": {},
     "output_type": "execute_result"
    }
   ],
   "source": [
    "data_free['distance'].plot(\n",
    "    kind='hist',\n",
    "    bins=25,\n",
    "    figsize=(8,6),\n",
    "    ec='black',\n",
    "    title='Расстояние, преодоленное за одну поездку',\n",
    "    color='#9467bd'\n",
    ");\n",
    "# задаем подписи для осей графика\n",
    "plt.xlabel('Расстояние, м.');\n",
    "plt.ylabel('Частота');\n",
    "plt.show()\n",
    "#выводим описание данных\n",
    "data_free['distance'].describe()"
   ]
  },
  {
   "cell_type": "markdown",
   "id": "0dd4c35e",
   "metadata": {},
   "source": [
    "Можем заметить, что чаще всего пользователи без подписки преодолевают расстояние в 2500-2600 метров за одну поездку. Также имеется небольшое повышение частоты на расстоянии в 500-600 метров за поездку. Это не сильно отличается от распределения данных для всех пользователей (с подпиской и без)."
   ]
  },
  {
   "cell_type": "code",
   "execution_count": 23,
   "id": "7f9971ff",
   "metadata": {},
   "outputs": [
    {
     "data": {
      "image/png": "[encoded data removed]",
      "text/plain": [
       "<Figure size 576x432 with 1 Axes>"
      ]
     },
     "metadata": {
      "needs_background": "light"
     },
     "output_type": "display_data"
    },
    {
     "data": {
      "text/plain": [
       "count    11568.000000\n",
       "mean        17.390909\n",
       "std          6.326803\n",
       "min          0.500000\n",
       "25%         12.958437\n",
       "50%         17.326890\n",
       "75%         21.594071\n",
       "max         34.948498\n",
       "Name: duration, dtype: float64"
      ]
     },
     "execution_count": 23,
     "metadata": {},
     "output_type": "execute_result"
    }
   ],
   "source": [
    "data_free['duration'].plot(\n",
    "    kind='hist',\n",
    "    bins=15,\n",
    "    figsize=(8,6),\n",
    "    ec='black',\n",
    "    title='Продолжительность поездок',\n",
    "    color='#9467bd'\n",
    ");\n",
    "# задаем подписи для осей графика\n",
    "plt.xlabel('Продолжительность, мин.');\n",
    "plt.ylabel('Частота');\n",
    "plt.show()\n",
    "#выводим описание данных\n",
    "data_free['duration'].describe()"
   ]
  },
  {
   "cell_type": "markdown",
   "id": "39083ac8",
   "metadata": {},
   "source": [
    "Продолжительность поездки у пользователей без подписки чаще всего 17-18 минут, что так же не отличается от распределения данных для всех пользователей (с подпиской и без). Разброс здесь небольшой, наблюдаются значения длительности поездок в 30-35 минут, но они немногочислены."
   ]
  },
  {
   "cell_type": "markdown",
   "id": "a84a92bf",
   "metadata": {},
   "source": [
    "*2. Пользователи с подпиской*"
   ]
  },
  {
   "cell_type": "code",
   "execution_count": 24,
   "id": "9573d704",
   "metadata": {},
   "outputs": [
    {
     "data": {
      "image/png": "[encoded data removed]",
      "text/plain": [
       "<Figure size 576x432 with 1 Axes>"
      ]
     },
     "metadata": {
      "needs_background": "light"
     },
     "output_type": "display_data"
    },
    {
     "data": {
      "text/plain": [
       "count    6500.000000\n",
       "mean     3115.445388\n",
       "std       836.895330\n",
       "min       244.210438\n",
       "25%      2785.444017\n",
       "50%      3148.637229\n",
       "75%      3560.574425\n",
       "max      5699.769662\n",
       "Name: distance, dtype: float64"
      ]
     },
     "execution_count": 24,
     "metadata": {},
     "output_type": "execute_result"
    }
   ],
   "source": [
    "data_ultra['distance'].plot(\n",
    "    kind='hist',\n",
    "    bins=25,\n",
    "    figsize=(8,6),\n",
    "    ec='black',\n",
    "    title='Расстояние, преодоленное за одну поездку',\n",
    "    color='#9467bd'\n",
    ");\n",
    "# задаем подписи для осей графика\n",
    "plt.xlabel('Расстояние, м.');\n",
    "plt.ylabel('Частота');\n",
    "plt.show()\n",
    "#выводим описание данных\n",
    "data_ultra['distance'].describe()"
   ]
  },
  {
   "cell_type": "markdown",
   "id": "e14a74e7",
   "metadata": {},
   "source": [
    "Чаще всего пользователи с подпиской преодолевают расстояние в 3000-3200 метров за одну поездку. Здесь можно отметить, что по сравнению с диаграммой преодоленного расстояния за поездку для пользователей без подписки наблюдается небольшое смещение графика вправо. Иными словами, *пользователи с подпиской обычно преодолевают большее расстояние за поездку, нежели пользователи без подписки.*\n",
    "\n",
    "Также стоит отметить, что повышение частоты на расстоянии в 1000 метров намного меньше (и смещено вправо), чем на графике пользователей без подписки, что еще раз подтверждает то, что пользователи с подпиской преодолевают за поездку большее расстояние."
   ]
  },
  {
   "cell_type": "code",
   "execution_count": 25,
   "id": "73a2e465",
   "metadata": {},
   "outputs": [
    {
     "data": {
      "image/png": "[encoded data removed]",
      "text/plain": [
       "<Figure size 576x432 with 1 Axes>"
      ]
     },
     "metadata": {
      "needs_background": "light"
     },
     "output_type": "display_data"
    },
    {
     "data": {
      "text/plain": [
       "count    6500.000000\n",
       "mean       18.541985\n",
       "std         5.572048\n",
       "min         3.760353\n",
       "25%        14.524654\n",
       "50%        18.178153\n",
       "75%        21.884129\n",
       "max        40.823963\n",
       "Name: duration, dtype: float64"
      ]
     },
     "execution_count": 25,
     "metadata": {},
     "output_type": "execute_result"
    }
   ],
   "source": [
    "data_ultra['duration'].plot(\n",
    "    kind='hist',\n",
    "    bins=15,\n",
    "    figsize=(8,6),\n",
    "    ec='black',\n",
    "    title='Продолжительность поездок',\n",
    "    color='#9467bd'\n",
    ");\n",
    "# задаем подписи для осей графика\n",
    "plt.xlabel('Продолжительность, мин.');\n",
    "plt.ylabel('Частота');\n",
    "plt.show()\n",
    "#выводим описание данных\n",
    "data_ultra['duration'].describe()"
   ]
  },
  {
   "cell_type": "markdown",
   "id": "059f500d",
   "metadata": {},
   "source": [
    "Чаще всего продолжительность поездки пользователей с подпиской составляет 18 минут, что не отличается от результата пользователей без подписки. Однако стоит отметить, что разброс значений в данном случае больше: самые продолжительные поездки хоть и немногочислены, но могут быть больше 40 минут."
   ]
  },
  {
   "cell_type": "markdown",
   "id": "5c31a305",
   "metadata": {},
   "source": [
    "**Вывод**\n",
    "\n",
    "Пользователи без подписки и с подпиской имеют различия. Так, пользователи с подпиской обычно преодолевают большее расстояние за поездку, нежели пользователи без подписки. Средняя продолжительность поездки у двух категорий одинакова, однако ее разброс разный. Так, пользователи с подпиской могут совершать более продолжительные поездки, чем пользователи без подписки. Пользователи с подпиской, вероятно, более знакомы с сервисом, имеют предпочтительные маршруты, что может приводить к более стабильным и продолжительным поездкам. Пользователи без подписки, возможно, чаще используют сервис для краткосрочных и случайных поездок, что и влияет на разброс длительности."
   ]
  },
  {
   "cell_type": "markdown",
   "id": "402d620f",
   "metadata": {},
   "source": [
    "<a id ='5'></a>\n",
    "### Шаг 5. Подсчёт выручки"
   ]
  },
  {
   "cell_type": "markdown",
   "id": "5f920371",
   "metadata": {},
   "source": [
    "Создадим датафрейм с агрегированными данными о поездках на основе датафрейма с объединёнными данными из шага 4: найдем суммарное расстояние, количество поездок и суммарное время для каждого пользователя за каждый месяц."
   ]
  },
  {
   "cell_type": "code",
   "execution_count": 26,
   "id": "d9514f95",
   "metadata": {
    "scrolled": true
   },
   "outputs": [
    {
     "data": {
      "text/html": [
       "<div>\n",
       "<style scoped>\n",
       "    .dataframe tbody tr th:only-of-type {\n",
       "        vertical-align: middle;\n",
       "    }\n",
       "\n",
       "    .dataframe tbody tr th {\n",
       "        vertical-align: top;\n",
       "    }\n",
       "\n",
       "    .dataframe thead th {\n",
       "        text-align: right;\n",
       "    }\n",
       "</style>\n",
       "<table border=\"1\" class=\"dataframe\">\n",
       "  <thead>\n",
       "    <tr style=\"text-align: right;\">\n",
       "      <th></th>\n",
       "      <th></th>\n",
       "      <th>distance</th>\n",
       "      <th>duration</th>\n",
       "      <th>quanity</th>\n",
       "      <th>minute_price</th>\n",
       "      <th>start_ride_price</th>\n",
       "      <th>subscription_fee</th>\n",
       "    </tr>\n",
       "    <tr>\n",
       "      <th>user_id</th>\n",
       "      <th>month</th>\n",
       "      <th></th>\n",
       "      <th></th>\n",
       "      <th></th>\n",
       "      <th></th>\n",
       "      <th></th>\n",
       "      <th></th>\n",
       "    </tr>\n",
       "  </thead>\n",
       "  <tbody>\n",
       "    <tr>\n",
       "      <th rowspan=\"5\" valign=\"top\">1</th>\n",
       "      <th>1</th>\n",
       "      <td>7027.511294</td>\n",
       "      <td>42.0</td>\n",
       "      <td>2</td>\n",
       "      <td>6</td>\n",
       "      <td>0</td>\n",
       "      <td>199</td>\n",
       "    </tr>\n",
       "    <tr>\n",
       "      <th>4</th>\n",
       "      <td>754.159807</td>\n",
       "      <td>7.0</td>\n",
       "      <td>1</td>\n",
       "      <td>6</td>\n",
       "      <td>0</td>\n",
       "      <td>199</td>\n",
       "    </tr>\n",
       "    <tr>\n",
       "      <th>8</th>\n",
       "      <td>6723.470560</td>\n",
       "      <td>46.0</td>\n",
       "      <td>2</td>\n",
       "      <td>6</td>\n",
       "      <td>0</td>\n",
       "      <td>199</td>\n",
       "    </tr>\n",
       "    <tr>\n",
       "      <th>10</th>\n",
       "      <td>5809.911100</td>\n",
       "      <td>32.0</td>\n",
       "      <td>2</td>\n",
       "      <td>6</td>\n",
       "      <td>0</td>\n",
       "      <td>199</td>\n",
       "    </tr>\n",
       "    <tr>\n",
       "      <th>11</th>\n",
       "      <td>7003.499363</td>\n",
       "      <td>56.0</td>\n",
       "      <td>3</td>\n",
       "      <td>6</td>\n",
       "      <td>0</td>\n",
       "      <td>199</td>\n",
       "    </tr>\n",
       "  </tbody>\n",
       "</table>\n",
       "</div>"
      ],
      "text/plain": [
       "                  distance  duration  quanity  minute_price  start_ride_price  \\\n",
       "user_id month                                                                   \n",
       "1       1      7027.511294      42.0        2             6                 0   \n",
       "        4       754.159807       7.0        1             6                 0   \n",
       "        8      6723.470560      46.0        2             6                 0   \n",
       "        10     5809.911100      32.0        2             6                 0   \n",
       "        11     7003.499363      56.0        3             6                 0   \n",
       "\n",
       "               subscription_fee  \n",
       "user_id month                    \n",
       "1       1                   199  \n",
       "        4                   199  \n",
       "        8                   199  \n",
       "        10                  199  \n",
       "        11                  199  "
      ]
     },
     "execution_count": 26,
     "metadata": {},
     "output_type": "execute_result"
    }
   ],
   "source": [
    "# округлим продолжительность каждой поездки в большую сторону\n",
    "data['duration'] = np.ceil(data['duration'])\n",
    "# создание агрегированного датафрейма\n",
    "rev = pd.DataFrame(data.groupby(['user_id', 'month']).agg(\n",
    "        {'distance':'sum',\n",
    "         'duration':'sum',\n",
    "         'age':'count',\n",
    "         'minute_price' :'first',\n",
    "         'start_ride_price':'first',\n",
    "         'subscription_fee':'first'}))\n",
    "# переименовывание столбцa\n",
    "rev = rev.rename(columns={'age':'quanity'})\n",
    "\n",
    "rev.head()"
   ]
  },
  {
   "cell_type": "markdown",
   "id": "5c95678f",
   "metadata": {},
   "source": [
    "Вычислим помесячную выручку, которую принес каждый пользователь и запишем ее в столбец `revenue`."
   ]
  },
  {
   "cell_type": "code",
   "execution_count": 27,
   "id": "4d07d1eb",
   "metadata": {},
   "outputs": [
    {
     "data": {
      "text/html": [
       "<div>\n",
       "<style scoped>\n",
       "    .dataframe tbody tr th:only-of-type {\n",
       "        vertical-align: middle;\n",
       "    }\n",
       "\n",
       "    .dataframe tbody tr th {\n",
       "        vertical-align: top;\n",
       "    }\n",
       "\n",
       "    .dataframe thead th {\n",
       "        text-align: right;\n",
       "    }\n",
       "</style>\n",
       "<table border=\"1\" class=\"dataframe\">\n",
       "  <thead>\n",
       "    <tr style=\"text-align: right;\">\n",
       "      <th></th>\n",
       "      <th></th>\n",
       "      <th>distance</th>\n",
       "      <th>duration</th>\n",
       "      <th>quanity</th>\n",
       "      <th>minute_price</th>\n",
       "      <th>start_ride_price</th>\n",
       "      <th>subscription_fee</th>\n",
       "      <th>revenue</th>\n",
       "    </tr>\n",
       "    <tr>\n",
       "      <th>user_id</th>\n",
       "      <th>month</th>\n",
       "      <th></th>\n",
       "      <th></th>\n",
       "      <th></th>\n",
       "      <th></th>\n",
       "      <th></th>\n",
       "      <th></th>\n",
       "      <th></th>\n",
       "    </tr>\n",
       "  </thead>\n",
       "  <tbody>\n",
       "    <tr>\n",
       "      <th rowspan=\"5\" valign=\"top\">1</th>\n",
       "      <th>1</th>\n",
       "      <td>7027.511294</td>\n",
       "      <td>42.0</td>\n",
       "      <td>2</td>\n",
       "      <td>6</td>\n",
       "      <td>0</td>\n",
       "      <td>199</td>\n",
       "      <td>451.0</td>\n",
       "    </tr>\n",
       "    <tr>\n",
       "      <th>4</th>\n",
       "      <td>754.159807</td>\n",
       "      <td>7.0</td>\n",
       "      <td>1</td>\n",
       "      <td>6</td>\n",
       "      <td>0</td>\n",
       "      <td>199</td>\n",
       "      <td>241.0</td>\n",
       "    </tr>\n",
       "    <tr>\n",
       "      <th>8</th>\n",
       "      <td>6723.470560</td>\n",
       "      <td>46.0</td>\n",
       "      <td>2</td>\n",
       "      <td>6</td>\n",
       "      <td>0</td>\n",
       "      <td>199</td>\n",
       "      <td>475.0</td>\n",
       "    </tr>\n",
       "    <tr>\n",
       "      <th>10</th>\n",
       "      <td>5809.911100</td>\n",
       "      <td>32.0</td>\n",
       "      <td>2</td>\n",
       "      <td>6</td>\n",
       "      <td>0</td>\n",
       "      <td>199</td>\n",
       "      <td>391.0</td>\n",
       "    </tr>\n",
       "    <tr>\n",
       "      <th>11</th>\n",
       "      <td>7003.499363</td>\n",
       "      <td>56.0</td>\n",
       "      <td>3</td>\n",
       "      <td>6</td>\n",
       "      <td>0</td>\n",
       "      <td>199</td>\n",
       "      <td>535.0</td>\n",
       "    </tr>\n",
       "  </tbody>\n",
       "</table>\n",
       "</div>"
      ],
      "text/plain": [
       "                  distance  duration  quanity  minute_price  start_ride_price  \\\n",
       "user_id month                                                                   \n",
       "1       1      7027.511294      42.0        2             6                 0   \n",
       "        4       754.159807       7.0        1             6                 0   \n",
       "        8      6723.470560      46.0        2             6                 0   \n",
       "        10     5809.911100      32.0        2             6                 0   \n",
       "        11     7003.499363      56.0        3             6                 0   \n",
       "\n",
       "               subscription_fee  revenue  \n",
       "user_id month                             \n",
       "1       1                   199    451.0  \n",
       "        4                   199    241.0  \n",
       "        8                   199    475.0  \n",
       "        10                  199    391.0  \n",
       "        11                  199    535.0  "
      ]
     },
     "execution_count": 27,
     "metadata": {},
     "output_type": "execute_result"
    }
   ],
   "source": [
    "# подсчет ежемесячной выручки от каждого пользователя\n",
    "rev['revenue'] = (\n",
    "    # стартовая цена поездки * количество поездок +\n",
    "    (rev['start_ride_price'] * rev['quanity']) + \n",
    "    # продолжительность поездки * цена за минуту поездки +\n",
    "    (rev['duration'] * rev['minute_price']) + \n",
    "    # цена ежемесячной подписки\n",
    "    rev['subscription_fee']\n",
    ")\n",
    "\n",
    "rev.head()"
   ]
  },
  {
   "cell_type": "code",
   "execution_count": 28,
   "id": "5dce41d9",
   "metadata": {},
   "outputs": [
    {
     "data": {
      "text/plain": [
       "count    11331.000000\n",
       "mean       342.303504\n",
       "std        153.875346\n",
       "min         58.000000\n",
       "25%        234.000000\n",
       "50%        319.000000\n",
       "75%        415.000000\n",
       "max       1444.000000\n",
       "Name: revenue, dtype: float64"
      ]
     },
     "execution_count": 28,
     "metadata": {},
     "output_type": "execute_result"
    }
   ],
   "source": [
    "rev['revenue'].describe()"
   ]
  },
  {
   "cell_type": "markdown",
   "id": "e0dbf409",
   "metadata": {},
   "source": [
    "**Вывод**\n",
    "\n",
    "Вычислив ежемесячную выручку каждого пользователя, можно сделать вывод, что в среднем каждый пользователь ежемесечно приносит около 340 рублей сервису. При этом наблюдаются как низкие значения, такие как 58 рублей в месяц, так и высокие значения, такие как 1428 рублей в месяц."
   ]
  },
  {
   "cell_type": "markdown",
   "id": "41545ac0",
   "metadata": {},
   "source": [
    "<a id ='6'></a>\n",
    "### Шаг 6. Проверка гипотез"
   ]
  },
  {
   "cell_type": "markdown",
   "id": "03714fa8",
   "metadata": {},
   "source": [
    "*6.1 Первая гипотеза*\n",
    "\n",
    "Необходимо выяснить, тратят ли пользователи с подпиской больше времени на поездки. Для проверки этой гипотезы мы воспользуемся первоначальными данными о продолжительности каждой поездки, разделяя их для подписчиков и пользователей без подписки.\n",
    "\n",
    "***H₀: Пользователи с подпиской тратят столько же времени на поездки, сколько и пользователи без подписки.***\n",
    "\n",
    "***H₁: Пользователи с подпиской тратят больше времени на поездки, чем пользователи без подписки.***\n"
   ]
  },
  {
   "cell_type": "markdown",
   "id": "3da2a9f7",
   "metadata": {},
   "source": [
    "Для начала проверим, одинакового ли размера выборки для принятия решения о том, различаются ли их дисперссии."
   ]
  },
  {
   "cell_type": "code",
   "execution_count": 29,
   "id": "61423f70",
   "metadata": {},
   "outputs": [
    {
     "data": {
      "text/plain": [
       "(11568, 6500)"
      ]
     },
     "execution_count": 29,
     "metadata": {},
     "output_type": "execute_result"
    }
   ],
   "source": [
    "len(data_free), len(data_ultra)"
   ]
  },
  {
   "cell_type": "markdown",
   "id": "b4d99b3b",
   "metadata": {},
   "source": [
    "Выборки действительно разного размера, соответственно параметр `equal_var` следует поменять."
   ]
  },
  {
   "cell_type": "code",
   "execution_count": 30,
   "id": "e2034711",
   "metadata": {
    "scrolled": true
   },
   "outputs": [
    {
     "name": "stdout",
     "output_type": "stream",
     "text": [
      "p-value: 5.6757813771289775e-37\n",
      "Нулевая гипотеза отвергается.\n"
     ]
    }
   ],
   "source": [
    "# задаем уровень стат. значимости\n",
    "alpha = 0.05\n",
    "# проводим t-тест для двух ген. совокупностей\n",
    "result = st.ttest_ind(data_ultra['duration'], data_free['duration'], equal_var=False, alternative='greater')\n",
    "# выводим p-value\n",
    "print('p-value:', result.pvalue)\n",
    "# проверям p-value и принимаем решение\n",
    "if result.pvalue < alpha:\n",
    "    print('Нулевая гипотеза отвергается.')\n",
    "else:\n",
    "    print('Нельзя отвергнуть нулевую гипотезу.')"
   ]
  },
  {
   "cell_type": "markdown",
   "id": "afded426",
   "metadata": {},
   "source": [
    "Нулевая гипотеза отвергнута, есть основания утверждать, что пользователи с подпиской тратят больше времени на поездки, чем пользователи без подписки. Это может значить, что для компании пользователи с подпиской более выгодны. Следует уделить особое внимание пользователям с подпиской и исследовать методы более эффективного привлечения пользователей к оформлению подписки."
   ]
  },
  {
   "cell_type": "markdown",
   "id": "9faf2d25",
   "metadata": {},
   "source": [
    "*6.2 Вторая гипотеза*\n",
    "\n",
    "Имеются данные о том, что расстояние одной поездки в *3130 метров* — оптимальное с точки зрения износа самоката. Стоит проверить, не превышает ли среднее расстояние, которое проезжают пользователи с подпиской за одну поездку, 3130 метров.\n",
    "\n",
    "\n",
    "***H₀: Среднее расстояние, которое проезжают пользователи с подпиской за одну поездку, равно 3130 м.***\n",
    "\n",
    "***H₁: Среднее расстояние, которое проезжают пользователи с подпиской за одну поездку, превышает 3130м.***\n"
   ]
  },
  {
   "cell_type": "code",
   "execution_count": 31,
   "id": "12a7b1dd",
   "metadata": {},
   "outputs": [
    {
     "name": "stdout",
     "output_type": "stream",
     "text": [
      "p-value: 0.9195368847849785\n",
      "Нельзя отвергнуть нулевую гипотезу.\n"
     ]
    }
   ],
   "source": [
    "# проводим t-тест для равенства среднего ген. совокупности числу\n",
    "result = st.ttest_1samp(data_ultra['distance'], 3130, alternative='greater')\n",
    "# выводим p-value\n",
    "print('p-value:', result.pvalue)\n",
    "# проверям p-value и принимаем решение\n",
    "if result.pvalue < alpha:\n",
    "    print('Нулевая гипотеза отвергается.')\n",
    "else:\n",
    "    print('Нельзя отвергнуть нулевую гипотезу.')"
   ]
  },
  {
   "cell_type": "markdown",
   "id": "5a56f32c",
   "metadata": {},
   "source": [
    "Нулевую гипотезу отвергнуть нельзя, то есть мы не имеем статистически значимых доказательств в пользу того, что среднее расстояние, пройденное пользователями с подпиской за одну поездку, превышает 3130 метров. Если посмотреть на величину p-value, то можно предположить, что расстояние, пройденное пользователями с подпиской за одну поездку, даже меньше 3130м, то есть является оптимальным с точки зрения износа самоката."
   ]
  },
  {
   "cell_type": "markdown",
   "id": "bf54a71d",
   "metadata": {},
   "source": [
    "*6.3 Третья гипотеза*\n",
    "\n",
    "Проверим гипотезу о том, будет ли помесячная выручка от пользователей с подпиской по месяцам выше, чем выручка от пользователей без подписки и сделаем вывод.\n",
    "\n",
    "\n",
    "***H₀: Помесячная выручка от пользователей с подпиской по месяцам  равна помесячной выручки от пользователей без подписки***\n",
    "\n",
    "***H₁: Помесячная выручка от пользователей с подпиской по месяцам  больше помесячной выручки от пользователей без подписки***"
   ]
  },
  {
   "cell_type": "markdown",
   "id": "842578cf",
   "metadata": {},
   "source": [
    "Выше мы уже уедились в том, что пользователей с подпиской и без разное количество, соответственно в статтесте нужно будет поменять параметр `equal_var`."
   ]
  },
  {
   "cell_type": "code",
   "execution_count": 32,
   "id": "ad234577",
   "metadata": {},
   "outputs": [
    {
     "name": "stdout",
     "output_type": "stream",
     "text": [
      "p-value: 8.874140893976874e-40\n",
      "Нулевая гипотеза отвергается.\n"
     ]
    }
   ],
   "source": [
    "# проводим t-тест для двух ген. совокупностей\n",
    "result = st.ttest_ind(\n",
    "    rev[rev['subscription_fee'] == 199]['revenue'],\n",
    "    rev[rev['subscription_fee'] == 0]['revenue'],\n",
    "    equal_var=False, alternative='greater')\n",
    "# выводим p-value\n",
    "print('p-value:', result.pvalue)\n",
    "# проверям p-value и принимаем решение\n",
    "if result.pvalue < alpha:\n",
    "    print('Нулевая гипотеза отвергается.')\n",
    "else:\n",
    "    print('Нельзя отвергнуть нулевую гипотезу.')"
   ]
  },
  {
   "cell_type": "markdown",
   "id": "bbd98699",
   "metadata": {},
   "source": [
    "Нулевая гипотеза отвергнута, есть основания утверждать, что помесячная выручка от пользователей с подпиской по месяцам больше помесячной выручки от пользователей без подписки. Это может быть связано с тем, что пользователи с подпиской чаще и активнее используют услуги компании. В связи с этим можно порекомендовать активно продвигать и стимулировать подписку среди клиентов, предоставляя им дополнительные преимущества, скидки или специальные предложения. Также стоит рассмотерть возможность разработки и усовершенствования программы лояльности для подписчиков"
   ]
  },
  {
   "cell_type": "markdown",
   "id": "fa1d6c1b",
   "metadata": {},
   "source": [
    "*6.4 Ситуация*\n",
    "\n",
    "Представим такую ситуацию: техническая команда сервиса обновила сервера, с которыми взаимодействует мобильное приложение. Она надеется, что из-за этого количество обращений в техподдержку значимо снизилось. Некоторый файл содержит для каждого пользователя данные о количестве обращений до обновления и после него. \n",
    "\n",
    "В таком случае для проверки гипотезы технической команды о снижении количества обращений в техподдержку стоило бы применить *t-тест для зависимых(парных) выборок.* Альтернативная гипотеза была бы левосторонняя. Для этого требовалось бы применение метода `scipy.stats.ttest_rel()`. При этом размеры выборок должны быть одинаковы и подразумевается, что порядок данных для каждого пользователя о количестве обращений до обновления и после него тоже одинаковый."
   ]
  },
  {
   "cell_type": "markdown",
   "id": "61213c5e",
   "metadata": {},
   "source": [
    "<a id ='7'></a>\n",
    "### Шаг 7. Распределения"
   ]
  },
  {
   "cell_type": "markdown",
   "id": "812874a9",
   "metadata": {},
   "source": [
    "*Задача:* Отдел маркетинга рассылает клиентам push-уведомления в мобильном приложении. Клиенты могут открыть его или не открывать. Известно, что уведомления открывают около 40 % получивших клиентов. Отдел планирует разослать 1 млн уведомлений. С помощью аппроксимации постройте примерный график распределения и оцените вероятность того, что уведомление откроют не более 399,5 тыс. пользователей.\n",
    "\n",
    "*Решение:* Эта ситуация описывается биноминальным распределением, однако считать каждое отдельное значение довольно долго, поэтому аппроксимируем данное биноминальное распределение нормальным распределением."
   ]
  },
  {
   "cell_type": "code",
   "execution_count": 33,
   "id": "58be090d",
   "metadata": {},
   "outputs": [
    {
     "data": {
      "text/plain": [
       "0.15371708296369768"
      ]
     },
     "execution_count": 33,
     "metadata": {},
     "output_type": "execute_result"
    }
   ],
   "source": [
    "n = 1000000  # количество уведомлений\n",
    "p = 0.4  # вероятность открытия уведомления\n",
    "\n",
    "# аппроксимация биномиального распределения нормальным\n",
    "mean = n * p\n",
    "std = (n * p * (1 - p))**0.5\n",
    "\n",
    "# пдсчет вероятности открытия не более 399,5 тыс. пользователей\n",
    "distr = st.norm(mean, std)\n",
    "prob = distr.cdf(399500)\n",
    "prob"
   ]
  },
  {
   "cell_type": "markdown",
   "id": "23ba3dd9",
   "metadata": {},
   "source": [
    "Вероятность того, что уведомление откроют не более 399,5 тыс. пользователей, равна 15,4%. Эта вероятность небольшая, так что скорее всего push-уведомления в мобильном приложении откроют более, чем 399,5 тыс пользователей."
   ]
  },
  {
   "cell_type": "markdown",
   "id": "c47d9db1",
   "metadata": {},
   "source": [
    "<a id ='8'></a>\n",
    "### Шаг 8. Общий вывод"
   ]
  },
  {
   "cell_type": "markdown",
   "id": "bb3baabb",
   "metadata": {},
   "source": [
    "В ходе исследования было выполнено:\n",
    "- обзор данных;\n",
    "- удаление дубликатов;\n",
    "- установка корректного типа данных;\n",
    "- расчет дополнительных параметров;\n",
    "- изучение и описание общей информации о пользователях и поездках;\n",
    "- объединение и сортировка данных;\n",
    "\n",
    "\n",
    "Здесь было выявлено то, что в целом данные о пользователях без подписки и с подпиской похожи, однако все-таки есть небольшие отличия: пользователи с подпиской в среднем преодолевают расстояние в 3000-3200 метров за поездку, тогда как пользователи без подписки в среднем преодолевают расстояние в 2900-3000 метров за поездку, при этом и у пользователей с подпиской, и без нее в среднем продолжительность одной поездки 18 минут, хоть и у пользователей с подпиской интерес к долгим поездкам больше.\n",
    "- подсчет ежемесячной выручки от каждого пользователя;\n",
    "- проверка гипотез:\n",
    "\n",
    "Здесь было вывлено то, что пользователи с подпиской более выгодны для сервиса по всем параметрам: пользователи с подпиской тратят больше времени на поездку, пользователи с подпиской в среднем проезжают оптимальное расстояние с точки зрения износа самокатов, а также пользователи с подпиской приносят больше ежемесячной выручки. Были предложены рекомендации для эффективной работы с данными пользователями.\n",
    "\n",
    "\n",
    "В результате исследования получаем портрет типичного пользователя сервиса сервиса аренды самокатов GoFast: *человек 25 лет из Пятигорска с бесплатной подпиской на сервис, который преодолевает около 3 км. за поездку, продолжительностью 18 минут.*"
   ]
  },
  {
   "cell_type": "code",
   "execution_count": null,
   "id": "3c2e09f1",
   "metadata": {},
   "outputs": [],
   "source": []
  }
 ],
 "metadata": {
  "ExecuteTimeLog": [
   {
    "duration": 46,
    "start_time": "2024-01-31T11:13:23.176Z"
   },
   {
    "duration": 358,
    "start_time": "2024-01-31T11:13:29.346Z"
   },
   {
    "duration": 290,
    "start_time": "2024-01-31T11:13:29.706Z"
   },
   {
    "duration": 2,
    "start_time": "2024-01-31T11:15:06.513Z"
   },
   {
    "duration": 16,
    "start_time": "2024-01-31T11:15:27.232Z"
   },
   {
    "duration": 2,
    "start_time": "2024-01-31T11:16:00.872Z"
   },
   {
    "duration": 10,
    "start_time": "2024-01-31T11:16:01.652Z"
   },
   {
    "duration": 2,
    "start_time": "2024-01-31T11:16:10.273Z"
   },
   {
    "duration": 12,
    "start_time": "2024-01-31T11:16:10.773Z"
   },
   {
    "duration": 2,
    "start_time": "2024-01-31T11:16:16.132Z"
   },
   {
    "duration": 12,
    "start_time": "2024-01-31T11:16:16.584Z"
   },
   {
    "duration": 3,
    "start_time": "2024-01-31T11:16:35.274Z"
   },
   {
    "duration": 17,
    "start_time": "2024-01-31T11:16:35.664Z"
   },
   {
    "duration": 3,
    "start_time": "2024-01-31T11:16:47.211Z"
   },
   {
    "duration": 19,
    "start_time": "2024-01-31T11:16:47.563Z"
   },
   {
    "duration": 23,
    "start_time": "2024-01-31T11:19:08.831Z"
   },
   {
    "duration": 20,
    "start_time": "2024-01-31T11:20:29.472Z"
   },
   {
    "duration": 3,
    "start_time": "2024-01-31T11:21:42.547Z"
   },
   {
    "duration": 11,
    "start_time": "2024-01-31T11:21:43.087Z"
   },
   {
    "duration": 12,
    "start_time": "2024-01-31T11:21:43.647Z"
   },
   {
    "duration": 12,
    "start_time": "2024-01-31T11:21:44.267Z"
   },
   {
    "duration": 2,
    "start_time": "2024-01-31T11:24:20.888Z"
   },
   {
    "duration": 13,
    "start_time": "2024-01-31T11:24:21.340Z"
   },
   {
    "duration": 3,
    "start_time": "2024-01-31T11:24:36.323Z"
   },
   {
    "duration": 15,
    "start_time": "2024-01-31T11:24:38.247Z"
   },
   {
    "duration": 2,
    "start_time": "2024-01-31T11:24:46.700Z"
   },
   {
    "duration": 14,
    "start_time": "2024-01-31T11:24:50.123Z"
   },
   {
    "duration": 17,
    "start_time": "2024-01-31T11:24:59.187Z"
   },
   {
    "duration": 12,
    "start_time": "2024-01-31T11:25:02.610Z"
   },
   {
    "duration": 539,
    "start_time": "2024-01-31T11:26:07.339Z"
   },
   {
    "duration": 53,
    "start_time": "2024-01-31T11:26:08.308Z"
   },
   {
    "duration": 3,
    "start_time": "2024-01-31T11:26:08.779Z"
   },
   {
    "duration": 19,
    "start_time": "2024-01-31T11:26:09.219Z"
   },
   {
    "duration": 19,
    "start_time": "2024-01-31T11:26:09.567Z"
   },
   {
    "duration": 12,
    "start_time": "2024-01-31T11:26:10.228Z"
   },
   {
    "duration": 682,
    "start_time": "2024-01-31T11:26:18.620Z"
   },
   {
    "duration": 52,
    "start_time": "2024-01-31T11:26:19.304Z"
   },
   {
    "duration": 2,
    "start_time": "2024-01-31T11:26:19.358Z"
   },
   {
    "duration": 21,
    "start_time": "2024-01-31T11:26:19.363Z"
   },
   {
    "duration": 16,
    "start_time": "2024-01-31T11:26:19.386Z"
   },
   {
    "duration": 25,
    "start_time": "2024-01-31T11:26:19.404Z"
   },
   {
    "duration": 691,
    "start_time": "2024-01-31T11:39:00.317Z"
   },
   {
    "duration": 52,
    "start_time": "2024-01-31T11:39:01.009Z"
   },
   {
    "duration": 3,
    "start_time": "2024-01-31T11:39:01.063Z"
   },
   {
    "duration": 61,
    "start_time": "2024-01-31T11:39:01.068Z"
   },
   {
    "duration": 63,
    "start_time": "2024-01-31T11:39:01.131Z"
   },
   {
    "duration": 70,
    "start_time": "2024-01-31T11:39:01.195Z"
   },
   {
    "duration": 9,
    "start_time": "2024-01-31T11:43:23.403Z"
   },
   {
    "duration": 66,
    "start_time": "2024-01-31T11:43:37.075Z"
   },
   {
    "duration": 9,
    "start_time": "2024-01-31T11:43:49.943Z"
   },
   {
    "duration": 681,
    "start_time": "2024-01-31T11:44:03.822Z"
   },
   {
    "duration": 51,
    "start_time": "2024-01-31T11:44:04.505Z"
   },
   {
    "duration": 3,
    "start_time": "2024-01-31T11:44:04.558Z"
   },
   {
    "duration": 26,
    "start_time": "2024-01-31T11:44:04.562Z"
   },
   {
    "duration": 21,
    "start_time": "2024-01-31T11:44:04.590Z"
   },
   {
    "duration": 12,
    "start_time": "2024-01-31T11:44:04.612Z"
   },
   {
    "duration": 83,
    "start_time": "2024-01-31T11:44:04.625Z"
   },
   {
    "duration": 8,
    "start_time": "2024-01-31T11:44:46.213Z"
   },
   {
    "duration": 7,
    "start_time": "2024-01-31T11:45:00.176Z"
   },
   {
    "duration": 5,
    "start_time": "2024-01-31T11:45:54.470Z"
   },
   {
    "duration": 4,
    "start_time": "2024-01-31T11:46:44.141Z"
   },
   {
    "duration": 1066,
    "start_time": "2024-01-31T11:47:15.864Z"
   },
   {
    "duration": 5,
    "start_time": "2024-01-31T11:47:24.344Z"
   },
   {
    "duration": 4,
    "start_time": "2024-01-31T11:47:33.772Z"
   },
   {
    "duration": 5,
    "start_time": "2024-01-31T11:50:50.083Z"
   },
   {
    "duration": 7,
    "start_time": "2024-01-31T11:52:19.083Z"
   },
   {
    "duration": 17,
    "start_time": "2024-01-31T11:52:31.959Z"
   },
   {
    "duration": 17,
    "start_time": "2024-01-31T11:52:39.112Z"
   },
   {
    "duration": 8,
    "start_time": "2024-01-31T11:52:48.063Z"
   },
   {
    "duration": 23,
    "start_time": "2024-01-31T11:52:55.052Z"
   },
   {
    "duration": 7,
    "start_time": "2024-01-31T11:55:23.524Z"
   },
   {
    "duration": 5,
    "start_time": "2024-01-31T11:56:11.370Z"
   },
   {
    "duration": 6,
    "start_time": "2024-01-31T11:56:29.751Z"
   },
   {
    "duration": 8,
    "start_time": "2024-01-31T11:59:44.460Z"
   },
   {
    "duration": 5,
    "start_time": "2024-01-31T12:00:03.851Z"
   },
   {
    "duration": 150,
    "start_time": "2024-01-31T12:00:09.470Z"
   },
   {
    "duration": 167,
    "start_time": "2024-01-31T12:00:23.950Z"
   },
   {
    "duration": 121,
    "start_time": "2024-01-31T12:00:37.611Z"
   },
   {
    "duration": 119,
    "start_time": "2024-01-31T12:00:52.688Z"
   },
   {
    "duration": 61,
    "start_time": "2024-01-31T12:01:04.202Z"
   },
   {
    "duration": 119,
    "start_time": "2024-01-31T12:01:10.298Z"
   },
   {
    "duration": 184,
    "start_time": "2024-01-31T12:01:29.904Z"
   },
   {
    "duration": 138,
    "start_time": "2024-01-31T12:01:36.682Z"
   },
   {
    "duration": 128,
    "start_time": "2024-01-31T12:01:43.362Z"
   },
   {
    "duration": 134,
    "start_time": "2024-01-31T12:01:48.202Z"
   },
   {
    "duration": 124,
    "start_time": "2024-01-31T12:01:56.111Z"
   },
   {
    "duration": 138,
    "start_time": "2024-01-31T12:02:05.764Z"
   },
   {
    "duration": 150,
    "start_time": "2024-01-31T12:02:14.342Z"
   },
   {
    "duration": 176,
    "start_time": "2024-01-31T12:02:57.611Z"
   },
   {
    "duration": 129,
    "start_time": "2024-01-31T12:05:49.569Z"
   },
   {
    "duration": 136,
    "start_time": "2024-01-31T12:06:00.667Z"
   },
   {
    "duration": 130,
    "start_time": "2024-01-31T12:06:09.167Z"
   },
   {
    "duration": 123,
    "start_time": "2024-01-31T12:06:58.783Z"
   },
   {
    "duration": 115,
    "start_time": "2024-01-31T12:07:29.584Z"
   },
   {
    "duration": 123,
    "start_time": "2024-01-31T12:07:36.316Z"
   },
   {
    "duration": 140,
    "start_time": "2024-01-31T12:09:00.076Z"
   },
   {
    "duration": 134,
    "start_time": "2024-01-31T12:09:21.655Z"
   },
   {
    "duration": 121,
    "start_time": "2024-01-31T12:12:20.151Z"
   },
   {
    "duration": 136,
    "start_time": "2024-01-31T12:12:45.296Z"
   },
   {
    "duration": 131,
    "start_time": "2024-01-31T12:18:01.858Z"
   },
   {
    "duration": 183,
    "start_time": "2024-01-31T12:19:01.249Z"
   },
   {
    "duration": 113,
    "start_time": "2024-01-31T12:19:40.968Z"
   },
   {
    "duration": 112,
    "start_time": "2024-01-31T12:19:49.965Z"
   },
   {
    "duration": 116,
    "start_time": "2024-01-31T12:20:29.098Z"
   },
   {
    "duration": 120,
    "start_time": "2024-01-31T12:20:42.747Z"
   },
   {
    "duration": 123,
    "start_time": "2024-01-31T12:21:03.169Z"
   },
   {
    "duration": 126,
    "start_time": "2024-01-31T12:21:09.823Z"
   },
   {
    "duration": 122,
    "start_time": "2024-01-31T12:21:58.550Z"
   },
   {
    "duration": 703,
    "start_time": "2024-01-31T12:22:56.995Z"
   },
   {
    "duration": 52,
    "start_time": "2024-01-31T12:22:57.700Z"
   },
   {
    "duration": 3,
    "start_time": "2024-01-31T12:22:57.753Z"
   },
   {
    "duration": 19,
    "start_time": "2024-01-31T12:22:57.757Z"
   },
   {
    "duration": 16,
    "start_time": "2024-01-31T12:22:57.778Z"
   },
   {
    "duration": 13,
    "start_time": "2024-01-31T12:22:57.795Z"
   },
   {
    "duration": 10,
    "start_time": "2024-01-31T12:22:57.809Z"
   },
   {
    "duration": 4,
    "start_time": "2024-01-31T12:22:57.820Z"
   },
   {
    "duration": 18,
    "start_time": "2024-01-31T12:22:57.826Z"
   },
   {
    "duration": 6,
    "start_time": "2024-01-31T12:22:57.845Z"
   },
   {
    "duration": 153,
    "start_time": "2024-01-31T12:22:57.853Z"
   },
   {
    "duration": 136,
    "start_time": "2024-01-31T12:22:58.008Z"
   },
   {
    "duration": 129,
    "start_time": "2024-01-31T12:23:06.271Z"
   },
   {
    "duration": 123,
    "start_time": "2024-01-31T12:23:12.450Z"
   },
   {
    "duration": 197,
    "start_time": "2024-01-31T12:23:24.359Z"
   },
   {
    "duration": 130,
    "start_time": "2024-01-31T12:23:29.206Z"
   },
   {
    "duration": 61,
    "start_time": "2024-01-31T12:28:25.829Z"
   },
   {
    "duration": 228,
    "start_time": "2024-01-31T12:28:30.269Z"
   },
   {
    "duration": 140,
    "start_time": "2024-01-31T12:28:42.989Z"
   },
   {
    "duration": 143,
    "start_time": "2024-01-31T12:28:58.494Z"
   },
   {
    "duration": 139,
    "start_time": "2024-01-31T12:29:30.883Z"
   },
   {
    "duration": 144,
    "start_time": "2024-01-31T12:30:00.223Z"
   },
   {
    "duration": 135,
    "start_time": "2024-01-31T12:30:33.003Z"
   },
   {
    "duration": 136,
    "start_time": "2024-01-31T12:30:53.185Z"
   },
   {
    "duration": 143,
    "start_time": "2024-01-31T12:31:02.683Z"
   },
   {
    "duration": 198,
    "start_time": "2024-01-31T12:31:52.997Z"
   },
   {
    "duration": 160,
    "start_time": "2024-01-31T12:39:04.213Z"
   },
   {
    "duration": 165,
    "start_time": "2024-01-31T12:39:15.558Z"
   },
   {
    "duration": 155,
    "start_time": "2024-01-31T12:39:37.842Z"
   },
   {
    "duration": 153,
    "start_time": "2024-01-31T12:39:54.682Z"
   },
   {
    "duration": 165,
    "start_time": "2024-01-31T12:48:12.973Z"
   },
   {
    "duration": 161,
    "start_time": "2024-01-31T12:48:29.469Z"
   },
   {
    "duration": 156,
    "start_time": "2024-01-31T12:49:47.318Z"
   },
   {
    "duration": 147,
    "start_time": "2024-01-31T12:49:55.883Z"
   },
   {
    "duration": 154,
    "start_time": "2024-01-31T12:50:22.925Z"
   },
   {
    "duration": 157,
    "start_time": "2024-01-31T12:50:32.822Z"
   },
   {
    "duration": 215,
    "start_time": "2024-01-31T12:50:36.657Z"
   },
   {
    "duration": 159,
    "start_time": "2024-01-31T12:50:53.204Z"
   },
   {
    "duration": 148,
    "start_time": "2024-01-31T12:50:56.193Z"
   },
   {
    "duration": 166,
    "start_time": "2024-01-31T12:51:09.939Z"
   },
   {
    "duration": 43,
    "start_time": "2024-01-31T13:11:05.194Z"
   },
   {
    "duration": 34,
    "start_time": "2024-01-31T13:12:23.724Z"
   },
   {
    "duration": 46,
    "start_time": "2024-01-31T16:26:50.118Z"
   },
   {
    "duration": 104,
    "start_time": "2024-01-31T16:29:36.411Z"
   },
   {
    "duration": 57,
    "start_time": "2024-01-31T16:29:36.517Z"
   },
   {
    "duration": 5,
    "start_time": "2024-01-31T16:29:36.576Z"
   },
   {
    "duration": 34,
    "start_time": "2024-01-31T16:29:36.585Z"
   },
   {
    "duration": 48,
    "start_time": "2024-01-31T16:29:36.621Z"
   },
   {
    "duration": 21,
    "start_time": "2024-01-31T16:29:36.673Z"
   },
   {
    "duration": 17,
    "start_time": "2024-01-31T16:29:36.696Z"
   },
   {
    "duration": 5,
    "start_time": "2024-01-31T16:29:36.715Z"
   },
   {
    "duration": 33,
    "start_time": "2024-01-31T16:29:36.722Z"
   },
   {
    "duration": 8,
    "start_time": "2024-01-31T16:29:36.757Z"
   },
   {
    "duration": 160,
    "start_time": "2024-01-31T16:29:36.767Z"
   },
   {
    "duration": 161,
    "start_time": "2024-01-31T16:29:36.930Z"
   },
   {
    "duration": 152,
    "start_time": "2024-01-31T16:29:37.092Z"
   },
   {
    "duration": 190,
    "start_time": "2024-01-31T16:29:37.245Z"
   },
   {
    "duration": 181,
    "start_time": "2024-01-31T16:29:37.436Z"
   },
   {
    "duration": 35,
    "start_time": "2024-01-31T16:29:37.619Z"
   },
   {
    "duration": 27,
    "start_time": "2024-01-31T16:31:21.392Z"
   },
   {
    "duration": 26,
    "start_time": "2024-01-31T16:32:28.741Z"
   },
   {
    "duration": 9,
    "start_time": "2024-01-31T16:33:46.843Z"
   },
   {
    "duration": 7,
    "start_time": "2024-01-31T16:35:12.146Z"
   },
   {
    "duration": 8,
    "start_time": "2024-01-31T16:35:19.121Z"
   },
   {
    "duration": 158,
    "start_time": "2024-01-31T16:37:09.350Z"
   },
   {
    "duration": 253,
    "start_time": "2024-01-31T16:41:25.774Z"
   },
   {
    "duration": 151,
    "start_time": "2024-01-31T16:42:12.002Z"
   },
   {
    "duration": 160,
    "start_time": "2024-01-31T16:42:25.708Z"
   },
   {
    "duration": 156,
    "start_time": "2024-01-31T16:50:10.447Z"
   },
   {
    "duration": 145,
    "start_time": "2024-01-31T16:52:06.323Z"
   },
   {
    "duration": 23,
    "start_time": "2024-01-31T17:34:48.560Z"
   },
   {
    "duration": 26,
    "start_time": "2024-01-31T17:35:08.926Z"
   },
   {
    "duration": 22,
    "start_time": "2024-01-31T17:35:53.335Z"
   },
   {
    "duration": 749,
    "start_time": "2024-01-31T17:36:04.433Z"
   },
   {
    "duration": 53,
    "start_time": "2024-01-31T17:36:05.184Z"
   },
   {
    "duration": 2,
    "start_time": "2024-01-31T17:36:05.239Z"
   },
   {
    "duration": 18,
    "start_time": "2024-01-31T17:36:05.243Z"
   },
   {
    "duration": 19,
    "start_time": "2024-01-31T17:36:05.263Z"
   },
   {
    "duration": 11,
    "start_time": "2024-01-31T17:36:05.284Z"
   },
   {
    "duration": 19,
    "start_time": "2024-01-31T17:36:05.296Z"
   },
   {
    "duration": 4,
    "start_time": "2024-01-31T17:36:05.316Z"
   },
   {
    "duration": 22,
    "start_time": "2024-01-31T17:36:05.321Z"
   },
   {
    "duration": 6,
    "start_time": "2024-01-31T17:36:05.344Z"
   },
   {
    "duration": 176,
    "start_time": "2024-01-31T17:36:05.352Z"
   },
   {
    "duration": 126,
    "start_time": "2024-01-31T17:36:05.530Z"
   },
   {
    "duration": 152,
    "start_time": "2024-01-31T17:36:05.657Z"
   },
   {
    "duration": 212,
    "start_time": "2024-01-31T17:36:05.812Z"
   },
   {
    "duration": 217,
    "start_time": "2024-01-31T17:36:06.026Z"
   },
   {
    "duration": 39,
    "start_time": "2024-01-31T17:36:06.245Z"
   },
   {
    "duration": 8,
    "start_time": "2024-01-31T17:36:06.286Z"
   },
   {
    "duration": 171,
    "start_time": "2024-01-31T17:36:06.296Z"
   },
   {
    "duration": 160,
    "start_time": "2024-01-31T17:36:06.468Z"
   },
   {
    "duration": 186,
    "start_time": "2024-01-31T17:36:06.629Z"
   },
   {
    "duration": 156,
    "start_time": "2024-01-31T17:36:06.817Z"
   },
   {
    "duration": 23,
    "start_time": "2024-01-31T17:36:06.974Z"
   },
   {
    "duration": 176,
    "start_time": "2024-01-31T17:37:39.824Z"
   },
   {
    "duration": 3,
    "start_time": "2024-01-31T17:38:37.532Z"
   },
   {
    "duration": 4,
    "start_time": "2024-01-31T17:38:45.464Z"
   },
   {
    "duration": 3,
    "start_time": "2024-01-31T17:38:48.772Z"
   },
   {
    "duration": 3,
    "start_time": "2024-01-31T17:38:52.124Z"
   },
   {
    "duration": 71,
    "start_time": "2024-01-31T17:43:26.967Z"
   },
   {
    "duration": 4,
    "start_time": "2024-01-31T17:49:16.391Z"
   },
   {
    "duration": 22,
    "start_time": "2024-01-31T17:49:23.640Z"
   },
   {
    "duration": 76,
    "start_time": "2024-01-31T17:57:34.029Z"
   },
   {
    "duration": 24,
    "start_time": "2024-01-31T17:58:30.390Z"
   },
   {
    "duration": 24,
    "start_time": "2024-01-31T17:59:10.824Z"
   },
   {
    "duration": 24,
    "start_time": "2024-01-31T17:59:48.861Z"
   },
   {
    "duration": 13,
    "start_time": "2024-01-31T18:00:53.230Z"
   },
   {
    "duration": 95,
    "start_time": "2024-01-31T18:02:15.927Z"
   },
   {
    "duration": 65,
    "start_time": "2024-01-31T18:02:27.778Z"
   },
   {
    "duration": 101,
    "start_time": "2024-01-31T18:02:42.334Z"
   },
   {
    "duration": 13,
    "start_time": "2024-01-31T18:02:55.557Z"
   },
   {
    "duration": 73,
    "start_time": "2024-01-31T18:02:58.457Z"
   },
   {
    "duration": 94,
    "start_time": "2024-01-31T18:03:03.350Z"
   },
   {
    "duration": 12,
    "start_time": "2024-01-31T18:03:15.849Z"
   },
   {
    "duration": 14,
    "start_time": "2024-01-31T18:03:52.508Z"
   },
   {
    "duration": 20,
    "start_time": "2024-01-31T18:04:20.999Z"
   },
   {
    "duration": 323,
    "start_time": "2024-01-31T18:06:37.907Z"
   },
   {
    "duration": 3,
    "start_time": "2024-01-31T18:06:49.547Z"
   },
   {
    "duration": 10,
    "start_time": "2024-01-31T18:07:01.367Z"
   },
   {
    "duration": 1331,
    "start_time": "2024-01-31T18:07:39.831Z"
   },
   {
    "duration": 1314,
    "start_time": "2024-01-31T18:07:54.240Z"
   },
   {
    "duration": 9,
    "start_time": "2024-01-31T18:08:08.464Z"
   },
   {
    "duration": 4,
    "start_time": "2024-01-31T18:08:14.585Z"
   },
   {
    "duration": 6,
    "start_time": "2024-01-31T18:08:28.764Z"
   },
   {
    "duration": 3,
    "start_time": "2024-01-31T18:08:42.164Z"
   },
   {
    "duration": 7,
    "start_time": "2024-01-31T18:10:04.329Z"
   },
   {
    "duration": 731,
    "start_time": "2024-01-31T18:10:19.257Z"
   },
   {
    "duration": 55,
    "start_time": "2024-01-31T18:10:19.990Z"
   },
   {
    "duration": 3,
    "start_time": "2024-01-31T18:10:20.047Z"
   },
   {
    "duration": 34,
    "start_time": "2024-01-31T18:10:20.051Z"
   },
   {
    "duration": 22,
    "start_time": "2024-01-31T18:10:20.086Z"
   },
   {
    "duration": 11,
    "start_time": "2024-01-31T18:10:20.110Z"
   },
   {
    "duration": 11,
    "start_time": "2024-01-31T18:10:20.122Z"
   },
   {
    "duration": 25,
    "start_time": "2024-01-31T18:10:20.134Z"
   },
   {
    "duration": 22,
    "start_time": "2024-01-31T18:10:20.161Z"
   },
   {
    "duration": 6,
    "start_time": "2024-01-31T18:10:20.185Z"
   },
   {
    "duration": 154,
    "start_time": "2024-01-31T18:10:20.192Z"
   },
   {
    "duration": 147,
    "start_time": "2024-01-31T18:10:20.347Z"
   },
   {
    "duration": 146,
    "start_time": "2024-01-31T18:10:20.496Z"
   },
   {
    "duration": 203,
    "start_time": "2024-01-31T18:10:20.644Z"
   },
   {
    "duration": 208,
    "start_time": "2024-01-31T18:10:20.848Z"
   },
   {
    "duration": 39,
    "start_time": "2024-01-31T18:10:21.058Z"
   },
   {
    "duration": 8,
    "start_time": "2024-01-31T18:10:21.099Z"
   },
   {
    "duration": 170,
    "start_time": "2024-01-31T18:10:21.109Z"
   },
   {
    "duration": 162,
    "start_time": "2024-01-31T18:10:21.281Z"
   },
   {
    "duration": 159,
    "start_time": "2024-01-31T18:10:21.444Z"
   },
   {
    "duration": 158,
    "start_time": "2024-01-31T18:10:21.604Z"
   },
   {
    "duration": 20,
    "start_time": "2024-01-31T18:10:21.763Z"
   },
   {
    "duration": 82,
    "start_time": "2024-01-31T18:10:21.784Z"
   },
   {
    "duration": 8,
    "start_time": "2024-01-31T18:13:48.969Z"
   },
   {
    "duration": 7,
    "start_time": "2024-01-31T18:14:31.839Z"
   },
   {
    "duration": 4,
    "start_time": "2024-01-31T18:15:08.308Z"
   },
   {
    "duration": 10,
    "start_time": "2024-01-31T18:17:13.423Z"
   },
   {
    "duration": 19,
    "start_time": "2024-01-31T18:17:33.499Z"
   },
   {
    "duration": 4,
    "start_time": "2024-01-31T18:17:36.354Z"
   },
   {
    "duration": 5,
    "start_time": "2024-01-31T18:17:45.900Z"
   },
   {
    "duration": 348,
    "start_time": "2024-01-31T18:18:54.752Z"
   },
   {
    "duration": 4,
    "start_time": "2024-01-31T18:19:07.982Z"
   },
   {
    "duration": 10,
    "start_time": "2024-01-31T18:19:22.143Z"
   },
   {
    "duration": 743,
    "start_time": "2024-01-31T18:19:32.991Z"
   },
   {
    "duration": 57,
    "start_time": "2024-01-31T18:19:33.736Z"
   },
   {
    "duration": 3,
    "start_time": "2024-01-31T18:19:33.795Z"
   },
   {
    "duration": 30,
    "start_time": "2024-01-31T18:19:33.799Z"
   },
   {
    "duration": 17,
    "start_time": "2024-01-31T18:19:33.831Z"
   },
   {
    "duration": 12,
    "start_time": "2024-01-31T18:19:33.850Z"
   },
   {
    "duration": 20,
    "start_time": "2024-01-31T18:19:33.865Z"
   },
   {
    "duration": 20,
    "start_time": "2024-01-31T18:19:33.887Z"
   },
   {
    "duration": 45,
    "start_time": "2024-01-31T18:19:33.909Z"
   },
   {
    "duration": 12,
    "start_time": "2024-01-31T18:19:33.956Z"
   },
   {
    "duration": 168,
    "start_time": "2024-01-31T18:19:33.969Z"
   },
   {
    "duration": 141,
    "start_time": "2024-01-31T18:19:34.139Z"
   },
   {
    "duration": 149,
    "start_time": "2024-01-31T18:19:34.282Z"
   },
   {
    "duration": 179,
    "start_time": "2024-01-31T18:19:34.432Z"
   },
   {
    "duration": 240,
    "start_time": "2024-01-31T18:19:34.612Z"
   },
   {
    "duration": 41,
    "start_time": "2024-01-31T18:19:34.854Z"
   },
   {
    "duration": 10,
    "start_time": "2024-01-31T18:19:34.897Z"
   },
   {
    "duration": 182,
    "start_time": "2024-01-31T18:19:34.909Z"
   },
   {
    "duration": 164,
    "start_time": "2024-01-31T18:19:35.093Z"
   },
   {
    "duration": 161,
    "start_time": "2024-01-31T18:19:35.258Z"
   },
   {
    "duration": 162,
    "start_time": "2024-01-31T18:19:35.421Z"
   },
   {
    "duration": 21,
    "start_time": "2024-01-31T18:19:35.586Z"
   },
   {
    "duration": 13,
    "start_time": "2024-01-31T18:19:35.609Z"
   },
   {
    "duration": 10,
    "start_time": "2024-01-31T18:19:59.671Z"
   },
   {
    "duration": 26,
    "start_time": "2024-01-31T18:20:39.638Z"
   },
   {
    "duration": 715,
    "start_time": "2024-01-31T18:20:45.312Z"
   },
   {
    "duration": 65,
    "start_time": "2024-01-31T18:20:46.029Z"
   },
   {
    "duration": 3,
    "start_time": "2024-01-31T18:20:46.096Z"
   },
   {
    "duration": 40,
    "start_time": "2024-01-31T18:20:46.100Z"
   },
   {
    "duration": 17,
    "start_time": "2024-01-31T18:20:46.143Z"
   },
   {
    "duration": 12,
    "start_time": "2024-01-31T18:20:46.161Z"
   },
   {
    "duration": 33,
    "start_time": "2024-01-31T18:20:46.175Z"
   },
   {
    "duration": 5,
    "start_time": "2024-01-31T18:20:46.210Z"
   },
   {
    "duration": 34,
    "start_time": "2024-01-31T18:20:46.217Z"
   },
   {
    "duration": 51,
    "start_time": "2024-01-31T18:20:46.253Z"
   },
   {
    "duration": 176,
    "start_time": "2024-01-31T18:20:46.306Z"
   },
   {
    "duration": 148,
    "start_time": "2024-01-31T18:20:46.484Z"
   },
   {
    "duration": 163,
    "start_time": "2024-01-31T18:20:46.633Z"
   },
   {
    "duration": 176,
    "start_time": "2024-01-31T18:20:46.799Z"
   },
   {
    "duration": 219,
    "start_time": "2024-01-31T18:20:46.976Z"
   },
   {
    "duration": 36,
    "start_time": "2024-01-31T18:20:47.196Z"
   },
   {
    "duration": 8,
    "start_time": "2024-01-31T18:20:47.234Z"
   },
   {
    "duration": 181,
    "start_time": "2024-01-31T18:20:47.243Z"
   },
   {
    "duration": 162,
    "start_time": "2024-01-31T18:20:47.426Z"
   },
   {
    "duration": 226,
    "start_time": "2024-01-31T18:20:47.589Z"
   },
   {
    "duration": 182,
    "start_time": "2024-01-31T18:20:47.817Z"
   },
   {
    "duration": 21,
    "start_time": "2024-01-31T18:20:48.000Z"
   },
   {
    "duration": 55,
    "start_time": "2024-01-31T18:20:48.023Z"
   },
   {
    "duration": 25,
    "start_time": "2024-01-31T18:20:58.748Z"
   },
   {
    "duration": 3,
    "start_time": "2024-01-31T18:24:22.692Z"
   },
   {
    "duration": 9,
    "start_time": "2024-01-31T18:24:29.391Z"
   },
   {
    "duration": 751,
    "start_time": "2024-01-31T18:24:42.742Z"
   },
   {
    "duration": 56,
    "start_time": "2024-01-31T18:24:43.494Z"
   },
   {
    "duration": 4,
    "start_time": "2024-01-31T18:24:43.552Z"
   },
   {
    "duration": 44,
    "start_time": "2024-01-31T18:24:43.558Z"
   },
   {
    "duration": 35,
    "start_time": "2024-01-31T18:24:43.604Z"
   },
   {
    "duration": 26,
    "start_time": "2024-01-31T18:24:43.641Z"
   },
   {
    "duration": 15,
    "start_time": "2024-01-31T18:24:43.669Z"
   },
   {
    "duration": 28,
    "start_time": "2024-01-31T18:24:43.686Z"
   },
   {
    "duration": 37,
    "start_time": "2024-01-31T18:24:43.716Z"
   },
   {
    "duration": 38,
    "start_time": "2024-01-31T18:24:43.755Z"
   },
   {
    "duration": 167,
    "start_time": "2024-01-31T18:24:43.794Z"
   },
   {
    "duration": 131,
    "start_time": "2024-01-31T18:24:43.964Z"
   },
   {
    "duration": 146,
    "start_time": "2024-01-31T18:24:44.096Z"
   },
   {
    "duration": 172,
    "start_time": "2024-01-31T18:24:44.244Z"
   },
   {
    "duration": 214,
    "start_time": "2024-01-31T18:24:44.417Z"
   },
   {
    "duration": 51,
    "start_time": "2024-01-31T18:24:44.633Z"
   },
   {
    "duration": 9,
    "start_time": "2024-01-31T18:24:44.685Z"
   },
   {
    "duration": 198,
    "start_time": "2024-01-31T18:24:44.695Z"
   },
   {
    "duration": 188,
    "start_time": "2024-01-31T18:24:44.895Z"
   },
   {
    "duration": 163,
    "start_time": "2024-01-31T18:24:45.085Z"
   },
   {
    "duration": 168,
    "start_time": "2024-01-31T18:24:45.249Z"
   },
   {
    "duration": 20,
    "start_time": "2024-01-31T18:24:45.418Z"
   },
   {
    "duration": 39,
    "start_time": "2024-01-31T18:24:45.440Z"
   },
   {
    "duration": 8,
    "start_time": "2024-01-31T18:24:45.481Z"
   },
   {
    "duration": 21,
    "start_time": "2024-01-31T18:25:33.272Z"
   },
   {
    "duration": 14,
    "start_time": "2024-01-31T18:25:44.421Z"
   },
   {
    "duration": 96,
    "start_time": "2024-01-31T18:26:39.352Z"
   },
   {
    "duration": 74,
    "start_time": "2024-01-31T18:27:15.400Z"
   },
   {
    "duration": 762,
    "start_time": "2024-01-31T18:27:33.441Z"
   },
   {
    "duration": 56,
    "start_time": "2024-01-31T18:27:34.205Z"
   },
   {
    "duration": 3,
    "start_time": "2024-01-31T18:27:34.263Z"
   },
   {
    "duration": 40,
    "start_time": "2024-01-31T18:27:34.268Z"
   },
   {
    "duration": 40,
    "start_time": "2024-01-31T18:27:34.310Z"
   },
   {
    "duration": 25,
    "start_time": "2024-01-31T18:27:34.351Z"
   },
   {
    "duration": 57,
    "start_time": "2024-01-31T18:27:34.378Z"
   },
   {
    "duration": 33,
    "start_time": "2024-01-31T18:27:34.436Z"
   },
   {
    "duration": 27,
    "start_time": "2024-01-31T18:27:34.470Z"
   },
   {
    "duration": 51,
    "start_time": "2024-01-31T18:27:34.499Z"
   },
   {
    "duration": 193,
    "start_time": "2024-01-31T18:27:34.552Z"
   },
   {
    "duration": 138,
    "start_time": "2024-01-31T18:27:34.746Z"
   },
   {
    "duration": 182,
    "start_time": "2024-01-31T18:27:34.885Z"
   },
   {
    "duration": 171,
    "start_time": "2024-01-31T18:27:35.070Z"
   },
   {
    "duration": 219,
    "start_time": "2024-01-31T18:27:35.243Z"
   },
   {
    "duration": 36,
    "start_time": "2024-01-31T18:27:35.465Z"
   },
   {
    "duration": 9,
    "start_time": "2024-01-31T18:27:35.502Z"
   },
   {
    "duration": 179,
    "start_time": "2024-01-31T18:27:35.512Z"
   },
   {
    "duration": 181,
    "start_time": "2024-01-31T18:27:35.692Z"
   },
   {
    "duration": 192,
    "start_time": "2024-01-31T18:27:35.875Z"
   },
   {
    "duration": 164,
    "start_time": "2024-01-31T18:27:36.068Z"
   },
   {
    "duration": 31,
    "start_time": "2024-01-31T18:27:36.234Z"
   },
   {
    "duration": 3,
    "start_time": "2024-01-31T18:27:36.267Z"
   },
   {
    "duration": 6,
    "start_time": "2024-01-31T18:29:23.419Z"
   },
   {
    "duration": 15,
    "start_time": "2024-01-31T18:29:33.500Z"
   },
   {
    "duration": 20,
    "start_time": "2024-01-31T18:30:52.359Z"
   },
   {
    "duration": 13,
    "start_time": "2024-01-31T18:31:47.839Z"
   },
   {
    "duration": 669,
    "start_time": "2024-01-31T18:32:01.920Z"
   },
   {
    "duration": 58,
    "start_time": "2024-01-31T18:32:02.591Z"
   },
   {
    "duration": 3,
    "start_time": "2024-01-31T18:32:02.651Z"
   },
   {
    "duration": 20,
    "start_time": "2024-01-31T18:32:02.655Z"
   },
   {
    "duration": 20,
    "start_time": "2024-01-31T18:32:02.678Z"
   },
   {
    "duration": 13,
    "start_time": "2024-01-31T18:32:02.700Z"
   },
   {
    "duration": 17,
    "start_time": "2024-01-31T18:32:02.714Z"
   },
   {
    "duration": 5,
    "start_time": "2024-01-31T18:32:02.732Z"
   },
   {
    "duration": 37,
    "start_time": "2024-01-31T18:32:02.738Z"
   },
   {
    "duration": 9,
    "start_time": "2024-01-31T18:32:02.776Z"
   },
   {
    "duration": 168,
    "start_time": "2024-01-31T18:32:02.786Z"
   },
   {
    "duration": 140,
    "start_time": "2024-01-31T18:32:02.955Z"
   },
   {
    "duration": 148,
    "start_time": "2024-01-31T18:32:03.096Z"
   },
   {
    "duration": 175,
    "start_time": "2024-01-31T18:32:03.247Z"
   },
   {
    "duration": 218,
    "start_time": "2024-01-31T18:32:03.423Z"
   },
   {
    "duration": 40,
    "start_time": "2024-01-31T18:32:03.643Z"
   },
   {
    "duration": 9,
    "start_time": "2024-01-31T18:32:03.684Z"
   },
   {
    "duration": 201,
    "start_time": "2024-01-31T18:32:03.694Z"
   },
   {
    "duration": 172,
    "start_time": "2024-01-31T18:32:03.896Z"
   },
   {
    "duration": 173,
    "start_time": "2024-01-31T18:32:04.070Z"
   },
   {
    "duration": 159,
    "start_time": "2024-01-31T18:32:04.245Z"
   },
   {
    "duration": 21,
    "start_time": "2024-01-31T18:32:04.406Z"
   },
   {
    "duration": 12,
    "start_time": "2024-01-31T18:32:04.429Z"
   },
   {
    "duration": 12,
    "start_time": "2024-01-31T18:33:14.462Z"
   },
   {
    "duration": 728,
    "start_time": "2024-01-31T18:34:20.637Z"
   },
   {
    "duration": 54,
    "start_time": "2024-01-31T18:34:21.367Z"
   },
   {
    "duration": 3,
    "start_time": "2024-01-31T18:34:21.423Z"
   },
   {
    "duration": 17,
    "start_time": "2024-01-31T18:34:21.427Z"
   },
   {
    "duration": 17,
    "start_time": "2024-01-31T18:34:21.446Z"
   },
   {
    "duration": 11,
    "start_time": "2024-01-31T18:34:21.464Z"
   },
   {
    "duration": 10,
    "start_time": "2024-01-31T18:34:21.476Z"
   },
   {
    "duration": 4,
    "start_time": "2024-01-31T18:34:21.487Z"
   },
   {
    "duration": 14,
    "start_time": "2024-01-31T18:34:21.492Z"
   },
   {
    "duration": 6,
    "start_time": "2024-01-31T18:34:21.508Z"
   },
   {
    "duration": 180,
    "start_time": "2024-01-31T18:34:21.516Z"
   },
   {
    "duration": 128,
    "start_time": "2024-01-31T18:34:21.698Z"
   },
   {
    "duration": 152,
    "start_time": "2024-01-31T18:34:21.828Z"
   },
   {
    "duration": 178,
    "start_time": "2024-01-31T18:34:21.983Z"
   },
   {
    "duration": 213,
    "start_time": "2024-01-31T18:34:22.162Z"
   },
   {
    "duration": 36,
    "start_time": "2024-01-31T18:34:22.377Z"
   },
   {
    "duration": 8,
    "start_time": "2024-01-31T18:34:22.414Z"
   },
   {
    "duration": 180,
    "start_time": "2024-01-31T18:34:22.423Z"
   },
   {
    "duration": 173,
    "start_time": "2024-01-31T18:34:22.604Z"
   },
   {
    "duration": 159,
    "start_time": "2024-01-31T18:34:22.779Z"
   },
   {
    "duration": 165,
    "start_time": "2024-01-31T18:34:22.940Z"
   },
   {
    "duration": 23,
    "start_time": "2024-01-31T18:34:23.107Z"
   },
   {
    "duration": 13,
    "start_time": "2024-01-31T18:34:23.131Z"
   },
   {
    "duration": 13,
    "start_time": "2024-01-31T18:35:25.413Z"
   },
   {
    "duration": 14,
    "start_time": "2024-01-31T18:35:42.972Z"
   },
   {
    "duration": 12,
    "start_time": "2024-01-31T18:36:08.622Z"
   },
   {
    "duration": 9,
    "start_time": "2024-01-31T18:38:02.728Z"
   },
   {
    "duration": 12,
    "start_time": "2024-01-31T18:38:21.619Z"
   },
   {
    "duration": 20,
    "start_time": "2024-01-31T18:40:15.400Z"
   },
   {
    "duration": 71,
    "start_time": "2024-01-31T18:43:02.029Z"
   },
   {
    "duration": 711,
    "start_time": "2024-01-31T18:43:09.227Z"
   },
   {
    "duration": 54,
    "start_time": "2024-01-31T18:43:09.939Z"
   },
   {
    "duration": 3,
    "start_time": "2024-01-31T18:43:09.994Z"
   },
   {
    "duration": 39,
    "start_time": "2024-01-31T18:43:09.999Z"
   },
   {
    "duration": 31,
    "start_time": "2024-01-31T18:43:10.040Z"
   },
   {
    "duration": 12,
    "start_time": "2024-01-31T18:43:10.073Z"
   },
   {
    "duration": 23,
    "start_time": "2024-01-31T18:43:10.086Z"
   },
   {
    "duration": 10,
    "start_time": "2024-01-31T18:43:10.111Z"
   },
   {
    "duration": 26,
    "start_time": "2024-01-31T18:43:10.123Z"
   },
   {
    "duration": 24,
    "start_time": "2024-01-31T18:43:10.151Z"
   },
   {
    "duration": 158,
    "start_time": "2024-01-31T18:43:10.177Z"
   },
   {
    "duration": 137,
    "start_time": "2024-01-31T18:43:10.336Z"
   },
   {
    "duration": 161,
    "start_time": "2024-01-31T18:43:10.475Z"
   },
   {
    "duration": 181,
    "start_time": "2024-01-31T18:43:10.638Z"
   },
   {
    "duration": 216,
    "start_time": "2024-01-31T18:43:10.821Z"
   },
   {
    "duration": 47,
    "start_time": "2024-01-31T18:43:11.039Z"
   },
   {
    "duration": 9,
    "start_time": "2024-01-31T18:43:11.087Z"
   },
   {
    "duration": 176,
    "start_time": "2024-01-31T18:43:11.098Z"
   },
   {
    "duration": 166,
    "start_time": "2024-01-31T18:43:11.276Z"
   },
   {
    "duration": 160,
    "start_time": "2024-01-31T18:43:11.444Z"
   },
   {
    "duration": 166,
    "start_time": "2024-01-31T18:43:11.606Z"
   },
   {
    "duration": 20,
    "start_time": "2024-01-31T18:43:11.774Z"
   },
   {
    "duration": 13,
    "start_time": "2024-01-31T18:43:11.796Z"
   },
   {
    "duration": 13,
    "start_time": "2024-01-31T18:46:59.777Z"
   },
   {
    "duration": 13,
    "start_time": "2024-01-31T18:47:54.380Z"
   },
   {
    "duration": 71,
    "start_time": "2024-01-31T18:50:19.691Z"
   },
   {
    "duration": 15,
    "start_time": "2024-01-31T18:52:03.491Z"
   },
   {
    "duration": 30,
    "start_time": "2024-01-31T18:52:31.290Z"
   },
   {
    "duration": 13,
    "start_time": "2024-01-31T18:52:47.287Z"
   },
   {
    "duration": 12,
    "start_time": "2024-01-31T18:52:55.418Z"
   },
   {
    "duration": 9,
    "start_time": "2024-01-31T18:54:18.513Z"
   },
   {
    "duration": 74,
    "start_time": "2024-01-31T18:56:16.635Z"
   },
   {
    "duration": 80,
    "start_time": "2024-01-31T18:56:39.312Z"
   },
   {
    "duration": 94,
    "start_time": "2024-01-31T18:56:56.094Z"
   },
   {
    "duration": 4,
    "start_time": "2024-01-31T18:57:11.195Z"
   },
   {
    "duration": 13,
    "start_time": "2024-01-31T18:57:14.846Z"
   },
   {
    "duration": 12,
    "start_time": "2024-01-31T18:57:20.394Z"
   },
   {
    "duration": 13,
    "start_time": "2024-01-31T18:57:32.174Z"
   },
   {
    "duration": 8,
    "start_time": "2024-01-31T18:57:51.726Z"
   },
   {
    "duration": 1046,
    "start_time": "2024-02-01T18:47:21.552Z"
   },
   {
    "duration": 283,
    "start_time": "2024-02-01T18:47:22.600Z"
   },
   {
    "duration": 3,
    "start_time": "2024-02-01T18:47:22.886Z"
   },
   {
    "duration": 30,
    "start_time": "2024-02-01T18:47:22.890Z"
   },
   {
    "duration": 16,
    "start_time": "2024-02-01T18:47:22.922Z"
   },
   {
    "duration": 37,
    "start_time": "2024-02-01T18:47:22.939Z"
   },
   {
    "duration": 44,
    "start_time": "2024-02-01T18:47:22.978Z"
   },
   {
    "duration": 21,
    "start_time": "2024-02-01T18:47:23.023Z"
   },
   {
    "duration": 40,
    "start_time": "2024-02-01T18:47:23.045Z"
   },
   {
    "duration": 50,
    "start_time": "2024-02-01T18:47:23.089Z"
   },
   {
    "duration": 196,
    "start_time": "2024-02-01T18:47:23.140Z"
   },
   {
    "duration": 142,
    "start_time": "2024-02-01T18:47:23.337Z"
   },
   {
    "duration": 176,
    "start_time": "2024-02-01T18:47:23.480Z"
   },
   {
    "duration": 172,
    "start_time": "2024-02-01T18:47:23.658Z"
   },
   {
    "duration": 224,
    "start_time": "2024-02-01T18:47:23.832Z"
   },
   {
    "duration": 44,
    "start_time": "2024-02-01T18:47:24.066Z"
   },
   {
    "duration": 7,
    "start_time": "2024-02-01T18:47:24.112Z"
   },
   {
    "duration": 186,
    "start_time": "2024-02-01T18:47:24.121Z"
   },
   {
    "duration": 180,
    "start_time": "2024-02-01T18:47:24.309Z"
   },
   {
    "duration": 163,
    "start_time": "2024-02-01T18:47:24.491Z"
   },
   {
    "duration": 177,
    "start_time": "2024-02-01T18:47:24.655Z"
   },
   {
    "duration": 42,
    "start_time": "2024-02-01T18:47:24.834Z"
   },
   {
    "duration": 15,
    "start_time": "2024-02-01T18:47:24.883Z"
   },
   {
    "duration": 19,
    "start_time": "2024-02-01T18:47:24.899Z"
   },
   {
    "duration": 502,
    "start_time": "2024-02-01T18:49:19.978Z"
   },
   {
    "duration": 32,
    "start_time": "2024-02-01T18:56:45.767Z"
   },
   {
    "duration": 30,
    "start_time": "2024-02-01T18:57:04.128Z"
   },
   {
    "duration": 5,
    "start_time": "2024-02-01T18:58:52.218Z"
   },
   {
    "duration": 5,
    "start_time": "2024-02-01T19:02:26.103Z"
   },
   {
    "duration": 6,
    "start_time": "2024-02-01T19:03:39.217Z"
   },
   {
    "duration": 5,
    "start_time": "2024-02-01T19:03:56.199Z"
   },
   {
    "duration": 6,
    "start_time": "2024-02-01T19:09:33.364Z"
   },
   {
    "duration": 6,
    "start_time": "2024-02-01T19:29:31.650Z"
   },
   {
    "duration": 1248,
    "start_time": "2024-02-01T19:47:46.561Z"
   },
   {
    "duration": 12,
    "start_time": "2024-02-01T19:48:25.495Z"
   },
   {
    "duration": 10,
    "start_time": "2024-02-01T19:49:07.826Z"
   },
   {
    "duration": 5,
    "start_time": "2024-02-01T19:52:19.825Z"
   },
   {
    "duration": 6,
    "start_time": "2024-02-01T19:52:30.165Z"
   },
   {
    "duration": 8,
    "start_time": "2024-02-01T19:52:40.599Z"
   },
   {
    "duration": 10,
    "start_time": "2024-02-01T20:29:15.445Z"
   },
   {
    "duration": 10,
    "start_time": "2024-02-01T20:29:26.224Z"
   },
   {
    "duration": 8,
    "start_time": "2024-02-01T20:29:36.484Z"
   },
   {
    "duration": 9,
    "start_time": "2024-02-01T20:30:18.056Z"
   },
   {
    "duration": 7,
    "start_time": "2024-02-01T20:53:01.268Z"
   },
   {
    "duration": 1464,
    "start_time": "2024-02-03T14:37:37.652Z"
   },
   {
    "duration": 277,
    "start_time": "2024-02-03T14:37:39.118Z"
   },
   {
    "duration": 3,
    "start_time": "2024-02-03T14:37:39.398Z"
   },
   {
    "duration": 23,
    "start_time": "2024-02-03T14:37:39.402Z"
   },
   {
    "duration": 31,
    "start_time": "2024-02-03T14:37:39.427Z"
   },
   {
    "duration": 12,
    "start_time": "2024-02-03T14:37:39.460Z"
   },
   {
    "duration": 13,
    "start_time": "2024-02-03T14:37:39.473Z"
   },
   {
    "duration": 4,
    "start_time": "2024-02-03T14:37:39.488Z"
   },
   {
    "duration": 15,
    "start_time": "2024-02-03T14:37:39.493Z"
   },
   {
    "duration": 6,
    "start_time": "2024-02-03T14:37:39.510Z"
   },
   {
    "duration": 180,
    "start_time": "2024-02-03T14:37:39.518Z"
   },
   {
    "duration": 131,
    "start_time": "2024-02-03T14:37:39.700Z"
   },
   {
    "duration": 158,
    "start_time": "2024-02-03T14:37:39.833Z"
   },
   {
    "duration": 199,
    "start_time": "2024-02-03T14:37:39.994Z"
   },
   {
    "duration": 168,
    "start_time": "2024-02-03T14:37:40.195Z"
   },
   {
    "duration": 44,
    "start_time": "2024-02-03T14:37:40.365Z"
   },
   {
    "duration": 9,
    "start_time": "2024-02-03T14:37:40.411Z"
   },
   {
    "duration": 193,
    "start_time": "2024-02-03T14:37:40.422Z"
   },
   {
    "duration": 178,
    "start_time": "2024-02-03T14:37:40.616Z"
   },
   {
    "duration": 178,
    "start_time": "2024-02-03T14:37:40.795Z"
   },
   {
    "duration": 177,
    "start_time": "2024-02-03T14:37:40.975Z"
   },
   {
    "duration": 31,
    "start_time": "2024-02-03T14:37:41.153Z"
   },
   {
    "duration": 96,
    "start_time": "2024-02-03T14:37:41.186Z"
   },
   {
    "duration": 8,
    "start_time": "2024-02-03T14:37:41.284Z"
   },
   {
    "duration": 6,
    "start_time": "2024-02-03T14:37:41.293Z"
   },
   {
    "duration": 9,
    "start_time": "2024-02-03T14:37:41.300Z"
   },
   {
    "duration": 27,
    "start_time": "2024-02-03T14:37:41.310Z"
   },
   {
    "duration": 7,
    "start_time": "2024-02-03T14:37:41.339Z"
   },
   {
    "duration": 6,
    "start_time": "2024-02-03T14:42:36.038Z"
   },
   {
    "duration": 6,
    "start_time": "2024-02-03T14:43:24.355Z"
   },
   {
    "duration": 4,
    "start_time": "2024-02-03T15:01:42.293Z"
   },
   {
    "duration": 1090,
    "start_time": "2024-02-03T15:21:00.326Z"
   },
   {
    "duration": 72,
    "start_time": "2024-02-03T15:21:01.418Z"
   },
   {
    "duration": 4,
    "start_time": "2024-02-03T15:21:01.491Z"
   },
   {
    "duration": 55,
    "start_time": "2024-02-03T15:21:01.496Z"
   },
   {
    "duration": 50,
    "start_time": "2024-02-03T15:21:01.553Z"
   },
   {
    "duration": 39,
    "start_time": "2024-02-03T15:21:01.605Z"
   },
   {
    "duration": 27,
    "start_time": "2024-02-03T15:21:01.646Z"
   },
   {
    "duration": 34,
    "start_time": "2024-02-03T15:21:01.674Z"
   },
   {
    "duration": 85,
    "start_time": "2024-02-03T15:21:01.709Z"
   },
   {
    "duration": 28,
    "start_time": "2024-02-03T15:21:01.795Z"
   },
   {
    "duration": 176,
    "start_time": "2024-02-03T15:21:01.825Z"
   },
   {
    "duration": 148,
    "start_time": "2024-02-03T15:21:02.003Z"
   },
   {
    "duration": 167,
    "start_time": "2024-02-03T15:21:02.152Z"
   },
   {
    "duration": 190,
    "start_time": "2024-02-03T15:21:02.323Z"
   },
   {
    "duration": 183,
    "start_time": "2024-02-03T15:21:02.515Z"
   },
   {
    "duration": 40,
    "start_time": "2024-02-03T15:21:02.700Z"
   },
   {
    "duration": 10,
    "start_time": "2024-02-03T15:21:02.741Z"
   },
   {
    "duration": 208,
    "start_time": "2024-02-03T15:21:02.753Z"
   },
   {
    "duration": 190,
    "start_time": "2024-02-03T15:21:02.964Z"
   },
   {
    "duration": 197,
    "start_time": "2024-02-03T15:21:03.156Z"
   },
   {
    "duration": 204,
    "start_time": "2024-02-03T15:21:03.354Z"
   },
   {
    "duration": 29,
    "start_time": "2024-02-03T15:21:03.560Z"
   },
   {
    "duration": 102,
    "start_time": "2024-02-03T15:21:03.590Z"
   },
   {
    "duration": 8,
    "start_time": "2024-02-03T15:21:03.694Z"
   },
   {
    "duration": 5,
    "start_time": "2024-02-03T15:21:03.704Z"
   },
   {
    "duration": 15,
    "start_time": "2024-02-03T15:21:03.710Z"
   },
   {
    "duration": 11,
    "start_time": "2024-02-03T15:21:03.727Z"
   },
   {
    "duration": 6,
    "start_time": "2024-02-03T15:21:03.739Z"
   },
   {
    "duration": 22,
    "start_time": "2024-02-03T15:23:12.710Z"
   },
   {
    "duration": 1142,
    "start_time": "2024-02-03T15:23:19.190Z"
   },
   {
    "duration": 69,
    "start_time": "2024-02-03T15:23:20.334Z"
   },
   {
    "duration": 3,
    "start_time": "2024-02-03T15:23:20.404Z"
   },
   {
    "duration": 16,
    "start_time": "2024-02-03T15:23:20.409Z"
   },
   {
    "duration": 18,
    "start_time": "2024-02-03T15:23:20.428Z"
   },
   {
    "duration": 26,
    "start_time": "2024-02-03T15:23:20.448Z"
   },
   {
    "duration": 9,
    "start_time": "2024-02-03T15:23:20.476Z"
   },
   {
    "duration": 4,
    "start_time": "2024-02-03T15:23:20.487Z"
   },
   {
    "duration": 20,
    "start_time": "2024-02-03T15:23:20.492Z"
   },
   {
    "duration": 7,
    "start_time": "2024-02-03T15:23:20.513Z"
   },
   {
    "duration": 185,
    "start_time": "2024-02-03T15:23:20.521Z"
   },
   {
    "duration": 164,
    "start_time": "2024-02-03T15:23:20.708Z"
   },
   {
    "duration": 193,
    "start_time": "2024-02-03T15:23:20.875Z"
   },
   {
    "duration": 181,
    "start_time": "2024-02-03T15:23:21.072Z"
   },
   {
    "duration": 174,
    "start_time": "2024-02-03T15:23:21.255Z"
   },
   {
    "duration": 47,
    "start_time": "2024-02-03T15:23:21.430Z"
   },
   {
    "duration": 9,
    "start_time": "2024-02-03T15:23:21.479Z"
   },
   {
    "duration": 181,
    "start_time": "2024-02-03T15:23:21.489Z"
   },
   {
    "duration": 175,
    "start_time": "2024-02-03T15:23:21.672Z"
   },
   {
    "duration": 170,
    "start_time": "2024-02-03T15:23:21.848Z"
   },
   {
    "duration": 183,
    "start_time": "2024-02-03T15:23:22.019Z"
   },
   {
    "duration": 22,
    "start_time": "2024-02-03T15:23:22.204Z"
   },
   {
    "duration": 102,
    "start_time": "2024-02-03T15:23:22.228Z"
   },
   {
    "duration": 8,
    "start_time": "2024-02-03T15:23:22.331Z"
   },
   {
    "duration": 6,
    "start_time": "2024-02-03T15:23:22.340Z"
   },
   {
    "duration": 8,
    "start_time": "2024-02-03T15:23:22.347Z"
   },
   {
    "duration": 7,
    "start_time": "2024-02-03T15:23:22.374Z"
   },
   {
    "duration": 11,
    "start_time": "2024-02-03T15:23:22.382Z"
   },
   {
    "duration": 25,
    "start_time": "2024-02-03T15:23:43.592Z"
   },
   {
    "duration": 1169,
    "start_time": "2024-02-03T15:23:49.453Z"
   },
   {
    "duration": 71,
    "start_time": "2024-02-03T15:23:50.624Z"
   },
   {
    "duration": 4,
    "start_time": "2024-02-03T15:23:50.696Z"
   },
   {
    "duration": 18,
    "start_time": "2024-02-03T15:23:50.701Z"
   },
   {
    "duration": 18,
    "start_time": "2024-02-03T15:23:50.722Z"
   },
   {
    "duration": 13,
    "start_time": "2024-02-03T15:23:50.742Z"
   },
   {
    "duration": 24,
    "start_time": "2024-02-03T15:23:50.757Z"
   },
   {
    "duration": 5,
    "start_time": "2024-02-03T15:23:50.782Z"
   },
   {
    "duration": 15,
    "start_time": "2024-02-03T15:23:50.788Z"
   },
   {
    "duration": 6,
    "start_time": "2024-02-03T15:23:50.805Z"
   },
   {
    "duration": 192,
    "start_time": "2024-02-03T15:23:50.813Z"
   },
   {
    "duration": 144,
    "start_time": "2024-02-03T15:23:51.007Z"
   },
   {
    "duration": 155,
    "start_time": "2024-02-03T15:23:51.153Z"
   },
   {
    "duration": 197,
    "start_time": "2024-02-03T15:23:51.312Z"
   },
   {
    "duration": 174,
    "start_time": "2024-02-03T15:23:51.510Z"
   },
   {
    "duration": 39,
    "start_time": "2024-02-03T15:23:51.685Z"
   },
   {
    "duration": 8,
    "start_time": "2024-02-03T15:23:51.725Z"
   },
   {
    "duration": 202,
    "start_time": "2024-02-03T15:23:51.735Z"
   },
   {
    "duration": 188,
    "start_time": "2024-02-03T15:23:51.939Z"
   },
   {
    "duration": 177,
    "start_time": "2024-02-03T15:23:52.129Z"
   },
   {
    "duration": 167,
    "start_time": "2024-02-03T15:23:52.307Z"
   },
   {
    "duration": 22,
    "start_time": "2024-02-03T15:23:52.476Z"
   },
   {
    "duration": 100,
    "start_time": "2024-02-03T15:23:52.499Z"
   },
   {
    "duration": 9,
    "start_time": "2024-02-03T15:23:52.600Z"
   },
   {
    "duration": 5,
    "start_time": "2024-02-03T15:23:52.611Z"
   },
   {
    "duration": 4,
    "start_time": "2024-02-03T15:23:52.618Z"
   },
   {
    "duration": 7,
    "start_time": "2024-02-03T15:23:52.624Z"
   },
   {
    "duration": 6,
    "start_time": "2024-02-03T15:23:52.633Z"
   },
   {
    "duration": 1168,
    "start_time": "2024-02-03T15:37:03.565Z"
   },
   {
    "duration": 69,
    "start_time": "2024-02-03T15:37:04.735Z"
   },
   {
    "duration": 4,
    "start_time": "2024-02-03T15:37:04.806Z"
   },
   {
    "duration": 22,
    "start_time": "2024-02-03T15:37:04.812Z"
   },
   {
    "duration": 27,
    "start_time": "2024-02-03T15:37:04.838Z"
   },
   {
    "duration": 14,
    "start_time": "2024-02-03T15:37:04.867Z"
   },
   {
    "duration": 47,
    "start_time": "2024-02-03T15:37:04.883Z"
   },
   {
    "duration": 5,
    "start_time": "2024-02-03T15:37:04.933Z"
   },
   {
    "duration": 18,
    "start_time": "2024-02-03T15:37:04.940Z"
   },
   {
    "duration": 8,
    "start_time": "2024-02-03T15:37:04.959Z"
   },
   {
    "duration": 189,
    "start_time": "2024-02-03T15:37:04.969Z"
   },
   {
    "duration": 150,
    "start_time": "2024-02-03T15:37:05.160Z"
   },
   {
    "duration": 180,
    "start_time": "2024-02-03T15:37:05.312Z"
   },
   {
    "duration": 241,
    "start_time": "2024-02-03T15:37:05.496Z"
   },
   {
    "duration": 223,
    "start_time": "2024-02-03T15:37:05.739Z"
   },
   {
    "duration": 40,
    "start_time": "2024-02-03T15:37:05.964Z"
   },
   {
    "duration": 25,
    "start_time": "2024-02-03T15:37:06.006Z"
   },
   {
    "duration": 214,
    "start_time": "2024-02-03T15:37:06.033Z"
   },
   {
    "duration": 189,
    "start_time": "2024-02-03T15:37:06.249Z"
   },
   {
    "duration": 207,
    "start_time": "2024-02-03T15:37:06.440Z"
   },
   {
    "duration": 195,
    "start_time": "2024-02-03T15:37:06.649Z"
   },
   {
    "duration": 31,
    "start_time": "2024-02-03T15:37:06.847Z"
   },
   {
    "duration": 119,
    "start_time": "2024-02-03T15:37:06.880Z"
   },
   {
    "duration": 7,
    "start_time": "2024-02-03T15:37:07.001Z"
   },
   {
    "duration": 19,
    "start_time": "2024-02-03T15:37:07.009Z"
   },
   {
    "duration": 15,
    "start_time": "2024-02-03T15:37:07.031Z"
   },
   {
    "duration": 12,
    "start_time": "2024-02-03T15:37:07.048Z"
   },
   {
    "duration": 6,
    "start_time": "2024-02-03T15:37:07.061Z"
   },
   {
    "duration": 109,
    "start_time": "2024-02-03T15:51:43.521Z"
   },
   {
    "duration": 10,
    "start_time": "2024-02-03T15:51:49.216Z"
   },
   {
    "duration": 5,
    "start_time": "2024-02-03T15:54:26.612Z"
   },
   {
    "duration": 1122,
    "start_time": "2024-02-03T15:57:46.145Z"
   },
   {
    "duration": 67,
    "start_time": "2024-02-03T15:57:47.269Z"
   },
   {
    "duration": 4,
    "start_time": "2024-02-03T15:57:47.337Z"
   },
   {
    "duration": 17,
    "start_time": "2024-02-03T15:57:47.342Z"
   },
   {
    "duration": 17,
    "start_time": "2024-02-03T15:57:47.361Z"
   },
   {
    "duration": 12,
    "start_time": "2024-02-03T15:57:47.380Z"
   },
   {
    "duration": 10,
    "start_time": "2024-02-03T15:57:47.393Z"
   },
   {
    "duration": 23,
    "start_time": "2024-02-03T15:57:47.404Z"
   },
   {
    "duration": 16,
    "start_time": "2024-02-03T15:57:47.428Z"
   },
   {
    "duration": 6,
    "start_time": "2024-02-03T15:57:47.445Z"
   },
   {
    "duration": 184,
    "start_time": "2024-02-03T15:57:47.453Z"
   },
   {
    "duration": 156,
    "start_time": "2024-02-03T15:57:47.639Z"
   },
   {
    "duration": 164,
    "start_time": "2024-02-03T15:57:47.797Z"
   },
   {
    "duration": 201,
    "start_time": "2024-02-03T15:57:47.965Z"
   },
   {
    "duration": 172,
    "start_time": "2024-02-03T15:57:48.168Z"
   },
   {
    "duration": 38,
    "start_time": "2024-02-03T15:57:48.342Z"
   },
   {
    "duration": 9,
    "start_time": "2024-02-03T15:57:48.381Z"
   },
   {
    "duration": 187,
    "start_time": "2024-02-03T15:57:48.392Z"
   },
   {
    "duration": 170,
    "start_time": "2024-02-03T15:57:48.580Z"
   },
   {
    "duration": 160,
    "start_time": "2024-02-03T15:57:48.752Z"
   },
   {
    "duration": 162,
    "start_time": "2024-02-03T15:57:48.914Z"
   },
   {
    "duration": 21,
    "start_time": "2024-02-03T15:57:49.078Z"
   },
   {
    "duration": 108,
    "start_time": "2024-02-03T15:57:49.101Z"
   },
   {
    "duration": 14,
    "start_time": "2024-02-03T15:57:49.211Z"
   },
   {
    "duration": 5,
    "start_time": "2024-02-03T15:57:49.227Z"
   },
   {
    "duration": 5,
    "start_time": "2024-02-03T15:57:49.233Z"
   },
   {
    "duration": 8,
    "start_time": "2024-02-03T15:57:49.240Z"
   },
   {
    "duration": 6,
    "start_time": "2024-02-03T15:57:49.249Z"
   },
   {
    "duration": 1140,
    "start_time": "2024-02-03T15:59:24.541Z"
   },
   {
    "duration": 66,
    "start_time": "2024-02-03T15:59:25.683Z"
   },
   {
    "duration": 3,
    "start_time": "2024-02-03T15:59:25.750Z"
   },
   {
    "duration": 24,
    "start_time": "2024-02-03T15:59:25.755Z"
   },
   {
    "duration": 18,
    "start_time": "2024-02-03T15:59:25.780Z"
   },
   {
    "duration": 19,
    "start_time": "2024-02-03T15:59:25.799Z"
   },
   {
    "duration": 10,
    "start_time": "2024-02-03T15:59:25.820Z"
   },
   {
    "duration": 3,
    "start_time": "2024-02-03T15:59:25.831Z"
   },
   {
    "duration": 17,
    "start_time": "2024-02-03T15:59:25.836Z"
   },
   {
    "duration": 7,
    "start_time": "2024-02-03T15:59:25.855Z"
   },
   {
    "duration": 194,
    "start_time": "2024-02-03T15:59:25.863Z"
   },
   {
    "duration": 142,
    "start_time": "2024-02-03T15:59:26.059Z"
   },
   {
    "duration": 156,
    "start_time": "2024-02-03T15:59:26.203Z"
   },
   {
    "duration": 167,
    "start_time": "2024-02-03T15:59:26.360Z"
   },
   {
    "duration": 168,
    "start_time": "2024-02-03T15:59:26.528Z"
   },
   {
    "duration": 48,
    "start_time": "2024-02-03T15:59:26.697Z"
   },
   {
    "duration": 10,
    "start_time": "2024-02-03T15:59:26.747Z"
   },
   {
    "duration": 181,
    "start_time": "2024-02-03T15:59:26.758Z"
   },
   {
    "duration": 182,
    "start_time": "2024-02-03T15:59:26.941Z"
   },
   {
    "duration": 167,
    "start_time": "2024-02-03T15:59:27.125Z"
   },
   {
    "duration": 179,
    "start_time": "2024-02-03T15:59:27.293Z"
   },
   {
    "duration": 24,
    "start_time": "2024-02-03T15:59:27.473Z"
   },
   {
    "duration": 115,
    "start_time": "2024-02-03T15:59:27.498Z"
   },
   {
    "duration": 15,
    "start_time": "2024-02-03T15:59:27.614Z"
   },
   {
    "duration": 5,
    "start_time": "2024-02-03T15:59:27.631Z"
   },
   {
    "duration": 7,
    "start_time": "2024-02-03T15:59:27.637Z"
   },
   {
    "duration": 10,
    "start_time": "2024-02-03T15:59:27.646Z"
   },
   {
    "duration": 6,
    "start_time": "2024-02-03T15:59:27.659Z"
   },
   {
    "duration": 20,
    "start_time": "2024-02-03T16:23:33.766Z"
   },
   {
    "duration": 34,
    "start_time": "2024-02-03T16:23:47.297Z"
   },
   {
    "duration": 41,
    "start_time": "2024-02-03T16:24:00.727Z"
   },
   {
    "duration": 97,
    "start_time": "2024-02-03T16:26:23.451Z"
   },
   {
    "duration": 33,
    "start_time": "2024-02-03T16:26:26.332Z"
   },
   {
    "duration": 101,
    "start_time": "2024-02-03T16:27:15.884Z"
   },
   {
    "duration": 597,
    "start_time": "2024-02-03T16:27:23.036Z"
   },
   {
    "duration": 154,
    "start_time": "2024-02-03T16:37:31.310Z"
   },
   {
    "duration": 6,
    "start_time": "2024-02-03T16:38:31.330Z"
   },
   {
    "duration": 6,
    "start_time": "2024-02-03T16:38:59.255Z"
   },
   {
    "duration": 8,
    "start_time": "2024-02-03T16:39:15.719Z"
   },
   {
    "duration": 201,
    "start_time": "2024-02-03T16:47:22.385Z"
   },
   {
    "duration": 57,
    "start_time": "2024-02-03T16:47:53.553Z"
   },
   {
    "duration": 111,
    "start_time": "2024-02-03T16:48:00.594Z"
   },
   {
    "duration": 105,
    "start_time": "2024-02-03T16:48:28.554Z"
   },
   {
    "duration": 56,
    "start_time": "2024-02-03T16:48:47.627Z"
   },
   {
    "duration": 10,
    "start_time": "2024-02-03T16:49:02.398Z"
   },
   {
    "duration": 56,
    "start_time": "2024-02-03T16:49:31.954Z"
   },
   {
    "duration": 60,
    "start_time": "2024-02-03T16:49:43.665Z"
   },
   {
    "duration": 66,
    "start_time": "2024-02-03T16:49:49.973Z"
   },
   {
    "duration": 67,
    "start_time": "2024-02-03T16:49:53.906Z"
   },
   {
    "duration": 54,
    "start_time": "2024-02-03T16:50:11.043Z"
   },
   {
    "duration": 61,
    "start_time": "2024-02-03T16:50:16.586Z"
   },
   {
    "duration": 137,
    "start_time": "2024-02-03T16:50:19.494Z"
   },
   {
    "duration": 152,
    "start_time": "2024-02-03T16:50:33.315Z"
   },
   {
    "duration": 10,
    "start_time": "2024-02-03T16:51:44.973Z"
   },
   {
    "duration": 83,
    "start_time": "2024-02-03T16:51:54.125Z"
   },
   {
    "duration": 67,
    "start_time": "2024-02-03T16:51:58.393Z"
   },
   {
    "duration": 84,
    "start_time": "2024-02-03T16:52:03.513Z"
   },
   {
    "duration": 100,
    "start_time": "2024-02-03T16:52:10.110Z"
   },
   {
    "duration": 10,
    "start_time": "2024-02-03T16:52:39.565Z"
   },
   {
    "duration": 77,
    "start_time": "2024-02-03T16:52:51.353Z"
   },
   {
    "duration": 86,
    "start_time": "2024-02-03T16:53:02.049Z"
   },
   {
    "duration": 84,
    "start_time": "2024-02-03T16:53:14.394Z"
   },
   {
    "duration": 79,
    "start_time": "2024-02-03T16:53:20.733Z"
   },
   {
    "duration": 89,
    "start_time": "2024-02-03T16:53:26.985Z"
   },
   {
    "duration": 87,
    "start_time": "2024-02-03T16:53:31.353Z"
   },
   {
    "duration": 150,
    "start_time": "2024-02-03T16:53:34.257Z"
   },
   {
    "duration": 79,
    "start_time": "2024-02-03T16:53:37.986Z"
   },
   {
    "duration": 82,
    "start_time": "2024-02-03T16:53:43.953Z"
   },
   {
    "duration": 77,
    "start_time": "2024-02-03T16:53:50.513Z"
   },
   {
    "duration": 78,
    "start_time": "2024-02-03T16:55:24.993Z"
   },
   {
    "duration": 153,
    "start_time": "2024-02-03T16:57:03.598Z"
   },
   {
    "duration": 178,
    "start_time": "2024-02-03T16:59:35.044Z"
   },
   {
    "duration": 181,
    "start_time": "2024-02-03T16:59:48.036Z"
   },
   {
    "duration": 178,
    "start_time": "2024-02-03T17:01:52.959Z"
   },
   {
    "duration": 40,
    "start_time": "2024-02-03T17:03:52.396Z"
   },
   {
    "duration": 20,
    "start_time": "2024-02-03T17:08:11.358Z"
   },
   {
    "duration": 17,
    "start_time": "2024-02-03T17:08:21.438Z"
   },
   {
    "duration": 17,
    "start_time": "2024-02-03T17:08:28.118Z"
   },
   {
    "duration": 10,
    "start_time": "2024-02-03T17:08:43.398Z"
   },
   {
    "duration": 14,
    "start_time": "2024-02-03T17:09:10.786Z"
   },
   {
    "duration": 16,
    "start_time": "2024-02-03T17:09:16.506Z"
   },
   {
    "duration": 16,
    "start_time": "2024-02-03T17:09:24.994Z"
   },
   {
    "duration": 4,
    "start_time": "2024-02-03T17:09:58.019Z"
   },
   {
    "duration": 4,
    "start_time": "2024-02-03T17:10:27.725Z"
   },
   {
    "duration": 5,
    "start_time": "2024-02-03T17:10:51.038Z"
   },
   {
    "duration": 42,
    "start_time": "2024-02-03T17:11:12.404Z"
   },
   {
    "duration": 206,
    "start_time": "2024-02-03T17:14:21.286Z"
   },
   {
    "duration": 1229,
    "start_time": "2024-02-03T17:14:35.437Z"
   },
   {
    "duration": 212,
    "start_time": "2024-02-03T17:14:41.593Z"
   },
   {
    "duration": 254,
    "start_time": "2024-02-03T17:14:52.377Z"
   },
   {
    "duration": 230,
    "start_time": "2024-02-03T17:15:06.833Z"
   },
   {
    "duration": 202,
    "start_time": "2024-02-03T17:15:26.316Z"
   },
   {
    "duration": 210,
    "start_time": "2024-02-03T17:15:36.016Z"
   },
   {
    "duration": 175,
    "start_time": "2024-02-03T17:16:18.817Z"
   },
   {
    "duration": 63,
    "start_time": "2024-02-03T17:16:41.346Z"
   },
   {
    "duration": 163,
    "start_time": "2024-02-03T17:16:47.146Z"
   },
   {
    "duration": 4,
    "start_time": "2024-02-03T17:17:26.726Z"
   },
   {
    "duration": 4,
    "start_time": "2024-02-03T17:17:33.297Z"
   },
   {
    "duration": 185,
    "start_time": "2024-02-03T17:24:53.165Z"
   },
   {
    "duration": 186,
    "start_time": "2024-02-03T17:26:41.457Z"
   },
   {
    "duration": 176,
    "start_time": "2024-02-03T17:26:50.786Z"
   },
   {
    "duration": 176,
    "start_time": "2024-02-03T17:27:25.297Z"
   },
   {
    "duration": 166,
    "start_time": "2024-02-03T17:28:29.464Z"
   },
   {
    "duration": 263,
    "start_time": "2024-02-03T17:28:59.826Z"
   },
   {
    "duration": 15,
    "start_time": "2024-02-03T17:31:27.586Z"
   },
   {
    "duration": 22,
    "start_time": "2024-02-03T17:32:06.257Z"
   },
   {
    "duration": 30,
    "start_time": "2024-02-03T17:32:40.606Z"
   },
   {
    "duration": 15,
    "start_time": "2024-02-03T17:32:56.758Z"
   },
   {
    "duration": 4,
    "start_time": "2024-02-03T17:35:25.692Z"
   },
   {
    "duration": 1142,
    "start_time": "2024-02-03T17:58:19.195Z"
   },
   {
    "duration": 77,
    "start_time": "2024-02-03T17:58:20.340Z"
   },
   {
    "duration": 3,
    "start_time": "2024-02-03T17:58:20.419Z"
   },
   {
    "duration": 18,
    "start_time": "2024-02-03T17:58:20.423Z"
   },
   {
    "duration": 18,
    "start_time": "2024-02-03T17:58:20.443Z"
   },
   {
    "duration": 17,
    "start_time": "2024-02-03T17:58:20.463Z"
   },
   {
    "duration": 12,
    "start_time": "2024-02-03T17:58:20.481Z"
   },
   {
    "duration": 4,
    "start_time": "2024-02-03T17:58:20.495Z"
   },
   {
    "duration": 13,
    "start_time": "2024-02-03T17:58:20.501Z"
   },
   {
    "duration": 36,
    "start_time": "2024-02-03T17:58:20.515Z"
   },
   {
    "duration": 7,
    "start_time": "2024-02-03T17:58:20.572Z"
   },
   {
    "duration": 185,
    "start_time": "2024-02-03T17:58:20.581Z"
   },
   {
    "duration": 8,
    "start_time": "2024-02-03T17:58:20.768Z"
   },
   {
    "duration": 84,
    "start_time": "2024-02-03T17:58:20.778Z"
   },
   {
    "duration": 168,
    "start_time": "2024-02-03T17:58:20.872Z"
   },
   {
    "duration": 221,
    "start_time": "2024-02-03T17:58:21.041Z"
   },
   {
    "duration": 193,
    "start_time": "2024-02-03T17:58:21.263Z"
   },
   {
    "duration": 48,
    "start_time": "2024-02-03T17:58:21.458Z"
   },
   {
    "duration": 17,
    "start_time": "2024-02-03T17:58:21.508Z"
   },
   {
    "duration": 14,
    "start_time": "2024-02-03T17:58:21.526Z"
   },
   {
    "duration": 7,
    "start_time": "2024-02-03T17:58:21.542Z"
   },
   {
    "duration": 272,
    "start_time": "2024-02-03T17:58:21.551Z"
   },
   {
    "duration": 202,
    "start_time": "2024-02-03T17:58:21.824Z"
   },
   {
    "duration": 180,
    "start_time": "2024-02-03T17:58:22.027Z"
   },
   {
    "duration": 176,
    "start_time": "2024-02-03T17:58:22.209Z"
   },
   {
    "duration": 24,
    "start_time": "2024-02-03T17:58:22.387Z"
   },
   {
    "duration": 18,
    "start_time": "2024-02-03T17:58:22.412Z"
   },
   {
    "duration": 45,
    "start_time": "2024-02-03T17:58:22.432Z"
   },
   {
    "duration": 5,
    "start_time": "2024-02-03T17:58:22.479Z"
   },
   {
    "duration": 8,
    "start_time": "2024-02-03T17:58:22.485Z"
   },
   {
    "duration": 4,
    "start_time": "2024-02-03T17:58:22.495Z"
   },
   {
    "duration": 8,
    "start_time": "2024-02-03T17:58:22.500Z"
   },
   {
    "duration": 6,
    "start_time": "2024-02-03T17:58:22.509Z"
   },
   {
    "duration": 1046,
    "start_time": "2024-02-04T09:40:47.839Z"
   },
   {
    "duration": 65,
    "start_time": "2024-02-04T09:40:48.887Z"
   },
   {
    "duration": 3,
    "start_time": "2024-02-04T09:40:48.956Z"
   },
   {
    "duration": 31,
    "start_time": "2024-02-04T09:40:48.960Z"
   },
   {
    "duration": 17,
    "start_time": "2024-02-04T09:40:48.993Z"
   },
   {
    "duration": 14,
    "start_time": "2024-02-04T09:40:49.011Z"
   },
   {
    "duration": 27,
    "start_time": "2024-02-04T09:40:49.026Z"
   },
   {
    "duration": 14,
    "start_time": "2024-02-04T09:40:49.054Z"
   },
   {
    "duration": 23,
    "start_time": "2024-02-04T09:40:49.070Z"
   },
   {
    "duration": 47,
    "start_time": "2024-02-04T09:40:49.094Z"
   },
   {
    "duration": 7,
    "start_time": "2024-02-04T09:40:49.142Z"
   },
   {
    "duration": 157,
    "start_time": "2024-02-04T09:40:49.150Z"
   },
   {
    "duration": 6,
    "start_time": "2024-02-04T09:40:49.309Z"
   },
   {
    "duration": 72,
    "start_time": "2024-02-04T09:40:49.316Z"
   },
   {
    "duration": 165,
    "start_time": "2024-02-04T09:40:49.390Z"
   },
   {
    "duration": 181,
    "start_time": "2024-02-04T09:40:49.557Z"
   },
   {
    "duration": 169,
    "start_time": "2024-02-04T09:40:49.739Z"
   },
   {
    "duration": 45,
    "start_time": "2024-02-04T09:40:49.909Z"
   },
   {
    "duration": 14,
    "start_time": "2024-02-04T09:40:49.956Z"
   },
   {
    "duration": 37,
    "start_time": "2024-02-04T09:40:49.972Z"
   },
   {
    "duration": 16,
    "start_time": "2024-02-04T09:40:50.011Z"
   },
   {
    "duration": 217,
    "start_time": "2024-02-04T09:40:50.028Z"
   },
   {
    "duration": 167,
    "start_time": "2024-02-04T09:40:50.246Z"
   },
   {
    "duration": 170,
    "start_time": "2024-02-04T09:40:50.415Z"
   },
   {
    "duration": 162,
    "start_time": "2024-02-04T09:40:50.586Z"
   },
   {
    "duration": 23,
    "start_time": "2024-02-04T09:40:50.750Z"
   },
   {
    "duration": 22,
    "start_time": "2024-02-04T09:40:50.777Z"
   },
   {
    "duration": 22,
    "start_time": "2024-02-04T09:40:50.800Z"
   },
   {
    "duration": 18,
    "start_time": "2024-02-04T09:40:50.833Z"
   },
   {
    "duration": 23,
    "start_time": "2024-02-04T09:40:50.852Z"
   },
   {
    "duration": 29,
    "start_time": "2024-02-04T09:40:50.876Z"
   },
   {
    "duration": 39,
    "start_time": "2024-02-04T09:40:50.907Z"
   },
   {
    "duration": 42,
    "start_time": "2024-02-04T09:40:50.947Z"
   },
   {
    "duration": 9,
    "start_time": "2024-02-04T11:34:37.729Z"
   },
   {
    "duration": 998,
    "start_time": "2024-02-04T11:37:59.081Z"
   },
   {
    "duration": 66,
    "start_time": "2024-02-04T11:38:00.081Z"
   },
   {
    "duration": 2,
    "start_time": "2024-02-04T11:38:00.150Z"
   },
   {
    "duration": 53,
    "start_time": "2024-02-04T11:38:00.153Z"
   },
   {
    "duration": 29,
    "start_time": "2024-02-04T11:38:00.208Z"
   },
   {
    "duration": 37,
    "start_time": "2024-02-04T11:38:00.238Z"
   },
   {
    "duration": 24,
    "start_time": "2024-02-04T11:38:00.276Z"
   },
   {
    "duration": 28,
    "start_time": "2024-02-04T11:38:00.301Z"
   },
   {
    "duration": 42,
    "start_time": "2024-02-04T11:38:00.330Z"
   },
   {
    "duration": 50,
    "start_time": "2024-02-04T11:38:00.376Z"
   },
   {
    "duration": 10,
    "start_time": "2024-02-04T11:38:00.428Z"
   },
   {
    "duration": 166,
    "start_time": "2024-02-04T11:38:00.440Z"
   },
   {
    "duration": 6,
    "start_time": "2024-02-04T11:38:00.608Z"
   },
   {
    "duration": 99,
    "start_time": "2024-02-04T11:38:00.615Z"
   },
   {
    "duration": 152,
    "start_time": "2024-02-04T11:38:00.716Z"
   },
   {
    "duration": 172,
    "start_time": "2024-02-04T11:38:00.870Z"
   },
   {
    "duration": 171,
    "start_time": "2024-02-04T11:38:01.044Z"
   },
   {
    "duration": 42,
    "start_time": "2024-02-04T11:38:01.216Z"
   },
   {
    "duration": 14,
    "start_time": "2024-02-04T11:38:01.260Z"
   },
   {
    "duration": 31,
    "start_time": "2024-02-04T11:38:01.275Z"
   },
   {
    "duration": 33,
    "start_time": "2024-02-04T11:38:01.308Z"
   },
   {
    "duration": 226,
    "start_time": "2024-02-04T11:38:01.343Z"
   },
   {
    "duration": 176,
    "start_time": "2024-02-04T11:38:01.570Z"
   },
   {
    "duration": 176,
    "start_time": "2024-02-04T11:38:01.748Z"
   },
   {
    "duration": 183,
    "start_time": "2024-02-04T11:38:01.925Z"
   },
   {
    "duration": 27,
    "start_time": "2024-02-04T11:38:02.109Z"
   },
   {
    "duration": 32,
    "start_time": "2024-02-04T11:38:02.138Z"
   },
   {
    "duration": 39,
    "start_time": "2024-02-04T11:38:02.175Z"
   },
   {
    "duration": 29,
    "start_time": "2024-02-04T11:38:02.216Z"
   },
   {
    "duration": 24,
    "start_time": "2024-02-04T11:38:02.247Z"
   },
   {
    "duration": 14,
    "start_time": "2024-02-04T11:38:02.273Z"
   },
   {
    "duration": 23,
    "start_time": "2024-02-04T11:38:02.289Z"
   },
   {
    "duration": 8,
    "start_time": "2024-02-04T11:38:02.314Z"
   }
  ],
  "kernelspec": {
   "display_name": "Python 3 (ipykernel)",
   "language": "python",
   "name": "python3"
  },
  "language_info": {
   "codemirror_mode": {
    "name": "ipython",
    "version": 3
   },
   "file_extension": ".py",
   "mimetype": "text/x-python",
   "name": "python",
   "nbconvert_exporter": "python",
   "pygments_lexer": "ipython3",
   "version": "3.9.18"
  },
  "toc": {
   "base_numbering": 1,
   "nav_menu": {
    "height": "145px",
    "width": "436px"
   },
   "number_sections": true,
   "sideBar": true,
   "skip_h1_title": true,
   "title_cell": "Table of Contents",
   "title_sidebar": "Contents",
   "toc_cell": false,
   "toc_position": {},
   "toc_section_display": true,
   "toc_window_display": true
  }
 },
 "nbformat": 4,
 "nbformat_minor": 5
}
