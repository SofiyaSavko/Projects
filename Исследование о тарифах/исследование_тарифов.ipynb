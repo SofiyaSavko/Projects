{
 "cells": [
  {
   "cell_type": "markdown",
   "metadata": {},
   "source": [
    "# Анализ клиентов с неоптимальными тарифами\n",
    "\n",
    "**Описание проекта**\n",
    "\n",
    "Заказчик — провайдер виртуальной телефонии. Его клиенты — колл-центры, которые:\n",
    "- распределяют входящие вызовы на операторов,\n",
    "- совершают исходящие вызовы силами операторов.\n",
    "\n",
    "Также операторы могут делать внутренние вызовы — вызовы друг между другом\n",
    "внутри сети виртуальной телефонии.\n",
    "\n",
    "**Задачи:**\n",
    "\n",
    "- Найти клиентов, которые:\n",
    "\n",
    "а) переплачивают на текущих тарифах;\n",
    "\n",
    "б) сэкономят, если перейдут на более дорогой (по ежемесячной плате) тариф.\n",
    "- Проанализировать изменения в выручке при переходе клиентов на оптимальные тарифы\n",
    "\n",
    "**Правила формирования тарифов**\n",
    "\n",
    "Ежемесячная плата за тариф:\n",
    "- Тариф А — 4000 ₽,\n",
    "- Тариф B — 2000 ₽,\n",
    "- Тариф С — 1000 ₽.\n",
    "\n",
    "Дополнительная ежемесячная плата за каждого оператора:\n",
    "- Тариф А — 50 ₽,\n",
    "- Тариф B — 150 ₽,\n",
    "- Тариф С — 300 ₽.\n",
    "\n",
    "Входящие звонки — бесплатны на всех тарифах\n",
    "\n",
    "Исходящие звонки внутри сети, включённые в тариф:\n",
    "- Тариф А — 2000 минут,\n",
    "- Тариф B — 500 минут,\n",
    "- Тариф С — нет.\n",
    "\n",
    "Цена сверх лимита:\n",
    "- A — 0.1 ₽/мин.,\n",
    "- B — 0.15 ₽/мин.,\n",
    "- C — 0.3 ₽/мин.\n",
    "\n",
    "Исходящие звонки, кроме внутренних:\n",
    "- A — 0.3 ₽/мин.,\n",
    "- B — 0.5 ₽/мин.,\n",
    "- C — 0.7 ₽/мин.\n",
    "\n",
    "**Описание данных**\n",
    "Датасет `/datasets/telecom_dataset.csv`\n",
    "\n",
    "Колонки:\n",
    "- `user_id` — идентификатор клиента;\n",
    "- `date` — дата статистики;\n",
    "- `direction` — направление вызовов: out — исходящий вызов, in — входящий;\n",
    "- `internal` — маркер внутренних и внешних вызовов;\n",
    "- `operator_id` — идентификатор оператора;\n",
    "- `is_missed_call` — маркер пропущенных вызовов;\n",
    "- `calls_count` — количество звонков;\n",
    "- `call_duration` — длительность звонка без учёта времени ожидания;\n",
    "- `total_call_duration` — длительность звонка с учётом времени ожидания.\n",
    "\n",
    "\n",
    "Датасет `/datasets/telecom_clients.csv`\n",
    "\n",
    "Колонки:\n",
    "- `user_id` — идентификатор клиента;\n",
    "- `tariff_plan` — тарифный план клиента;\n",
    "- `date_start` — дата регистрации клиента в сервисе."
   ]
  },
  {
   "cell_type": "markdown",
   "metadata": {},
   "source": [
    "**Навигация по проекту**\n",
    "\n",
    "[***1 Обзор и предобработка данных***](#1)\n",
    "\n",
    "[***1.1 Загрузка и обзор данных***](#2)\n",
    "\n",
    "[***1.2 Предобработка данных***](#3)\n",
    "\n",
    "[***2 Исследовательский анализ данных***](#4)\n",
    "\n",
    "[***2.1 Изучение и визуализация параметров***](#5)\n",
    "\n",
    "[***2.2 Определение активных клиентов***](#6)\n",
    "\n",
    "[***2.3 Подсчет расходов клиентов***](#7)\n",
    "\n",
    "[***2.4 Анализ изменений при смене тарифа***](#8)\n",
    "\n",
    "[***3 Проверка гипотез***](#9)\n",
    "\n",
    "[***3.1 Первая гипотеза***](#10)\n",
    "\n",
    "[***3.2 Вторая гипотеза***](#11)\n",
    "\n",
    "[***4 Презентация***](#12)\n",
    "\n",
    "[***5 Общий вывод***](#13)"
   ]
  },
  {
   "cell_type": "markdown",
   "metadata": {},
   "source": [
    "## Обзор и предобработка данных <a id ='1'></a>"
   ]
  },
  {
   "cell_type": "markdown",
   "metadata": {},
   "source": [
    "### Загрузка и обзор данных <a id ='2'></a>"
   ]
  },
  {
   "cell_type": "code",
   "execution_count": 1,
   "metadata": {},
   "outputs": [],
   "source": [
    "import pandas as pd\n",
    "import numpy as np\n",
    "import datetime as dt\n",
    "from matplotlib import pyplot as plt\n",
    "import warnings\n",
    "import scipy.stats as stats\n",
    "warnings.filterwarnings('ignore')\n",
    "import math as mth\n",
    "import seaborn as sns\n",
    "import pylab\n",
    "\n",
    "sns.set_palette('pastel')"
   ]
  },
  {
   "cell_type": "code",
   "execution_count": 2,
   "metadata": {},
   "outputs": [],
   "source": [
    "# загрузка данных\n",
    "try:\n",
    "    path = '/datasets/'\n",
    "    data = pd.read_csv(path + 'telecom_dataset.csv')\n",
    "    clients = pd.read_csv(path + 'telecom_clients.csv')\n",
    "except:\n",
    "    data = pd.read_csv('https://code.s3.yandex.net/datasets/telecom_dataset.csv')\n",
    "    clients = pd.read_csv('https://code.s3.yandex.net/datasets/telecom_clients.csv')"
   ]
  },
  {
   "cell_type": "markdown",
   "metadata": {},
   "source": [
    "Загрузив данные, изучим основную информацию по датасетам. Для этого создадим специальную функцию:"
   ]
  },
  {
   "cell_type": "code",
   "execution_count": 3,
   "metadata": {},
   "outputs": [],
   "source": [
    "# функция для первичного анализа датасета\n",
    "def df_info(df, n=5):\n",
    "    ''' Данная функция проводит первичный анализ датасета, а именно: выводит первые n срок датасета,\n",
    "        общую информацию о датасете,\n",
    "        статистическую сводку, анализ количества пропусков и дубликатов.\n",
    "        \n",
    "        На вход функции подается датасет (аргумент df) и кол-во первых строк,\n",
    "        которые следует вывести (аргумент n, по умолчанию 5)\n",
    "    '''\n",
    "\n",
    "    print(f'---------- Первые {n} строк датафрейма ----------')\n",
    "    display(df.head(n))\n",
    "    print('---------- Общая информация о датафрейме ----------\\n')\n",
    "    display(df.info())\n",
    "    print('---------- Статистическая сводка ----------')\n",
    "    display(df.describe())\n",
    "    print('---------- Пропуски ----------')\n",
    "    display(df.isna().sum().sort_values(ascending=False))\n",
    "    print('---------- Процент пропусков от общего числа строк ----------')\n",
    "    display(df.isna().mean().sort_values(ascending=False) * 100)\n",
    "    if df.duplicated().sum() > 0:\n",
    "        print(f'---------- Количество дубликатов: {df.duplicated().sum()} ----------')\n",
    "        print('---------- Процент дубликатов от обшего кол-ва строк:',\n",
    "              round(df.duplicated().sum() / len(df) * 100, 1), '----------')\n",
    "    else:\n",
    "        print('---------- Дубликаты отсутствуют ----------')"
   ]
  },
  {
   "cell_type": "markdown",
   "metadata": {},
   "source": [
    "**Обзор датасета с информацией о звонках**"
   ]
  },
  {
   "cell_type": "code",
   "execution_count": 4,
   "metadata": {},
   "outputs": [
    {
     "name": "stdout",
     "output_type": "stream",
     "text": [
      "---------- Первые 10 строк датафрейма ----------\n"
     ]
    },
    {
     "data": {
      "text/html": [
       "<div>\n",
       "<style scoped>\n",
       "    .dataframe tbody tr th:only-of-type {\n",
       "        vertical-align: middle;\n",
       "    }\n",
       "\n",
       "    .dataframe tbody tr th {\n",
       "        vertical-align: top;\n",
       "    }\n",
       "\n",
       "    .dataframe thead th {\n",
       "        text-align: right;\n",
       "    }\n",
       "</style>\n",
       "<table border=\"1\" class=\"dataframe\">\n",
       "  <thead>\n",
       "    <tr style=\"text-align: right;\">\n",
       "      <th></th>\n",
       "      <th>user_id</th>\n",
       "      <th>date</th>\n",
       "      <th>direction</th>\n",
       "      <th>internal</th>\n",
       "      <th>operator_id</th>\n",
       "      <th>is_missed_call</th>\n",
       "      <th>calls_count</th>\n",
       "      <th>call_duration</th>\n",
       "      <th>total_call_duration</th>\n",
       "    </tr>\n",
       "  </thead>\n",
       "  <tbody>\n",
       "    <tr>\n",
       "      <th>0</th>\n",
       "      <td>166377</td>\n",
       "      <td>2019-08-04 00:00:00+03:00</td>\n",
       "      <td>in</td>\n",
       "      <td>False</td>\n",
       "      <td>NaN</td>\n",
       "      <td>True</td>\n",
       "      <td>2</td>\n",
       "      <td>0</td>\n",
       "      <td>4</td>\n",
       "    </tr>\n",
       "    <tr>\n",
       "      <th>1</th>\n",
       "      <td>166377</td>\n",
       "      <td>2019-08-05 00:00:00+03:00</td>\n",
       "      <td>out</td>\n",
       "      <td>True</td>\n",
       "      <td>880022.0</td>\n",
       "      <td>True</td>\n",
       "      <td>3</td>\n",
       "      <td>0</td>\n",
       "      <td>5</td>\n",
       "    </tr>\n",
       "    <tr>\n",
       "      <th>2</th>\n",
       "      <td>166377</td>\n",
       "      <td>2019-08-05 00:00:00+03:00</td>\n",
       "      <td>out</td>\n",
       "      <td>True</td>\n",
       "      <td>880020.0</td>\n",
       "      <td>True</td>\n",
       "      <td>1</td>\n",
       "      <td>0</td>\n",
       "      <td>1</td>\n",
       "    </tr>\n",
       "    <tr>\n",
       "      <th>3</th>\n",
       "      <td>166377</td>\n",
       "      <td>2019-08-05 00:00:00+03:00</td>\n",
       "      <td>out</td>\n",
       "      <td>True</td>\n",
       "      <td>880020.0</td>\n",
       "      <td>False</td>\n",
       "      <td>1</td>\n",
       "      <td>10</td>\n",
       "      <td>18</td>\n",
       "    </tr>\n",
       "    <tr>\n",
       "      <th>4</th>\n",
       "      <td>166377</td>\n",
       "      <td>2019-08-05 00:00:00+03:00</td>\n",
       "      <td>out</td>\n",
       "      <td>False</td>\n",
       "      <td>880022.0</td>\n",
       "      <td>True</td>\n",
       "      <td>3</td>\n",
       "      <td>0</td>\n",
       "      <td>25</td>\n",
       "    </tr>\n",
       "    <tr>\n",
       "      <th>5</th>\n",
       "      <td>166377</td>\n",
       "      <td>2019-08-05 00:00:00+03:00</td>\n",
       "      <td>out</td>\n",
       "      <td>False</td>\n",
       "      <td>880020.0</td>\n",
       "      <td>False</td>\n",
       "      <td>2</td>\n",
       "      <td>3</td>\n",
       "      <td>29</td>\n",
       "    </tr>\n",
       "    <tr>\n",
       "      <th>6</th>\n",
       "      <td>166377</td>\n",
       "      <td>2019-08-05 00:00:00+03:00</td>\n",
       "      <td>out</td>\n",
       "      <td>False</td>\n",
       "      <td>880020.0</td>\n",
       "      <td>True</td>\n",
       "      <td>8</td>\n",
       "      <td>0</td>\n",
       "      <td>50</td>\n",
       "    </tr>\n",
       "    <tr>\n",
       "      <th>7</th>\n",
       "      <td>166377</td>\n",
       "      <td>2019-08-05 00:00:00+03:00</td>\n",
       "      <td>in</td>\n",
       "      <td>False</td>\n",
       "      <td>NaN</td>\n",
       "      <td>True</td>\n",
       "      <td>6</td>\n",
       "      <td>0</td>\n",
       "      <td>35</td>\n",
       "    </tr>\n",
       "    <tr>\n",
       "      <th>8</th>\n",
       "      <td>166377</td>\n",
       "      <td>2019-08-05 00:00:00+03:00</td>\n",
       "      <td>out</td>\n",
       "      <td>False</td>\n",
       "      <td>880020.0</td>\n",
       "      <td>True</td>\n",
       "      <td>8</td>\n",
       "      <td>0</td>\n",
       "      <td>50</td>\n",
       "    </tr>\n",
       "    <tr>\n",
       "      <th>9</th>\n",
       "      <td>166377</td>\n",
       "      <td>2019-08-06 00:00:00+03:00</td>\n",
       "      <td>in</td>\n",
       "      <td>False</td>\n",
       "      <td>NaN</td>\n",
       "      <td>True</td>\n",
       "      <td>4</td>\n",
       "      <td>0</td>\n",
       "      <td>62</td>\n",
       "    </tr>\n",
       "  </tbody>\n",
       "</table>\n",
       "</div>"
      ],
      "text/plain": [
       "   user_id                       date direction internal  operator_id  \\\n",
       "0   166377  2019-08-04 00:00:00+03:00        in    False          NaN   \n",
       "1   166377  2019-08-05 00:00:00+03:00       out     True     880022.0   \n",
       "2   166377  2019-08-05 00:00:00+03:00       out     True     880020.0   \n",
       "3   166377  2019-08-05 00:00:00+03:00       out     True     880020.0   \n",
       "4   166377  2019-08-05 00:00:00+03:00       out    False     880022.0   \n",
       "5   166377  2019-08-05 00:00:00+03:00       out    False     880020.0   \n",
       "6   166377  2019-08-05 00:00:00+03:00       out    False     880020.0   \n",
       "7   166377  2019-08-05 00:00:00+03:00        in    False          NaN   \n",
       "8   166377  2019-08-05 00:00:00+03:00       out    False     880020.0   \n",
       "9   166377  2019-08-06 00:00:00+03:00        in    False          NaN   \n",
       "\n",
       "   is_missed_call  calls_count  call_duration  total_call_duration  \n",
       "0            True            2              0                    4  \n",
       "1            True            3              0                    5  \n",
       "2            True            1              0                    1  \n",
       "3           False            1             10                   18  \n",
       "4            True            3              0                   25  \n",
       "5           False            2              3                   29  \n",
       "6            True            8              0                   50  \n",
       "7            True            6              0                   35  \n",
       "8            True            8              0                   50  \n",
       "9            True            4              0                   62  "
      ]
     },
     "metadata": {},
     "output_type": "display_data"
    },
    {
     "name": "stdout",
     "output_type": "stream",
     "text": [
      "---------- Общая информация о датафрейме ----------\n",
      "\n",
      "<class 'pandas.core.frame.DataFrame'>\n",
      "RangeIndex: 53902 entries, 0 to 53901\n",
      "Data columns (total 9 columns):\n",
      " #   Column               Non-Null Count  Dtype  \n",
      "---  ------               --------------  -----  \n",
      " 0   user_id              53902 non-null  int64  \n",
      " 1   date                 53902 non-null  object \n",
      " 2   direction            53902 non-null  object \n",
      " 3   internal             53785 non-null  object \n",
      " 4   operator_id          45730 non-null  float64\n",
      " 5   is_missed_call       53902 non-null  bool   \n",
      " 6   calls_count          53902 non-null  int64  \n",
      " 7   call_duration        53902 non-null  int64  \n",
      " 8   total_call_duration  53902 non-null  int64  \n",
      "dtypes: bool(1), float64(1), int64(4), object(3)\n",
      "memory usage: 3.3+ MB\n"
     ]
    },
    {
     "data": {
      "text/plain": [
       "None"
      ]
     },
     "metadata": {},
     "output_type": "display_data"
    },
    {
     "name": "stdout",
     "output_type": "stream",
     "text": [
      "---------- Статистическая сводка ----------\n"
     ]
    },
    {
     "data": {
      "text/html": [
       "<div>\n",
       "<style scoped>\n",
       "    .dataframe tbody tr th:only-of-type {\n",
       "        vertical-align: middle;\n",
       "    }\n",
       "\n",
       "    .dataframe tbody tr th {\n",
       "        vertical-align: top;\n",
       "    }\n",
       "\n",
       "    .dataframe thead th {\n",
       "        text-align: right;\n",
       "    }\n",
       "</style>\n",
       "<table border=\"1\" class=\"dataframe\">\n",
       "  <thead>\n",
       "    <tr style=\"text-align: right;\">\n",
       "      <th></th>\n",
       "      <th>user_id</th>\n",
       "      <th>operator_id</th>\n",
       "      <th>calls_count</th>\n",
       "      <th>call_duration</th>\n",
       "      <th>total_call_duration</th>\n",
       "    </tr>\n",
       "  </thead>\n",
       "  <tbody>\n",
       "    <tr>\n",
       "      <th>count</th>\n",
       "      <td>53902.000000</td>\n",
       "      <td>45730.000000</td>\n",
       "      <td>53902.000000</td>\n",
       "      <td>53902.000000</td>\n",
       "      <td>53902.000000</td>\n",
       "    </tr>\n",
       "    <tr>\n",
       "      <th>mean</th>\n",
       "      <td>167295.344477</td>\n",
       "      <td>916535.993002</td>\n",
       "      <td>16.451245</td>\n",
       "      <td>866.684427</td>\n",
       "      <td>1157.133297</td>\n",
       "    </tr>\n",
       "    <tr>\n",
       "      <th>std</th>\n",
       "      <td>598.883775</td>\n",
       "      <td>21254.123136</td>\n",
       "      <td>62.917170</td>\n",
       "      <td>3731.791202</td>\n",
       "      <td>4403.468763</td>\n",
       "    </tr>\n",
       "    <tr>\n",
       "      <th>min</th>\n",
       "      <td>166377.000000</td>\n",
       "      <td>879896.000000</td>\n",
       "      <td>1.000000</td>\n",
       "      <td>0.000000</td>\n",
       "      <td>0.000000</td>\n",
       "    </tr>\n",
       "    <tr>\n",
       "      <th>25%</th>\n",
       "      <td>166782.000000</td>\n",
       "      <td>900788.000000</td>\n",
       "      <td>1.000000</td>\n",
       "      <td>0.000000</td>\n",
       "      <td>47.000000</td>\n",
       "    </tr>\n",
       "    <tr>\n",
       "      <th>50%</th>\n",
       "      <td>167162.000000</td>\n",
       "      <td>913938.000000</td>\n",
       "      <td>4.000000</td>\n",
       "      <td>38.000000</td>\n",
       "      <td>210.000000</td>\n",
       "    </tr>\n",
       "    <tr>\n",
       "      <th>75%</th>\n",
       "      <td>167819.000000</td>\n",
       "      <td>937708.000000</td>\n",
       "      <td>12.000000</td>\n",
       "      <td>572.000000</td>\n",
       "      <td>902.000000</td>\n",
       "    </tr>\n",
       "    <tr>\n",
       "      <th>max</th>\n",
       "      <td>168606.000000</td>\n",
       "      <td>973286.000000</td>\n",
       "      <td>4817.000000</td>\n",
       "      <td>144395.000000</td>\n",
       "      <td>166155.000000</td>\n",
       "    </tr>\n",
       "  </tbody>\n",
       "</table>\n",
       "</div>"
      ],
      "text/plain": [
       "             user_id    operator_id   calls_count  call_duration  \\\n",
       "count   53902.000000   45730.000000  53902.000000   53902.000000   \n",
       "mean   167295.344477  916535.993002     16.451245     866.684427   \n",
       "std       598.883775   21254.123136     62.917170    3731.791202   \n",
       "min    166377.000000  879896.000000      1.000000       0.000000   \n",
       "25%    166782.000000  900788.000000      1.000000       0.000000   \n",
       "50%    167162.000000  913938.000000      4.000000      38.000000   \n",
       "75%    167819.000000  937708.000000     12.000000     572.000000   \n",
       "max    168606.000000  973286.000000   4817.000000  144395.000000   \n",
       "\n",
       "       total_call_duration  \n",
       "count         53902.000000  \n",
       "mean           1157.133297  \n",
       "std            4403.468763  \n",
       "min               0.000000  \n",
       "25%              47.000000  \n",
       "50%             210.000000  \n",
       "75%             902.000000  \n",
       "max          166155.000000  "
      ]
     },
     "metadata": {},
     "output_type": "display_data"
    },
    {
     "name": "stdout",
     "output_type": "stream",
     "text": [
      "---------- Пропуски ----------\n"
     ]
    },
    {
     "data": {
      "text/plain": [
       "operator_id            8172\n",
       "internal                117\n",
       "user_id                   0\n",
       "date                      0\n",
       "direction                 0\n",
       "is_missed_call            0\n",
       "calls_count               0\n",
       "call_duration             0\n",
       "total_call_duration       0\n",
       "dtype: int64"
      ]
     },
     "metadata": {},
     "output_type": "display_data"
    },
    {
     "name": "stdout",
     "output_type": "stream",
     "text": [
      "---------- Процент пропусков от общего числа строк ----------\n"
     ]
    },
    {
     "data": {
      "text/plain": [
       "operator_id            15.160847\n",
       "internal                0.217061\n",
       "user_id                 0.000000\n",
       "date                    0.000000\n",
       "direction               0.000000\n",
       "is_missed_call          0.000000\n",
       "calls_count             0.000000\n",
       "call_duration           0.000000\n",
       "total_call_duration     0.000000\n",
       "dtype: float64"
      ]
     },
     "metadata": {},
     "output_type": "display_data"
    },
    {
     "name": "stdout",
     "output_type": "stream",
     "text": [
      "---------- Количество дубликатов: 4900 ----------\n",
      "---------- Процент дубликатов от обшего кол-ва строк: 9.1 ----------\n"
     ]
    }
   ],
   "source": [
    "df_info(data, 10)"
   ]
  },
  {
   "cell_type": "markdown",
   "metadata": {},
   "source": [
    "**Обзор датасета с информацией о клиентах**"
   ]
  },
  {
   "cell_type": "code",
   "execution_count": 5,
   "metadata": {},
   "outputs": [
    {
     "name": "stdout",
     "output_type": "stream",
     "text": [
      "---------- Первые 5 строк датафрейма ----------\n"
     ]
    },
    {
     "data": {
      "text/html": [
       "<div>\n",
       "<style scoped>\n",
       "    .dataframe tbody tr th:only-of-type {\n",
       "        vertical-align: middle;\n",
       "    }\n",
       "\n",
       "    .dataframe tbody tr th {\n",
       "        vertical-align: top;\n",
       "    }\n",
       "\n",
       "    .dataframe thead th {\n",
       "        text-align: right;\n",
       "    }\n",
       "</style>\n",
       "<table border=\"1\" class=\"dataframe\">\n",
       "  <thead>\n",
       "    <tr style=\"text-align: right;\">\n",
       "      <th></th>\n",
       "      <th>user_id</th>\n",
       "      <th>tariff_plan</th>\n",
       "      <th>date_start</th>\n",
       "    </tr>\n",
       "  </thead>\n",
       "  <tbody>\n",
       "    <tr>\n",
       "      <th>0</th>\n",
       "      <td>166713</td>\n",
       "      <td>A</td>\n",
       "      <td>2019-08-15</td>\n",
       "    </tr>\n",
       "    <tr>\n",
       "      <th>1</th>\n",
       "      <td>166901</td>\n",
       "      <td>A</td>\n",
       "      <td>2019-08-23</td>\n",
       "    </tr>\n",
       "    <tr>\n",
       "      <th>2</th>\n",
       "      <td>168527</td>\n",
       "      <td>A</td>\n",
       "      <td>2019-10-29</td>\n",
       "    </tr>\n",
       "    <tr>\n",
       "      <th>3</th>\n",
       "      <td>167097</td>\n",
       "      <td>A</td>\n",
       "      <td>2019-09-01</td>\n",
       "    </tr>\n",
       "    <tr>\n",
       "      <th>4</th>\n",
       "      <td>168193</td>\n",
       "      <td>A</td>\n",
       "      <td>2019-10-16</td>\n",
       "    </tr>\n",
       "  </tbody>\n",
       "</table>\n",
       "</div>"
      ],
      "text/plain": [
       "   user_id tariff_plan  date_start\n",
       "0   166713           A  2019-08-15\n",
       "1   166901           A  2019-08-23\n",
       "2   168527           A  2019-10-29\n",
       "3   167097           A  2019-09-01\n",
       "4   168193           A  2019-10-16"
      ]
     },
     "metadata": {},
     "output_type": "display_data"
    },
    {
     "name": "stdout",
     "output_type": "stream",
     "text": [
      "---------- Общая информация о датафрейме ----------\n",
      "\n",
      "<class 'pandas.core.frame.DataFrame'>\n",
      "RangeIndex: 732 entries, 0 to 731\n",
      "Data columns (total 3 columns):\n",
      " #   Column       Non-Null Count  Dtype \n",
      "---  ------       --------------  ----- \n",
      " 0   user_id      732 non-null    int64 \n",
      " 1   tariff_plan  732 non-null    object\n",
      " 2   date_start   732 non-null    object\n",
      "dtypes: int64(1), object(2)\n",
      "memory usage: 17.3+ KB\n"
     ]
    },
    {
     "data": {
      "text/plain": [
       "None"
      ]
     },
     "metadata": {},
     "output_type": "display_data"
    },
    {
     "name": "stdout",
     "output_type": "stream",
     "text": [
      "---------- Статистическая сводка ----------\n"
     ]
    },
    {
     "data": {
      "text/html": [
       "<div>\n",
       "<style scoped>\n",
       "    .dataframe tbody tr th:only-of-type {\n",
       "        vertical-align: middle;\n",
       "    }\n",
       "\n",
       "    .dataframe tbody tr th {\n",
       "        vertical-align: top;\n",
       "    }\n",
       "\n",
       "    .dataframe thead th {\n",
       "        text-align: right;\n",
       "    }\n",
       "</style>\n",
       "<table border=\"1\" class=\"dataframe\">\n",
       "  <thead>\n",
       "    <tr style=\"text-align: right;\">\n",
       "      <th></th>\n",
       "      <th>user_id</th>\n",
       "    </tr>\n",
       "  </thead>\n",
       "  <tbody>\n",
       "    <tr>\n",
       "      <th>count</th>\n",
       "      <td>732.000000</td>\n",
       "    </tr>\n",
       "    <tr>\n",
       "      <th>mean</th>\n",
       "      <td>167431.927596</td>\n",
       "    </tr>\n",
       "    <tr>\n",
       "      <th>std</th>\n",
       "      <td>633.810383</td>\n",
       "    </tr>\n",
       "    <tr>\n",
       "      <th>min</th>\n",
       "      <td>166373.000000</td>\n",
       "    </tr>\n",
       "    <tr>\n",
       "      <th>25%</th>\n",
       "      <td>166900.750000</td>\n",
       "    </tr>\n",
       "    <tr>\n",
       "      <th>50%</th>\n",
       "      <td>167432.000000</td>\n",
       "    </tr>\n",
       "    <tr>\n",
       "      <th>75%</th>\n",
       "      <td>167973.000000</td>\n",
       "    </tr>\n",
       "    <tr>\n",
       "      <th>max</th>\n",
       "      <td>168606.000000</td>\n",
       "    </tr>\n",
       "  </tbody>\n",
       "</table>\n",
       "</div>"
      ],
      "text/plain": [
       "             user_id\n",
       "count     732.000000\n",
       "mean   167431.927596\n",
       "std       633.810383\n",
       "min    166373.000000\n",
       "25%    166900.750000\n",
       "50%    167432.000000\n",
       "75%    167973.000000\n",
       "max    168606.000000"
      ]
     },
     "metadata": {},
     "output_type": "display_data"
    },
    {
     "name": "stdout",
     "output_type": "stream",
     "text": [
      "---------- Пропуски ----------\n"
     ]
    },
    {
     "data": {
      "text/plain": [
       "user_id        0\n",
       "tariff_plan    0\n",
       "date_start     0\n",
       "dtype: int64"
      ]
     },
     "metadata": {},
     "output_type": "display_data"
    },
    {
     "name": "stdout",
     "output_type": "stream",
     "text": [
      "---------- Процент пропусков от общего числа строк ----------\n"
     ]
    },
    {
     "data": {
      "text/plain": [
       "user_id        0.0\n",
       "tariff_plan    0.0\n",
       "date_start     0.0\n",
       "dtype: float64"
      ]
     },
     "metadata": {},
     "output_type": "display_data"
    },
    {
     "name": "stdout",
     "output_type": "stream",
     "text": [
      "---------- Дубликаты отсутствуют ----------\n"
     ]
    }
   ],
   "source": [
    "df_info(clients)"
   ]
  },
  {
   "cell_type": "markdown",
   "metadata": {},
   "source": [
    "**Из обзора данных можно сделать следующие выводы:**\n",
    "\n",
    "*Датафрейм с информацией о звонках*\n",
    "\n",
    "- Всего в датафрейме 53902 строки и 9 столбцов;\n",
    "- В столбцах с информацией о продолжительности звонков и о количестве звонков наблюдаются аномально большие значению по сравнению с медианой. Стоит рассмотреть внимательно эти столбцы и обработать аномалии;\n",
    "- Наблюдаются пропуски в столбцах с информацией об id оператора (8172 пропуска, 15% от общ.) и о том, внешний или же внутренний это звонок (117 пропуской, 0,2% от общ.). Стоит подрбонее рассмотреть эти пропуски и обработать их;\n",
    "- В датафрейме присустсвует 4900 дубликатов, что составляет 9,1 % от общ. Стоит рассмотреть и обработать данные дубликаты при необходимости;\n",
    "- Столбец с информацией о дате стоит привести к нужному типу данных (datetime) и выделить дату, также столбец internal стоит привести к типу данных bool.\n",
    "\n",
    "*Датафрейм с информацией о клиентах*\n",
    "\n",
    "- Всего в датафрейме 732 строки и 3 столбца;\n",
    "- Столбец с информацией о дате стоит привести к нужному типу данных (datetime);\n",
    "- Пропуски отсутсвуют;\n",
    "- Дубликаты отсутствуют."
   ]
  },
  {
   "cell_type": "markdown",
   "metadata": {},
   "source": [
    "### Предобработка данных<a id ='3'></a>\n"
   ]
  },
  {
   "cell_type": "markdown",
   "metadata": {},
   "source": [
    "**Обработка дубликатов**\n",
    "\n",
    "В датафрейме с информацией о вызовах наблюдается 4900 дубликатов, что составляет 9,1% от всех данных. Рассмотрим данные дубликаты подробнее и выясним, являются ли оно вообще дубликатами или же это такие же записи о звонках просто с одинаковым набором параметров"
   ]
  },
  {
   "cell_type": "code",
   "execution_count": 6,
   "metadata": {},
   "outputs": [
    {
     "data": {
      "text/html": [
       "<div>\n",
       "<style scoped>\n",
       "    .dataframe tbody tr th:only-of-type {\n",
       "        vertical-align: middle;\n",
       "    }\n",
       "\n",
       "    .dataframe tbody tr th {\n",
       "        vertical-align: top;\n",
       "    }\n",
       "\n",
       "    .dataframe thead th {\n",
       "        text-align: right;\n",
       "    }\n",
       "</style>\n",
       "<table border=\"1\" class=\"dataframe\">\n",
       "  <thead>\n",
       "    <tr style=\"text-align: right;\">\n",
       "      <th></th>\n",
       "      <th>user_id</th>\n",
       "      <th>date</th>\n",
       "      <th>direction</th>\n",
       "      <th>internal</th>\n",
       "      <th>operator_id</th>\n",
       "      <th>is_missed_call</th>\n",
       "      <th>calls_count</th>\n",
       "      <th>call_duration</th>\n",
       "      <th>total_call_duration</th>\n",
       "    </tr>\n",
       "  </thead>\n",
       "  <tbody>\n",
       "    <tr>\n",
       "      <th>8</th>\n",
       "      <td>166377</td>\n",
       "      <td>2019-08-05 00:00:00+03:00</td>\n",
       "      <td>out</td>\n",
       "      <td>False</td>\n",
       "      <td>880020.0</td>\n",
       "      <td>True</td>\n",
       "      <td>8</td>\n",
       "      <td>0</td>\n",
       "      <td>50</td>\n",
       "    </tr>\n",
       "    <tr>\n",
       "      <th>28</th>\n",
       "      <td>166377</td>\n",
       "      <td>2019-08-12 00:00:00+03:00</td>\n",
       "      <td>in</td>\n",
       "      <td>False</td>\n",
       "      <td>NaN</td>\n",
       "      <td>True</td>\n",
       "      <td>2</td>\n",
       "      <td>0</td>\n",
       "      <td>34</td>\n",
       "    </tr>\n",
       "    <tr>\n",
       "      <th>44</th>\n",
       "      <td>166377</td>\n",
       "      <td>2019-08-14 00:00:00+03:00</td>\n",
       "      <td>out</td>\n",
       "      <td>False</td>\n",
       "      <td>880026.0</td>\n",
       "      <td>False</td>\n",
       "      <td>10</td>\n",
       "      <td>1567</td>\n",
       "      <td>1654</td>\n",
       "    </tr>\n",
       "    <tr>\n",
       "      <th>45</th>\n",
       "      <td>166377</td>\n",
       "      <td>2019-08-14 00:00:00+03:00</td>\n",
       "      <td>in</td>\n",
       "      <td>False</td>\n",
       "      <td>NaN</td>\n",
       "      <td>True</td>\n",
       "      <td>1</td>\n",
       "      <td>0</td>\n",
       "      <td>3</td>\n",
       "    </tr>\n",
       "    <tr>\n",
       "      <th>51</th>\n",
       "      <td>166377</td>\n",
       "      <td>2019-08-15 00:00:00+03:00</td>\n",
       "      <td>out</td>\n",
       "      <td>False</td>\n",
       "      <td>880026.0</td>\n",
       "      <td>False</td>\n",
       "      <td>11</td>\n",
       "      <td>1413</td>\n",
       "      <td>1473</td>\n",
       "    </tr>\n",
       "    <tr>\n",
       "      <th>...</th>\n",
       "      <td>...</td>\n",
       "      <td>...</td>\n",
       "      <td>...</td>\n",
       "      <td>...</td>\n",
       "      <td>...</td>\n",
       "      <td>...</td>\n",
       "      <td>...</td>\n",
       "      <td>...</td>\n",
       "      <td>...</td>\n",
       "    </tr>\n",
       "    <tr>\n",
       "      <th>53869</th>\n",
       "      <td>168601</td>\n",
       "      <td>2019-11-25 00:00:00+03:00</td>\n",
       "      <td>in</td>\n",
       "      <td>False</td>\n",
       "      <td>952914.0</td>\n",
       "      <td>False</td>\n",
       "      <td>7</td>\n",
       "      <td>1229</td>\n",
       "      <td>1282</td>\n",
       "    </tr>\n",
       "    <tr>\n",
       "      <th>53874</th>\n",
       "      <td>168601</td>\n",
       "      <td>2019-11-26 00:00:00+03:00</td>\n",
       "      <td>in</td>\n",
       "      <td>False</td>\n",
       "      <td>952914.0</td>\n",
       "      <td>False</td>\n",
       "      <td>4</td>\n",
       "      <td>539</td>\n",
       "      <td>562</td>\n",
       "    </tr>\n",
       "    <tr>\n",
       "      <th>53875</th>\n",
       "      <td>168601</td>\n",
       "      <td>2019-11-26 00:00:00+03:00</td>\n",
       "      <td>in</td>\n",
       "      <td>False</td>\n",
       "      <td>NaN</td>\n",
       "      <td>True</td>\n",
       "      <td>3</td>\n",
       "      <td>0</td>\n",
       "      <td>35</td>\n",
       "    </tr>\n",
       "    <tr>\n",
       "      <th>53885</th>\n",
       "      <td>168603</td>\n",
       "      <td>2019-11-20 00:00:00+03:00</td>\n",
       "      <td>out</td>\n",
       "      <td>False</td>\n",
       "      <td>959118.0</td>\n",
       "      <td>True</td>\n",
       "      <td>3</td>\n",
       "      <td>0</td>\n",
       "      <td>89</td>\n",
       "    </tr>\n",
       "    <tr>\n",
       "      <th>53900</th>\n",
       "      <td>168606</td>\n",
       "      <td>2019-11-15 00:00:00+03:00</td>\n",
       "      <td>out</td>\n",
       "      <td>True</td>\n",
       "      <td>957922.0</td>\n",
       "      <td>False</td>\n",
       "      <td>4</td>\n",
       "      <td>3130</td>\n",
       "      <td>3190</td>\n",
       "    </tr>\n",
       "  </tbody>\n",
       "</table>\n",
       "<p>4900 rows × 9 columns</p>\n",
       "</div>"
      ],
      "text/plain": [
       "       user_id                       date direction internal  operator_id  \\\n",
       "8       166377  2019-08-05 00:00:00+03:00       out    False     880020.0   \n",
       "28      166377  2019-08-12 00:00:00+03:00        in    False          NaN   \n",
       "44      166377  2019-08-14 00:00:00+03:00       out    False     880026.0   \n",
       "45      166377  2019-08-14 00:00:00+03:00        in    False          NaN   \n",
       "51      166377  2019-08-15 00:00:00+03:00       out    False     880026.0   \n",
       "...        ...                        ...       ...      ...          ...   \n",
       "53869   168601  2019-11-25 00:00:00+03:00        in    False     952914.0   \n",
       "53874   168601  2019-11-26 00:00:00+03:00        in    False     952914.0   \n",
       "53875   168601  2019-11-26 00:00:00+03:00        in    False          NaN   \n",
       "53885   168603  2019-11-20 00:00:00+03:00       out    False     959118.0   \n",
       "53900   168606  2019-11-15 00:00:00+03:00       out     True     957922.0   \n",
       "\n",
       "       is_missed_call  calls_count  call_duration  total_call_duration  \n",
       "8                True            8              0                   50  \n",
       "28               True            2              0                   34  \n",
       "44              False           10           1567                 1654  \n",
       "45               True            1              0                    3  \n",
       "51              False           11           1413                 1473  \n",
       "...               ...          ...            ...                  ...  \n",
       "53869           False            7           1229                 1282  \n",
       "53874           False            4            539                  562  \n",
       "53875            True            3              0                   35  \n",
       "53885            True            3              0                   89  \n",
       "53900           False            4           3130                 3190  \n",
       "\n",
       "[4900 rows x 9 columns]"
      ]
     },
     "execution_count": 6,
     "metadata": {},
     "output_type": "execute_result"
    }
   ],
   "source": [
    "data[data.duplicated()]"
   ]
  },
  {
   "cell_type": "markdown",
   "metadata": {},
   "source": [
    "Чтобы понять природу возникновения данных дубликатов,рассмотрим, нет ли какой-то зависимости возникновения дубликатов от клиента, оператора или даты"
   ]
  },
  {
   "cell_type": "code",
   "execution_count": 7,
   "metadata": {},
   "outputs": [
    {
     "data": {
      "text/plain": [
       "user_id        269\n",
       "date           115\n",
       "operator_id    776\n",
       "dtype: int64"
      ]
     },
     "execution_count": 7,
     "metadata": {},
     "output_type": "execute_result"
    }
   ],
   "source": [
    "# количество уникальных значений в столбцах с инф. об id клиентов, операторов и даты\n",
    "data[data.duplicated()][['user_id', 'date', 'operator_id']].nunique()"
   ]
  },
  {
   "cell_type": "markdown",
   "metadata": {},
   "source": [
    "Можно отметить, что дубликаты никак не связаны с определенным клиентом, датой или операторами.\n",
    "\n",
    "Теперь проверим, есть ли какая-то зависимость в повлении дубликатов от того, пропущенный ли это звонок, входящий или же внешний."
   ]
  },
  {
   "cell_type": "code",
   "execution_count": 8,
   "metadata": {},
   "outputs": [
    {
     "name": "stdout",
     "output_type": "stream",
     "text": [
      "Распределение пропущенных и состоявшихся вызовов среди дубликатов:\n",
      " False    2785\n",
      "True     2115\n",
      "Name: is_missed_call, dtype: int64\n",
      "Распределение входящих и исходящих вызовов среди дубликатов:\n",
      " out    2918\n",
      "in     1982\n",
      "Name: direction, dtype: int64\n",
      "Распределение внешних и внутренних вызовов среди дубликатов:\n",
      " False    4382\n",
      "True      511\n",
      "Name: internal, dtype: int64\n"
     ]
    }
   ],
   "source": [
    "print('Распределение пропущенных и состоявшихся вызовов среди дубликатов:\\n',\n",
    "      data[data.duplicated()]['is_missed_call'].value_counts())\n",
    "\n",
    "print('Распределение входящих и исходящих вызовов среди дубликатов:\\n',\n",
    "      data[data.duplicated()]['direction'].value_counts())\n",
    "\n",
    "print('Распределение внешних и внутренних вызовов среди дубликатов:\\n',\n",
    "      data[data.duplicated()]['internal'].value_counts())"
   ]
  },
  {
   "cell_type": "markdown",
   "metadata": {},
   "source": [
    "Можно отметить, что пропущенные и состоявшиеся вызовы распределены более-менее равномерно, во входящих и исходящих звонках тоже никакой значимой закономерности не наблюдается. Количество внешних звонок в дубликатах значительно превышает количество внутренних звонков, однако это можно объяснить тем, что в исходном датафрейме так же преобладают внешние звонки.\n",
    "\n",
    "Стоит сделать вывод, что никакой зависимости ни к одному из параметров у наблюдаемых дубликатов нет,таблица сагрегирована, поэтому очистим ее от дубликатов."
   ]
  },
  {
   "cell_type": "code",
   "execution_count": 9,
   "metadata": {},
   "outputs": [
    {
     "data": {
      "text/plain": [
       "0"
      ]
     },
     "execution_count": 9,
     "metadata": {},
     "output_type": "execute_result"
    }
   ],
   "source": [
    "# очищаем датафрейм от дубликатов\n",
    "data = data.drop_duplicates()\n",
    "\n",
    "data.duplicated().sum()"
   ]
  },
  {
   "cell_type": "markdown",
   "metadata": {},
   "source": [
    "<div class=\"alert alert-success\">\n",
    "    \n",
    "**Комментарий ревьюера**\n",
    "\n",
    "**#ок**\n",
    "\n",
    "Хорошо обоснованное решение, это всегда ценно в аналитическом проекте.\n",
    "    \n",
    "</div>"
   ]
  },
  {
   "cell_type": "markdown",
   "metadata": {},
   "source": [
    "**Обработка пропусков**\n",
    "\n",
    "В столбце `internal` датафрейма с информацией о звонках наблюдается 117 пропусков, что составляет 0,2% от всех данных. Рассмотрим эти пропуски поподробнее"
   ]
  },
  {
   "cell_type": "code",
   "execution_count": 10,
   "metadata": {},
   "outputs": [
    {
     "data": {
      "text/html": [
       "<div>\n",
       "<style scoped>\n",
       "    .dataframe tbody tr th:only-of-type {\n",
       "        vertical-align: middle;\n",
       "    }\n",
       "\n",
       "    .dataframe tbody tr th {\n",
       "        vertical-align: top;\n",
       "    }\n",
       "\n",
       "    .dataframe thead th {\n",
       "        text-align: right;\n",
       "    }\n",
       "</style>\n",
       "<table border=\"1\" class=\"dataframe\">\n",
       "  <thead>\n",
       "    <tr style=\"text-align: right;\">\n",
       "      <th></th>\n",
       "      <th>user_id</th>\n",
       "      <th>date</th>\n",
       "      <th>direction</th>\n",
       "      <th>internal</th>\n",
       "      <th>operator_id</th>\n",
       "      <th>is_missed_call</th>\n",
       "      <th>calls_count</th>\n",
       "      <th>call_duration</th>\n",
       "      <th>total_call_duration</th>\n",
       "    </tr>\n",
       "  </thead>\n",
       "  <tbody>\n",
       "    <tr>\n",
       "      <th>1007</th>\n",
       "      <td>166405</td>\n",
       "      <td>2019-09-18 00:00:00+03:00</td>\n",
       "      <td>in</td>\n",
       "      <td>NaN</td>\n",
       "      <td>NaN</td>\n",
       "      <td>True</td>\n",
       "      <td>1</td>\n",
       "      <td>0</td>\n",
       "      <td>59</td>\n",
       "    </tr>\n",
       "    <tr>\n",
       "      <th>1090</th>\n",
       "      <td>166405</td>\n",
       "      <td>2019-10-01 00:00:00+03:00</td>\n",
       "      <td>in</td>\n",
       "      <td>NaN</td>\n",
       "      <td>NaN</td>\n",
       "      <td>True</td>\n",
       "      <td>1</td>\n",
       "      <td>0</td>\n",
       "      <td>1</td>\n",
       "    </tr>\n",
       "    <tr>\n",
       "      <th>1864</th>\n",
       "      <td>166406</td>\n",
       "      <td>2019-08-20 00:00:00+03:00</td>\n",
       "      <td>in</td>\n",
       "      <td>NaN</td>\n",
       "      <td>NaN</td>\n",
       "      <td>True</td>\n",
       "      <td>1</td>\n",
       "      <td>0</td>\n",
       "      <td>36</td>\n",
       "    </tr>\n",
       "    <tr>\n",
       "      <th>1924</th>\n",
       "      <td>166406</td>\n",
       "      <td>2019-09-02 00:00:00+03:00</td>\n",
       "      <td>in</td>\n",
       "      <td>NaN</td>\n",
       "      <td>879898.0</td>\n",
       "      <td>False</td>\n",
       "      <td>1</td>\n",
       "      <td>2</td>\n",
       "      <td>9</td>\n",
       "    </tr>\n",
       "    <tr>\n",
       "      <th>6210</th>\n",
       "      <td>166541</td>\n",
       "      <td>2019-09-26 00:00:00+03:00</td>\n",
       "      <td>in</td>\n",
       "      <td>NaN</td>\n",
       "      <td>908960.0</td>\n",
       "      <td>False</td>\n",
       "      <td>1</td>\n",
       "      <td>393</td>\n",
       "      <td>423</td>\n",
       "    </tr>\n",
       "  </tbody>\n",
       "</table>\n",
       "</div>"
      ],
      "text/plain": [
       "      user_id                       date direction internal  operator_id  \\\n",
       "1007   166405  2019-09-18 00:00:00+03:00        in      NaN          NaN   \n",
       "1090   166405  2019-10-01 00:00:00+03:00        in      NaN          NaN   \n",
       "1864   166406  2019-08-20 00:00:00+03:00        in      NaN          NaN   \n",
       "1924   166406  2019-09-02 00:00:00+03:00        in      NaN     879898.0   \n",
       "6210   166541  2019-09-26 00:00:00+03:00        in      NaN     908960.0   \n",
       "\n",
       "      is_missed_call  calls_count  call_duration  total_call_duration  \n",
       "1007            True            1              0                   59  \n",
       "1090            True            1              0                    1  \n",
       "1864            True            1              0                   36  \n",
       "1924           False            1              2                    9  \n",
       "6210           False            1            393                  423  "
      ]
     },
     "execution_count": 10,
     "metadata": {},
     "output_type": "execute_result"
    }
   ],
   "source": [
    "data[data['internal'].isna()].head()"
   ]
  },
  {
   "cell_type": "markdown",
   "metadata": {},
   "source": [
    "Данные пропуски могут быть связаны с техническими ошибками. Без данных о том, внешний или внутренний был получен вызов, сложно будет анализировать распределение вызовов, а также проводить расчеты расходов клиентов. Пропуски в данном столбце составляют менее 1%, поэтому мы не рискуем потерять большое количество даннных при удалении пропущенных значений в столбце internal. Удалим пропуски"
   ]
  },
  {
   "cell_type": "code",
   "execution_count": 11,
   "metadata": {},
   "outputs": [
    {
     "data": {
      "text/plain": [
       "operator_id            7401\n",
       "user_id                   0\n",
       "date                      0\n",
       "direction                 0\n",
       "internal                  0\n",
       "is_missed_call            0\n",
       "calls_count               0\n",
       "call_duration             0\n",
       "total_call_duration       0\n",
       "dtype: int64"
      ]
     },
     "execution_count": 11,
     "metadata": {},
     "output_type": "execute_result"
    }
   ],
   "source": [
    "# удаляем пропуски в internal\n",
    "data.dropna(subset=['internal'], inplace=True)\n",
    "\n",
    "# смотрим оставшиеся пропуски\n",
    "data.isna().sum().sort_values(ascending=False)"
   ]
  },
  {
   "cell_type": "markdown",
   "metadata": {},
   "source": [
    "В столбце `operator_id` наблюдается 7401 пропусков (около 15% от общ.) Рассмотрим эти пропуски подробнее"
   ]
  },
  {
   "cell_type": "code",
   "execution_count": 12,
   "metadata": {},
   "outputs": [
    {
     "data": {
      "text/html": [
       "<div>\n",
       "<style scoped>\n",
       "    .dataframe tbody tr th:only-of-type {\n",
       "        vertical-align: middle;\n",
       "    }\n",
       "\n",
       "    .dataframe tbody tr th {\n",
       "        vertical-align: top;\n",
       "    }\n",
       "\n",
       "    .dataframe thead th {\n",
       "        text-align: right;\n",
       "    }\n",
       "</style>\n",
       "<table border=\"1\" class=\"dataframe\">\n",
       "  <thead>\n",
       "    <tr style=\"text-align: right;\">\n",
       "      <th></th>\n",
       "      <th>user_id</th>\n",
       "      <th>date</th>\n",
       "      <th>direction</th>\n",
       "      <th>internal</th>\n",
       "      <th>operator_id</th>\n",
       "      <th>is_missed_call</th>\n",
       "      <th>calls_count</th>\n",
       "      <th>call_duration</th>\n",
       "      <th>total_call_duration</th>\n",
       "    </tr>\n",
       "  </thead>\n",
       "  <tbody>\n",
       "    <tr>\n",
       "      <th>0</th>\n",
       "      <td>166377</td>\n",
       "      <td>2019-08-04 00:00:00+03:00</td>\n",
       "      <td>in</td>\n",
       "      <td>False</td>\n",
       "      <td>NaN</td>\n",
       "      <td>True</td>\n",
       "      <td>2</td>\n",
       "      <td>0</td>\n",
       "      <td>4</td>\n",
       "    </tr>\n",
       "    <tr>\n",
       "      <th>7</th>\n",
       "      <td>166377</td>\n",
       "      <td>2019-08-05 00:00:00+03:00</td>\n",
       "      <td>in</td>\n",
       "      <td>False</td>\n",
       "      <td>NaN</td>\n",
       "      <td>True</td>\n",
       "      <td>6</td>\n",
       "      <td>0</td>\n",
       "      <td>35</td>\n",
       "    </tr>\n",
       "    <tr>\n",
       "      <th>9</th>\n",
       "      <td>166377</td>\n",
       "      <td>2019-08-06 00:00:00+03:00</td>\n",
       "      <td>in</td>\n",
       "      <td>False</td>\n",
       "      <td>NaN</td>\n",
       "      <td>True</td>\n",
       "      <td>4</td>\n",
       "      <td>0</td>\n",
       "      <td>62</td>\n",
       "    </tr>\n",
       "    <tr>\n",
       "      <th>17</th>\n",
       "      <td>166377</td>\n",
       "      <td>2019-08-07 00:00:00+03:00</td>\n",
       "      <td>in</td>\n",
       "      <td>False</td>\n",
       "      <td>NaN</td>\n",
       "      <td>True</td>\n",
       "      <td>2</td>\n",
       "      <td>0</td>\n",
       "      <td>24</td>\n",
       "    </tr>\n",
       "    <tr>\n",
       "      <th>27</th>\n",
       "      <td>166377</td>\n",
       "      <td>2019-08-12 00:00:00+03:00</td>\n",
       "      <td>in</td>\n",
       "      <td>False</td>\n",
       "      <td>NaN</td>\n",
       "      <td>True</td>\n",
       "      <td>2</td>\n",
       "      <td>0</td>\n",
       "      <td>34</td>\n",
       "    </tr>\n",
       "  </tbody>\n",
       "</table>\n",
       "</div>"
      ],
      "text/plain": [
       "    user_id                       date direction internal  operator_id  \\\n",
       "0    166377  2019-08-04 00:00:00+03:00        in    False          NaN   \n",
       "7    166377  2019-08-05 00:00:00+03:00        in    False          NaN   \n",
       "9    166377  2019-08-06 00:00:00+03:00        in    False          NaN   \n",
       "17   166377  2019-08-07 00:00:00+03:00        in    False          NaN   \n",
       "27   166377  2019-08-12 00:00:00+03:00        in    False          NaN   \n",
       "\n",
       "    is_missed_call  calls_count  call_duration  total_call_duration  \n",
       "0             True            2              0                    4  \n",
       "7             True            6              0                   35  \n",
       "9             True            4              0                   62  \n",
       "17            True            2              0                   24  \n",
       "27            True            2              0                   34  "
      ]
     },
     "execution_count": 12,
     "metadata": {},
     "output_type": "execute_result"
    }
   ],
   "source": [
    "data[data['operator_id'].isna()].head()"
   ]
  },
  {
   "cell_type": "markdown",
   "metadata": {},
   "source": [
    "Пропуски в столбце с информацией об операторах могли появиться в тех случаях, когда оператора не назначили / не удалось назначить. Проверим это. Рассмотрим, какое-количество из вызовов без оператора являются пропущенными. Также узнаем, входящие или исходящие это вызовы в основном, внутренние или внешние."
   ]
  },
  {
   "cell_type": "code",
   "execution_count": 13,
   "metadata": {},
   "outputs": [
    {
     "name": "stdout",
     "output_type": "stream",
     "text": [
      "Процент пропущенных вызовов с неопр. оператором от общего кол-ва строк с пропуском операторов: 98.5 %\n",
      "Процент внешних вызовов с неопр. оператором от обшего кол-ва строк с пропуском операторов: 95.6 %\n",
      "Процент входящих вызовов с неопр. оператором от обшего кол-ва строк с пропуском операторов: 97.5 %\n"
     ]
    }
   ],
   "source": [
    "print('Процент пропущенных вызовов с неопр. оператором от общего кол-ва строк с пропуском операторов:',\n",
    "round(len(data[data['operator_id'].isna() & data['is_missed_call'] == True]) /\n",
    "      len(data[data['operator_id'].isna()]) * 100, 1), '%')\n",
    "\n",
    "print('Процент внешних вызовов с неопр. оператором от обшего кол-ва строк с пропуском операторов:',\n",
    "round(len(data[(data['operator_id'].isna()) & (data['internal'] == False)]) /\n",
    "      len(data[data['operator_id'].isna()]) * 100, 1), '%')\n",
    "\n",
    "print('Процент входящих вызовов с неопр. оператором от обшего кол-ва строк с пропуском операторов:',\n",
    "round(len(data[(data['operator_id'].isna()) & (data['direction'] == 'in')]) /\n",
    "      len(data[data['operator_id'].isna()]) * 100, 1), '%')"
   ]
  },
  {
   "cell_type": "markdown",
   "metadata": {},
   "source": [
    "Почти все вызовы с неопределенным оператором являются внешними, входящими и пропущенными. Вероятно, из-за того, что вызов является пропущенным, то оператор на него не назначается, а следовательно возникает пропуск в столбце operator_id. \n",
    "\n",
    "97,5% вызовов с неопределенным оператором являются входящими, а входящие звонки на всех тарифах бесплатные. Следовательно, данные пропуски никак не повлияют на расчет выручки, не исказят результаты, поэтому оставим эти записи, чтобы не потерять ~15% данных с другой полезной для анализа клиентов информацией о вызовах."
   ]
  },
  {
   "cell_type": "markdown",
   "metadata": {},
   "source": [
    "**Замена типов данных**\n",
    "\n",
    "В датафрейме с информацией о вызовах стоит привести столбец с датой к правильному типу данных, оставив только дату. Также столбец internal стоит привести к типу данных bool.\n",
    "\n",
    "В датафрейме с информацией о клиентах стоит привести столбец с датой к правильному типу данных, оставив только дату."
   ]
  },
  {
   "cell_type": "code",
   "execution_count": 14,
   "metadata": {
    "scrolled": true
   },
   "outputs": [
    {
     "name": "stdout",
     "output_type": "stream",
     "text": [
      "<class 'pandas.core.frame.DataFrame'>\n",
      "Int64Index: 48892 entries, 0 to 53901\n",
      "Data columns (total 9 columns):\n",
      " #   Column               Non-Null Count  Dtype  \n",
      "---  ------               --------------  -----  \n",
      " 0   user_id              48892 non-null  int64  \n",
      " 1   date                 48892 non-null  object \n",
      " 2   direction            48892 non-null  object \n",
      " 3   internal             48892 non-null  bool   \n",
      " 4   operator_id          41491 non-null  float64\n",
      " 5   is_missed_call       48892 non-null  bool   \n",
      " 6   calls_count          48892 non-null  int64  \n",
      " 7   call_duration        48892 non-null  int64  \n",
      " 8   total_call_duration  48892 non-null  int64  \n",
      "dtypes: bool(2), float64(1), int64(4), object(2)\n",
      "memory usage: 3.1+ MB\n"
     ]
    }
   ],
   "source": [
    "data['date'] = pd.to_datetime(data['date']).dt.date\n",
    "\n",
    "data['internal'] = data['internal'].astype('bool')\n",
    "\n",
    "data.info()"
   ]
  },
  {
   "cell_type": "code",
   "execution_count": 15,
   "metadata": {
    "scrolled": true
   },
   "outputs": [
    {
     "name": "stdout",
     "output_type": "stream",
     "text": [
      "<class 'pandas.core.frame.DataFrame'>\n",
      "RangeIndex: 732 entries, 0 to 731\n",
      "Data columns (total 3 columns):\n",
      " #   Column       Non-Null Count  Dtype \n",
      "---  ------       --------------  ----- \n",
      " 0   user_id      732 non-null    int64 \n",
      " 1   tariff_plan  732 non-null    object\n",
      " 2   date_start   732 non-null    object\n",
      "dtypes: int64(1), object(2)\n",
      "memory usage: 17.3+ KB\n"
     ]
    }
   ],
   "source": [
    "clients['date_start'] = pd.to_datetime(clients['date_start']).dt.date\n",
    "\n",
    "clients.info()"
   ]
  },
  {
   "cell_type": "markdown",
   "metadata": {},
   "source": [
    "**Вывод**\n",
    "\n",
    "Во время предобработки данных было выполнено:\n",
    "\n",
    "- Датафрейм с информацией о вызовах очищен от дубликатов. Пропуски в столбце iternal удалены, а в столбце operator_id оставлены (пропуски появляются, так как не назначается оператор для входящих пропущенных вызовов). Данные в столбце iternal приведены к типу данных bool, в столбце date - к datetime.date;\n",
    "- В датафрейме с информацией о клиентах столбец date_start приведен к типу данных datetime.date"
   ]
  },
  {
   "cell_type": "markdown",
   "metadata": {},
   "source": [
    "## Исследовательский анализ данных <a id ='4'></a>"
   ]
  },
  {
   "cell_type": "markdown",
   "metadata": {},
   "source": [
    "### Изучение и визуализация параметров <a id ='5'></a>\n",
    "\n",
    "**Определение активного периода исследования**\n",
    "\n",
    "Для начала проверим, какой период данных нам задан в анализируемом датафрейме"
   ]
  },
  {
   "cell_type": "code",
   "execution_count": 16,
   "metadata": {},
   "outputs": [
    {
     "name": "stdout",
     "output_type": "stream",
     "text": [
      "Начало периода: 2019-08-02\n",
      "Конец периода: 2019-11-28\n"
     ]
    }
   ],
   "source": [
    "print('Начало периода:', data['date'].min())\n",
    "print('Конец периода:', data['date'].max())"
   ]
  },
  {
   "cell_type": "markdown",
   "metadata": {},
   "source": [
    "Период, за который представлены данные: с августа до декабря 2019 года.\n",
    "\n",
    "Рассматрим период, за который представлены данные о регистрации клиентов в сервисе"
   ]
  },
  {
   "cell_type": "code",
   "execution_count": 17,
   "metadata": {
    "scrolled": true
   },
   "outputs": [
    {
     "name": "stdout",
     "output_type": "stream",
     "text": [
      "Начало периода: 2019-08-01\n",
      "Конец периода: 2019-10-31\n"
     ]
    }
   ],
   "source": [
    "print('Начало периода:', clients['date_start'].min())\n",
    "print('Конец периода:', clients['date_start'].max())"
   ]
  },
  {
   "cell_type": "markdown",
   "metadata": {},
   "source": [
    "Последний день периода регистрации пользователей - 31 октября 2019 года, то есть нет клиентов, зарегистрировавшихся в декабре - значит, крайние активные клиенты прожили хотя бы месяц и мы сможем рассчитать их месячный комфортный расход услуг связи.\n",
    "\n",
    "Рассмотрим, как распределены данные о звонках, не представлено ли периода с недостаточным количеством данных для объективного анализа и корректных выводов"
   ]
  },
  {
   "cell_type": "code",
   "execution_count": 18,
   "metadata": {},
   "outputs": [
    {
     "data": {
      "image/png": "[encoded data removed]",
      "text/plain": [
       "<Figure size 864x576 with 1 Axes>"
      ]
     },
     "metadata": {
      "needs_background": "light"
     },
     "output_type": "display_data"
    }
   ],
   "source": [
    "# суммируем количество звонков по датам и выводим график\n",
    "data.groupby('date').agg({'calls_count':'sum'}).plot(figsize=(12,8), color='black', legend=False)\n",
    "\n",
    "plt.title('Распределение количества завписей о звонках по датам')\n",
    "plt.xlabel(\"Дата\")\n",
    "plt.ylabel(\"Кол-во звонков\")\n",
    "\n",
    "plt.show()"
   ]
  },
  {
   "cell_type": "markdown",
   "metadata": {},
   "source": [
    "Судя по графику, количество звонков постепенно увеличивалось на протяжении всего периода. Незначительное снижение произошло только во второй половине октября и начале ноября, что может быть связано с сезонностью. Постоянный рост количества звонков может быть обусловлен увеличением числа крупных клиентов и преобладанием притока новых клиентов над оттоком.\n",
    "\n",
    "Также стоит отметить регулярные снижения количества звонков в выходные дни, когда колл-центры либо не работают, либо работают в сокращённом режиме.\n",
    "\n",
    "Заметим, что в августе было зафиксировано самое низкое количество звонков (почти весь месяц менее 2500 звонков в день). Это могло произойти из-за недостаточного сбора данных в начале периода или из-за постепенного наращивания клиентской базы провайдером.\n",
    "\n",
    "В любом случае, такое небольшое количество данных за этот месяц может привести к некорректным выводам. Поэтому определим активный период как октябрь-декабрь 2019 года.\n"
   ]
  },
  {
   "cell_type": "code",
   "execution_count": 69,
   "metadata": {
    "scrolled": true
   },
   "outputs": [
    {
     "name": "stdout",
     "output_type": "stream",
     "text": [
      "Доля данных, которая теряется при ограничении активного периода: 0.0 %\n"
     ]
    },
    {
     "data": {
      "text/html": [
       "<div>\n",
       "<style scoped>\n",
       "    .dataframe tbody tr th:only-of-type {\n",
       "        vertical-align: middle;\n",
       "    }\n",
       "\n",
       "    .dataframe tbody tr th {\n",
       "        vertical-align: top;\n",
       "    }\n",
       "\n",
       "    .dataframe thead th {\n",
       "        text-align: right;\n",
       "    }\n",
       "</style>\n",
       "<table border=\"1\" class=\"dataframe\">\n",
       "  <thead>\n",
       "    <tr style=\"text-align: right;\">\n",
       "      <th></th>\n",
       "      <th>user_id</th>\n",
       "      <th>date</th>\n",
       "      <th>direction</th>\n",
       "      <th>internal</th>\n",
       "      <th>operator_id</th>\n",
       "      <th>is_missed_call</th>\n",
       "      <th>calls_count</th>\n",
       "      <th>call_duration</th>\n",
       "      <th>total_call_duration</th>\n",
       "    </tr>\n",
       "  </thead>\n",
       "  <tbody>\n",
       "    <tr>\n",
       "      <th>118</th>\n",
       "      <td>166377</td>\n",
       "      <td>2019-09-02</td>\n",
       "      <td>in</td>\n",
       "      <td>False</td>\n",
       "      <td>880028.0</td>\n",
       "      <td>False</td>\n",
       "      <td>2</td>\n",
       "      <td>66</td>\n",
       "      <td>75</td>\n",
       "    </tr>\n",
       "    <tr>\n",
       "      <th>119</th>\n",
       "      <td>166377</td>\n",
       "      <td>2019-09-02</td>\n",
       "      <td>in</td>\n",
       "      <td>False</td>\n",
       "      <td>880026.0</td>\n",
       "      <td>False</td>\n",
       "      <td>1</td>\n",
       "      <td>31</td>\n",
       "      <td>34</td>\n",
       "    </tr>\n",
       "    <tr>\n",
       "      <th>120</th>\n",
       "      <td>166377</td>\n",
       "      <td>2019-09-02</td>\n",
       "      <td>out</td>\n",
       "      <td>False</td>\n",
       "      <td>880026.0</td>\n",
       "      <td>False</td>\n",
       "      <td>16</td>\n",
       "      <td>1853</td>\n",
       "      <td>1983</td>\n",
       "    </tr>\n",
       "    <tr>\n",
       "      <th>121</th>\n",
       "      <td>166377</td>\n",
       "      <td>2019-09-02</td>\n",
       "      <td>out</td>\n",
       "      <td>False</td>\n",
       "      <td>880026.0</td>\n",
       "      <td>True</td>\n",
       "      <td>6</td>\n",
       "      <td>0</td>\n",
       "      <td>168</td>\n",
       "    </tr>\n",
       "    <tr>\n",
       "      <th>122</th>\n",
       "      <td>166377</td>\n",
       "      <td>2019-09-02</td>\n",
       "      <td>out</td>\n",
       "      <td>False</td>\n",
       "      <td>880028.0</td>\n",
       "      <td>False</td>\n",
       "      <td>20</td>\n",
       "      <td>2529</td>\n",
       "      <td>2687</td>\n",
       "    </tr>\n",
       "  </tbody>\n",
       "</table>\n",
       "</div>"
      ],
      "text/plain": [
       "     user_id        date direction  internal  operator_id  is_missed_call  \\\n",
       "118   166377  2019-09-02        in     False     880028.0           False   \n",
       "119   166377  2019-09-02        in     False     880026.0           False   \n",
       "120   166377  2019-09-02       out     False     880026.0           False   \n",
       "121   166377  2019-09-02       out     False     880026.0            True   \n",
       "122   166377  2019-09-02       out     False     880028.0           False   \n",
       "\n",
       "     calls_count  call_duration  total_call_duration  \n",
       "118            2             66                   75  \n",
       "119            1             31                   34  \n",
       "120           16           1853                 1983  \n",
       "121            6              0                  168  \n",
       "122           20           2529                 2687  "
      ]
     },
     "execution_count": 69,
     "metadata": {},
     "output_type": "execute_result"
    }
   ],
   "source": [
    "print('Доля данных, которая теряется при ограничении активного периода:',\n",
    "      round(len(data[pd.to_datetime(data['date']).dt.month == 8]) / len(data) * 100, 1), '%')\n",
    "\n",
    "# оставляем данные с сентября по декабрь\n",
    "data = data[pd.to_datetime(data['date']).dt.month > 8]\n",
    "\n",
    "data.head()"
   ]
  },
  {
   "cell_type": "markdown",
   "metadata": {},
   "source": [
    "При фильтрации данных по месяцу теряется всего 3,8% данных, что не исказит результаты анализа"
   ]
  },
  {
   "cell_type": "markdown",
   "metadata": {},
   "source": [
    "**Анализ распределений параметров**\n",
    "\n",
    "Рассмотрим, как распределены такие параметры как количество звонков и длительность звонков. Обработаем аномалии, если такие будут\n",
    "\n",
    "\n",
    "Построим гистограмму с количеством звонков"
   ]
  },
  {
   "cell_type": "code",
   "execution_count": 20,
   "metadata": {},
   "outputs": [
    {
     "data": {
      "image/png": "[encoded data removed]",
      "text/plain": [
       "<Figure size 864x576 with 1 Axes>"
      ]
     },
     "metadata": {
      "needs_background": "light"
     },
     "output_type": "display_data"
    }
   ],
   "source": [
    "# размер графика\n",
    "plt.figure(figsize=(12,8))\n",
    "\n",
    "# стиль графиков\n",
    "sns.set_style('whitegrid')\n",
    "\n",
    "ax = sns.histplot(data['calls_count'], bins=20)\n",
    "\n",
    "# подписи графику\n",
    "ax.set_title('Распределение количества звонков')\n",
    "ax.set_xlabel('Количество звонков')\n",
    "ax.set_ylabel('Частота')\n",
    "\n",
    "plt.show()"
   ]
  },
  {
   "cell_type": "markdown",
   "metadata": {},
   "source": [
    "По графику сразу заметно, что есть большие выбросы. Ограничим график до 100 звонков в записи и посмотрим на распределение заново"
   ]
  },
  {
   "cell_type": "code",
   "execution_count": 21,
   "metadata": {},
   "outputs": [
    {
     "data": {
      "image/png": "[encoded data removed]",
      "text/plain": [
       "<Figure size 864x576 with 1 Axes>"
      ]
     },
     "metadata": {},
     "output_type": "display_data"
    }
   ],
   "source": [
    "# размер графика\n",
    "plt.figure(figsize=(12,8))\n",
    "\n",
    "ax = sns.histplot(data['calls_count'], bins=1000)\n",
    "\n",
    "# подписи графику\n",
    "ax.set_title('Распределение количества звонков')\n",
    "ax.set_xlabel('Количество звонков')\n",
    "ax.set_ylabel('Частота')\n",
    "\n",
    "plt.xlim(0, 100)\n",
    "plt.show()"
   ]
  },
  {
   "cell_type": "markdown",
   "metadata": {},
   "source": [
    "Даже при ограничении графика в 100 звонков на запись у графика распределения наблюдается длинный \"хвост\". Это говорит о наличии большого количества аномалий. \n",
    "\n",
    "Перед обработкой аномалий посмотрим на распределение продолжительности звонков"
   ]
  },
  {
   "cell_type": "code",
   "execution_count": 22,
   "metadata": {},
   "outputs": [
    {
     "data": {
      "image/png": "[encoded data removed]",
      "text/plain": [
       "<Figure size 864x576 with 1 Axes>"
      ]
     },
     "metadata": {},
     "output_type": "display_data"
    }
   ],
   "source": [
    "# размер графика\n",
    "plt.figure(figsize=(12,8))\n",
    "\n",
    "ax = sns.histplot(data['total_call_duration'], bins=20)\n",
    "\n",
    "# подписи графику\n",
    "ax.set_title('Распределение длительности звонков')\n",
    "ax.set_xlabel('Длительность звонков, мин.')\n",
    "ax.set_ylabel('Частота')\n",
    "\n",
    "plt.show()"
   ]
  },
  {
   "cell_type": "markdown",
   "metadata": {},
   "source": [
    "Здесь так же наблюдается большое количество выбросов. Присутсвуют продолжительности звонков даже более 125 000  мин. (~ 87 дней). Ограничим график до 10 000 мин. в день и посмотрим на распределение еще раз"
   ]
  },
  {
   "cell_type": "code",
   "execution_count": 23,
   "metadata": {},
   "outputs": [
    {
     "data": {
      "image/png": "[encoded data removed]",
      "text/plain": [
       "<Figure size 864x576 with 1 Axes>"
      ]
     },
     "metadata": {},
     "output_type": "display_data"
    }
   ],
   "source": [
    "# размер графика\n",
    "plt.figure(figsize=(12,8))\n",
    "\n",
    "ax = sns.histplot(data['total_call_duration'], bins=200)\n",
    "\n",
    "# подписи графику\n",
    "ax.set_title('Распределение длительности звонков')\n",
    "ax.set_xlabel('Длительность звонков, мин.')\n",
    "ax.set_ylabel('Частота')\n",
    "\n",
    "plt.xlim(0, 10000)\n",
    "plt.show()"
   ]
  },
  {
   "cell_type": "code",
   "execution_count": 24,
   "metadata": {},
   "outputs": [
    {
     "data": {
      "text/html": [
       "<div>\n",
       "<style scoped>\n",
       "    .dataframe tbody tr th:only-of-type {\n",
       "        vertical-align: middle;\n",
       "    }\n",
       "\n",
       "    .dataframe tbody tr th {\n",
       "        vertical-align: top;\n",
       "    }\n",
       "\n",
       "    .dataframe thead th {\n",
       "        text-align: right;\n",
       "    }\n",
       "</style>\n",
       "<table border=\"1\" class=\"dataframe\">\n",
       "  <thead>\n",
       "    <tr style=\"text-align: right;\">\n",
       "      <th></th>\n",
       "      <th>calls_count</th>\n",
       "      <th>total_call_duration</th>\n",
       "    </tr>\n",
       "  </thead>\n",
       "  <tbody>\n",
       "    <tr>\n",
       "      <th>count</th>\n",
       "      <td>47034.000000</td>\n",
       "      <td>47034.000000</td>\n",
       "    </tr>\n",
       "    <tr>\n",
       "      <th>mean</th>\n",
       "      <td>16.352639</td>\n",
       "      <td>1138.072288</td>\n",
       "    </tr>\n",
       "    <tr>\n",
       "      <th>std</th>\n",
       "      <td>63.708334</td>\n",
       "      <td>4338.346880</td>\n",
       "    </tr>\n",
       "    <tr>\n",
       "      <th>min</th>\n",
       "      <td>1.000000</td>\n",
       "      <td>0.000000</td>\n",
       "    </tr>\n",
       "    <tr>\n",
       "      <th>25%</th>\n",
       "      <td>1.000000</td>\n",
       "      <td>47.000000</td>\n",
       "    </tr>\n",
       "    <tr>\n",
       "      <th>50%</th>\n",
       "      <td>4.000000</td>\n",
       "      <td>212.000000</td>\n",
       "    </tr>\n",
       "    <tr>\n",
       "      <th>75%</th>\n",
       "      <td>12.000000</td>\n",
       "      <td>905.000000</td>\n",
       "    </tr>\n",
       "    <tr>\n",
       "      <th>max</th>\n",
       "      <td>4817.000000</td>\n",
       "      <td>166155.000000</td>\n",
       "    </tr>\n",
       "  </tbody>\n",
       "</table>\n",
       "</div>"
      ],
      "text/plain": [
       "        calls_count  total_call_duration\n",
       "count  47034.000000         47034.000000\n",
       "mean      16.352639          1138.072288\n",
       "std       63.708334          4338.346880\n",
       "min        1.000000             0.000000\n",
       "25%        1.000000            47.000000\n",
       "50%        4.000000           212.000000\n",
       "75%       12.000000           905.000000\n",
       "max     4817.000000        166155.000000"
      ]
     },
     "execution_count": 24,
     "metadata": {},
     "output_type": "execute_result"
    }
   ],
   "source": [
    "data[['calls_count', 'total_call_duration']].describe()"
   ]
  },
  {
   "cell_type": "markdown",
   "metadata": {},
   "source": [
    "В обоих рассматриваемых параметрах наблюдаются аномалии. Так в 75% записей о звонках совершается не более 12 звонков, при этом максимальное количество звонков - 4817. В 75% записей совершаются звонки длительностью не более 902 мин., при этом максимальная продолжительность - 166 155 мин.\n",
    "\n",
    "Так как мы считаем, что данные выгружены корректно и только в минутах, то наличие аномалий можно объяснить следующими причинами:\n",
    "- происходят сбои в закрытии смены операторов;\n",
    "- через одну учетную запись работают сразу несколько операторов, то есть клиент идет на хитрость, чтобы не доплачивать за количество операторов. Данную ситуацию рекомендуется проверить и, возможно, пересмотреть либо средства защиты от таких действий, либо сами тарифные условия, чтобы у клиента не возникало стимулов экономить таким образом.\n",
    "\n",
    "**Обработка аномалий**\n",
    "\n",
    "Для того, чтобы не удалять большое количество важных данных о звонках, определим 95-й и 99-й перцентили столбцов с информацией о количестве и продолжительности звонков"
   ]
  },
  {
   "cell_type": "code",
   "execution_count": 25,
   "metadata": {},
   "outputs": [
    {
     "name": "stdout",
     "output_type": "stream",
     "text": [
      "95-й перцентиль столбца calls_count: 62\n",
      "99-й перцентиль столбца calls_count: 155\n",
      "95-й перцентиль столбца total_call_duration: 4504\n",
      "99-й перцентиль столбца total_call_duration: 12710\n"
     ]
    }
   ],
   "source": [
    "for j in ['calls_count', 'total_call_duration']:\n",
    "    print(f'95-й перцентиль столбца {j}: {round(np.percentile(data[j], [95, 99])[0])}')\n",
    "    print(f'99-й перцентиль столбца {j}: {round(np.percentile(data[j], [95, 99])[1])}')"
   ]
  },
  {
   "cell_type": "markdown",
   "metadata": {},
   "source": [
    "Очистим данные от больших аномалий: \n",
    "- оставим в датафрейме записи с количеством звонков менее 150, так мы удалим менее 5% данных\n",
    "- оставим в датафрейме записи с продолжительностью звонков менее 8000, так мы удалим менее 5% данных"
   ]
  },
  {
   "cell_type": "code",
   "execution_count": 70,
   "metadata": {},
   "outputs": [
    {
     "name": "stdout",
     "output_type": "stream",
     "text": [
      "Удалено данных относительно первоначального очищенного датафрейма: 2.6 %\n"
     ]
    }
   ],
   "source": [
    "# максимальное кол-во звонков для очистки от аномалий\n",
    "max_calls = 150\n",
    "# максимальная продолжительность для очистки от аномалий\n",
    "max_duration = 8000\n",
    "\n",
    "# удаляем аномалии столбца calls_count\n",
    "data_new = data.query('calls_count < @max_calls')\n",
    "\n",
    "# удаляем аномалии столбца total_call_duration\n",
    "data_new = data_new.query('total_call_duration < @max_duration')\n",
    "\n",
    "print('Удалено данных относительно первоначального очищенного датафрейма:', round((1 - len(data_new)/len(data))*100, 1), '%')"
   ]
  },
  {
   "cell_type": "markdown",
   "metadata": {},
   "source": [
    "Очистив данные от аномалий, мы потеряли менее 3% всех данных, что не исказит результаты анализа\n",
    "\n",
    "**Анализ количества клиентов каждого тарифа**\n",
    "\n",
    "Узнаем, сколько клиентов пользуется каждым из тарифов. Вывим наиболее популярный тариф у колл-центров"
   ]
  },
  {
   "cell_type": "code",
   "execution_count": 27,
   "metadata": {},
   "outputs": [
    {
     "name": "stdout",
     "output_type": "stream",
     "text": [
      "---------- Первые 5 строк датафрейма ----------\n"
     ]
    },
    {
     "data": {
      "text/html": [
       "<div>\n",
       "<style scoped>\n",
       "    .dataframe tbody tr th:only-of-type {\n",
       "        vertical-align: middle;\n",
       "    }\n",
       "\n",
       "    .dataframe tbody tr th {\n",
       "        vertical-align: top;\n",
       "    }\n",
       "\n",
       "    .dataframe thead th {\n",
       "        text-align: right;\n",
       "    }\n",
       "</style>\n",
       "<table border=\"1\" class=\"dataframe\">\n",
       "  <thead>\n",
       "    <tr style=\"text-align: right;\">\n",
       "      <th></th>\n",
       "      <th>user_id</th>\n",
       "      <th>date</th>\n",
       "      <th>direction</th>\n",
       "      <th>internal</th>\n",
       "      <th>operator_id</th>\n",
       "      <th>is_missed_call</th>\n",
       "      <th>calls_count</th>\n",
       "      <th>call_duration</th>\n",
       "      <th>total_call_duration</th>\n",
       "      <th>tariff_plan</th>\n",
       "      <th>date_start</th>\n",
       "    </tr>\n",
       "  </thead>\n",
       "  <tbody>\n",
       "    <tr>\n",
       "      <th>0</th>\n",
       "      <td>166377</td>\n",
       "      <td>2019-09-02</td>\n",
       "      <td>in</td>\n",
       "      <td>False</td>\n",
       "      <td>880028.0</td>\n",
       "      <td>False</td>\n",
       "      <td>2</td>\n",
       "      <td>66</td>\n",
       "      <td>75</td>\n",
       "      <td>B</td>\n",
       "      <td>2019-08-01</td>\n",
       "    </tr>\n",
       "    <tr>\n",
       "      <th>1</th>\n",
       "      <td>166377</td>\n",
       "      <td>2019-09-02</td>\n",
       "      <td>in</td>\n",
       "      <td>False</td>\n",
       "      <td>880026.0</td>\n",
       "      <td>False</td>\n",
       "      <td>1</td>\n",
       "      <td>31</td>\n",
       "      <td>34</td>\n",
       "      <td>B</td>\n",
       "      <td>2019-08-01</td>\n",
       "    </tr>\n",
       "    <tr>\n",
       "      <th>2</th>\n",
       "      <td>166377</td>\n",
       "      <td>2019-09-02</td>\n",
       "      <td>out</td>\n",
       "      <td>False</td>\n",
       "      <td>880026.0</td>\n",
       "      <td>False</td>\n",
       "      <td>16</td>\n",
       "      <td>1853</td>\n",
       "      <td>1983</td>\n",
       "      <td>B</td>\n",
       "      <td>2019-08-01</td>\n",
       "    </tr>\n",
       "    <tr>\n",
       "      <th>3</th>\n",
       "      <td>166377</td>\n",
       "      <td>2019-09-02</td>\n",
       "      <td>out</td>\n",
       "      <td>False</td>\n",
       "      <td>880026.0</td>\n",
       "      <td>True</td>\n",
       "      <td>6</td>\n",
       "      <td>0</td>\n",
       "      <td>168</td>\n",
       "      <td>B</td>\n",
       "      <td>2019-08-01</td>\n",
       "    </tr>\n",
       "    <tr>\n",
       "      <th>4</th>\n",
       "      <td>166377</td>\n",
       "      <td>2019-09-02</td>\n",
       "      <td>out</td>\n",
       "      <td>False</td>\n",
       "      <td>880028.0</td>\n",
       "      <td>False</td>\n",
       "      <td>20</td>\n",
       "      <td>2529</td>\n",
       "      <td>2687</td>\n",
       "      <td>B</td>\n",
       "      <td>2019-08-01</td>\n",
       "    </tr>\n",
       "  </tbody>\n",
       "</table>\n",
       "</div>"
      ],
      "text/plain": [
       "   user_id        date direction  internal  operator_id  is_missed_call  \\\n",
       "0   166377  2019-09-02        in     False     880028.0           False   \n",
       "1   166377  2019-09-02        in     False     880026.0           False   \n",
       "2   166377  2019-09-02       out     False     880026.0           False   \n",
       "3   166377  2019-09-02       out     False     880026.0            True   \n",
       "4   166377  2019-09-02       out     False     880028.0           False   \n",
       "\n",
       "   calls_count  call_duration  total_call_duration tariff_plan  date_start  \n",
       "0            2             66                   75           B  2019-08-01  \n",
       "1            1             31                   34           B  2019-08-01  \n",
       "2           16           1853                 1983           B  2019-08-01  \n",
       "3            6              0                  168           B  2019-08-01  \n",
       "4           20           2529                 2687           B  2019-08-01  "
      ]
     },
     "metadata": {},
     "output_type": "display_data"
    },
    {
     "name": "stdout",
     "output_type": "stream",
     "text": [
      "---------- Общая информация о датафрейме ----------\n",
      "\n",
      "<class 'pandas.core.frame.DataFrame'>\n",
      "Int64Index: 45797 entries, 0 to 45796\n",
      "Data columns (total 11 columns):\n",
      " #   Column               Non-Null Count  Dtype  \n",
      "---  ------               --------------  -----  \n",
      " 0   user_id              45797 non-null  int64  \n",
      " 1   date                 45797 non-null  object \n",
      " 2   direction            45797 non-null  object \n",
      " 3   internal             45797 non-null  bool   \n",
      " 4   operator_id          38886 non-null  float64\n",
      " 5   is_missed_call       45797 non-null  bool   \n",
      " 6   calls_count          45797 non-null  int64  \n",
      " 7   call_duration        45797 non-null  int64  \n",
      " 8   total_call_duration  45797 non-null  int64  \n",
      " 9   tariff_plan          45797 non-null  object \n",
      " 10  date_start           45797 non-null  object \n",
      "dtypes: bool(2), float64(1), int64(4), object(4)\n",
      "memory usage: 3.6+ MB\n"
     ]
    },
    {
     "data": {
      "text/plain": [
       "None"
      ]
     },
     "metadata": {},
     "output_type": "display_data"
    },
    {
     "name": "stdout",
     "output_type": "stream",
     "text": [
      "---------- Статистическая сводка ----------\n"
     ]
    },
    {
     "data": {
      "text/html": [
       "<div>\n",
       "<style scoped>\n",
       "    .dataframe tbody tr th:only-of-type {\n",
       "        vertical-align: middle;\n",
       "    }\n",
       "\n",
       "    .dataframe tbody tr th {\n",
       "        vertical-align: top;\n",
       "    }\n",
       "\n",
       "    .dataframe thead th {\n",
       "        text-align: right;\n",
       "    }\n",
       "</style>\n",
       "<table border=\"1\" class=\"dataframe\">\n",
       "  <thead>\n",
       "    <tr style=\"text-align: right;\">\n",
       "      <th></th>\n",
       "      <th>user_id</th>\n",
       "      <th>operator_id</th>\n",
       "      <th>calls_count</th>\n",
       "      <th>call_duration</th>\n",
       "      <th>total_call_duration</th>\n",
       "    </tr>\n",
       "  </thead>\n",
       "  <tbody>\n",
       "    <tr>\n",
       "      <th>count</th>\n",
       "      <td>45797.000000</td>\n",
       "      <td>38886.000000</td>\n",
       "      <td>45797.000000</td>\n",
       "      <td>45797.000000</td>\n",
       "      <td>45797.000000</td>\n",
       "    </tr>\n",
       "    <tr>\n",
       "      <th>mean</th>\n",
       "      <td>167312.776863</td>\n",
       "      <td>917392.380805</td>\n",
       "      <td>10.569819</td>\n",
       "      <td>530.811516</td>\n",
       "      <td>720.268598</td>\n",
       "    </tr>\n",
       "    <tr>\n",
       "      <th>std</th>\n",
       "      <td>588.449165</td>\n",
       "      <td>20789.983574</td>\n",
       "      <td>17.512985</td>\n",
       "      <td>1079.998309</td>\n",
       "      <td>1226.024568</td>\n",
       "    </tr>\n",
       "    <tr>\n",
       "      <th>min</th>\n",
       "      <td>166377.000000</td>\n",
       "      <td>879896.000000</td>\n",
       "      <td>1.000000</td>\n",
       "      <td>0.000000</td>\n",
       "      <td>0.000000</td>\n",
       "    </tr>\n",
       "    <tr>\n",
       "      <th>25%</th>\n",
       "      <td>166839.000000</td>\n",
       "      <td>901880.000000</td>\n",
       "      <td>1.000000</td>\n",
       "      <td>0.000000</td>\n",
       "      <td>45.000000</td>\n",
       "    </tr>\n",
       "    <tr>\n",
       "      <th>50%</th>\n",
       "      <td>167176.000000</td>\n",
       "      <td>914842.000000</td>\n",
       "      <td>4.000000</td>\n",
       "      <td>35.000000</td>\n",
       "      <td>197.000000</td>\n",
       "    </tr>\n",
       "    <tr>\n",
       "      <th>75%</th>\n",
       "      <td>167827.000000</td>\n",
       "      <td>937736.000000</td>\n",
       "      <td>11.000000</td>\n",
       "      <td>519.000000</td>\n",
       "      <td>801.000000</td>\n",
       "    </tr>\n",
       "    <tr>\n",
       "      <th>max</th>\n",
       "      <td>168606.000000</td>\n",
       "      <td>973286.000000</td>\n",
       "      <td>149.000000</td>\n",
       "      <td>7811.000000</td>\n",
       "      <td>7999.000000</td>\n",
       "    </tr>\n",
       "  </tbody>\n",
       "</table>\n",
       "</div>"
      ],
      "text/plain": [
       "             user_id    operator_id   calls_count  call_duration  \\\n",
       "count   45797.000000   38886.000000  45797.000000   45797.000000   \n",
       "mean   167312.776863  917392.380805     10.569819     530.811516   \n",
       "std       588.449165   20789.983574     17.512985    1079.998309   \n",
       "min    166377.000000  879896.000000      1.000000       0.000000   \n",
       "25%    166839.000000  901880.000000      1.000000       0.000000   \n",
       "50%    167176.000000  914842.000000      4.000000      35.000000   \n",
       "75%    167827.000000  937736.000000     11.000000     519.000000   \n",
       "max    168606.000000  973286.000000    149.000000    7811.000000   \n",
       "\n",
       "       total_call_duration  \n",
       "count         45797.000000  \n",
       "mean            720.268598  \n",
       "std            1226.024568  \n",
       "min               0.000000  \n",
       "25%              45.000000  \n",
       "50%             197.000000  \n",
       "75%             801.000000  \n",
       "max            7999.000000  "
      ]
     },
     "metadata": {},
     "output_type": "display_data"
    },
    {
     "name": "stdout",
     "output_type": "stream",
     "text": [
      "---------- Пропуски ----------\n"
     ]
    },
    {
     "data": {
      "text/plain": [
       "operator_id            6911\n",
       "user_id                   0\n",
       "date                      0\n",
       "direction                 0\n",
       "internal                  0\n",
       "is_missed_call            0\n",
       "calls_count               0\n",
       "call_duration             0\n",
       "total_call_duration       0\n",
       "tariff_plan               0\n",
       "date_start                0\n",
       "dtype: int64"
      ]
     },
     "metadata": {},
     "output_type": "display_data"
    },
    {
     "name": "stdout",
     "output_type": "stream",
     "text": [
      "---------- Процент пропусков от общего числа строк ----------\n"
     ]
    },
    {
     "data": {
      "text/plain": [
       "operator_id            15.090508\n",
       "user_id                 0.000000\n",
       "date                    0.000000\n",
       "direction               0.000000\n",
       "internal                0.000000\n",
       "is_missed_call          0.000000\n",
       "calls_count             0.000000\n",
       "call_duration           0.000000\n",
       "total_call_duration     0.000000\n",
       "tariff_plan             0.000000\n",
       "date_start              0.000000\n",
       "dtype: float64"
      ]
     },
     "metadata": {},
     "output_type": "display_data"
    },
    {
     "name": "stdout",
     "output_type": "stream",
     "text": [
      "---------- Дубликаты отсутствуют ----------\n"
     ]
    }
   ],
   "source": [
    "# объединим таблицу с данными о звонках и таблицей с данными о клиентах\n",
    "data_tarif = data_new.merge(clients, on='user_id')\n",
    "\n",
    "# проверим, правильно ли объединилось, получим общую информацию о новом дф\n",
    "df_info(data_tarif)"
   ]
  },
  {
   "cell_type": "markdown",
   "metadata": {},
   "source": [
    "Датасеты объединились корректно, теперь посчитаем, сколько клиентов пользуется каждым из тарифов"
   ]
  },
  {
   "cell_type": "code",
   "execution_count": 28,
   "metadata": {},
   "outputs": [
    {
     "data": {
      "image/png": "[encoded data removed]",
      "text/plain": [
       "<Figure size 864x576 with 1 Axes>"
      ]
     },
     "metadata": {},
     "output_type": "display_data"
    }
   ],
   "source": [
    "# размер\n",
    "plt.figure(figsize=(12, 8))\n",
    "\n",
    "# круговая диаграмма по сводной таблице с количеством уникальных пользователей по каждому из тарифов\n",
    "plt.pie(data_tarif.pivot_table(index='tariff_plan', values='user_id', aggfunc='nunique').reset_index()['user_id'],\n",
    "        labels = ['A', 'B', 'C'],\n",
    "        autopct='%.1f%%',\n",
    "        textprops={'size': 'large'},\n",
    "        colors = sns.color_palette('pastel')[3:6])\n",
    "\n",
    "plt.show()"
   ]
  },
  {
   "cell_type": "markdown",
   "metadata": {},
   "source": [
    "Cамый популярный тариф - С, им пользуются больше половины всех пользователей (52,4%) - это самый номинально дешевый тариф. Самым непопулярным тарифом является тариф А - он самый дорогой - им пользуются 11% всех пользователей.\n"
   ]
  },
  {
   "cell_type": "markdown",
   "metadata": {},
   "source": [
    "### Определение активных клиентов <a id ='6'></a>"
   ]
  },
  {
   "cell_type": "markdown",
   "metadata": {},
   "source": [
    "Определим активных клиентов. Для этого рассчитаем последнюю дату активности у каждого клиента. Сравним эту дату с последней датой в периоде. Будем считать клиента неактивным, если он не совершал звонков в течение 15 дней"
   ]
  },
  {
   "cell_type": "code",
   "execution_count": 29,
   "metadata": {},
   "outputs": [
    {
     "data": {
      "text/html": [
       "<div>\n",
       "<style scoped>\n",
       "    .dataframe tbody tr th:only-of-type {\n",
       "        vertical-align: middle;\n",
       "    }\n",
       "\n",
       "    .dataframe tbody tr th {\n",
       "        vertical-align: top;\n",
       "    }\n",
       "\n",
       "    .dataframe thead th {\n",
       "        text-align: right;\n",
       "    }\n",
       "</style>\n",
       "<table border=\"1\" class=\"dataframe\">\n",
       "  <thead>\n",
       "    <tr style=\"text-align: right;\">\n",
       "      <th></th>\n",
       "      <th>user_id</th>\n",
       "      <th>date</th>\n",
       "      <th>direction</th>\n",
       "      <th>internal</th>\n",
       "      <th>operator_id</th>\n",
       "      <th>is_missed_call</th>\n",
       "      <th>calls_count</th>\n",
       "      <th>call_duration</th>\n",
       "      <th>total_call_duration</th>\n",
       "      <th>tariff_plan</th>\n",
       "      <th>date_start</th>\n",
       "      <th>is_active</th>\n",
       "    </tr>\n",
       "  </thead>\n",
       "  <tbody>\n",
       "    <tr>\n",
       "      <th>0</th>\n",
       "      <td>166377</td>\n",
       "      <td>2019-09-02</td>\n",
       "      <td>in</td>\n",
       "      <td>False</td>\n",
       "      <td>880028.0</td>\n",
       "      <td>False</td>\n",
       "      <td>2</td>\n",
       "      <td>66</td>\n",
       "      <td>75</td>\n",
       "      <td>B</td>\n",
       "      <td>2019-08-01</td>\n",
       "      <td>True</td>\n",
       "    </tr>\n",
       "    <tr>\n",
       "      <th>1</th>\n",
       "      <td>166377</td>\n",
       "      <td>2019-09-02</td>\n",
       "      <td>in</td>\n",
       "      <td>False</td>\n",
       "      <td>880026.0</td>\n",
       "      <td>False</td>\n",
       "      <td>1</td>\n",
       "      <td>31</td>\n",
       "      <td>34</td>\n",
       "      <td>B</td>\n",
       "      <td>2019-08-01</td>\n",
       "      <td>True</td>\n",
       "    </tr>\n",
       "    <tr>\n",
       "      <th>2</th>\n",
       "      <td>166377</td>\n",
       "      <td>2019-09-02</td>\n",
       "      <td>out</td>\n",
       "      <td>False</td>\n",
       "      <td>880026.0</td>\n",
       "      <td>False</td>\n",
       "      <td>16</td>\n",
       "      <td>1853</td>\n",
       "      <td>1983</td>\n",
       "      <td>B</td>\n",
       "      <td>2019-08-01</td>\n",
       "      <td>True</td>\n",
       "    </tr>\n",
       "    <tr>\n",
       "      <th>3</th>\n",
       "      <td>166377</td>\n",
       "      <td>2019-09-02</td>\n",
       "      <td>out</td>\n",
       "      <td>False</td>\n",
       "      <td>880026.0</td>\n",
       "      <td>True</td>\n",
       "      <td>6</td>\n",
       "      <td>0</td>\n",
       "      <td>168</td>\n",
       "      <td>B</td>\n",
       "      <td>2019-08-01</td>\n",
       "      <td>True</td>\n",
       "    </tr>\n",
       "    <tr>\n",
       "      <th>4</th>\n",
       "      <td>166377</td>\n",
       "      <td>2019-09-02</td>\n",
       "      <td>out</td>\n",
       "      <td>False</td>\n",
       "      <td>880028.0</td>\n",
       "      <td>False</td>\n",
       "      <td>20</td>\n",
       "      <td>2529</td>\n",
       "      <td>2687</td>\n",
       "      <td>B</td>\n",
       "      <td>2019-08-01</td>\n",
       "      <td>True</td>\n",
       "    </tr>\n",
       "  </tbody>\n",
       "</table>\n",
       "</div>"
      ],
      "text/plain": [
       "   user_id        date direction  internal  operator_id  is_missed_call  \\\n",
       "0   166377  2019-09-02        in     False     880028.0           False   \n",
       "1   166377  2019-09-02        in     False     880026.0           False   \n",
       "2   166377  2019-09-02       out     False     880026.0           False   \n",
       "3   166377  2019-09-02       out     False     880026.0            True   \n",
       "4   166377  2019-09-02       out     False     880028.0           False   \n",
       "\n",
       "   calls_count  call_duration  total_call_duration tariff_plan  date_start  \\\n",
       "0            2             66                   75           B  2019-08-01   \n",
       "1            1             31                   34           B  2019-08-01   \n",
       "2           16           1853                 1983           B  2019-08-01   \n",
       "3            6              0                  168           B  2019-08-01   \n",
       "4           20           2529                 2687           B  2019-08-01   \n",
       "\n",
       "   is_active  \n",
       "0       True  \n",
       "1       True  \n",
       "2       True  \n",
       "3       True  \n",
       "4       True  "
      ]
     },
     "metadata": {},
     "output_type": "display_data"
    },
    {
     "name": "stdout",
     "output_type": "stream",
     "text": [
      "Количество неактивных пользователей: 56\n",
      "Процент неактивных пользователей от всех: 18.5 %\n"
     ]
    }
   ],
   "source": [
    "# дф с информацией об активности пользователей\n",
    "# для каждого пользователя рассчитываем крайнюю дату активности\n",
    "activity = data_tarif.groupby('user_id').agg(last_date=('date', 'last')).reset_index()\n",
    "\n",
    "# последняя дата наблюдений\n",
    "max_date = data['date'].max()\n",
    "\n",
    "# задаем границу - через сколько дней без активности пользователя можно считать неактивным\n",
    "day_wo_act = 15\n",
    "\n",
    "# от последней даты наблюдений отнимаем последнюю дату активности пользователя\n",
    "# и сравниваем получившееся кол-во дней без активности с границей\n",
    "activity['is_active'] = (max_date - activity['last_date']).dt.days < day_wo_act\n",
    "\n",
    "# добавляем столбец с информацией об активности пользователя в основной дф\n",
    "data_tarif = data_tarif.merge(activity[['user_id', 'is_active']], on='user_id')\n",
    "\n",
    "display(data_tarif.head(5))\n",
    "print('Количество неактивных пользователей:', len(activity.query('is_active == False')))\n",
    "\n",
    "print('Процент неактивных пользователей от всех:',\n",
    "      round(len(activity.query('is_active == False')) / len(activity) * 100, 1), '%')"
   ]
  },
  {
   "cell_type": "markdown",
   "metadata": {},
   "source": [
    "Для дальнейшего анализ оставим только активных пользователей в датафрейме, так как предлагать сменить тариф неактивным пользователям нет смылса. Также добавим в датафрейм столбец с информацией о номере месяца для удобства дальнейшего анализа"
   ]
  },
  {
   "cell_type": "code",
   "execution_count": 30,
   "metadata": {
    "scrolled": true
   },
   "outputs": [
    {
     "data": {
      "text/html": [
       "<div>\n",
       "<style scoped>\n",
       "    .dataframe tbody tr th:only-of-type {\n",
       "        vertical-align: middle;\n",
       "    }\n",
       "\n",
       "    .dataframe tbody tr th {\n",
       "        vertical-align: top;\n",
       "    }\n",
       "\n",
       "    .dataframe thead th {\n",
       "        text-align: right;\n",
       "    }\n",
       "</style>\n",
       "<table border=\"1\" class=\"dataframe\">\n",
       "  <thead>\n",
       "    <tr style=\"text-align: right;\">\n",
       "      <th></th>\n",
       "      <th>user_id</th>\n",
       "      <th>date</th>\n",
       "      <th>direction</th>\n",
       "      <th>internal</th>\n",
       "      <th>operator_id</th>\n",
       "      <th>is_missed_call</th>\n",
       "      <th>calls_count</th>\n",
       "      <th>call_duration</th>\n",
       "      <th>total_call_duration</th>\n",
       "      <th>tariff_plan</th>\n",
       "      <th>date_start</th>\n",
       "      <th>is_active</th>\n",
       "      <th>month</th>\n",
       "    </tr>\n",
       "  </thead>\n",
       "  <tbody>\n",
       "    <tr>\n",
       "      <th>0</th>\n",
       "      <td>166377</td>\n",
       "      <td>2019-09-02</td>\n",
       "      <td>in</td>\n",
       "      <td>False</td>\n",
       "      <td>880028.0</td>\n",
       "      <td>False</td>\n",
       "      <td>2</td>\n",
       "      <td>66</td>\n",
       "      <td>75</td>\n",
       "      <td>B</td>\n",
       "      <td>2019-08-01</td>\n",
       "      <td>True</td>\n",
       "      <td>9</td>\n",
       "    </tr>\n",
       "    <tr>\n",
       "      <th>1</th>\n",
       "      <td>166377</td>\n",
       "      <td>2019-09-02</td>\n",
       "      <td>in</td>\n",
       "      <td>False</td>\n",
       "      <td>880026.0</td>\n",
       "      <td>False</td>\n",
       "      <td>1</td>\n",
       "      <td>31</td>\n",
       "      <td>34</td>\n",
       "      <td>B</td>\n",
       "      <td>2019-08-01</td>\n",
       "      <td>True</td>\n",
       "      <td>9</td>\n",
       "    </tr>\n",
       "    <tr>\n",
       "      <th>2</th>\n",
       "      <td>166377</td>\n",
       "      <td>2019-09-02</td>\n",
       "      <td>out</td>\n",
       "      <td>False</td>\n",
       "      <td>880026.0</td>\n",
       "      <td>False</td>\n",
       "      <td>16</td>\n",
       "      <td>1853</td>\n",
       "      <td>1983</td>\n",
       "      <td>B</td>\n",
       "      <td>2019-08-01</td>\n",
       "      <td>True</td>\n",
       "      <td>9</td>\n",
       "    </tr>\n",
       "    <tr>\n",
       "      <th>3</th>\n",
       "      <td>166377</td>\n",
       "      <td>2019-09-02</td>\n",
       "      <td>out</td>\n",
       "      <td>False</td>\n",
       "      <td>880026.0</td>\n",
       "      <td>True</td>\n",
       "      <td>6</td>\n",
       "      <td>0</td>\n",
       "      <td>168</td>\n",
       "      <td>B</td>\n",
       "      <td>2019-08-01</td>\n",
       "      <td>True</td>\n",
       "      <td>9</td>\n",
       "    </tr>\n",
       "    <tr>\n",
       "      <th>4</th>\n",
       "      <td>166377</td>\n",
       "      <td>2019-09-02</td>\n",
       "      <td>out</td>\n",
       "      <td>False</td>\n",
       "      <td>880028.0</td>\n",
       "      <td>False</td>\n",
       "      <td>20</td>\n",
       "      <td>2529</td>\n",
       "      <td>2687</td>\n",
       "      <td>B</td>\n",
       "      <td>2019-08-01</td>\n",
       "      <td>True</td>\n",
       "      <td>9</td>\n",
       "    </tr>\n",
       "  </tbody>\n",
       "</table>\n",
       "</div>"
      ],
      "text/plain": [
       "   user_id        date direction  internal  operator_id  is_missed_call  \\\n",
       "0   166377  2019-09-02        in     False     880028.0           False   \n",
       "1   166377  2019-09-02        in     False     880026.0           False   \n",
       "2   166377  2019-09-02       out     False     880026.0           False   \n",
       "3   166377  2019-09-02       out     False     880026.0            True   \n",
       "4   166377  2019-09-02       out     False     880028.0           False   \n",
       "\n",
       "   calls_count  call_duration  total_call_duration tariff_plan  date_start  \\\n",
       "0            2             66                   75           B  2019-08-01   \n",
       "1            1             31                   34           B  2019-08-01   \n",
       "2           16           1853                 1983           B  2019-08-01   \n",
       "3            6              0                  168           B  2019-08-01   \n",
       "4           20           2529                 2687           B  2019-08-01   \n",
       "\n",
       "   is_active  month  \n",
       "0       True      9  \n",
       "1       True      9  \n",
       "2       True      9  \n",
       "3       True      9  \n",
       "4       True      9  "
      ]
     },
     "execution_count": 30,
     "metadata": {},
     "output_type": "execute_result"
    }
   ],
   "source": [
    "# активные пользователи\n",
    "data_act = data_tarif[data_tarif['is_active'] == True]\n",
    "\n",
    "# столбец с информацией о месяце\n",
    "data_act['month'] = pd.to_datetime(data_act['date']).dt.month\n",
    "\n",
    "data_act.head()"
   ]
  },
  {
   "cell_type": "markdown",
   "metadata": {},
   "source": [
    "Создадим датафрейм с информацией о тарифах и параметрах каждого из тарифов:\n",
    "\n",
    "- `tariff_plan` - тарифный план, название;\n",
    "- `monthly` - ежемесячная плата за тариф;\n",
    "- `limit` - исходящие звонки внутри сети, включенные в тариф;\n",
    "- `up_limit` - цена сверх лимита;\n",
    "- `if_not_internal` - исходящие звонки, кроме внутренних;\n",
    "- `per_operator` - дополнительная ежемесячная плата за каждого оператора."
   ]
  },
  {
   "cell_type": "code",
   "execution_count": 31,
   "metadata": {},
   "outputs": [
    {
     "data": {
      "text/html": [
       "<div>\n",
       "<style scoped>\n",
       "    .dataframe tbody tr th:only-of-type {\n",
       "        vertical-align: middle;\n",
       "    }\n",
       "\n",
       "    .dataframe tbody tr th {\n",
       "        vertical-align: top;\n",
       "    }\n",
       "\n",
       "    .dataframe thead th {\n",
       "        text-align: right;\n",
       "    }\n",
       "</style>\n",
       "<table border=\"1\" class=\"dataframe\">\n",
       "  <thead>\n",
       "    <tr style=\"text-align: right;\">\n",
       "      <th></th>\n",
       "      <th>tariff_plan</th>\n",
       "      <th>monthly</th>\n",
       "      <th>limit</th>\n",
       "      <th>up_limit</th>\n",
       "      <th>if_not_internal</th>\n",
       "      <th>per_operator</th>\n",
       "    </tr>\n",
       "  </thead>\n",
       "  <tbody>\n",
       "    <tr>\n",
       "      <th>0</th>\n",
       "      <td>A</td>\n",
       "      <td>4000</td>\n",
       "      <td>2000</td>\n",
       "      <td>0.10</td>\n",
       "      <td>0.3</td>\n",
       "      <td>50</td>\n",
       "    </tr>\n",
       "    <tr>\n",
       "      <th>1</th>\n",
       "      <td>B</td>\n",
       "      <td>2000</td>\n",
       "      <td>500</td>\n",
       "      <td>0.15</td>\n",
       "      <td>0.5</td>\n",
       "      <td>150</td>\n",
       "    </tr>\n",
       "    <tr>\n",
       "      <th>2</th>\n",
       "      <td>C</td>\n",
       "      <td>1000</td>\n",
       "      <td>0</td>\n",
       "      <td>0.30</td>\n",
       "      <td>0.7</td>\n",
       "      <td>300</td>\n",
       "    </tr>\n",
       "  </tbody>\n",
       "</table>\n",
       "</div>"
      ],
      "text/plain": [
       "  tariff_plan  monthly  limit  up_limit  if_not_internal  per_operator\n",
       "0           A     4000   2000      0.10              0.3            50\n",
       "1           B     2000    500      0.15              0.5           150\n",
       "2           C     1000      0      0.30              0.7           300"
      ]
     },
     "execution_count": 31,
     "metadata": {},
     "output_type": "execute_result"
    }
   ],
   "source": [
    "# дф с информацией о тарифах\n",
    "tarifs = pd.DataFrame({'tariff_plan':['A', 'B', 'C'],\n",
    "     'monthly':[4000, 2000, 1000],\n",
    "     'limit':[2000, 500, 0],\n",
    "     'up_limit':[0.1, 0.15, 0.3],\n",
    "     'if_not_internal':[0.3, 0.5, 0.7],\n",
    "      'per_operator': [50, 150, 300]})\n",
    "\n",
    "tarifs"
   ]
  },
  {
   "cell_type": "markdown",
   "metadata": {},
   "source": [
    "### Подсчет расходов клиентов<a id ='7'></a>\n",
    "\n",
    "**Расходы клиентов на текущем тарифе**"
   ]
  },
  {
   "cell_type": "markdown",
   "metadata": {},
   "source": [
    "Для того, чтобы рассчитать расходы клиентов, узнаем у каждого клиента по месяцам:\n",
    "- кол-во операторов;\n",
    "- общую продолжительность исходящих звонков внутри сети;\n",
    "- общую продолжительность исходящих звонков вне сети.\n",
    "\n",
    "Для этого будет группировать пользователей по id и месяцу, а затем вычислять уникальное количество операторов, общую продолжительность звонков внутри и вне сети."
   ]
  },
  {
   "cell_type": "code",
   "execution_count": 32,
   "metadata": {},
   "outputs": [
    {
     "data": {
      "text/html": [
       "<div>\n",
       "<style scoped>\n",
       "    .dataframe tbody tr th:only-of-type {\n",
       "        vertical-align: middle;\n",
       "    }\n",
       "\n",
       "    .dataframe tbody tr th {\n",
       "        vertical-align: top;\n",
       "    }\n",
       "\n",
       "    .dataframe thead th {\n",
       "        text-align: right;\n",
       "    }\n",
       "</style>\n",
       "<table border=\"1\" class=\"dataframe\">\n",
       "  <thead>\n",
       "    <tr style=\"text-align: right;\">\n",
       "      <th></th>\n",
       "      <th>user_id</th>\n",
       "      <th>month</th>\n",
       "      <th>tariff_plan</th>\n",
       "      <th>operators</th>\n",
       "    </tr>\n",
       "  </thead>\n",
       "  <tbody>\n",
       "    <tr>\n",
       "      <th>0</th>\n",
       "      <td>166377</td>\n",
       "      <td>9</td>\n",
       "      <td>B</td>\n",
       "      <td>4</td>\n",
       "    </tr>\n",
       "    <tr>\n",
       "      <th>1</th>\n",
       "      <td>166377</td>\n",
       "      <td>10</td>\n",
       "      <td>B</td>\n",
       "      <td>5</td>\n",
       "    </tr>\n",
       "    <tr>\n",
       "      <th>2</th>\n",
       "      <td>166377</td>\n",
       "      <td>11</td>\n",
       "      <td>B</td>\n",
       "      <td>4</td>\n",
       "    </tr>\n",
       "    <tr>\n",
       "      <th>3</th>\n",
       "      <td>166391</td>\n",
       "      <td>9</td>\n",
       "      <td>C</td>\n",
       "      <td>1</td>\n",
       "    </tr>\n",
       "    <tr>\n",
       "      <th>4</th>\n",
       "      <td>166391</td>\n",
       "      <td>10</td>\n",
       "      <td>C</td>\n",
       "      <td>0</td>\n",
       "    </tr>\n",
       "  </tbody>\n",
       "</table>\n",
       "</div>"
      ],
      "text/plain": [
       "   user_id  month tariff_plan  operators\n",
       "0   166377      9           B          4\n",
       "1   166377     10           B          5\n",
       "2   166377     11           B          4\n",
       "3   166391      9           C          1\n",
       "4   166391     10           C          0"
      ]
     },
     "execution_count": 32,
     "metadata": {},
     "output_type": "execute_result"
    }
   ],
   "source": [
    "# количество операторов у каждого клиента по месяцам\n",
    "payment = data_act.groupby(['user_id', 'month']).agg(tariff_plan=('tariff_plan','first'),\n",
    "                                                     operators=('operator_id', 'nunique')).reset_index()\n",
    "\n",
    "payment.head()"
   ]
  },
  {
   "cell_type": "code",
   "execution_count": 33,
   "metadata": {},
   "outputs": [
    {
     "data": {
      "text/html": [
       "<div>\n",
       "<style scoped>\n",
       "    .dataframe tbody tr th:only-of-type {\n",
       "        vertical-align: middle;\n",
       "    }\n",
       "\n",
       "    .dataframe tbody tr th {\n",
       "        vertical-align: top;\n",
       "    }\n",
       "\n",
       "    .dataframe thead th {\n",
       "        text-align: right;\n",
       "    }\n",
       "</style>\n",
       "<table border=\"1\" class=\"dataframe\">\n",
       "  <thead>\n",
       "    <tr style=\"text-align: right;\">\n",
       "      <th></th>\n",
       "      <th>user_id</th>\n",
       "      <th>month</th>\n",
       "      <th>limit_min</th>\n",
       "    </tr>\n",
       "  </thead>\n",
       "  <tbody>\n",
       "    <tr>\n",
       "      <th>0</th>\n",
       "      <td>166377</td>\n",
       "      <td>9</td>\n",
       "      <td>9</td>\n",
       "    </tr>\n",
       "    <tr>\n",
       "      <th>1</th>\n",
       "      <td>166377</td>\n",
       "      <td>10</td>\n",
       "      <td>5</td>\n",
       "    </tr>\n",
       "    <tr>\n",
       "      <th>2</th>\n",
       "      <td>166377</td>\n",
       "      <td>11</td>\n",
       "      <td>127</td>\n",
       "    </tr>\n",
       "    <tr>\n",
       "      <th>3</th>\n",
       "      <td>166405</td>\n",
       "      <td>10</td>\n",
       "      <td>778</td>\n",
       "    </tr>\n",
       "    <tr>\n",
       "      <th>4</th>\n",
       "      <td>166405</td>\n",
       "      <td>11</td>\n",
       "      <td>115</td>\n",
       "    </tr>\n",
       "  </tbody>\n",
       "</table>\n",
       "</div>"
      ],
      "text/plain": [
       "   user_id  month  limit_min\n",
       "0   166377      9          9\n",
       "1   166377     10          5\n",
       "2   166377     11        127\n",
       "3   166405     10        778\n",
       "4   166405     11        115"
      ]
     },
     "execution_count": 33,
     "metadata": {},
     "output_type": "execute_result"
    }
   ],
   "source": [
    "# общая продолжительность исходящих звонков внутри сети у каждого клиента по месяцам\n",
    "mins_lim = (data_act.query('(internal == True) & (direction == \"out\")')\n",
    "        .groupby(['user_id', 'month'])\n",
    "        .agg(limit_min=('total_call_duration', 'sum'))\n",
    "        .reset_index()\n",
    "       )\n",
    "\n",
    "mins_lim.head()"
   ]
  },
  {
   "cell_type": "code",
   "execution_count": 34,
   "metadata": {},
   "outputs": [
    {
     "data": {
      "text/html": [
       "<div>\n",
       "<style scoped>\n",
       "    .dataframe tbody tr th:only-of-type {\n",
       "        vertical-align: middle;\n",
       "    }\n",
       "\n",
       "    .dataframe tbody tr th {\n",
       "        vertical-align: top;\n",
       "    }\n",
       "\n",
       "    .dataframe thead th {\n",
       "        text-align: right;\n",
       "    }\n",
       "</style>\n",
       "<table border=\"1\" class=\"dataframe\">\n",
       "  <thead>\n",
       "    <tr style=\"text-align: right;\">\n",
       "      <th></th>\n",
       "      <th>user_id</th>\n",
       "      <th>month</th>\n",
       "      <th>tariff_plan</th>\n",
       "      <th>operators</th>\n",
       "      <th>limit_min</th>\n",
       "    </tr>\n",
       "  </thead>\n",
       "  <tbody>\n",
       "    <tr>\n",
       "      <th>0</th>\n",
       "      <td>166377</td>\n",
       "      <td>9</td>\n",
       "      <td>B</td>\n",
       "      <td>4</td>\n",
       "      <td>9</td>\n",
       "    </tr>\n",
       "    <tr>\n",
       "      <th>1</th>\n",
       "      <td>166377</td>\n",
       "      <td>10</td>\n",
       "      <td>B</td>\n",
       "      <td>5</td>\n",
       "      <td>5</td>\n",
       "    </tr>\n",
       "    <tr>\n",
       "      <th>2</th>\n",
       "      <td>166377</td>\n",
       "      <td>11</td>\n",
       "      <td>B</td>\n",
       "      <td>4</td>\n",
       "      <td>127</td>\n",
       "    </tr>\n",
       "    <tr>\n",
       "      <th>3</th>\n",
       "      <td>166391</td>\n",
       "      <td>9</td>\n",
       "      <td>C</td>\n",
       "      <td>1</td>\n",
       "      <td>0</td>\n",
       "    </tr>\n",
       "    <tr>\n",
       "      <th>4</th>\n",
       "      <td>166391</td>\n",
       "      <td>10</td>\n",
       "      <td>C</td>\n",
       "      <td>0</td>\n",
       "      <td>0</td>\n",
       "    </tr>\n",
       "  </tbody>\n",
       "</table>\n",
       "</div>"
      ],
      "text/plain": [
       "   user_id  month tariff_plan  operators  limit_min\n",
       "0   166377      9           B          4          9\n",
       "1   166377     10           B          5          5\n",
       "2   166377     11           B          4        127\n",
       "3   166391      9           C          1          0\n",
       "4   166391     10           C          0          0"
      ]
     },
     "execution_count": 34,
     "metadata": {},
     "output_type": "execute_result"
    }
   ],
   "source": [
    "# присоединяем информацию о звонках к датафрейму с информацией об операторах\n",
    "payment = payment.merge(mins_lim, on=['user_id', 'month'], how='left')\n",
    "\n",
    "# заполняем пропуски нулями у тех поьзователей, которые не совершали исходящих звонков внутри сети\n",
    "payment['limit_min'] = (payment['limit_min'].fillna(0)).astype('int')\n",
    "\n",
    "payment.head()"
   ]
  },
  {
   "cell_type": "code",
   "execution_count": 35,
   "metadata": {},
   "outputs": [
    {
     "data": {
      "text/html": [
       "<div>\n",
       "<style scoped>\n",
       "    .dataframe tbody tr th:only-of-type {\n",
       "        vertical-align: middle;\n",
       "    }\n",
       "\n",
       "    .dataframe tbody tr th {\n",
       "        vertical-align: top;\n",
       "    }\n",
       "\n",
       "    .dataframe thead th {\n",
       "        text-align: right;\n",
       "    }\n",
       "</style>\n",
       "<table border=\"1\" class=\"dataframe\">\n",
       "  <thead>\n",
       "    <tr style=\"text-align: right;\">\n",
       "      <th></th>\n",
       "      <th>user_id</th>\n",
       "      <th>month</th>\n",
       "      <th>min_ni</th>\n",
       "    </tr>\n",
       "  </thead>\n",
       "  <tbody>\n",
       "    <tr>\n",
       "      <th>0</th>\n",
       "      <td>166377</td>\n",
       "      <td>9</td>\n",
       "      <td>105835</td>\n",
       "    </tr>\n",
       "    <tr>\n",
       "      <th>1</th>\n",
       "      <td>166377</td>\n",
       "      <td>10</td>\n",
       "      <td>99207</td>\n",
       "    </tr>\n",
       "    <tr>\n",
       "      <th>2</th>\n",
       "      <td>166377</td>\n",
       "      <td>11</td>\n",
       "      <td>95384</td>\n",
       "    </tr>\n",
       "    <tr>\n",
       "      <th>3</th>\n",
       "      <td>166405</td>\n",
       "      <td>9</td>\n",
       "      <td>120743</td>\n",
       "    </tr>\n",
       "    <tr>\n",
       "      <th>4</th>\n",
       "      <td>166405</td>\n",
       "      <td>10</td>\n",
       "      <td>232832</td>\n",
       "    </tr>\n",
       "  </tbody>\n",
       "</table>\n",
       "</div>"
      ],
      "text/plain": [
       "   user_id  month  min_ni\n",
       "0   166377      9  105835\n",
       "1   166377     10   99207\n",
       "2   166377     11   95384\n",
       "3   166405      9  120743\n",
       "4   166405     10  232832"
      ]
     },
     "execution_count": 35,
     "metadata": {},
     "output_type": "execute_result"
    }
   ],
   "source": [
    "# общая продолжительность исходящих звонков вне сети у каждого клиента по месяцам\n",
    "mins_ni = (data_act.query('(internal == False) & (direction == \"out\")')\n",
    "        .groupby(['user_id', 'month'])\n",
    "        .agg(min_ni=('total_call_duration', 'sum'))\n",
    "        .reset_index()\n",
    "       )\n",
    "\n",
    "mins_ni.head()"
   ]
  },
  {
   "cell_type": "code",
   "execution_count": 36,
   "metadata": {
    "scrolled": true
   },
   "outputs": [
    {
     "data": {
      "text/html": [
       "<div>\n",
       "<style scoped>\n",
       "    .dataframe tbody tr th:only-of-type {\n",
       "        vertical-align: middle;\n",
       "    }\n",
       "\n",
       "    .dataframe tbody tr th {\n",
       "        vertical-align: top;\n",
       "    }\n",
       "\n",
       "    .dataframe thead th {\n",
       "        text-align: right;\n",
       "    }\n",
       "</style>\n",
       "<table border=\"1\" class=\"dataframe\">\n",
       "  <thead>\n",
       "    <tr style=\"text-align: right;\">\n",
       "      <th></th>\n",
       "      <th>user_id</th>\n",
       "      <th>month</th>\n",
       "      <th>tariff_plan</th>\n",
       "      <th>operators</th>\n",
       "      <th>limit_min</th>\n",
       "      <th>min_ni</th>\n",
       "    </tr>\n",
       "  </thead>\n",
       "  <tbody>\n",
       "    <tr>\n",
       "      <th>0</th>\n",
       "      <td>166377</td>\n",
       "      <td>9</td>\n",
       "      <td>B</td>\n",
       "      <td>4</td>\n",
       "      <td>9</td>\n",
       "      <td>105835</td>\n",
       "    </tr>\n",
       "    <tr>\n",
       "      <th>1</th>\n",
       "      <td>166377</td>\n",
       "      <td>10</td>\n",
       "      <td>B</td>\n",
       "      <td>5</td>\n",
       "      <td>5</td>\n",
       "      <td>99207</td>\n",
       "    </tr>\n",
       "    <tr>\n",
       "      <th>2</th>\n",
       "      <td>166377</td>\n",
       "      <td>11</td>\n",
       "      <td>B</td>\n",
       "      <td>4</td>\n",
       "      <td>127</td>\n",
       "      <td>95384</td>\n",
       "    </tr>\n",
       "    <tr>\n",
       "      <th>3</th>\n",
       "      <td>166391</td>\n",
       "      <td>9</td>\n",
       "      <td>C</td>\n",
       "      <td>1</td>\n",
       "      <td>0</td>\n",
       "      <td>0</td>\n",
       "    </tr>\n",
       "    <tr>\n",
       "      <th>4</th>\n",
       "      <td>166391</td>\n",
       "      <td>10</td>\n",
       "      <td>C</td>\n",
       "      <td>0</td>\n",
       "      <td>0</td>\n",
       "      <td>0</td>\n",
       "    </tr>\n",
       "  </tbody>\n",
       "</table>\n",
       "</div>"
      ],
      "text/plain": [
       "   user_id  month tariff_plan  operators  limit_min  min_ni\n",
       "0   166377      9           B          4          9  105835\n",
       "1   166377     10           B          5          5   99207\n",
       "2   166377     11           B          4        127   95384\n",
       "3   166391      9           C          1          0       0\n",
       "4   166391     10           C          0          0       0"
      ]
     },
     "execution_count": 36,
     "metadata": {},
     "output_type": "execute_result"
    }
   ],
   "source": [
    "# присоединяем к датафрейму с информаией об операторах и минутах внутри сети\n",
    "payment = payment.merge(mins_ni, on=['user_id', 'month'], how='left')\n",
    "\n",
    "# заполняем пропуски нулями у тех пользователей, которые не совершали звонки вне сети\n",
    "payment['min_ni'] = (payment['min_ni'].fillna(0)).astype('int')\n",
    "\n",
    "payment.head()"
   ]
  },
  {
   "cell_type": "markdown",
   "metadata": {},
   "source": [
    "Получился датафрейм `payment` с информацией об общих тратах по тарифам у каждого клиента по месяцам. Для того, чтобы рассчитать расходы у клиентов, присоединим к этому датафрейму таблицу с параметрами каждого из тарифов `tarifs`"
   ]
  },
  {
   "cell_type": "code",
   "execution_count": 37,
   "metadata": {
    "scrolled": true
   },
   "outputs": [
    {
     "data": {
      "text/html": [
       "<div>\n",
       "<style scoped>\n",
       "    .dataframe tbody tr th:only-of-type {\n",
       "        vertical-align: middle;\n",
       "    }\n",
       "\n",
       "    .dataframe tbody tr th {\n",
       "        vertical-align: top;\n",
       "    }\n",
       "\n",
       "    .dataframe thead th {\n",
       "        text-align: right;\n",
       "    }\n",
       "</style>\n",
       "<table border=\"1\" class=\"dataframe\">\n",
       "  <thead>\n",
       "    <tr style=\"text-align: right;\">\n",
       "      <th></th>\n",
       "      <th>user_id</th>\n",
       "      <th>month</th>\n",
       "      <th>tariff_plan</th>\n",
       "      <th>operators</th>\n",
       "      <th>limit_min</th>\n",
       "      <th>min_ni</th>\n",
       "      <th>monthly</th>\n",
       "      <th>limit</th>\n",
       "      <th>up_limit</th>\n",
       "      <th>if_not_internal</th>\n",
       "      <th>per_operator</th>\n",
       "    </tr>\n",
       "  </thead>\n",
       "  <tbody>\n",
       "    <tr>\n",
       "      <th>0</th>\n",
       "      <td>166377</td>\n",
       "      <td>9</td>\n",
       "      <td>B</td>\n",
       "      <td>4</td>\n",
       "      <td>9</td>\n",
       "      <td>105835</td>\n",
       "      <td>2000</td>\n",
       "      <td>500</td>\n",
       "      <td>0.15</td>\n",
       "      <td>0.5</td>\n",
       "      <td>150</td>\n",
       "    </tr>\n",
       "    <tr>\n",
       "      <th>1</th>\n",
       "      <td>166377</td>\n",
       "      <td>10</td>\n",
       "      <td>B</td>\n",
       "      <td>5</td>\n",
       "      <td>5</td>\n",
       "      <td>99207</td>\n",
       "      <td>2000</td>\n",
       "      <td>500</td>\n",
       "      <td>0.15</td>\n",
       "      <td>0.5</td>\n",
       "      <td>150</td>\n",
       "    </tr>\n",
       "    <tr>\n",
       "      <th>2</th>\n",
       "      <td>166377</td>\n",
       "      <td>11</td>\n",
       "      <td>B</td>\n",
       "      <td>4</td>\n",
       "      <td>127</td>\n",
       "      <td>95384</td>\n",
       "      <td>2000</td>\n",
       "      <td>500</td>\n",
       "      <td>0.15</td>\n",
       "      <td>0.5</td>\n",
       "      <td>150</td>\n",
       "    </tr>\n",
       "    <tr>\n",
       "      <th>3</th>\n",
       "      <td>166405</td>\n",
       "      <td>9</td>\n",
       "      <td>B</td>\n",
       "      <td>4</td>\n",
       "      <td>0</td>\n",
       "      <td>120743</td>\n",
       "      <td>2000</td>\n",
       "      <td>500</td>\n",
       "      <td>0.15</td>\n",
       "      <td>0.5</td>\n",
       "      <td>150</td>\n",
       "    </tr>\n",
       "    <tr>\n",
       "      <th>4</th>\n",
       "      <td>166405</td>\n",
       "      <td>10</td>\n",
       "      <td>B</td>\n",
       "      <td>10</td>\n",
       "      <td>778</td>\n",
       "      <td>232832</td>\n",
       "      <td>2000</td>\n",
       "      <td>500</td>\n",
       "      <td>0.15</td>\n",
       "      <td>0.5</td>\n",
       "      <td>150</td>\n",
       "    </tr>\n",
       "  </tbody>\n",
       "</table>\n",
       "</div>"
      ],
      "text/plain": [
       "   user_id  month tariff_plan  operators  limit_min  min_ni  monthly  limit  \\\n",
       "0   166377      9           B          4          9  105835     2000    500   \n",
       "1   166377     10           B          5          5   99207     2000    500   \n",
       "2   166377     11           B          4        127   95384     2000    500   \n",
       "3   166405      9           B          4          0  120743     2000    500   \n",
       "4   166405     10           B         10        778  232832     2000    500   \n",
       "\n",
       "   up_limit  if_not_internal  per_operator  \n",
       "0      0.15              0.5           150  \n",
       "1      0.15              0.5           150  \n",
       "2      0.15              0.5           150  \n",
       "3      0.15              0.5           150  \n",
       "4      0.15              0.5           150  "
      ]
     },
     "execution_count": 37,
     "metadata": {},
     "output_type": "execute_result"
    }
   ],
   "source": [
    "# соединяем таблицы по тарифным планам\n",
    "payment = payment.merge(tarifs, on='tariff_plan')\n",
    "\n",
    "payment.head()"
   ]
  },
  {
   "cell_type": "markdown",
   "metadata": {},
   "source": [
    "Расходы клиента состоят из:\n",
    "1. ежемесячной платы +\n",
    "2. платы за перерасход по внутренним исходящим звонкам, с учетом времени ожидания +\n",
    "3. платы за внешние исходящие звонки с учетом времени ожидания +\n",
    "4. платы за операторов.\n",
    "\n",
    "Для того, чтобы посчитать расходы клиента, создадим функцию"
   ]
  },
  {
   "cell_type": "code",
   "execution_count": 38,
   "metadata": {},
   "outputs": [],
   "source": [
    "def result(row):\n",
    "    '''Ф-я считает расходы клиентов по каждому из тарифов в соответствии с параметрами тарифов.\n",
    "    \n",
    "    На вход подается строка датафрейма - row. В row['result'] сначала суммируется ежемесячная плата, плата за операторов\n",
    "    и плата за звонки вне сети. Затем, если общая прод-ть звонков клиента за месяц превышает лимит по тарифу,\n",
    "    то к row['result'] прибавляется плата за перерасход исходящих внутренних звонков'''\n",
    "    \n",
    "    row['result'] = row['monthly'] + row['operators'] * row['per_operator'] + row['min_ni'] * row['if_not_internal']\n",
    "    \n",
    "    if (row['limit_min'] - row['limit']) > 0:\n",
    "        return row['result'] + (row['limit_min'] - row['limit']) * row['up_limit']\n",
    "    return row['result']\n",
    "    "
   ]
  },
  {
   "cell_type": "code",
   "execution_count": 39,
   "metadata": {},
   "outputs": [
    {
     "data": {
      "text/html": [
       "<div>\n",
       "<style scoped>\n",
       "    .dataframe tbody tr th:only-of-type {\n",
       "        vertical-align: middle;\n",
       "    }\n",
       "\n",
       "    .dataframe tbody tr th {\n",
       "        vertical-align: top;\n",
       "    }\n",
       "\n",
       "    .dataframe thead th {\n",
       "        text-align: right;\n",
       "    }\n",
       "</style>\n",
       "<table border=\"1\" class=\"dataframe\">\n",
       "  <thead>\n",
       "    <tr style=\"text-align: right;\">\n",
       "      <th></th>\n",
       "      <th>user_id</th>\n",
       "      <th>month</th>\n",
       "      <th>tariff_plan</th>\n",
       "      <th>operators</th>\n",
       "      <th>limit_min</th>\n",
       "      <th>min_ni</th>\n",
       "      <th>monthly</th>\n",
       "      <th>limit</th>\n",
       "      <th>up_limit</th>\n",
       "      <th>if_not_internal</th>\n",
       "      <th>per_operator</th>\n",
       "      <th>current_tarif</th>\n",
       "    </tr>\n",
       "  </thead>\n",
       "  <tbody>\n",
       "    <tr>\n",
       "      <th>0</th>\n",
       "      <td>166377</td>\n",
       "      <td>9</td>\n",
       "      <td>B</td>\n",
       "      <td>4</td>\n",
       "      <td>9</td>\n",
       "      <td>105835</td>\n",
       "      <td>2000</td>\n",
       "      <td>500</td>\n",
       "      <td>0.15</td>\n",
       "      <td>0.5</td>\n",
       "      <td>150</td>\n",
       "      <td>55517.5</td>\n",
       "    </tr>\n",
       "    <tr>\n",
       "      <th>1</th>\n",
       "      <td>166377</td>\n",
       "      <td>10</td>\n",
       "      <td>B</td>\n",
       "      <td>5</td>\n",
       "      <td>5</td>\n",
       "      <td>99207</td>\n",
       "      <td>2000</td>\n",
       "      <td>500</td>\n",
       "      <td>0.15</td>\n",
       "      <td>0.5</td>\n",
       "      <td>150</td>\n",
       "      <td>52353.5</td>\n",
       "    </tr>\n",
       "    <tr>\n",
       "      <th>2</th>\n",
       "      <td>166377</td>\n",
       "      <td>11</td>\n",
       "      <td>B</td>\n",
       "      <td>4</td>\n",
       "      <td>127</td>\n",
       "      <td>95384</td>\n",
       "      <td>2000</td>\n",
       "      <td>500</td>\n",
       "      <td>0.15</td>\n",
       "      <td>0.5</td>\n",
       "      <td>150</td>\n",
       "      <td>50292.0</td>\n",
       "    </tr>\n",
       "    <tr>\n",
       "      <th>3</th>\n",
       "      <td>166405</td>\n",
       "      <td>9</td>\n",
       "      <td>B</td>\n",
       "      <td>4</td>\n",
       "      <td>0</td>\n",
       "      <td>120743</td>\n",
       "      <td>2000</td>\n",
       "      <td>500</td>\n",
       "      <td>0.15</td>\n",
       "      <td>0.5</td>\n",
       "      <td>150</td>\n",
       "      <td>62971.5</td>\n",
       "    </tr>\n",
       "    <tr>\n",
       "      <th>4</th>\n",
       "      <td>166405</td>\n",
       "      <td>10</td>\n",
       "      <td>B</td>\n",
       "      <td>10</td>\n",
       "      <td>778</td>\n",
       "      <td>232832</td>\n",
       "      <td>2000</td>\n",
       "      <td>500</td>\n",
       "      <td>0.15</td>\n",
       "      <td>0.5</td>\n",
       "      <td>150</td>\n",
       "      <td>119957.7</td>\n",
       "    </tr>\n",
       "  </tbody>\n",
       "</table>\n",
       "</div>"
      ],
      "text/plain": [
       "   user_id  month tariff_plan  operators  limit_min  min_ni  monthly  limit  \\\n",
       "0   166377      9           B          4          9  105835     2000    500   \n",
       "1   166377     10           B          5          5   99207     2000    500   \n",
       "2   166377     11           B          4        127   95384     2000    500   \n",
       "3   166405      9           B          4          0  120743     2000    500   \n",
       "4   166405     10           B         10        778  232832     2000    500   \n",
       "\n",
       "   up_limit  if_not_internal  per_operator  current_tarif  \n",
       "0      0.15              0.5           150        55517.5  \n",
       "1      0.15              0.5           150        52353.5  \n",
       "2      0.15              0.5           150        50292.0  \n",
       "3      0.15              0.5           150        62971.5  \n",
       "4      0.15              0.5           150       119957.7  "
      ]
     },
     "execution_count": 39,
     "metadata": {},
     "output_type": "execute_result"
    }
   ],
   "source": [
    "# расчет расходов клиента на текущем тарифе\n",
    "payment['current_tarif'] = payment.apply(result, axis=1)\n",
    "\n",
    "payment.head()"
   ]
  },
  {
   "cell_type": "markdown",
   "metadata": {},
   "source": [
    "Рассчитаем выручку за анализируемый период по активным клиентам, а также динамику среднего чека по месяцам"
   ]
  },
  {
   "cell_type": "code",
   "execution_count": 40,
   "metadata": {},
   "outputs": [
    {
     "name": "stdout",
     "output_type": "stream",
     "text": [
      "Всего выручка за анализируемый период: 10734707\n"
     ]
    }
   ],
   "source": [
    "print('Всего выручка за анализируемый период:', round(payment['current_tarif'].sum()))"
   ]
  },
  {
   "cell_type": "code",
   "execution_count": 41,
   "metadata": {},
   "outputs": [
    {
     "data": {
      "image/png": "[encoded data removed]",
      "text/plain": [
       "<Figure size 720x576 with 1 Axes>"
      ]
     },
     "metadata": {},
     "output_type": "display_data"
    }
   ],
   "source": [
    "payment.groupby('month').agg(avg_month_rev=('current_tarif', 'mean')).plot(style='o-',\n",
    "                                                                           linewidth=2,\n",
    "                                                                           legend=False,\n",
    "                                                                           figsize=(10,8),\n",
    "                                                                           color='red');\n",
    "\n",
    "plt.title('Динамика среднего чека за рассматриваемый период')\n",
    "plt.xlabel('Номер месяца')\n",
    "plt.ylabel('Средний чек, руб.')\n",
    "plt.ylim(10000, 25000)\n",
    "plt.show()"
   ]
  },
  {
   "cell_type": "markdown",
   "metadata": {},
   "source": [
    "Судя по графику, средний чек за рассматриваемый период увеличивается (с примерно 14 000 рублей в сентябре до примерно 22 000 в ноябре). Это может объясняться тем, что среди клиентов наблюдаются крупные клиенты, которые расходуют огромное количество услуг связи, что приводит к «выбросам» в статистике.\n",
    "\n",
    "Чтобы получить более точную картину, рассмотрим средние чеки по месяцам с помощью боксплотов отдельно для разных тарифов."
   ]
  },
  {
   "cell_type": "code",
   "execution_count": 42,
   "metadata": {},
   "outputs": [
    {
     "data": {
      "image/png": "[encoded data removed]",
      "text/plain": [
       "<Figure size 864x576 with 1 Axes>"
      ]
     },
     "metadata": {},
     "output_type": "display_data"
    }
   ],
   "source": [
    "plt.figure(figsize=(12,8))\n",
    "\n",
    "sns.boxplot(data=payment,\n",
    "            x='month',\n",
    "            y='current_tarif',\n",
    "            hue='tariff_plan',\n",
    "            linewidth=.85,\n",
    "            palette='vlag_r',\n",
    "            saturation=.8)\n",
    "\n",
    "plt.legend(title='Тарифный план')\n",
    "plt.xlabel('Номер месяца')\n",
    "plt.ylabel('Плата за месяц, руб.')\n",
    "plt.show()"
   ]
  },
  {
   "cell_type": "markdown",
   "metadata": {},
   "source": [
    "На графике действительно видны необычно большие суммы оплаты услуг связи в месяц (100 000 - 400 000 руб.). Такие аномалии встречаются на протяжении всего рассматриваемого периода, но особенно большие заметны в ноябре.\n",
    "\n",
    "Не будем удалять эти выбросы, поскольку такие суммы оплаты могут действительно быть у особо крупных клиентов. Однако ограничимся максимальным значением по оси Y до 50 000 рублей в месяц, чтобы рассмотреть боксплоты лучше"
   ]
  },
  {
   "cell_type": "code",
   "execution_count": 43,
   "metadata": {},
   "outputs": [
    {
     "data": {
      "image/png": "[encoded data removed]",
      "text/plain": [
       "<Figure size 864x576 with 1 Axes>"
      ]
     },
     "metadata": {},
     "output_type": "display_data"
    }
   ],
   "source": [
    "plt.figure(figsize=(12,8))\n",
    "\n",
    "sns.boxplot(data=payment,\n",
    "            x='month',\n",
    "            y='current_tarif',\n",
    "            hue='tariff_plan',\n",
    "            linewidth=.85,\n",
    "            palette='vlag_r',\n",
    "            saturation=.8)\n",
    "\n",
    "plt.legend(title='Тарифный план')\n",
    "plt.xlabel('Номер месяца')\n",
    "plt.ylabel('Плата за месяц, руб.')\n",
    "plt.ylim(0, 50000)\n",
    "plt.show()"
   ]
  },
  {
   "cell_type": "markdown",
   "metadata": {},
   "source": [
    "В целом можно отметить положительную динамику: средний чек по тарифам за рассматриваемый период увеличивается. Самый низкий средний чек наблюдается по тарифу C, а самый высокий — по тарифу A.\n",
    "\n",
    "В ноябре особенно заметно отклонение от медианного значения по тарифу A. Это может указывать на наличие клиентов, которые тратят на услуги связи особенно большие суммы. Также отклонения от медианы наблюдаются и по тарифам B и C на протяжении всего периода. Это может свидетельствовать о том, что среди клиентов этих тарифов есть те, кто платит большие суммы за услуги свзяи. Возможно, эти клиенты смогут сэкономить, перейдя на более выгодный тариф, который лучше подходит для клиентов с большими расходами на звонки и большим количеством операторов в колл-центре."
   ]
  },
  {
   "cell_type": "markdown",
   "metadata": {},
   "source": [
    "**Расходы клиентов на каждом из тарифов**\n",
    "\n",
    "Рассчитаем, сколько бы платили клиенты на каждом из тарифов при том же расходе минут, при том же кол-ве операторов в колл-центре. Для этого создадим функцию, а затем добавим в датафрейм столбцы с расходами по каждому тарифу "
   ]
  },
  {
   "cell_type": "code",
   "execution_count": 44,
   "metadata": {},
   "outputs": [],
   "source": [
    "def pay_per_tarif(row, tariff_plan):\n",
    "    '''Ф-я подсчитывает затраты клиентов на указанном тарифе по подсчитанным расходам услуг связи (минуты, кол-во операторов)\n",
    "    \n",
    "    Передается строка датафрейма - row и тарифный план, по которому рассчитываются затраты - tariff_plan.\n",
    "    При передачи параметров по тарифу ссылается на таблицу tarifs.'''\n",
    "    \n",
    "    tarif = tarifs[tarifs['tariff_plan'] == tariff_plan].iloc[0]\n",
    "    \n",
    "    row['res'] = tarif['monthly'] + row['operators'] * tarif['per_operator'] + row['min_ni'] * tarif['if_not_internal']\n",
    "    \n",
    "    if row['limit_min'] > tarif['limit']:\n",
    "        row['res'] = row['res'] + (row['limit_min'] - tarif['limit']) * tarif['up_limit']\n",
    "        \n",
    "    return row['res']"
   ]
  },
  {
   "cell_type": "code",
   "execution_count": 45,
   "metadata": {},
   "outputs": [
    {
     "data": {
      "text/html": [
       "<div>\n",
       "<style scoped>\n",
       "    .dataframe tbody tr th:only-of-type {\n",
       "        vertical-align: middle;\n",
       "    }\n",
       "\n",
       "    .dataframe tbody tr th {\n",
       "        vertical-align: top;\n",
       "    }\n",
       "\n",
       "    .dataframe thead th {\n",
       "        text-align: right;\n",
       "    }\n",
       "</style>\n",
       "<table border=\"1\" class=\"dataframe\">\n",
       "  <thead>\n",
       "    <tr style=\"text-align: right;\">\n",
       "      <th></th>\n",
       "      <th>user_id</th>\n",
       "      <th>month</th>\n",
       "      <th>tariff_plan</th>\n",
       "      <th>operators</th>\n",
       "      <th>limit_min</th>\n",
       "      <th>min_ni</th>\n",
       "      <th>monthly</th>\n",
       "      <th>limit</th>\n",
       "      <th>up_limit</th>\n",
       "      <th>if_not_internal</th>\n",
       "      <th>per_operator</th>\n",
       "      <th>current_tarif</th>\n",
       "      <th>A</th>\n",
       "      <th>B</th>\n",
       "      <th>C</th>\n",
       "    </tr>\n",
       "  </thead>\n",
       "  <tbody>\n",
       "    <tr>\n",
       "      <th>0</th>\n",
       "      <td>166377</td>\n",
       "      <td>9</td>\n",
       "      <td>B</td>\n",
       "      <td>4</td>\n",
       "      <td>9</td>\n",
       "      <td>105835</td>\n",
       "      <td>2000</td>\n",
       "      <td>500</td>\n",
       "      <td>0.15</td>\n",
       "      <td>0.5</td>\n",
       "      <td>150</td>\n",
       "      <td>55517.5</td>\n",
       "      <td>35950.5</td>\n",
       "      <td>55517.5</td>\n",
       "      <td>76287.2</td>\n",
       "    </tr>\n",
       "    <tr>\n",
       "      <th>1</th>\n",
       "      <td>166377</td>\n",
       "      <td>10</td>\n",
       "      <td>B</td>\n",
       "      <td>5</td>\n",
       "      <td>5</td>\n",
       "      <td>99207</td>\n",
       "      <td>2000</td>\n",
       "      <td>500</td>\n",
       "      <td>0.15</td>\n",
       "      <td>0.5</td>\n",
       "      <td>150</td>\n",
       "      <td>52353.5</td>\n",
       "      <td>34012.1</td>\n",
       "      <td>52353.5</td>\n",
       "      <td>71946.4</td>\n",
       "    </tr>\n",
       "    <tr>\n",
       "      <th>2</th>\n",
       "      <td>166377</td>\n",
       "      <td>11</td>\n",
       "      <td>B</td>\n",
       "      <td>4</td>\n",
       "      <td>127</td>\n",
       "      <td>95384</td>\n",
       "      <td>2000</td>\n",
       "      <td>500</td>\n",
       "      <td>0.15</td>\n",
       "      <td>0.5</td>\n",
       "      <td>150</td>\n",
       "      <td>50292.0</td>\n",
       "      <td>32815.2</td>\n",
       "      <td>50292.0</td>\n",
       "      <td>69006.9</td>\n",
       "    </tr>\n",
       "    <tr>\n",
       "      <th>3</th>\n",
       "      <td>166405</td>\n",
       "      <td>9</td>\n",
       "      <td>B</td>\n",
       "      <td>4</td>\n",
       "      <td>0</td>\n",
       "      <td>120743</td>\n",
       "      <td>2000</td>\n",
       "      <td>500</td>\n",
       "      <td>0.15</td>\n",
       "      <td>0.5</td>\n",
       "      <td>150</td>\n",
       "      <td>62971.5</td>\n",
       "      <td>40422.9</td>\n",
       "      <td>62971.5</td>\n",
       "      <td>86720.1</td>\n",
       "    </tr>\n",
       "    <tr>\n",
       "      <th>4</th>\n",
       "      <td>166405</td>\n",
       "      <td>10</td>\n",
       "      <td>B</td>\n",
       "      <td>10</td>\n",
       "      <td>778</td>\n",
       "      <td>232832</td>\n",
       "      <td>2000</td>\n",
       "      <td>500</td>\n",
       "      <td>0.15</td>\n",
       "      <td>0.5</td>\n",
       "      <td>150</td>\n",
       "      <td>119957.7</td>\n",
       "      <td>74349.6</td>\n",
       "      <td>119957.7</td>\n",
       "      <td>167215.8</td>\n",
       "    </tr>\n",
       "  </tbody>\n",
       "</table>\n",
       "</div>"
      ],
      "text/plain": [
       "   user_id  month tariff_plan  operators  limit_min  min_ni  monthly  limit  \\\n",
       "0   166377      9           B          4          9  105835     2000    500   \n",
       "1   166377     10           B          5          5   99207     2000    500   \n",
       "2   166377     11           B          4        127   95384     2000    500   \n",
       "3   166405      9           B          4          0  120743     2000    500   \n",
       "4   166405     10           B         10        778  232832     2000    500   \n",
       "\n",
       "   up_limit  if_not_internal  per_operator  current_tarif        A         B  \\\n",
       "0      0.15              0.5           150        55517.5  35950.5   55517.5   \n",
       "1      0.15              0.5           150        52353.5  34012.1   52353.5   \n",
       "2      0.15              0.5           150        50292.0  32815.2   50292.0   \n",
       "3      0.15              0.5           150        62971.5  40422.9   62971.5   \n",
       "4      0.15              0.5           150       119957.7  74349.6  119957.7   \n",
       "\n",
       "          C  \n",
       "0   76287.2  \n",
       "1   71946.4  \n",
       "2   69006.9  \n",
       "3   86720.1  \n",
       "4  167215.8  "
      ]
     },
     "execution_count": 45,
     "metadata": {},
     "output_type": "execute_result"
    }
   ],
   "source": [
    "# расходы по тарифу А\n",
    "payment['A'] = payment.apply(pay_per_tarif, axis=1, args=('A'))\n",
    "\n",
    "# расходы по тарифу В\n",
    "payment['B'] = payment.apply(pay_per_tarif, axis=1, args=('B'))\n",
    "\n",
    "# расходы по тарифу С\n",
    "payment['C'] = payment.apply(pay_per_tarif, axis=1, args=('C'))\n",
    "\n",
    "payment.head()"
   ]
  },
  {
   "cell_type": "markdown",
   "metadata": {},
   "source": [
    "**Определим оптимальный тариф для каждого клиента** Для этого суммируем затраты пользователей по каждому из тарифов за весь анализируемый период. Затем сравним расходы по каждому из тарифов. Оптммальным будет тот тариф, за который сумма расходов за все время будет наименьшей"
   ]
  },
  {
   "cell_type": "code",
   "execution_count": 46,
   "metadata": {},
   "outputs": [
    {
     "data": {
      "text/html": [
       "<div>\n",
       "<style scoped>\n",
       "    .dataframe tbody tr th:only-of-type {\n",
       "        vertical-align: middle;\n",
       "    }\n",
       "\n",
       "    .dataframe tbody tr th {\n",
       "        vertical-align: top;\n",
       "    }\n",
       "\n",
       "    .dataframe thead th {\n",
       "        text-align: right;\n",
       "    }\n",
       "</style>\n",
       "<table border=\"1\" class=\"dataframe\">\n",
       "  <thead>\n",
       "    <tr style=\"text-align: right;\">\n",
       "      <th></th>\n",
       "      <th>user_id</th>\n",
       "      <th>tariff_plan</th>\n",
       "      <th>current_tarif</th>\n",
       "      <th>A</th>\n",
       "      <th>B</th>\n",
       "      <th>C</th>\n",
       "      <th>month</th>\n",
       "    </tr>\n",
       "  </thead>\n",
       "  <tbody>\n",
       "    <tr>\n",
       "      <th>0</th>\n",
       "      <td>166377</td>\n",
       "      <td>B</td>\n",
       "      <td>158163.0</td>\n",
       "      <td>102777.8</td>\n",
       "      <td>158163.0</td>\n",
       "      <td>217240.5</td>\n",
       "      <td>3</td>\n",
       "    </tr>\n",
       "    <tr>\n",
       "      <th>1</th>\n",
       "      <td>166391</td>\n",
       "      <td>C</td>\n",
       "      <td>3600.0</td>\n",
       "      <td>12100.0</td>\n",
       "      <td>6300.0</td>\n",
       "      <td>3600.0</td>\n",
       "      <td>3</td>\n",
       "    </tr>\n",
       "    <tr>\n",
       "      <th>2</th>\n",
       "      <td>166392</td>\n",
       "      <td>C</td>\n",
       "      <td>4800.0</td>\n",
       "      <td>12300.0</td>\n",
       "      <td>6900.0</td>\n",
       "      <td>4800.0</td>\n",
       "      <td>3</td>\n",
       "    </tr>\n",
       "    <tr>\n",
       "      <th>3</th>\n",
       "      <td>166405</td>\n",
       "      <td>B</td>\n",
       "      <td>342815.7</td>\n",
       "      <td>213184.4</td>\n",
       "      <td>342815.7</td>\n",
       "      <td>476731.5</td>\n",
       "      <td>3</td>\n",
       "    </tr>\n",
       "    <tr>\n",
       "      <th>4</th>\n",
       "      <td>166406</td>\n",
       "      <td>B</td>\n",
       "      <td>137032.6</td>\n",
       "      <td>90351.3</td>\n",
       "      <td>137032.6</td>\n",
       "      <td>187172.3</td>\n",
       "      <td>3</td>\n",
       "    </tr>\n",
       "  </tbody>\n",
       "</table>\n",
       "</div>"
      ],
      "text/plain": [
       "   user_id tariff_plan  current_tarif         A         B         C  month\n",
       "0   166377           B       158163.0  102777.8  158163.0  217240.5      3\n",
       "1   166391           C         3600.0   12100.0    6300.0    3600.0      3\n",
       "2   166392           C         4800.0   12300.0    6900.0    4800.0      3\n",
       "3   166405           B       342815.7  213184.4  342815.7  476731.5      3\n",
       "4   166406           B       137032.6   90351.3  137032.6  187172.3      3"
      ]
     },
     "execution_count": 46,
     "metadata": {},
     "output_type": "execute_result"
    }
   ],
   "source": [
    "# группируем по пользователям и суммируем затраты за весь период\n",
    "payment_pivot = payment.groupby('user_id').agg({'tariff_plan':'first',\n",
    "                               'current_tarif': 'sum',\n",
    "                               'A':'sum',\n",
    "                               'B':'sum',\n",
    "                               'C':'sum',\n",
    "                               'month':'count'}).reset_index()\n",
    "\n",
    "payment_pivot.head()"
   ]
  },
  {
   "cell_type": "code",
   "execution_count": 47,
   "metadata": {
    "scrolled": true
   },
   "outputs": [
    {
     "data": {
      "text/html": [
       "<div>\n",
       "<style scoped>\n",
       "    .dataframe tbody tr th:only-of-type {\n",
       "        vertical-align: middle;\n",
       "    }\n",
       "\n",
       "    .dataframe tbody tr th {\n",
       "        vertical-align: top;\n",
       "    }\n",
       "\n",
       "    .dataframe thead th {\n",
       "        text-align: right;\n",
       "    }\n",
       "</style>\n",
       "<table border=\"1\" class=\"dataframe\">\n",
       "  <thead>\n",
       "    <tr style=\"text-align: right;\">\n",
       "      <th></th>\n",
       "      <th>user_id</th>\n",
       "      <th>tariff_plan</th>\n",
       "      <th>current_tarif</th>\n",
       "      <th>A</th>\n",
       "      <th>B</th>\n",
       "      <th>C</th>\n",
       "      <th>month</th>\n",
       "      <th>optimal_tarif</th>\n",
       "      <th>optimal_pay</th>\n",
       "    </tr>\n",
       "  </thead>\n",
       "  <tbody>\n",
       "    <tr>\n",
       "      <th>0</th>\n",
       "      <td>166377</td>\n",
       "      <td>B</td>\n",
       "      <td>158163.0</td>\n",
       "      <td>102777.8</td>\n",
       "      <td>158163.0</td>\n",
       "      <td>217240.5</td>\n",
       "      <td>3</td>\n",
       "      <td>A</td>\n",
       "      <td>102777.8</td>\n",
       "    </tr>\n",
       "    <tr>\n",
       "      <th>1</th>\n",
       "      <td>166391</td>\n",
       "      <td>C</td>\n",
       "      <td>3600.0</td>\n",
       "      <td>12100.0</td>\n",
       "      <td>6300.0</td>\n",
       "      <td>3600.0</td>\n",
       "      <td>3</td>\n",
       "      <td>C</td>\n",
       "      <td>3600.0</td>\n",
       "    </tr>\n",
       "    <tr>\n",
       "      <th>2</th>\n",
       "      <td>166392</td>\n",
       "      <td>C</td>\n",
       "      <td>4800.0</td>\n",
       "      <td>12300.0</td>\n",
       "      <td>6900.0</td>\n",
       "      <td>4800.0</td>\n",
       "      <td>3</td>\n",
       "      <td>C</td>\n",
       "      <td>4800.0</td>\n",
       "    </tr>\n",
       "    <tr>\n",
       "      <th>3</th>\n",
       "      <td>166405</td>\n",
       "      <td>B</td>\n",
       "      <td>342815.7</td>\n",
       "      <td>213184.4</td>\n",
       "      <td>342815.7</td>\n",
       "      <td>476731.5</td>\n",
       "      <td>3</td>\n",
       "      <td>A</td>\n",
       "      <td>213184.4</td>\n",
       "    </tr>\n",
       "    <tr>\n",
       "      <th>4</th>\n",
       "      <td>166406</td>\n",
       "      <td>B</td>\n",
       "      <td>137032.6</td>\n",
       "      <td>90351.3</td>\n",
       "      <td>137032.6</td>\n",
       "      <td>187172.3</td>\n",
       "      <td>3</td>\n",
       "      <td>A</td>\n",
       "      <td>90351.3</td>\n",
       "    </tr>\n",
       "  </tbody>\n",
       "</table>\n",
       "</div>"
      ],
      "text/plain": [
       "   user_id tariff_plan  current_tarif         A         B         C  month  \\\n",
       "0   166377           B       158163.0  102777.8  158163.0  217240.5      3   \n",
       "1   166391           C         3600.0   12100.0    6300.0    3600.0      3   \n",
       "2   166392           C         4800.0   12300.0    6900.0    4800.0      3   \n",
       "3   166405           B       342815.7  213184.4  342815.7  476731.5      3   \n",
       "4   166406           B       137032.6   90351.3  137032.6  187172.3      3   \n",
       "\n",
       "  optimal_tarif  optimal_pay  \n",
       "0             A     102777.8  \n",
       "1             C       3600.0  \n",
       "2             C       4800.0  \n",
       "3             A     213184.4  \n",
       "4             A      90351.3  "
      ]
     },
     "execution_count": 47,
     "metadata": {},
     "output_type": "execute_result"
    }
   ],
   "source": [
    "# навзвание оптимального тарифа\n",
    "payment_pivot['optimal_tarif'] = payment_pivot[['A', 'B', 'C']].idxmin(axis=1)\n",
    "\n",
    "# расходы на оптимальном тарифе\n",
    "payment_pivot['optimal_pay'] = payment_pivot[['A', 'B', 'C']].min(axis=1)\n",
    "\n",
    "payment_pivot.head()"
   ]
  },
  {
   "cell_type": "markdown",
   "metadata": {},
   "source": [
    "Рассчитаем, сколько клиент переплатил по текущему тарифу по сравнению с оптимальным"
   ]
  },
  {
   "cell_type": "code",
   "execution_count": 48,
   "metadata": {
    "scrolled": true
   },
   "outputs": [
    {
     "data": {
      "text/html": [
       "<div>\n",
       "<style scoped>\n",
       "    .dataframe tbody tr th:only-of-type {\n",
       "        vertical-align: middle;\n",
       "    }\n",
       "\n",
       "    .dataframe tbody tr th {\n",
       "        vertical-align: top;\n",
       "    }\n",
       "\n",
       "    .dataframe thead th {\n",
       "        text-align: right;\n",
       "    }\n",
       "</style>\n",
       "<table border=\"1\" class=\"dataframe\">\n",
       "  <thead>\n",
       "    <tr style=\"text-align: right;\">\n",
       "      <th></th>\n",
       "      <th>user_id</th>\n",
       "      <th>tariff_plan</th>\n",
       "      <th>current_tarif</th>\n",
       "      <th>A</th>\n",
       "      <th>B</th>\n",
       "      <th>C</th>\n",
       "      <th>month</th>\n",
       "      <th>optimal_tarif</th>\n",
       "      <th>optimal_pay</th>\n",
       "      <th>overpayment</th>\n",
       "    </tr>\n",
       "  </thead>\n",
       "  <tbody>\n",
       "    <tr>\n",
       "      <th>0</th>\n",
       "      <td>166377</td>\n",
       "      <td>B</td>\n",
       "      <td>158163.0</td>\n",
       "      <td>102777.8</td>\n",
       "      <td>158163.0</td>\n",
       "      <td>217240.5</td>\n",
       "      <td>3</td>\n",
       "      <td>A</td>\n",
       "      <td>102777.8</td>\n",
       "      <td>55385.2</td>\n",
       "    </tr>\n",
       "    <tr>\n",
       "      <th>1</th>\n",
       "      <td>166391</td>\n",
       "      <td>C</td>\n",
       "      <td>3600.0</td>\n",
       "      <td>12100.0</td>\n",
       "      <td>6300.0</td>\n",
       "      <td>3600.0</td>\n",
       "      <td>3</td>\n",
       "      <td>C</td>\n",
       "      <td>3600.0</td>\n",
       "      <td>0.0</td>\n",
       "    </tr>\n",
       "    <tr>\n",
       "      <th>2</th>\n",
       "      <td>166392</td>\n",
       "      <td>C</td>\n",
       "      <td>4800.0</td>\n",
       "      <td>12300.0</td>\n",
       "      <td>6900.0</td>\n",
       "      <td>4800.0</td>\n",
       "      <td>3</td>\n",
       "      <td>C</td>\n",
       "      <td>4800.0</td>\n",
       "      <td>0.0</td>\n",
       "    </tr>\n",
       "    <tr>\n",
       "      <th>3</th>\n",
       "      <td>166405</td>\n",
       "      <td>B</td>\n",
       "      <td>342815.7</td>\n",
       "      <td>213184.4</td>\n",
       "      <td>342815.7</td>\n",
       "      <td>476731.5</td>\n",
       "      <td>3</td>\n",
       "      <td>A</td>\n",
       "      <td>213184.4</td>\n",
       "      <td>129631.3</td>\n",
       "    </tr>\n",
       "    <tr>\n",
       "      <th>4</th>\n",
       "      <td>166406</td>\n",
       "      <td>B</td>\n",
       "      <td>137032.6</td>\n",
       "      <td>90351.3</td>\n",
       "      <td>137032.6</td>\n",
       "      <td>187172.3</td>\n",
       "      <td>3</td>\n",
       "      <td>A</td>\n",
       "      <td>90351.3</td>\n",
       "      <td>46681.3</td>\n",
       "    </tr>\n",
       "  </tbody>\n",
       "</table>\n",
       "</div>"
      ],
      "text/plain": [
       "   user_id tariff_plan  current_tarif         A         B         C  month  \\\n",
       "0   166377           B       158163.0  102777.8  158163.0  217240.5      3   \n",
       "1   166391           C         3600.0   12100.0    6300.0    3600.0      3   \n",
       "2   166392           C         4800.0   12300.0    6900.0    4800.0      3   \n",
       "3   166405           B       342815.7  213184.4  342815.7  476731.5      3   \n",
       "4   166406           B       137032.6   90351.3  137032.6  187172.3      3   \n",
       "\n",
       "  optimal_tarif  optimal_pay  overpayment  \n",
       "0             A     102777.8      55385.2  \n",
       "1             C       3600.0          0.0  \n",
       "2             C       4800.0          0.0  \n",
       "3             A     213184.4     129631.3  \n",
       "4             A      90351.3      46681.3  "
      ]
     },
     "execution_count": 48,
     "metadata": {},
     "output_type": "execute_result"
    }
   ],
   "source": [
    "# переплата\n",
    "payment_pivot['overpayment'] = payment_pivot['current_tarif'] - payment_pivot['optimal_pay']\n",
    "\n",
    "payment_pivot.head()"
   ]
  },
  {
   "cell_type": "markdown",
   "metadata": {},
   "source": [
    "**Кому предлагаем перейти на оптимальный тариф?**\n",
    "\n",
    "Так как переплата может составлять всего 5-10 рублей, то в таком случае нет смысла предлагать пользователям сменить тариф.\n",
    "\n",
    "Будем предлагать сменить тариф тем пользователям, у которых переплата на текущем тарифе составляет 5% или более от текущего тарифа. Минимизирование издержек в бизнесе - одна из главных целей, поэтому граница в 5% уже будет значима (особенно для групных клиентов).\n",
    "\n",
    "Также стоит учитывать, что предлагать смену тарифа следует клиентам, которые пользуются услугами связи более месяца. За один месяц мы не можем точно определить, действительно ли клиент переплачивает. Возможно, колл-центр только начинает свою работу и собирает базу номеров, делает небольшое количество звонков. В последующие месяцы работа может быть более активной, и предложенный тариф уже не будет оптимальным."
   ]
  },
  {
   "cell_type": "code",
   "execution_count": 49,
   "metadata": {
    "scrolled": true
   },
   "outputs": [
    {
     "data": {
      "text/html": [
       "<div>\n",
       "<style scoped>\n",
       "    .dataframe tbody tr th:only-of-type {\n",
       "        vertical-align: middle;\n",
       "    }\n",
       "\n",
       "    .dataframe tbody tr th {\n",
       "        vertical-align: top;\n",
       "    }\n",
       "\n",
       "    .dataframe thead th {\n",
       "        text-align: right;\n",
       "    }\n",
       "</style>\n",
       "<table border=\"1\" class=\"dataframe\">\n",
       "  <thead>\n",
       "    <tr style=\"text-align: right;\">\n",
       "      <th></th>\n",
       "      <th>user_id</th>\n",
       "      <th>tariff_plan</th>\n",
       "      <th>current_tarif</th>\n",
       "      <th>A</th>\n",
       "      <th>B</th>\n",
       "      <th>C</th>\n",
       "      <th>month</th>\n",
       "      <th>optimal_tarif</th>\n",
       "      <th>optimal_pay</th>\n",
       "      <th>overpayment</th>\n",
       "      <th>is_not_optimal</th>\n",
       "    </tr>\n",
       "  </thead>\n",
       "  <tbody>\n",
       "    <tr>\n",
       "      <th>0</th>\n",
       "      <td>166377</td>\n",
       "      <td>B</td>\n",
       "      <td>158163.0</td>\n",
       "      <td>102777.8</td>\n",
       "      <td>158163.0</td>\n",
       "      <td>217240.5</td>\n",
       "      <td>3</td>\n",
       "      <td>A</td>\n",
       "      <td>102777.8</td>\n",
       "      <td>55385.2</td>\n",
       "      <td>True</td>\n",
       "    </tr>\n",
       "    <tr>\n",
       "      <th>1</th>\n",
       "      <td>166391</td>\n",
       "      <td>C</td>\n",
       "      <td>3600.0</td>\n",
       "      <td>12100.0</td>\n",
       "      <td>6300.0</td>\n",
       "      <td>3600.0</td>\n",
       "      <td>3</td>\n",
       "      <td>C</td>\n",
       "      <td>3600.0</td>\n",
       "      <td>0.0</td>\n",
       "      <td>False</td>\n",
       "    </tr>\n",
       "    <tr>\n",
       "      <th>2</th>\n",
       "      <td>166392</td>\n",
       "      <td>C</td>\n",
       "      <td>4800.0</td>\n",
       "      <td>12300.0</td>\n",
       "      <td>6900.0</td>\n",
       "      <td>4800.0</td>\n",
       "      <td>3</td>\n",
       "      <td>C</td>\n",
       "      <td>4800.0</td>\n",
       "      <td>0.0</td>\n",
       "      <td>False</td>\n",
       "    </tr>\n",
       "    <tr>\n",
       "      <th>3</th>\n",
       "      <td>166405</td>\n",
       "      <td>B</td>\n",
       "      <td>342815.7</td>\n",
       "      <td>213184.4</td>\n",
       "      <td>342815.7</td>\n",
       "      <td>476731.5</td>\n",
       "      <td>3</td>\n",
       "      <td>A</td>\n",
       "      <td>213184.4</td>\n",
       "      <td>129631.3</td>\n",
       "      <td>True</td>\n",
       "    </tr>\n",
       "    <tr>\n",
       "      <th>4</th>\n",
       "      <td>166406</td>\n",
       "      <td>B</td>\n",
       "      <td>137032.6</td>\n",
       "      <td>90351.3</td>\n",
       "      <td>137032.6</td>\n",
       "      <td>187172.3</td>\n",
       "      <td>3</td>\n",
       "      <td>A</td>\n",
       "      <td>90351.3</td>\n",
       "      <td>46681.3</td>\n",
       "      <td>True</td>\n",
       "    </tr>\n",
       "  </tbody>\n",
       "</table>\n",
       "</div>"
      ],
      "text/plain": [
       "   user_id tariff_plan  current_tarif         A         B         C  month  \\\n",
       "0   166377           B       158163.0  102777.8  158163.0  217240.5      3   \n",
       "1   166391           C         3600.0   12100.0    6300.0    3600.0      3   \n",
       "2   166392           C         4800.0   12300.0    6900.0    4800.0      3   \n",
       "3   166405           B       342815.7  213184.4  342815.7  476731.5      3   \n",
       "4   166406           B       137032.6   90351.3  137032.6  187172.3      3   \n",
       "\n",
       "  optimal_tarif  optimal_pay  overpayment  is_not_optimal  \n",
       "0             A     102777.8      55385.2            True  \n",
       "1             C       3600.0          0.0           False  \n",
       "2             C       4800.0          0.0           False  \n",
       "3             A     213184.4     129631.3            True  \n",
       "4             A      90351.3      46681.3            True  "
      ]
     },
     "execution_count": 49,
     "metadata": {},
     "output_type": "execute_result"
    }
   ],
   "source": [
    "# на сколько процентов оптимальный тариф должен превышать действующий для того,\n",
    "# чтобы было целесообразно предложить клиенту новый тариф\n",
    "perc = 0.05\n",
    "\n",
    "# оптимальный тариф или нет, будем предлагать сменить тариф или нет\n",
    "payment_pivot['is_not_optimal'] = ((payment_pivot['overpayment']\n",
    "                                   >= payment_pivot['current_tarif'] * perc)\n",
    "                                   & (payment_pivot['month'] > 1))\n",
    "\n",
    "payment_pivot.head()"
   ]
  },
  {
   "cell_type": "code",
   "execution_count": 50,
   "metadata": {},
   "outputs": [
    {
     "data": {
      "text/html": [
       "<div>\n",
       "<style scoped>\n",
       "    .dataframe tbody tr th:only-of-type {\n",
       "        vertical-align: middle;\n",
       "    }\n",
       "\n",
       "    .dataframe tbody tr th {\n",
       "        vertical-align: top;\n",
       "    }\n",
       "\n",
       "    .dataframe thead th {\n",
       "        text-align: right;\n",
       "    }\n",
       "</style>\n",
       "<table border=\"1\" class=\"dataframe\">\n",
       "  <thead>\n",
       "    <tr style=\"text-align: right;\">\n",
       "      <th></th>\n",
       "      <th>user_id</th>\n",
       "      <th>month</th>\n",
       "      <th>tariff_plan</th>\n",
       "      <th>optimal_tarif</th>\n",
       "      <th>current_tarif</th>\n",
       "      <th>optimal_pay</th>\n",
       "      <th>is_not_optimal</th>\n",
       "    </tr>\n",
       "  </thead>\n",
       "  <tbody>\n",
       "    <tr>\n",
       "      <th>0</th>\n",
       "      <td>166377</td>\n",
       "      <td>3</td>\n",
       "      <td>B</td>\n",
       "      <td>A</td>\n",
       "      <td>158163.0</td>\n",
       "      <td>102777.8</td>\n",
       "      <td>True</td>\n",
       "    </tr>\n",
       "    <tr>\n",
       "      <th>1</th>\n",
       "      <td>166391</td>\n",
       "      <td>3</td>\n",
       "      <td>C</td>\n",
       "      <td>C</td>\n",
       "      <td>3600.0</td>\n",
       "      <td>3600.0</td>\n",
       "      <td>False</td>\n",
       "    </tr>\n",
       "    <tr>\n",
       "      <th>2</th>\n",
       "      <td>166392</td>\n",
       "      <td>3</td>\n",
       "      <td>C</td>\n",
       "      <td>C</td>\n",
       "      <td>4800.0</td>\n",
       "      <td>4800.0</td>\n",
       "      <td>False</td>\n",
       "    </tr>\n",
       "    <tr>\n",
       "      <th>3</th>\n",
       "      <td>166405</td>\n",
       "      <td>3</td>\n",
       "      <td>B</td>\n",
       "      <td>A</td>\n",
       "      <td>342815.7</td>\n",
       "      <td>213184.4</td>\n",
       "      <td>True</td>\n",
       "    </tr>\n",
       "    <tr>\n",
       "      <th>4</th>\n",
       "      <td>166406</td>\n",
       "      <td>3</td>\n",
       "      <td>B</td>\n",
       "      <td>A</td>\n",
       "      <td>137032.6</td>\n",
       "      <td>90351.3</td>\n",
       "      <td>True</td>\n",
       "    </tr>\n",
       "  </tbody>\n",
       "</table>\n",
       "</div>"
      ],
      "text/plain": [
       "   user_id  month tariff_plan optimal_tarif  current_tarif  optimal_pay  \\\n",
       "0   166377      3           B             A       158163.0     102777.8   \n",
       "1   166391      3           C             C         3600.0       3600.0   \n",
       "2   166392      3           C             C         4800.0       4800.0   \n",
       "3   166405      3           B             A       342815.7     213184.4   \n",
       "4   166406      3           B             A       137032.6      90351.3   \n",
       "\n",
       "   is_not_optimal  \n",
       "0            True  \n",
       "1           False  \n",
       "2           False  \n",
       "3            True  \n",
       "4            True  "
      ]
     },
     "execution_count": 50,
     "metadata": {},
     "output_type": "execute_result"
    }
   ],
   "source": [
    "# для удобства уберем из дф информацию о расходах на всех тарифах и переплате\n",
    "payment_pivot = payment_pivot[['user_id',\n",
    "                               'month',\n",
    "                               'tariff_plan',\n",
    "                               'optimal_tarif',\n",
    "                               'current_tarif',\n",
    "                               'optimal_pay',\n",
    "                               'is_not_optimal']]\n",
    "\n",
    "payment_pivot.head()"
   ]
  },
  {
   "cell_type": "code",
   "execution_count": 51,
   "metadata": {},
   "outputs": [
    {
     "name": "stdout",
     "output_type": "stream",
     "text": [
      "Количество пользователей с неоптимальными тарифами: 121\n",
      "Процент пользователей с неоптимальными тарифами: 49.0 %\n"
     ]
    }
   ],
   "source": [
    "print('Количество пользователей с неоптимальными тарифами:', len(payment_pivot[payment_pivot['is_not_optimal'] == True]))\n",
    "print('Процент пользователей с неоптимальными тарифами:',\n",
    "      round(len(payment_pivot[payment_pivot['is_not_optimal'] == True]) / len(payment_pivot) * 100, 1), '%')"
   ]
  },
  {
   "cell_type": "markdown",
   "metadata": {},
   "source": [
    "Создадим столбцы с тарифами после оптимизации, которая провелась только для тех клиентов с неоптимальными тарифами, которые переплачивали более 5% на тек. тарифе и которые пользуются сервисом более месяца"
   ]
  },
  {
   "cell_type": "code",
   "execution_count": 52,
   "metadata": {},
   "outputs": [],
   "source": [
    "def optimization(row):\n",
    "    '''Ф-я возвращает оптимальную плату за тариф, если тариф не оптимальный\n",
    "    На вход подается строка датафрейма'''\n",
    "    \n",
    "    if row['is_not_optimal']:\n",
    "        return row['optimal_pay']\n",
    "    return row['current_tarif']\n",
    "\n",
    "def optimization_tar(row):\n",
    "    '''Ф-я возвращает название оптимального тарифа\n",
    "    На вход подается строка датафрейма'''\n",
    "    \n",
    "    if row['is_not_optimal']:\n",
    "        return row['optimal_tarif']\n",
    "    return row['tariff_plan']"
   ]
  },
  {
   "cell_type": "code",
   "execution_count": 53,
   "metadata": {},
   "outputs": [
    {
     "data": {
      "text/html": [
       "<div>\n",
       "<style scoped>\n",
       "    .dataframe tbody tr th:only-of-type {\n",
       "        vertical-align: middle;\n",
       "    }\n",
       "\n",
       "    .dataframe tbody tr th {\n",
       "        vertical-align: top;\n",
       "    }\n",
       "\n",
       "    .dataframe thead th {\n",
       "        text-align: right;\n",
       "    }\n",
       "</style>\n",
       "<table border=\"1\" class=\"dataframe\">\n",
       "  <thead>\n",
       "    <tr style=\"text-align: right;\">\n",
       "      <th></th>\n",
       "      <th>user_id</th>\n",
       "      <th>month</th>\n",
       "      <th>tariff_plan</th>\n",
       "      <th>optimal_tarif</th>\n",
       "      <th>current_tarif</th>\n",
       "      <th>optimal_pay</th>\n",
       "      <th>is_not_optimal</th>\n",
       "      <th>after_opt</th>\n",
       "      <th>after_opt_tarif</th>\n",
       "    </tr>\n",
       "  </thead>\n",
       "  <tbody>\n",
       "    <tr>\n",
       "      <th>0</th>\n",
       "      <td>166377</td>\n",
       "      <td>3</td>\n",
       "      <td>B</td>\n",
       "      <td>A</td>\n",
       "      <td>158163.0</td>\n",
       "      <td>102777.8</td>\n",
       "      <td>True</td>\n",
       "      <td>102777.8</td>\n",
       "      <td>A</td>\n",
       "    </tr>\n",
       "    <tr>\n",
       "      <th>1</th>\n",
       "      <td>166391</td>\n",
       "      <td>3</td>\n",
       "      <td>C</td>\n",
       "      <td>C</td>\n",
       "      <td>3600.0</td>\n",
       "      <td>3600.0</td>\n",
       "      <td>False</td>\n",
       "      <td>3600.0</td>\n",
       "      <td>C</td>\n",
       "    </tr>\n",
       "    <tr>\n",
       "      <th>2</th>\n",
       "      <td>166392</td>\n",
       "      <td>3</td>\n",
       "      <td>C</td>\n",
       "      <td>C</td>\n",
       "      <td>4800.0</td>\n",
       "      <td>4800.0</td>\n",
       "      <td>False</td>\n",
       "      <td>4800.0</td>\n",
       "      <td>C</td>\n",
       "    </tr>\n",
       "    <tr>\n",
       "      <th>3</th>\n",
       "      <td>166405</td>\n",
       "      <td>3</td>\n",
       "      <td>B</td>\n",
       "      <td>A</td>\n",
       "      <td>342815.7</td>\n",
       "      <td>213184.4</td>\n",
       "      <td>True</td>\n",
       "      <td>213184.4</td>\n",
       "      <td>A</td>\n",
       "    </tr>\n",
       "    <tr>\n",
       "      <th>4</th>\n",
       "      <td>166406</td>\n",
       "      <td>3</td>\n",
       "      <td>B</td>\n",
       "      <td>A</td>\n",
       "      <td>137032.6</td>\n",
       "      <td>90351.3</td>\n",
       "      <td>True</td>\n",
       "      <td>90351.3</td>\n",
       "      <td>A</td>\n",
       "    </tr>\n",
       "  </tbody>\n",
       "</table>\n",
       "</div>"
      ],
      "text/plain": [
       "   user_id  month tariff_plan optimal_tarif  current_tarif  optimal_pay  \\\n",
       "0   166377      3           B             A       158163.0     102777.8   \n",
       "1   166391      3           C             C         3600.0       3600.0   \n",
       "2   166392      3           C             C         4800.0       4800.0   \n",
       "3   166405      3           B             A       342815.7     213184.4   \n",
       "4   166406      3           B             A       137032.6      90351.3   \n",
       "\n",
       "   is_not_optimal  after_opt after_opt_tarif  \n",
       "0            True   102777.8               A  \n",
       "1           False     3600.0               C  \n",
       "2           False     4800.0               C  \n",
       "3            True   213184.4               A  \n",
       "4            True    90351.3               A  "
      ]
     },
     "execution_count": 53,
     "metadata": {},
     "output_type": "execute_result"
    }
   ],
   "source": [
    "# плата после оптимизации\n",
    "payment_pivot['after_opt'] = payment_pivot.apply(optimization, axis=1)\n",
    "\n",
    "# тариф после оптимизации\n",
    "payment_pivot['after_opt_tarif'] = payment_pivot.apply(optimization_tar, axis=1)\n",
    "\n",
    "payment_pivot.head()"
   ]
  },
  {
   "cell_type": "code",
   "execution_count": 54,
   "metadata": {
    "scrolled": true
   },
   "outputs": [
    {
     "data": {
      "text/html": [
       "<div>\n",
       "<style scoped>\n",
       "    .dataframe tbody tr th:only-of-type {\n",
       "        vertical-align: middle;\n",
       "    }\n",
       "\n",
       "    .dataframe tbody tr th {\n",
       "        vertical-align: top;\n",
       "    }\n",
       "\n",
       "    .dataframe thead th {\n",
       "        text-align: right;\n",
       "    }\n",
       "</style>\n",
       "<table border=\"1\" class=\"dataframe\">\n",
       "  <thead>\n",
       "    <tr style=\"text-align: right;\">\n",
       "      <th></th>\n",
       "      <th>user_id</th>\n",
       "      <th>month</th>\n",
       "      <th>tariff_plan</th>\n",
       "      <th>current_tarif</th>\n",
       "      <th>after_opt_tarif</th>\n",
       "      <th>after_opt</th>\n",
       "    </tr>\n",
       "  </thead>\n",
       "  <tbody>\n",
       "    <tr>\n",
       "      <th>0</th>\n",
       "      <td>166377</td>\n",
       "      <td>3</td>\n",
       "      <td>B</td>\n",
       "      <td>158163.0</td>\n",
       "      <td>A</td>\n",
       "      <td>102777.8</td>\n",
       "    </tr>\n",
       "    <tr>\n",
       "      <th>1</th>\n",
       "      <td>166391</td>\n",
       "      <td>3</td>\n",
       "      <td>C</td>\n",
       "      <td>3600.0</td>\n",
       "      <td>C</td>\n",
       "      <td>3600.0</td>\n",
       "    </tr>\n",
       "    <tr>\n",
       "      <th>2</th>\n",
       "      <td>166392</td>\n",
       "      <td>3</td>\n",
       "      <td>C</td>\n",
       "      <td>4800.0</td>\n",
       "      <td>C</td>\n",
       "      <td>4800.0</td>\n",
       "    </tr>\n",
       "    <tr>\n",
       "      <th>3</th>\n",
       "      <td>166405</td>\n",
       "      <td>3</td>\n",
       "      <td>B</td>\n",
       "      <td>342815.7</td>\n",
       "      <td>A</td>\n",
       "      <td>213184.4</td>\n",
       "    </tr>\n",
       "    <tr>\n",
       "      <th>4</th>\n",
       "      <td>166406</td>\n",
       "      <td>3</td>\n",
       "      <td>B</td>\n",
       "      <td>137032.6</td>\n",
       "      <td>A</td>\n",
       "      <td>90351.3</td>\n",
       "    </tr>\n",
       "  </tbody>\n",
       "</table>\n",
       "</div>"
      ],
      "text/plain": [
       "   user_id  month tariff_plan  current_tarif after_opt_tarif  after_opt\n",
       "0   166377      3           B       158163.0               A   102777.8\n",
       "1   166391      3           C         3600.0               C     3600.0\n",
       "2   166392      3           C         4800.0               C     4800.0\n",
       "3   166405      3           B       342815.7               A   213184.4\n",
       "4   166406      3           B       137032.6               A    90351.3"
      ]
     },
     "execution_count": 54,
     "metadata": {},
     "output_type": "execute_result"
    }
   ],
   "source": [
    "# оставляем в датафрейме только id клиента, кол-во месяцев в сервисе, текущий тар. плани плата за него,\n",
    "# тар. план после оптимизации и плата за него\n",
    "payment_res = payment_pivot[['user_id', 'month', 'tariff_plan', 'current_tarif', 'after_opt_tarif', 'after_opt']]\n",
    "\n",
    "payment_res.head()"
   ]
  },
  {
   "cell_type": "markdown",
   "metadata": {},
   "source": [
    "Для того, чтобы был возможен анализ и визуализация по месяцам, перенесем информацию об оптимальном тарифе в датафрейм с данными по месяцам"
   ]
  },
  {
   "cell_type": "code",
   "execution_count": 55,
   "metadata": {
    "scrolled": true
   },
   "outputs": [
    {
     "data": {
      "text/html": [
       "<div>\n",
       "<style scoped>\n",
       "    .dataframe tbody tr th:only-of-type {\n",
       "        vertical-align: middle;\n",
       "    }\n",
       "\n",
       "    .dataframe tbody tr th {\n",
       "        vertical-align: top;\n",
       "    }\n",
       "\n",
       "    .dataframe thead th {\n",
       "        text-align: right;\n",
       "    }\n",
       "</style>\n",
       "<table border=\"1\" class=\"dataframe\">\n",
       "  <thead>\n",
       "    <tr style=\"text-align: right;\">\n",
       "      <th></th>\n",
       "      <th>user_id</th>\n",
       "      <th>month</th>\n",
       "      <th>tariff_plan</th>\n",
       "      <th>current_tarif</th>\n",
       "      <th>A</th>\n",
       "      <th>B</th>\n",
       "      <th>C</th>\n",
       "      <th>after_opt_tarif</th>\n",
       "    </tr>\n",
       "  </thead>\n",
       "  <tbody>\n",
       "    <tr>\n",
       "      <th>0</th>\n",
       "      <td>166377</td>\n",
       "      <td>9</td>\n",
       "      <td>B</td>\n",
       "      <td>55517.5</td>\n",
       "      <td>35950.5</td>\n",
       "      <td>55517.5</td>\n",
       "      <td>76287.2</td>\n",
       "      <td>A</td>\n",
       "    </tr>\n",
       "    <tr>\n",
       "      <th>1</th>\n",
       "      <td>166377</td>\n",
       "      <td>10</td>\n",
       "      <td>B</td>\n",
       "      <td>52353.5</td>\n",
       "      <td>34012.1</td>\n",
       "      <td>52353.5</td>\n",
       "      <td>71946.4</td>\n",
       "      <td>A</td>\n",
       "    </tr>\n",
       "    <tr>\n",
       "      <th>2</th>\n",
       "      <td>166377</td>\n",
       "      <td>11</td>\n",
       "      <td>B</td>\n",
       "      <td>50292.0</td>\n",
       "      <td>32815.2</td>\n",
       "      <td>50292.0</td>\n",
       "      <td>69006.9</td>\n",
       "      <td>A</td>\n",
       "    </tr>\n",
       "    <tr>\n",
       "      <th>3</th>\n",
       "      <td>166405</td>\n",
       "      <td>9</td>\n",
       "      <td>B</td>\n",
       "      <td>62971.5</td>\n",
       "      <td>40422.9</td>\n",
       "      <td>62971.5</td>\n",
       "      <td>86720.1</td>\n",
       "      <td>A</td>\n",
       "    </tr>\n",
       "    <tr>\n",
       "      <th>4</th>\n",
       "      <td>166405</td>\n",
       "      <td>10</td>\n",
       "      <td>B</td>\n",
       "      <td>119957.7</td>\n",
       "      <td>74349.6</td>\n",
       "      <td>119957.7</td>\n",
       "      <td>167215.8</td>\n",
       "      <td>A</td>\n",
       "    </tr>\n",
       "  </tbody>\n",
       "</table>\n",
       "</div>"
      ],
      "text/plain": [
       "   user_id  month tariff_plan  current_tarif        A         B         C  \\\n",
       "0   166377      9           B        55517.5  35950.5   55517.5   76287.2   \n",
       "1   166377     10           B        52353.5  34012.1   52353.5   71946.4   \n",
       "2   166377     11           B        50292.0  32815.2   50292.0   69006.9   \n",
       "3   166405      9           B        62971.5  40422.9   62971.5   86720.1   \n",
       "4   166405     10           B       119957.7  74349.6  119957.7  167215.8   \n",
       "\n",
       "  after_opt_tarif  \n",
       "0               A  \n",
       "1               A  \n",
       "2               A  \n",
       "3               A  \n",
       "4               A  "
      ]
     },
     "execution_count": 55,
     "metadata": {},
     "output_type": "execute_result"
    }
   ],
   "source": [
    "# оптимальный тариф по месяцам\n",
    "payment_monthly = (payment[['user_id',\n",
    "                            'month',\n",
    "                            'tariff_plan',\n",
    "                            'current_tarif',\n",
    "                            'A', 'B', 'C']]\n",
    "                   .merge(payment_res[['user_id',\n",
    "                                       'after_opt_tarif']],\n",
    "                          on='user_id'))\n",
    "\n",
    "\n",
    "payment_monthly.head()"
   ]
  },
  {
   "cell_type": "code",
   "execution_count": 56,
   "metadata": {},
   "outputs": [],
   "source": [
    "def choice_tarif(row):\n",
    "    '''Ф-я, которая возвращает плату по оптимальному тарифу\n",
    "    На вход подается строка датафрейма'''\n",
    "    \n",
    "    if row['after_opt_tarif'] == 'A':\n",
    "        return row['A']\n",
    "    elif row['after_opt_tarif'] == 'B':\n",
    "        return row['B']\n",
    "    return row['C']"
   ]
  },
  {
   "cell_type": "code",
   "execution_count": 57,
   "metadata": {
    "scrolled": true
   },
   "outputs": [
    {
     "data": {
      "text/html": [
       "<div>\n",
       "<style scoped>\n",
       "    .dataframe tbody tr th:only-of-type {\n",
       "        vertical-align: middle;\n",
       "    }\n",
       "\n",
       "    .dataframe tbody tr th {\n",
       "        vertical-align: top;\n",
       "    }\n",
       "\n",
       "    .dataframe thead th {\n",
       "        text-align: right;\n",
       "    }\n",
       "</style>\n",
       "<table border=\"1\" class=\"dataframe\">\n",
       "  <thead>\n",
       "    <tr style=\"text-align: right;\">\n",
       "      <th></th>\n",
       "      <th>user_id</th>\n",
       "      <th>month</th>\n",
       "      <th>tariff_plan</th>\n",
       "      <th>current_tarif</th>\n",
       "      <th>A</th>\n",
       "      <th>B</th>\n",
       "      <th>C</th>\n",
       "      <th>after_opt_tarif</th>\n",
       "      <th>after_opt</th>\n",
       "    </tr>\n",
       "  </thead>\n",
       "  <tbody>\n",
       "    <tr>\n",
       "      <th>0</th>\n",
       "      <td>166377</td>\n",
       "      <td>9</td>\n",
       "      <td>B</td>\n",
       "      <td>55517.5</td>\n",
       "      <td>35950.5</td>\n",
       "      <td>55517.5</td>\n",
       "      <td>76287.2</td>\n",
       "      <td>A</td>\n",
       "      <td>35950.5</td>\n",
       "    </tr>\n",
       "    <tr>\n",
       "      <th>1</th>\n",
       "      <td>166377</td>\n",
       "      <td>10</td>\n",
       "      <td>B</td>\n",
       "      <td>52353.5</td>\n",
       "      <td>34012.1</td>\n",
       "      <td>52353.5</td>\n",
       "      <td>71946.4</td>\n",
       "      <td>A</td>\n",
       "      <td>34012.1</td>\n",
       "    </tr>\n",
       "    <tr>\n",
       "      <th>2</th>\n",
       "      <td>166377</td>\n",
       "      <td>11</td>\n",
       "      <td>B</td>\n",
       "      <td>50292.0</td>\n",
       "      <td>32815.2</td>\n",
       "      <td>50292.0</td>\n",
       "      <td>69006.9</td>\n",
       "      <td>A</td>\n",
       "      <td>32815.2</td>\n",
       "    </tr>\n",
       "    <tr>\n",
       "      <th>3</th>\n",
       "      <td>166405</td>\n",
       "      <td>9</td>\n",
       "      <td>B</td>\n",
       "      <td>62971.5</td>\n",
       "      <td>40422.9</td>\n",
       "      <td>62971.5</td>\n",
       "      <td>86720.1</td>\n",
       "      <td>A</td>\n",
       "      <td>40422.9</td>\n",
       "    </tr>\n",
       "    <tr>\n",
       "      <th>4</th>\n",
       "      <td>166405</td>\n",
       "      <td>10</td>\n",
       "      <td>B</td>\n",
       "      <td>119957.7</td>\n",
       "      <td>74349.6</td>\n",
       "      <td>119957.7</td>\n",
       "      <td>167215.8</td>\n",
       "      <td>A</td>\n",
       "      <td>74349.6</td>\n",
       "    </tr>\n",
       "  </tbody>\n",
       "</table>\n",
       "</div>"
      ],
      "text/plain": [
       "   user_id  month tariff_plan  current_tarif        A         B         C  \\\n",
       "0   166377      9           B        55517.5  35950.5   55517.5   76287.2   \n",
       "1   166377     10           B        52353.5  34012.1   52353.5   71946.4   \n",
       "2   166377     11           B        50292.0  32815.2   50292.0   69006.9   \n",
       "3   166405      9           B        62971.5  40422.9   62971.5   86720.1   \n",
       "4   166405     10           B       119957.7  74349.6  119957.7  167215.8   \n",
       "\n",
       "  after_opt_tarif  after_opt  \n",
       "0               A    35950.5  \n",
       "1               A    34012.1  \n",
       "2               A    32815.2  \n",
       "3               A    40422.9  \n",
       "4               A    74349.6  "
      ]
     },
     "execution_count": 57,
     "metadata": {},
     "output_type": "execute_result"
    }
   ],
   "source": [
    "# оплата после оптимизации\n",
    "payment_monthly['after_opt'] = payment_monthly.apply(choice_tarif, axis=1)\n",
    "\n",
    "payment_monthly.head()"
   ]
  },
  {
   "cell_type": "markdown",
   "metadata": {},
   "source": [
    "**Выводы**\n",
    "- Расходы клиентов имею положительную тенденцию роста на протяжении всего рассматриваемого периода;\n",
    "- самый низкий средний чек наблюдается по тарифу C, самый высокий — по тарифу A.\n",
    "- выручка за анализируемый период по текущим тарифам составила 10 734 707 руб.\n",
    "- количество пользователей с неоптимальными тарифами 121 (49% от всех активных пользователей)."
   ]
  },
  {
   "cell_type": "markdown",
   "metadata": {},
   "source": [
    "### Анализ изменений при смене тарифа <a id ='8'></a>\n",
    "\n",
    "\n",
    "**Расходы клиентов до/после оптимизации**"
   ]
  },
  {
   "cell_type": "code",
   "execution_count": 58,
   "metadata": {},
   "outputs": [
    {
     "data": {
      "text/html": [
       "<div>\n",
       "<style scoped>\n",
       "    .dataframe tbody tr th:only-of-type {\n",
       "        vertical-align: middle;\n",
       "    }\n",
       "\n",
       "    .dataframe tbody tr th {\n",
       "        vertical-align: top;\n",
       "    }\n",
       "\n",
       "    .dataframe thead th {\n",
       "        text-align: right;\n",
       "    }\n",
       "</style>\n",
       "<table border=\"1\" class=\"dataframe\">\n",
       "  <thead>\n",
       "    <tr style=\"text-align: right;\">\n",
       "      <th></th>\n",
       "      <th>user_id</th>\n",
       "      <th>month</th>\n",
       "      <th>tariff_plan</th>\n",
       "      <th>current_tarif</th>\n",
       "      <th>after_opt_tarif</th>\n",
       "      <th>after_opt</th>\n",
       "      <th>monthly_before</th>\n",
       "      <th>monthly_after</th>\n",
       "    </tr>\n",
       "  </thead>\n",
       "  <tbody>\n",
       "    <tr>\n",
       "      <th>0</th>\n",
       "      <td>166377</td>\n",
       "      <td>3</td>\n",
       "      <td>B</td>\n",
       "      <td>158163.0</td>\n",
       "      <td>A</td>\n",
       "      <td>102777.8</td>\n",
       "      <td>52721.0</td>\n",
       "      <td>34259.3</td>\n",
       "    </tr>\n",
       "    <tr>\n",
       "      <th>1</th>\n",
       "      <td>166391</td>\n",
       "      <td>3</td>\n",
       "      <td>C</td>\n",
       "      <td>3600.0</td>\n",
       "      <td>C</td>\n",
       "      <td>3600.0</td>\n",
       "      <td>1200.0</td>\n",
       "      <td>1200.0</td>\n",
       "    </tr>\n",
       "    <tr>\n",
       "      <th>2</th>\n",
       "      <td>166392</td>\n",
       "      <td>3</td>\n",
       "      <td>C</td>\n",
       "      <td>4800.0</td>\n",
       "      <td>C</td>\n",
       "      <td>4800.0</td>\n",
       "      <td>1600.0</td>\n",
       "      <td>1600.0</td>\n",
       "    </tr>\n",
       "    <tr>\n",
       "      <th>3</th>\n",
       "      <td>166405</td>\n",
       "      <td>3</td>\n",
       "      <td>B</td>\n",
       "      <td>342815.7</td>\n",
       "      <td>A</td>\n",
       "      <td>213184.4</td>\n",
       "      <td>114271.9</td>\n",
       "      <td>71061.5</td>\n",
       "    </tr>\n",
       "    <tr>\n",
       "      <th>4</th>\n",
       "      <td>166406</td>\n",
       "      <td>3</td>\n",
       "      <td>B</td>\n",
       "      <td>137032.6</td>\n",
       "      <td>A</td>\n",
       "      <td>90351.3</td>\n",
       "      <td>45677.5</td>\n",
       "      <td>30117.1</td>\n",
       "    </tr>\n",
       "  </tbody>\n",
       "</table>\n",
       "</div>"
      ],
      "text/plain": [
       "   user_id  month tariff_plan  current_tarif after_opt_tarif  after_opt  \\\n",
       "0   166377      3           B       158163.0               A   102777.8   \n",
       "1   166391      3           C         3600.0               C     3600.0   \n",
       "2   166392      3           C         4800.0               C     4800.0   \n",
       "3   166405      3           B       342815.7               A   213184.4   \n",
       "4   166406      3           B       137032.6               A    90351.3   \n",
       "\n",
       "   monthly_before  monthly_after  \n",
       "0         52721.0        34259.3  \n",
       "1          1200.0         1200.0  \n",
       "2          1600.0         1600.0  \n",
       "3        114271.9        71061.5  \n",
       "4         45677.5        30117.1  "
      ]
     },
     "execution_count": 58,
     "metadata": {},
     "output_type": "execute_result"
    }
   ],
   "source": [
    "# средняя плата в месяц до оптимизации по клиентам\n",
    "payment_res['monthly_before'] = round(payment_res['current_tarif'] / payment_res['month'], 1)\n",
    "\n",
    "# средняя плата в месяц после оптимизации по клиентам\n",
    "payment_res['monthly_after'] = round(payment_res['after_opt'] / payment_res['month'], 1)\n",
    "\n",
    "payment_res.head()"
   ]
  },
  {
   "cell_type": "code",
   "execution_count": 59,
   "metadata": {},
   "outputs": [
    {
     "data": {
      "image/png": "[encoded data removed]",
      "text/plain": [
       "<Figure size 1296x576 with 2 Axes>"
      ]
     },
     "metadata": {},
     "output_type": "display_data"
    }
   ],
   "source": [
    "plt.figure(figsize=(18,8))\n",
    "\n",
    "for i, j in enumerate([(payment_res['monthly_before'], 'до'), (payment_res['monthly_after'], 'после')]):\n",
    "    plt.subplot (1, 2, i+1)\n",
    "    sns.histplot(j[0], bins=15,ec='black')\n",
    "    plt.title(f'Распределение расходов клиентов {j[1]} оптимизации')\n",
    "    plt.xlabel('Расходы клиента в месяц, руб.')\n",
    "    plt.ylabel('Частота')\n",
    "    plt.ylim(0, 210)"
   ]
  },
  {
   "cell_type": "markdown",
   "metadata": {},
   "source": [
    "Исходя из графика, можно сделать вывод, что расходы клиентов в целом стали меньше:\n",
    "- \"хвост\" графика сократился;\n",
    "- кол-во счетов на суммы свыше 50 000 руб. стало меньше;\n",
    "- кол-во клиентов, которые в среднем платят менее 50 000 руб. в месяц стало значительно больше"
   ]
  },
  {
   "cell_type": "code",
   "execution_count": 60,
   "metadata": {},
   "outputs": [
    {
     "data": {
      "image/png": "[encoded data removed]",
      "text/plain": [
       "<Figure size 864x576 with 2 Axes>"
      ]
     },
     "metadata": {},
     "output_type": "display_data"
    }
   ],
   "source": [
    "plt.figure(figsize=(12,8))\n",
    "\n",
    "for i, j in enumerate([('monthly_before', 'до'), ('monthly_after', 'после')]):\n",
    "    plt.subplot(1, 2, i+1)\n",
    "    sns.boxplot(data=payment_res, y=j[0], saturation=.5, linewidth=.85)\n",
    "    plt.title(f'Распределение расходов клиентов {j[1]} оптимизации')\n",
    "    plt.ylabel('Расходы клиента в месяц, руб.')\n",
    "    plt.ylim(0, 40000)"
   ]
  },
  {
   "cell_type": "code",
   "execution_count": 61,
   "metadata": {},
   "outputs": [
    {
     "data": {
      "text/html": [
       "<div>\n",
       "<style scoped>\n",
       "    .dataframe tbody tr th:only-of-type {\n",
       "        vertical-align: middle;\n",
       "    }\n",
       "\n",
       "    .dataframe tbody tr th {\n",
       "        vertical-align: top;\n",
       "    }\n",
       "\n",
       "    .dataframe thead th {\n",
       "        text-align: right;\n",
       "    }\n",
       "</style>\n",
       "<table border=\"1\" class=\"dataframe\">\n",
       "  <thead>\n",
       "    <tr style=\"text-align: right;\">\n",
       "      <th></th>\n",
       "      <th>monthly_before</th>\n",
       "      <th>monthly_after</th>\n",
       "    </tr>\n",
       "  </thead>\n",
       "  <tbody>\n",
       "    <tr>\n",
       "      <th>count</th>\n",
       "      <td>247.000000</td>\n",
       "      <td>247.000000</td>\n",
       "    </tr>\n",
       "    <tr>\n",
       "      <th>mean</th>\n",
       "      <td>17565.478543</td>\n",
       "      <td>12618.476113</td>\n",
       "    </tr>\n",
       "    <tr>\n",
       "      <th>std</th>\n",
       "      <td>35744.843896</td>\n",
       "      <td>27799.868239</td>\n",
       "    </tr>\n",
       "    <tr>\n",
       "      <th>min</th>\n",
       "      <td>1000.000000</td>\n",
       "      <td>1000.000000</td>\n",
       "    </tr>\n",
       "    <tr>\n",
       "      <th>25%</th>\n",
       "      <td>2000.000000</td>\n",
       "      <td>1486.400000</td>\n",
       "    </tr>\n",
       "    <tr>\n",
       "      <th>50%</th>\n",
       "      <td>3847.500000</td>\n",
       "      <td>3149.600000</td>\n",
       "    </tr>\n",
       "    <tr>\n",
       "      <th>75%</th>\n",
       "      <td>17433.950000</td>\n",
       "      <td>12157.900000</td>\n",
       "    </tr>\n",
       "    <tr>\n",
       "      <th>max</th>\n",
       "      <td>285207.000000</td>\n",
       "      <td>241420.000000</td>\n",
       "    </tr>\n",
       "  </tbody>\n",
       "</table>\n",
       "</div>"
      ],
      "text/plain": [
       "       monthly_before  monthly_after\n",
       "count      247.000000     247.000000\n",
       "mean     17565.478543   12618.476113\n",
       "std      35744.843896   27799.868239\n",
       "min       1000.000000    1000.000000\n",
       "25%       2000.000000    1486.400000\n",
       "50%       3847.500000    3149.600000\n",
       "75%      17433.950000   12157.900000\n",
       "max     285207.000000  241420.000000"
      ]
     },
     "execution_count": 61,
     "metadata": {},
     "output_type": "execute_result"
    }
   ],
   "source": [
    "payment_res[['monthly_before', 'monthly_after']].describe()"
   ]
  },
  {
   "cell_type": "markdown",
   "metadata": {},
   "source": [
    "Боксплот также свидетельствует о том, что расходы клиентов сократились:\n",
    "- Медианное значение среднего чека в месяц сократилось (c 3849 руб. до 3150 руб.);\n",
    "- отклонение от медианы стало значительно меньше, так как большое количество клиентов, которые платили большие суммы на текущих тарифах, перешли на более оптимальные\n",
    "- до оптимизации 75% пользователей не более 17 444 руб., а после оптимизации - не более 12 157 руб."
   ]
  },
  {
   "cell_type": "code",
   "execution_count": 62,
   "metadata": {},
   "outputs": [
    {
     "data": {
      "image/png": "[encoded data removed]",
      "text/plain": [
       "<Figure size 1080x576 with 2 Axes>"
      ]
     },
     "metadata": {},
     "output_type": "display_data"
    }
   ],
   "source": [
    "plt.figure(figsize=(15,8))\n",
    "\n",
    "for i, j in enumerate([('current_tarif', 'tariff_plan', 'до'), ('after_opt', 'after_opt_tarif', 'после')]):\n",
    "    plt.subplot(1, 2, i+1)\n",
    "    sns.barplot(data=payment_monthly.sort_values(by=j[0]), x='month', y=j[0],  hue=j[1])\n",
    "    \n",
    "    plt.title(f'Средний чек по месяцам {j[2]} оптимизации')\n",
    "    plt.xlabel('Номер месяца')\n",
    "    plt.ylabel(f'Средний чек {j[2]} оптимизации')\n",
    "    plt.legend(title=\"Тариф\")\n",
    "    \n",
    "    plt.ylim(0, 90000)"
   ]
  },
  {
   "cell_type": "markdown",
   "metadata": {},
   "source": [
    "В динамике средний чек все так же растет, однако:\n",
    "- после оптимизации самый большой средний чек у клиентов с тарифа А, тогда как до оптимизации он был ниже всего в 2-х из 3-х месяцев;\n",
    "- отклонение снизилось на каждом из тарифов и теперь крупные пользователи распределены по выгодным тарифам и не искажают динамику выручки;\n",
    "- в целом средний чек на всем периоде после оптимизации снизился"
   ]
  },
  {
   "cell_type": "markdown",
   "metadata": {},
   "source": [
    "**Распределение пользователей по тарифам**"
   ]
  },
  {
   "cell_type": "code",
   "execution_count": 63,
   "metadata": {},
   "outputs": [
    {
     "data": {
      "image/png": "[encoded data removed]",
      "text/plain": [
       "<Figure size 1152x720 with 2 Axes>"
      ]
     },
     "metadata": {},
     "output_type": "display_data"
    }
   ],
   "source": [
    "plt.figure(figsize=(16,10))\n",
    "\n",
    "for i, j in enumerate([(data_tarif,'tariff_plan', 'до'), (payment_res, 'after_opt_tarif', 'после')]):\n",
    "    \n",
    "    plt.subplot(1, 2, i+1)\n",
    "    \n",
    "    plt.pie(j[0].pivot_table(index=j[1], values='user_id', aggfunc='nunique').reset_index()['user_id'],\n",
    "        labels = ['A', 'B', 'C'],\n",
    "        autopct='%.1f%%',\n",
    "        textprops={'size': 'large'},\n",
    "        colors = sns.color_palette('Pastel2')[:])\n",
    "    \n",
    "    plt.title(f'Распределение пользователей по тарифам {j[2]} оптимизации')"
   ]
  },
  {
   "cell_type": "markdown",
   "metadata": {},
   "source": [
    "- После оптимизации значительно выросла доля клиентов с тарифом А (с 11,2% до 36,4%), а доля клиентов с тарифом В, наоборот, значительно сократилась (с 36,3% до 13,8%)\n",
    "- доля клиентов с тарифом С незначительно сократилась (с 52,5% до 49,8%), однако продолжает составлять почти половину всех клиентов;\n",
    "- экономия у клиентов в основном достигается путем перехода на более дорогой тариф по анбонентской плате."
   ]
  },
  {
   "cell_type": "code",
   "execution_count": 64,
   "metadata": {},
   "outputs": [
    {
     "data": {
      "image/png": "[encoded data removed]",
      "text/plain": [
       "<Figure size 1152x720 with 2 Axes>"
      ]
     },
     "metadata": {},
     "output_type": "display_data"
    }
   ],
   "source": [
    "plt.figure(figsize=(16,10))\n",
    "for i, j in enumerate([('tariff_plan', 'monthly_before', 'до'), ('after_opt_tarif', 'monthly_after', 'после')]):\n",
    "    plt.subplot(1, 2, i+1)\n",
    "    sns.boxplot(data=payment_res.sort_values(by=j[0]),\n",
    "                x=j[0],\n",
    "                y=j[1],\n",
    "                linewidth=.85,\n",
    "                palette='vlag_r',\n",
    "                saturation=.8)\n",
    "    plt.title(f'Плата за месяц по тарифам {j[2]} оптимизации')\n",
    "    plt.xlabel('Тарифный план')\n",
    "    plt.ylabel(f'Плата за месяц в среднем {j[2]} оптимизации')\n",
    "    plt.ylim(0, 250000)\n"
   ]
  },
  {
   "cell_type": "markdown",
   "metadata": {},
   "source": [
    "Заметно убрались выбросы, так как те пользователи, которые платили много на тарифах B и C перешли на более дорогие (по абонентской плате) тарифы. В тарифе А как раз выбросы немного увеличились, так как именно на этот тариф перешли пользователи с особо большими расходами минут, так как этот тариф располагает более выгодными условиями именно на минуты сверх лимита,на минуты не внутренних звонков и т.д.\n",
    "На тарифе С много клиентов и по боксплоту как раз видно, что теперь у них плата в одном более-мене определенном диапазоне"
   ]
  },
  {
   "cell_type": "markdown",
   "metadata": {},
   "source": [
    "**Изменения в выручке**"
   ]
  },
  {
   "cell_type": "code",
   "execution_count": 65,
   "metadata": {
    "scrolled": true
   },
   "outputs": [
    {
     "name": "stdout",
     "output_type": "stream",
     "text": [
      "Средняя выручка в месяц до оптимизации тарифов: 4338673.2\n",
      "\n",
      "Средняя выручка в месяц после оптимизации тарифов: 3116763.5999999996\n",
      "\n",
      "Процентное изменение в средней выручке в месяц после оптимизации тарифов: -28.2 %\n"
     ]
    }
   ],
   "source": [
    "print('Средняя выручка в месяц до оптимизации тарифов:', payment_res['monthly_before'].sum())\n",
    "\n",
    "print('\\nСредняя выручка в месяц после оптимизации тарифов:', payment_res['monthly_after'].sum())\n",
    "\n",
    "print('\\nПроцентное изменение в средней выручке в месяц после оптимизации тарифов:',\n",
    "      round((payment_res['monthly_after'].sum() / payment_res['monthly_before'].sum() - 1) * 100, 1), '%')"
   ]
  },
  {
   "cell_type": "code",
   "execution_count": 66,
   "metadata": {},
   "outputs": [
    {
     "data": {
      "image/png": "[encoded data removed]",
      "text/plain": [
       "<Figure size 864x576 with 1 Axes>"
      ]
     },
     "metadata": {},
     "output_type": "display_data"
    }
   ],
   "source": [
    "revenue = pd.DataFrame({'До оптимизации тарифов' : [payment_res['current_tarif'].sum()/1000],\n",
    "                        'После оптимизации тарифов':[payment_res['after_opt'].sum()/1000],\n",
    "                       'Если клиенты с неоптимальным тарифом уйдут':\n",
    "                        payment_pivot[payment_pivot['is_not_optimal'] == False]['current_tarif'].sum()/1000}).T.reset_index()\n",
    "\n",
    "revenue.columns = ['is_opt', 'revenue']\n",
    "\n",
    "plt.figure(figsize=(12,8))\n",
    "\n",
    "sns.barplot(data=revenue, y='revenue', x='is_opt', palette='RdGy_r', ec='black')\n",
    "\n",
    "plt.title('Выручка до и после оптимизации')\n",
    "plt.xlabel('')\n",
    "plt.ylabel('Выручка, тыс.руб.')\n",
    "\n",
    "plt.show()"
   ]
  },
  {
   "cell_type": "markdown",
   "metadata": {},
   "source": [
    "После оптимизации тарифов средняя выручка в месяц упала на 30%, что довольно много, однако если предположить, что клиенты с неоптимальным тарифом уйдут, то бизнес потеряет намного больше (около 75%)\n",
    "\n",
    "Для того, чтобы снизить потери при переходе клиентов на оптимальные тарифы рекомендуется пересмотреть тарифную сетку, предложить клиентам другие условия. Также стоит наладить систему защиты для того, чтобы несколько операторов не могли работать через один аккаунт, и клиенты не смогли экономить на плате за операторов."
   ]
  },
  {
   "cell_type": "markdown",
   "metadata": {},
   "source": [
    "**Вывод**\n",
    "\n",
    "Во время исследовательского анализа данных было выявлено:\n",
    "- Данные представлены за период со 2 августа 2019 года по 28 ноября 2019 года, при этом активный период анализа: с сентября по декабрь 2019 года;\n",
    "- в данных есть аномалии по продолжительности и количеству звонков. Аномалии были удалены, они составили 3% всех данных за активный период исследования;\n",
    "- активный пользователь - тот, кто совершал звонки, как минимум, последние 15 дней активного периода анализа. Количество неактивных пользователей - 56;\n",
    "- клиентов с неоптимальными тарифами всего 121 (49% от всех активных пользователей)\n",
    "- средняя выручка в месяц упадет на 27%, если все пользователи с неоптимальными тарифами перейдут на оптимальные, однако если все пользователи с неоптимальными тарифами уйдут к конкурентам, то потери могут достичь 75%\n",
    "- после оптимизации тарифов количество клиентов с тарифом А вырастет(36%), а с тарифом В - упадет(14%), клиентов с тарифом С станет незначительно меньше и они все так же будут составлять почти половину от всех пользователей\n",
    "\n"
   ]
  },
  {
   "cell_type": "markdown",
   "metadata": {},
   "source": [
    "## Проверка гипотез <a id ='9'></a>"
   ]
  },
  {
   "cell_type": "markdown",
   "metadata": {},
   "source": [
    "### Гипотеза о равенстве средних чеков на разных тарифных планах <a id ='10'></a>\n",
    "\n",
    "**Нулевая гипотеза Н0**: Между средними чеками на тарифных планах А и C нет значимой разницы\n",
    "\n",
    "**Альтернативная гипотеза Н1**: Между средними чеками на тарифных планах А и C есть значимая разница\n",
    "\n",
    "Гипотезы будем проверять с помощью непараметрического теста Манна-Уитни, так как в данных наблюдаются выбросы, сильно сдвигающие параметрические результаты - `scipy.stats.mannwhitneyu()`"
   ]
  },
  {
   "cell_type": "code",
   "execution_count": 72,
   "metadata": {},
   "outputs": [
    {
     "name": "stdout",
     "output_type": "stream",
     "text": [
      "p-value: 4.8361747347691e-21\n",
      "Нулевая гипотеза отвергается.\n"
     ]
    }
   ],
   "source": [
    "# уровень стат. значимости\n",
    "alpha = 0.05\n",
    "\n",
    "result = stats.mannwhitneyu(payment_monthly['A'], payment_monthly['B'])\n",
    "\n",
    "# выводим p-value\n",
    "print('p-value:', result.pvalue)\n",
    "# проверям p-value и принимаем решение\n",
    "if result.pvalue < alpha:\n",
    "    print('Нулевая гипотеза отвергается.')\n",
    "else:\n",
    "    print('Нельзя отвергнуть нулевую гипотезу.')\n"
   ]
  },
  {
   "cell_type": "markdown",
   "metadata": {},
   "source": [
    "Полученное значение p-value нам говорит о том, что при условии, что средние чеки на тарифных планах А и С разные, получить такое или большее различие случайно можно с очень маленькой вероятностью (ниже 0.1%). Этой вероятность слишком мала для того, чтобы делать вывод об отсутствии значимой разницы между средними чеками на тарифных планах А и С."
   ]
  },
  {
   "cell_type": "markdown",
   "metadata": {},
   "source": [
    "### Вторая гипотеза о равенстве средней выручки на клиента до и после оптимизации тарифов <a id ='11'></a>\n",
    "\n",
    "**Нулевая гипотеза H0**: Средняя выручка на клиента до и после оптимизации тарифов не имеет значимой разницы\n",
    "\n",
    "**Альтернаятиваня гипотеза H1**: Средняя выручка на клиента до и после оптимизации тарифов значимо различается\n",
    "\n",
    "Гипотезу будем проверять с помощью t-теста для гипотез о равенстве средних для зависимых выборок - `scipy.stats.ttest_rel()`"
   ]
  },
  {
   "cell_type": "code",
   "execution_count": 68,
   "metadata": {},
   "outputs": [
    {
     "name": "stdout",
     "output_type": "stream",
     "text": [
      "p-value: 1.0198516603181089e-08\n",
      "Нулевая гипотеза отвергается.\n"
     ]
    }
   ],
   "source": [
    "result = stats.ttest_rel(payment_res['monthly_before'], payment_res['monthly_after'])\n",
    "\n",
    "# выводим p-value\n",
    "print('p-value:', result.pvalue)\n",
    "# проверям p-value и принимаем решение\n",
    "if result.pvalue < alpha:\n",
    "    print('Нулевая гипотеза отвергается.')\n",
    "else:\n",
    "    print('Нельзя отвергнуть нулевую гипотезу.')"
   ]
  },
  {
   "cell_type": "markdown",
   "metadata": {},
   "source": [
    "Полученное значение p-value нам говорит о том, что при условии, что средняя выручка на клиента до и после отпимизации значимо различается, получить такое или большее различие случайно можно с очень маленькой вероятностью (ниже 0.01%). Эта вероятность слишком мала для того, чтобы делать вывод об отсутствии разницы между средней выручкой на клиента до и после оптимизаии тарифов.\n"
   ]
  },
  {
   "cell_type": "markdown",
   "metadata": {},
   "source": [
    "## Презентация <a id ='12'></a>\n",
    "\n",
    "Ссылка на презентацию: <https://disk.yandex.ru/i/f624c05y09s8KQ>"
   ]
  },
  {
   "cell_type": "markdown",
   "metadata": {},
   "source": [
    "## Общий вывод<a id ='13'></a>"
   ]
  },
  {
   "cell_type": "markdown",
   "metadata": {},
   "source": [
    "Во время проекта было выполнено следующее:\n",
    "\n",
    "**1. Обзор и предобработка данных**\n",
    "\n",
    "На этом этапе было выполнено:\n",
    "- Датафрейм с информацией о вызовах очищен от дубликатов. Пропуски в столбце `iternal` удалены, а в столбце `operator_id` оставлены (пропуски появляются, так как не назначается оператор для входящих пропущенных вызовов). Данные в столбце `iternal` приведены к типу данных `bool`, в столбце `date` - к `datetime.date`;\n",
    "- В датафрейме с информацией о клиентах столбец `date_start` приведен к типу данных `datetime.date`\n",
    "\n",
    "**2. Исследовательский анализ данных**\n",
    "\n",
    "Было выявлено:\n",
    "- Данные представлены за период со 2 августа 2019 года по 28 ноября 2019 года, при этом активный период анализа: с сентября по декабрь 2019 года;\n",
    "- в данных есть аномалии по продолжительности и количеству звонков. Аномалии были удалены, они составили 3% всех данных за активный период исследования;\n",
    "- активный пользователь - тот, кто совершал звонки, как минимум, последние 15 дней активного периода анализа. Количество неактивных пользователей - 56;\n",
    "- клиентов с неоптимальными тарифами всего 121 (49% от всех активных пользователей)\n",
    "- средняя выручка в месяц упадет на 27%, если все пользователи с неоптимальными тарифами перейдут на оптимальные, однако если все пользователи с неоптимальными тарифами уйдут к конкурентам, то потери могут достичь 75%\n",
    "- после оптимизации тарифов количество клиентов с тарифом А вырастет(36%), а с тарифом В - упадет(14%), клиентов с тарифом С станет незначительно меньше и они все так же будут составлять почти половину от всех пользователей\n",
    "\n",
    "\n",
    "**3. Проверка гипотез**\n",
    "\n",
    "- Первая гипотеза о равенсве средних чеков на тарифах А и С была отвергнута в пользу альтернативной: средние чеки на тарифах А и С значимо различаются\n",
    "- Вторая гипотеза о равенстве средней выручки до и после оптимизации тарифов также была отвергнута в пользу альтернативной: средняя выручка на клиента до и после оптимизации значимо различается\n",
    "\n",
    "***\n",
    "- Всего **49% (121) активных клиентов с неоптимальными тарифами**, которым будет целесообразно преложить сменить тариф\n",
    "- При переходе всех этих клиентов на оптимальный тариф **средняя выручка в месяц упадет на 27%**\n",
    "- После оптимизации клиентов с тарифом А станет больше на 25,2%, а клиентов с тарифом В станет меньше на 22,5%, клиентов с тарифом С после оптимизации всего 49%\n",
    "- Для снижения потерь после перехода клиентов на оптимальные тарифы **рекомендуется сменить тарифную сетку и проверить/наладить систему защиты** (чтобы несколько операторов не могло сидеть через 1 аккаунт)\n",
    "***"
   ]
  }
 ],
 "metadata": {
  "ExecuteTimeLog": [
   {
    "duration": 1228,
    "start_time": "2024-06-17T10:58:25.977Z"
   },
   {
    "duration": 212,
    "start_time": "2024-06-17T10:58:42.431Z"
   },
   {
    "duration": 7,
    "start_time": "2024-06-17T10:59:05.145Z"
   },
   {
    "duration": 133,
    "start_time": "2024-06-17T10:59:32.656Z"
   },
   {
    "duration": 32,
    "start_time": "2024-06-17T10:59:55.916Z"
   },
   {
    "duration": 28,
    "start_time": "2024-06-17T11:00:43.418Z"
   },
   {
    "duration": 28,
    "start_time": "2024-06-17T11:00:53.683Z"
   },
   {
    "duration": 27,
    "start_time": "2024-06-17T11:01:14.633Z"
   },
   {
    "duration": 15,
    "start_time": "2024-06-17T11:01:22.539Z"
   },
   {
    "duration": 42,
    "start_time": "2024-06-17T11:01:43.658Z"
   },
   {
    "duration": 11,
    "start_time": "2024-06-17T11:01:54.784Z"
   },
   {
    "duration": 5,
    "start_time": "2024-06-17T11:02:54.870Z"
   },
   {
    "duration": 5,
    "start_time": "2024-06-17T11:03:04.039Z"
   },
   {
    "duration": 24,
    "start_time": "2024-06-17T11:52:59.371Z"
   },
   {
    "duration": 29,
    "start_time": "2024-06-17T11:53:06.879Z"
   },
   {
    "duration": 990,
    "start_time": "2024-06-17T11:53:23.025Z"
   },
   {
    "duration": 100,
    "start_time": "2024-06-17T11:53:24.016Z"
   },
   {
    "duration": 5,
    "start_time": "2024-06-17T11:53:24.117Z"
   },
   {
    "duration": 146,
    "start_time": "2024-06-17T11:53:24.124Z"
   },
   {
    "duration": 34,
    "start_time": "2024-06-17T11:53:24.272Z"
   },
   {
    "duration": 64,
    "start_time": "2024-06-17T11:53:24.308Z"
   },
   {
    "duration": 28,
    "start_time": "2024-06-17T12:06:21.205Z"
   },
   {
    "duration": 39,
    "start_time": "2024-06-17T12:07:02.145Z"
   },
   {
    "duration": 33,
    "start_time": "2024-06-17T12:17:23.541Z"
   },
   {
    "duration": 38,
    "start_time": "2024-06-17T12:18:07.422Z"
   },
   {
    "duration": 27,
    "start_time": "2024-06-17T12:18:39.010Z"
   },
   {
    "duration": 112,
    "start_time": "2024-06-17T12:18:58.347Z"
   },
   {
    "duration": 32,
    "start_time": "2024-06-17T12:19:09.450Z"
   },
   {
    "duration": 28,
    "start_time": "2024-06-17T12:19:53.933Z"
   },
   {
    "duration": 29,
    "start_time": "2024-06-17T12:21:06.171Z"
   },
   {
    "duration": 29,
    "start_time": "2024-06-17T12:21:14.463Z"
   },
   {
    "duration": 28,
    "start_time": "2024-06-17T12:21:46.038Z"
   },
   {
    "duration": 31,
    "start_time": "2024-06-17T12:35:06.929Z"
   },
   {
    "duration": 30,
    "start_time": "2024-06-17T12:35:43.023Z"
   },
   {
    "duration": 48,
    "start_time": "2024-06-17T12:36:10.262Z"
   },
   {
    "duration": 43,
    "start_time": "2024-06-17T12:36:29.402Z"
   },
   {
    "duration": 75,
    "start_time": "2024-06-17T12:36:49.502Z"
   },
   {
    "duration": 68,
    "start_time": "2024-06-17T12:37:00.741Z"
   },
   {
    "duration": 10,
    "start_time": "2024-06-17T12:37:08.570Z"
   },
   {
    "duration": 57,
    "start_time": "2024-06-17T12:38:21.651Z"
   },
   {
    "duration": 65,
    "start_time": "2024-06-17T12:38:29.351Z"
   },
   {
    "duration": 75,
    "start_time": "2024-06-17T12:38:35.771Z"
   },
   {
    "duration": 74,
    "start_time": "2024-06-17T12:39:14.270Z"
   },
   {
    "duration": 63,
    "start_time": "2024-06-17T12:40:03.930Z"
   },
   {
    "duration": 9,
    "start_time": "2024-06-17T12:54:11.994Z"
   },
   {
    "duration": 9,
    "start_time": "2024-06-17T12:54:26.105Z"
   },
   {
    "duration": 24,
    "start_time": "2024-06-17T12:54:55.273Z"
   },
   {
    "duration": 9,
    "start_time": "2024-06-17T12:56:29.995Z"
   },
   {
    "duration": 14,
    "start_time": "2024-06-17T13:02:02.883Z"
   },
   {
    "duration": 25,
    "start_time": "2024-06-17T13:03:04.405Z"
   },
   {
    "duration": 14,
    "start_time": "2024-06-17T13:03:48.963Z"
   },
   {
    "duration": 1099,
    "start_time": "2024-06-17T13:03:57.732Z"
   },
   {
    "duration": 107,
    "start_time": "2024-06-17T13:03:58.833Z"
   },
   {
    "duration": 6,
    "start_time": "2024-06-17T13:03:58.941Z"
   },
   {
    "duration": 170,
    "start_time": "2024-06-17T13:03:58.949Z"
   },
   {
    "duration": 53,
    "start_time": "2024-06-17T13:03:59.120Z"
   },
   {
    "duration": 32,
    "start_time": "2024-06-17T13:03:59.175Z"
   },
   {
    "duration": 26,
    "start_time": "2024-06-17T13:03:59.209Z"
   },
   {
    "duration": 88,
    "start_time": "2024-06-17T13:03:59.237Z"
   },
   {
    "duration": 13,
    "start_time": "2024-06-17T13:03:59.326Z"
   },
   {
    "duration": 46,
    "start_time": "2024-06-17T13:03:59.340Z"
   },
   {
    "duration": 10,
    "start_time": "2024-06-17T13:04:04.791Z"
   },
   {
    "duration": 22,
    "start_time": "2024-06-17T13:12:56.188Z"
   },
   {
    "duration": 11,
    "start_time": "2024-06-17T13:13:05.486Z"
   },
   {
    "duration": 5,
    "start_time": "2024-06-17T13:17:28.231Z"
   },
   {
    "duration": 3,
    "start_time": "2024-06-17T13:17:37.496Z"
   },
   {
    "duration": 3,
    "start_time": "2024-06-17T13:17:51.732Z"
   },
   {
    "duration": 3,
    "start_time": "2024-06-17T13:17:55.965Z"
   },
   {
    "duration": 9,
    "start_time": "2024-06-17T13:18:06.081Z"
   },
   {
    "duration": 9,
    "start_time": "2024-06-17T13:18:47.656Z"
   },
   {
    "duration": 7,
    "start_time": "2024-06-17T13:18:58.132Z"
   },
   {
    "duration": 9,
    "start_time": "2024-06-17T13:19:07.993Z"
   },
   {
    "duration": 8,
    "start_time": "2024-06-17T13:19:21.675Z"
   },
   {
    "duration": 14,
    "start_time": "2024-06-17T13:20:25.295Z"
   },
   {
    "duration": 18,
    "start_time": "2024-06-17T13:20:35.598Z"
   },
   {
    "duration": 4,
    "start_time": "2024-06-17T13:21:17.541Z"
   },
   {
    "duration": 4,
    "start_time": "2024-06-17T13:22:17.211Z"
   },
   {
    "duration": 69,
    "start_time": "2024-06-17T13:23:00.403Z"
   },
   {
    "duration": 61,
    "start_time": "2024-06-17T13:23:37.327Z"
   },
   {
    "duration": 13,
    "start_time": "2024-06-17T13:23:55.601Z"
   },
   {
    "duration": 50,
    "start_time": "2024-06-17T13:37:10.875Z"
   },
   {
    "duration": 9,
    "start_time": "2024-06-17T13:37:15.547Z"
   },
   {
    "duration": 21,
    "start_time": "2024-06-17T13:37:17.486Z"
   },
   {
    "duration": 17,
    "start_time": "2024-06-17T13:38:19.059Z"
   },
   {
    "duration": 18,
    "start_time": "2024-06-17T13:39:04.067Z"
   },
   {
    "duration": 19,
    "start_time": "2024-06-17T13:39:24.486Z"
   },
   {
    "duration": 25,
    "start_time": "2024-06-17T13:47:12.187Z"
   },
   {
    "duration": 36,
    "start_time": "2024-06-17T13:47:46.699Z"
   },
   {
    "duration": 112,
    "start_time": "2024-06-17T13:48:47.567Z"
   },
   {
    "duration": 38,
    "start_time": "2024-06-17T13:48:51.387Z"
   },
   {
    "duration": 5,
    "start_time": "2024-06-17T13:49:02.799Z"
   },
   {
    "duration": 36,
    "start_time": "2024-06-17T13:49:13.883Z"
   },
   {
    "duration": 6,
    "start_time": "2024-06-17T13:50:00.175Z"
   },
   {
    "duration": 11,
    "start_time": "2024-06-17T13:50:08.607Z"
   },
   {
    "duration": 12,
    "start_time": "2024-06-17T13:50:28.466Z"
   },
   {
    "duration": 12,
    "start_time": "2024-06-17T13:50:58.847Z"
   },
   {
    "duration": 21,
    "start_time": "2024-06-17T13:51:06.938Z"
   },
   {
    "duration": 15,
    "start_time": "2024-06-17T13:51:12.327Z"
   },
   {
    "duration": 1060,
    "start_time": "2024-06-17T13:51:22.367Z"
   },
   {
    "duration": 99,
    "start_time": "2024-06-17T13:51:23.429Z"
   },
   {
    "duration": 5,
    "start_time": "2024-06-17T13:51:23.530Z"
   },
   {
    "duration": 147,
    "start_time": "2024-06-17T13:51:23.536Z"
   },
   {
    "duration": 30,
    "start_time": "2024-06-17T13:51:23.685Z"
   },
   {
    "duration": 55,
    "start_time": "2024-06-17T13:51:23.717Z"
   },
   {
    "duration": 28,
    "start_time": "2024-06-17T13:51:23.774Z"
   },
   {
    "duration": 84,
    "start_time": "2024-06-17T13:51:23.804Z"
   },
   {
    "duration": 38,
    "start_time": "2024-06-17T13:51:23.889Z"
   },
   {
    "duration": 11,
    "start_time": "2024-06-17T13:51:23.929Z"
   },
   {
    "duration": 40,
    "start_time": "2024-06-17T13:51:23.942Z"
   },
   {
    "duration": 12,
    "start_time": "2024-06-17T13:51:23.984Z"
   },
   {
    "duration": 17,
    "start_time": "2024-06-17T13:51:23.997Z"
   },
   {
    "duration": 50,
    "start_time": "2024-06-17T13:51:24.016Z"
   },
   {
    "duration": 17,
    "start_time": "2024-06-17T13:51:24.068Z"
   },
   {
    "duration": 12,
    "start_time": "2024-06-17T13:51:24.086Z"
   },
   {
    "duration": 10,
    "start_time": "2024-06-17T13:51:24.100Z"
   },
   {
    "duration": 38,
    "start_time": "2024-06-17T13:52:47.927Z"
   },
   {
    "duration": 17,
    "start_time": "2024-06-17T13:52:55.899Z"
   },
   {
    "duration": 770,
    "start_time": "2024-06-17T13:53:14.567Z"
   },
   {
    "duration": 12,
    "start_time": "2024-06-17T13:53:22.508Z"
   },
   {
    "duration": 11,
    "start_time": "2024-06-17T13:53:38.408Z"
   },
   {
    "duration": 4,
    "start_time": "2024-06-17T13:53:51.039Z"
   },
   {
    "duration": 16,
    "start_time": "2024-06-17T13:54:02.814Z"
   },
   {
    "duration": 4,
    "start_time": "2024-06-17T13:54:13.920Z"
   },
   {
    "duration": 5,
    "start_time": "2024-06-17T13:54:25.807Z"
   },
   {
    "duration": 4,
    "start_time": "2024-06-17T13:54:33.408Z"
   },
   {
    "duration": 9,
    "start_time": "2024-06-17T13:55:45.847Z"
   },
   {
    "duration": 4,
    "start_time": "2024-06-17T13:55:59.599Z"
   },
   {
    "duration": 8,
    "start_time": "2024-06-17T13:56:03.358Z"
   },
   {
    "duration": 4,
    "start_time": "2024-06-17T13:56:39.699Z"
   },
   {
    "duration": 4,
    "start_time": "2024-06-17T13:56:51.015Z"
   },
   {
    "duration": 10,
    "start_time": "2024-06-17T14:05:37.012Z"
   },
   {
    "duration": 7,
    "start_time": "2024-06-17T14:05:52.604Z"
   },
   {
    "duration": 9,
    "start_time": "2024-06-17T15:01:05.316Z"
   },
   {
    "duration": 9,
    "start_time": "2024-06-17T15:01:33.669Z"
   },
   {
    "duration": 11,
    "start_time": "2024-06-17T15:02:22.090Z"
   },
   {
    "duration": 10,
    "start_time": "2024-06-17T15:02:28.474Z"
   },
   {
    "duration": 12,
    "start_time": "2024-06-17T15:03:16.376Z"
   },
   {
    "duration": 256,
    "start_time": "2024-06-17T15:04:42.367Z"
   },
   {
    "duration": 1824,
    "start_time": "2024-06-17T15:04:53.973Z"
   },
   {
    "duration": 178,
    "start_time": "2024-06-17T15:05:10.246Z"
   },
   {
    "duration": 187,
    "start_time": "2024-06-17T15:05:38.378Z"
   },
   {
    "duration": 240,
    "start_time": "2024-06-17T15:06:30.412Z"
   },
   {
    "duration": 1742,
    "start_time": "2024-06-17T15:06:48.335Z"
   },
   {
    "duration": 183,
    "start_time": "2024-06-17T15:08:17.764Z"
   },
   {
    "duration": 16,
    "start_time": "2024-06-17T15:08:34.617Z"
   },
   {
    "duration": 10,
    "start_time": "2024-06-17T15:08:54.740Z"
   },
   {
    "duration": 11,
    "start_time": "2024-06-17T15:09:03.394Z"
   },
   {
    "duration": 10,
    "start_time": "2024-06-17T15:10:07.894Z"
   },
   {
    "duration": 48,
    "start_time": "2024-06-18T13:53:44.595Z"
   },
   {
    "duration": 1242,
    "start_time": "2024-06-18T13:53:51.216Z"
   },
   {
    "duration": 210,
    "start_time": "2024-06-18T13:53:52.460Z"
   },
   {
    "duration": 6,
    "start_time": "2024-06-18T13:53:52.671Z"
   },
   {
    "duration": 139,
    "start_time": "2024-06-18T13:53:52.678Z"
   },
   {
    "duration": 28,
    "start_time": "2024-06-18T13:53:52.819Z"
   },
   {
    "duration": 65,
    "start_time": "2024-06-18T13:53:52.849Z"
   },
   {
    "duration": 29,
    "start_time": "2024-06-18T13:53:52.915Z"
   },
   {
    "duration": 80,
    "start_time": "2024-06-18T13:53:52.945Z"
   },
   {
    "duration": 52,
    "start_time": "2024-06-18T13:53:53.028Z"
   },
   {
    "duration": 14,
    "start_time": "2024-06-18T13:53:53.082Z"
   },
   {
    "duration": 54,
    "start_time": "2024-06-18T13:53:53.097Z"
   },
   {
    "duration": 11,
    "start_time": "2024-06-18T13:53:53.153Z"
   },
   {
    "duration": 21,
    "start_time": "2024-06-18T13:53:53.166Z"
   },
   {
    "duration": 41,
    "start_time": "2024-06-18T13:53:53.190Z"
   },
   {
    "duration": 11,
    "start_time": "2024-06-18T13:53:53.233Z"
   },
   {
    "duration": 22,
    "start_time": "2024-06-18T13:53:53.245Z"
   },
   {
    "duration": 18,
    "start_time": "2024-06-18T13:53:53.269Z"
   },
   {
    "duration": 108,
    "start_time": "2024-06-18T13:55:29.997Z"
   },
   {
    "duration": 15,
    "start_time": "2024-06-18T13:55:59.911Z"
   },
   {
    "duration": 18,
    "start_time": "2024-06-18T13:56:11.466Z"
   },
   {
    "duration": 19,
    "start_time": "2024-06-18T13:56:23.269Z"
   },
   {
    "duration": 30,
    "start_time": "2024-06-18T13:56:44.253Z"
   },
   {
    "duration": 274,
    "start_time": "2024-06-18T13:58:39.058Z"
   },
   {
    "duration": 218,
    "start_time": "2024-06-18T13:58:50.768Z"
   },
   {
    "duration": 225,
    "start_time": "2024-06-18T13:59:10.465Z"
   },
   {
    "duration": 207,
    "start_time": "2024-06-18T13:59:21.847Z"
   },
   {
    "duration": 234,
    "start_time": "2024-06-18T13:59:38.131Z"
   },
   {
    "duration": 67,
    "start_time": "2024-06-18T13:59:44.588Z"
   },
   {
    "duration": 247,
    "start_time": "2024-06-18T13:59:47.681Z"
   },
   {
    "duration": 77,
    "start_time": "2024-06-18T14:01:23.916Z"
   },
   {
    "duration": 89,
    "start_time": "2024-06-18T14:02:03.230Z"
   },
   {
    "duration": 20,
    "start_time": "2024-06-18T14:02:32.949Z"
   },
   {
    "duration": 133,
    "start_time": "2024-06-18T14:03:07.471Z"
   },
   {
    "duration": 163,
    "start_time": "2024-06-18T14:03:21.057Z"
   },
   {
    "duration": 212,
    "start_time": "2024-06-18T14:03:40.800Z"
   },
   {
    "duration": 291,
    "start_time": "2024-06-18T14:06:18.932Z"
   },
   {
    "duration": 259,
    "start_time": "2024-06-18T14:06:25.776Z"
   },
   {
    "duration": 18,
    "start_time": "2024-06-18T14:07:10.368Z"
   },
   {
    "duration": 16,
    "start_time": "2024-06-18T14:13:26.345Z"
   },
   {
    "duration": 17,
    "start_time": "2024-06-18T14:13:40.347Z"
   },
   {
    "duration": 149,
    "start_time": "2024-06-18T14:19:44.519Z"
   },
   {
    "duration": 124,
    "start_time": "2024-06-18T14:19:54.836Z"
   },
   {
    "duration": 113,
    "start_time": "2024-06-18T14:23:17.803Z"
   },
   {
    "duration": 53,
    "start_time": "2024-06-18T14:24:28.412Z"
   },
   {
    "duration": 123,
    "start_time": "2024-06-18T14:31:04.526Z"
   },
   {
    "duration": 8,
    "start_time": "2024-06-18T14:31:32.956Z"
   },
   {
    "duration": 124,
    "start_time": "2024-06-18T14:31:54.796Z"
   },
   {
    "duration": 134,
    "start_time": "2024-06-18T14:32:07.834Z"
   },
   {
    "duration": 135,
    "start_time": "2024-06-18T14:32:20.052Z"
   },
   {
    "duration": 133,
    "start_time": "2024-06-18T14:33:14.424Z"
   },
   {
    "duration": 217,
    "start_time": "2024-06-18T14:33:22.671Z"
   },
   {
    "duration": 140,
    "start_time": "2024-06-18T14:33:26.136Z"
   },
   {
    "duration": 141,
    "start_time": "2024-06-18T14:33:34.697Z"
   },
   {
    "duration": 321,
    "start_time": "2024-06-18T14:33:40.066Z"
   },
   {
    "duration": 2155,
    "start_time": "2024-06-18T14:33:50.666Z"
   },
   {
    "duration": 2336,
    "start_time": "2024-06-18T14:35:13.676Z"
   },
   {
    "duration": 222,
    "start_time": "2024-06-18T14:35:34.491Z"
   },
   {
    "duration": 151,
    "start_time": "2024-06-18T14:35:42.856Z"
   },
   {
    "duration": 133,
    "start_time": "2024-06-18T14:36:01.487Z"
   },
   {
    "duration": 134,
    "start_time": "2024-06-18T14:36:01.622Z"
   },
   {
    "duration": 273,
    "start_time": "2024-06-18T14:36:16.518Z"
   },
   {
    "duration": 135,
    "start_time": "2024-06-18T14:36:20.589Z"
   },
   {
    "duration": 480,
    "start_time": "2024-06-18T14:40:10.288Z"
   },
   {
    "duration": 509,
    "start_time": "2024-06-18T14:41:05.211Z"
   },
   {
    "duration": 549,
    "start_time": "2024-06-18T14:42:32.263Z"
   },
   {
    "duration": 564,
    "start_time": "2024-06-18T14:42:55.260Z"
   },
   {
    "duration": 533,
    "start_time": "2024-06-18T14:43:04.333Z"
   },
   {
    "duration": 631,
    "start_time": "2024-06-18T14:44:18.632Z"
   },
   {
    "duration": 296,
    "start_time": "2024-06-18T14:45:17.352Z"
   },
   {
    "duration": 302,
    "start_time": "2024-06-18T14:45:23.480Z"
   },
   {
    "duration": 421,
    "start_time": "2024-06-18T14:45:27.340Z"
   },
   {
    "duration": 1148,
    "start_time": "2024-06-18T14:45:31.572Z"
   },
   {
    "duration": 1633,
    "start_time": "2024-06-18T14:45:48.872Z"
   },
   {
    "duration": 1340,
    "start_time": "2024-06-18T14:45:59.592Z"
   },
   {
    "duration": 193,
    "start_time": "2024-06-18T14:46:53.940Z"
   },
   {
    "duration": 224,
    "start_time": "2024-06-18T14:47:01.768Z"
   },
   {
    "duration": 192,
    "start_time": "2024-06-18T14:49:05.173Z"
   },
   {
    "duration": 1362,
    "start_time": "2024-06-18T14:49:11.514Z"
   },
   {
    "duration": 353,
    "start_time": "2024-06-18T14:51:31.962Z"
   },
   {
    "duration": 207,
    "start_time": "2024-06-18T14:51:45.380Z"
   },
   {
    "duration": 283,
    "start_time": "2024-06-18T14:52:03.401Z"
   },
   {
    "duration": 230,
    "start_time": "2024-06-18T14:52:43.572Z"
   },
   {
    "duration": 234,
    "start_time": "2024-06-18T14:55:24.315Z"
   },
   {
    "duration": 224,
    "start_time": "2024-06-18T14:55:36.267Z"
   },
   {
    "duration": 1168,
    "start_time": "2024-06-18T14:55:41.435Z"
   },
   {
    "duration": 870,
    "start_time": "2024-06-18T14:55:48.835Z"
   },
   {
    "duration": 309,
    "start_time": "2024-06-18T14:55:55.015Z"
   },
   {
    "duration": 290,
    "start_time": "2024-06-18T14:56:50.430Z"
   },
   {
    "duration": 379,
    "start_time": "2024-06-18T14:56:57.791Z"
   },
   {
    "duration": 601,
    "start_time": "2024-06-18T14:57:34.022Z"
   },
   {
    "duration": 214,
    "start_time": "2024-06-18T14:57:41.802Z"
   },
   {
    "duration": 1147,
    "start_time": "2024-06-18T14:57:48.922Z"
   },
   {
    "duration": 343,
    "start_time": "2024-06-18T14:58:31.030Z"
   },
   {
    "duration": 161,
    "start_time": "2024-06-18T14:58:51.710Z"
   },
   {
    "duration": 142,
    "start_time": "2024-06-18T14:58:58.862Z"
   },
   {
    "duration": 162,
    "start_time": "2024-06-18T14:59:15.330Z"
   },
   {
    "duration": 151,
    "start_time": "2024-06-18T14:59:39.202Z"
   },
   {
    "duration": 145,
    "start_time": "2024-06-18T14:59:50.302Z"
   },
   {
    "duration": 16,
    "start_time": "2024-06-18T15:17:01.954Z"
   },
   {
    "duration": 6,
    "start_time": "2024-06-18T15:23:59.454Z"
   },
   {
    "duration": 4,
    "start_time": "2024-06-18T15:24:13.054Z"
   },
   {
    "duration": 5,
    "start_time": "2024-06-18T15:24:30.881Z"
   },
   {
    "duration": 4,
    "start_time": "2024-06-18T15:25:19.502Z"
   },
   {
    "duration": 5,
    "start_time": "2024-06-18T15:26:12.554Z"
   },
   {
    "duration": 5,
    "start_time": "2024-06-18T15:26:23.653Z"
   },
   {
    "duration": 7,
    "start_time": "2024-06-18T15:27:05.212Z"
   },
   {
    "duration": 63,
    "start_time": "2024-06-18T15:27:38.632Z"
   },
   {
    "duration": 7,
    "start_time": "2024-06-18T15:27:42.171Z"
   },
   {
    "duration": 7,
    "start_time": "2024-06-18T15:28:27.579Z"
   },
   {
    "duration": 8,
    "start_time": "2024-06-18T15:28:44.270Z"
   },
   {
    "duration": 3,
    "start_time": "2024-06-18T15:29:36.950Z"
   },
   {
    "duration": 8,
    "start_time": "2024-06-18T15:30:36.918Z"
   },
   {
    "duration": 79,
    "start_time": "2024-06-18T15:31:14.523Z"
   },
   {
    "duration": 5,
    "start_time": "2024-06-18T15:31:21.435Z"
   },
   {
    "duration": 5,
    "start_time": "2024-06-18T15:31:36.022Z"
   },
   {
    "duration": 10,
    "start_time": "2024-06-18T15:32:17.946Z"
   },
   {
    "duration": 8,
    "start_time": "2024-06-18T15:32:23.550Z"
   },
   {
    "duration": 12,
    "start_time": "2024-06-18T15:33:55.434Z"
   },
   {
    "duration": 7,
    "start_time": "2024-06-18T15:35:16.202Z"
   },
   {
    "duration": 17,
    "start_time": "2024-06-18T15:37:16.881Z"
   },
   {
    "duration": 13,
    "start_time": "2024-06-18T15:37:26.178Z"
   },
   {
    "duration": 26,
    "start_time": "2024-06-18T15:38:43.556Z"
   },
   {
    "duration": 13,
    "start_time": "2024-06-18T15:39:09.866Z"
   },
   {
    "duration": 12,
    "start_time": "2024-06-18T15:39:15.670Z"
   },
   {
    "duration": 13,
    "start_time": "2024-06-18T15:39:24.293Z"
   },
   {
    "duration": 12,
    "start_time": "2024-06-18T15:39:34.562Z"
   },
   {
    "duration": 12,
    "start_time": "2024-06-18T15:39:42.892Z"
   },
   {
    "duration": 11,
    "start_time": "2024-06-18T15:40:07.976Z"
   },
   {
    "duration": 1116,
    "start_time": "2024-06-18T15:40:18.188Z"
   },
   {
    "duration": 101,
    "start_time": "2024-06-18T15:40:19.306Z"
   },
   {
    "duration": 6,
    "start_time": "2024-06-18T15:40:19.408Z"
   },
   {
    "duration": 144,
    "start_time": "2024-06-18T15:40:19.415Z"
   },
   {
    "duration": 53,
    "start_time": "2024-06-18T15:40:19.560Z"
   },
   {
    "duration": 31,
    "start_time": "2024-06-18T15:40:19.615Z"
   },
   {
    "duration": 26,
    "start_time": "2024-06-18T15:40:19.647Z"
   },
   {
    "duration": 87,
    "start_time": "2024-06-18T15:40:19.675Z"
   },
   {
    "duration": 55,
    "start_time": "2024-06-18T15:40:19.763Z"
   },
   {
    "duration": 12,
    "start_time": "2024-06-18T15:40:19.820Z"
   },
   {
    "duration": 18,
    "start_time": "2024-06-18T15:40:19.833Z"
   },
   {
    "duration": 12,
    "start_time": "2024-06-18T15:40:19.852Z"
   },
   {
    "duration": 18,
    "start_time": "2024-06-18T15:40:19.865Z"
   },
   {
    "duration": 58,
    "start_time": "2024-06-18T15:40:19.884Z"
   },
   {
    "duration": 10,
    "start_time": "2024-06-18T15:40:19.944Z"
   },
   {
    "duration": 9,
    "start_time": "2024-06-18T15:40:19.955Z"
   },
   {
    "duration": 14,
    "start_time": "2024-06-18T15:40:19.966Z"
   },
   {
    "duration": 386,
    "start_time": "2024-06-18T15:40:19.982Z"
   },
   {
    "duration": 214,
    "start_time": "2024-06-18T15:40:20.369Z"
   },
   {
    "duration": 1250,
    "start_time": "2024-06-18T15:40:20.584Z"
   },
   {
    "duration": 225,
    "start_time": "2024-06-18T15:40:21.835Z"
   },
   {
    "duration": 394,
    "start_time": "2024-06-18T15:40:22.062Z"
   },
   {
    "duration": 16,
    "start_time": "2024-06-18T15:40:22.458Z"
   },
   {
    "duration": 7,
    "start_time": "2024-06-18T15:40:22.475Z"
   },
   {
    "duration": 32,
    "start_time": "2024-06-18T15:40:22.484Z"
   },
   {
    "duration": 12,
    "start_time": "2024-06-18T15:40:22.518Z"
   },
   {
    "duration": 12,
    "start_time": "2024-06-18T15:40:38.674Z"
   },
   {
    "duration": 10,
    "start_time": "2024-06-18T15:41:29.001Z"
   },
   {
    "duration": 12,
    "start_time": "2024-06-18T15:42:38.328Z"
   },
   {
    "duration": 11,
    "start_time": "2024-06-18T15:42:58.560Z"
   },
   {
    "duration": 97,
    "start_time": "2024-06-18T15:54:08.169Z"
   },
   {
    "duration": 117,
    "start_time": "2024-06-18T15:55:03.525Z"
   },
   {
    "duration": 4,
    "start_time": "2024-06-18T15:55:38.748Z"
   },
   {
    "duration": 93,
    "start_time": "2024-06-18T15:56:05.466Z"
   },
   {
    "duration": 4,
    "start_time": "2024-06-18T15:57:15.194Z"
   },
   {
    "duration": 4,
    "start_time": "2024-06-18T15:57:24.976Z"
   },
   {
    "duration": 4,
    "start_time": "2024-06-18T15:58:17.261Z"
   },
   {
    "duration": 5,
    "start_time": "2024-06-18T15:58:28.588Z"
   },
   {
    "duration": 66,
    "start_time": "2024-06-18T15:58:40.752Z"
   },
   {
    "duration": 4,
    "start_time": "2024-06-18T15:58:43.378Z"
   },
   {
    "duration": 12,
    "start_time": "2024-06-18T15:58:56.677Z"
   },
   {
    "duration": 4,
    "start_time": "2024-06-18T15:59:03.688Z"
   },
   {
    "duration": 15,
    "start_time": "2024-06-18T16:04:28.607Z"
   },
   {
    "duration": 16,
    "start_time": "2024-06-18T16:04:42.911Z"
   },
   {
    "duration": 233,
    "start_time": "2024-06-18T16:05:59.797Z"
   },
   {
    "duration": 232,
    "start_time": "2024-06-18T16:06:16.311Z"
   },
   {
    "duration": 15,
    "start_time": "2024-06-18T16:06:31.611Z"
   },
   {
    "duration": 81,
    "start_time": "2024-06-18T16:10:32.715Z"
   },
   {
    "duration": 80,
    "start_time": "2024-06-18T16:10:48.255Z"
   },
   {
    "duration": 80,
    "start_time": "2024-06-18T16:11:08.285Z"
   },
   {
    "duration": 79,
    "start_time": "2024-06-18T16:11:27.906Z"
   },
   {
    "duration": 79,
    "start_time": "2024-06-18T16:12:16.607Z"
   },
   {
    "duration": 78,
    "start_time": "2024-06-18T16:13:04.765Z"
   },
   {
    "duration": 77,
    "start_time": "2024-06-18T16:13:22.037Z"
   },
   {
    "duration": 78,
    "start_time": "2024-06-18T16:13:34.425Z"
   },
   {
    "duration": 78,
    "start_time": "2024-06-18T16:13:39.995Z"
   },
   {
    "duration": 80,
    "start_time": "2024-06-18T16:14:53.382Z"
   },
   {
    "duration": 97,
    "start_time": "2024-06-18T16:15:33.919Z"
   },
   {
    "duration": 93,
    "start_time": "2024-06-18T16:15:43.902Z"
   },
   {
    "duration": 97,
    "start_time": "2024-06-18T16:15:51.942Z"
   },
   {
    "duration": 95,
    "start_time": "2024-06-18T16:15:59.923Z"
   },
   {
    "duration": 92,
    "start_time": "2024-06-18T16:16:09.132Z"
   },
   {
    "duration": 161,
    "start_time": "2024-06-18T16:16:14.461Z"
   },
   {
    "duration": 94,
    "start_time": "2024-06-18T16:16:19.467Z"
   },
   {
    "duration": 77,
    "start_time": "2024-06-18T16:16:27.958Z"
   },
   {
    "duration": 77,
    "start_time": "2024-06-18T16:17:19.769Z"
   },
   {
    "duration": 77,
    "start_time": "2024-06-18T16:17:24.255Z"
   },
   {
    "duration": 81,
    "start_time": "2024-06-18T16:17:28.873Z"
   },
   {
    "duration": 89,
    "start_time": "2024-06-18T16:17:32.986Z"
   },
   {
    "duration": 89,
    "start_time": "2024-06-18T16:18:33.714Z"
   },
   {
    "duration": 167,
    "start_time": "2024-06-18T16:18:44.296Z"
   },
   {
    "duration": 160,
    "start_time": "2024-06-18T16:19:42.945Z"
   },
   {
    "duration": 162,
    "start_time": "2024-06-18T16:19:49.296Z"
   },
   {
    "duration": 89,
    "start_time": "2024-06-18T16:19:52.186Z"
   },
   {
    "duration": 89,
    "start_time": "2024-06-18T16:20:03.218Z"
   },
   {
    "duration": 88,
    "start_time": "2024-06-18T16:20:12.176Z"
   },
   {
    "duration": 157,
    "start_time": "2024-06-18T16:20:36.432Z"
   },
   {
    "duration": 94,
    "start_time": "2024-06-18T16:20:41.036Z"
   },
   {
    "duration": 87,
    "start_time": "2024-06-18T16:20:44.759Z"
   },
   {
    "duration": 163,
    "start_time": "2024-06-18T16:22:19.738Z"
   },
   {
    "duration": 8,
    "start_time": "2024-06-18T16:22:45.376Z"
   },
   {
    "duration": 5,
    "start_time": "2024-06-18T16:22:50.688Z"
   },
   {
    "duration": 89,
    "start_time": "2024-06-18T16:26:54.811Z"
   },
   {
    "duration": 15,
    "start_time": "2024-06-18T16:32:26.607Z"
   },
   {
    "duration": 15,
    "start_time": "2024-06-18T16:32:58.107Z"
   },
   {
    "duration": 21,
    "start_time": "2024-06-18T16:35:03.396Z"
   },
   {
    "duration": 22,
    "start_time": "2024-06-18T16:35:25.147Z"
   },
   {
    "duration": 22,
    "start_time": "2024-06-18T16:35:39.368Z"
   },
   {
    "duration": 23,
    "start_time": "2024-06-18T16:36:05.794Z"
   },
   {
    "duration": 23,
    "start_time": "2024-06-18T16:36:14.255Z"
   },
   {
    "duration": 22,
    "start_time": "2024-06-18T16:36:21.073Z"
   },
   {
    "duration": 23,
    "start_time": "2024-06-18T16:37:37.791Z"
   },
   {
    "duration": 22,
    "start_time": "2024-06-18T16:37:52.311Z"
   },
   {
    "duration": 22,
    "start_time": "2024-06-18T16:38:02.436Z"
   },
   {
    "duration": 31,
    "start_time": "2024-06-18T16:38:52.030Z"
   },
   {
    "duration": 27,
    "start_time": "2024-06-18T16:38:57.750Z"
   },
   {
    "duration": 25,
    "start_time": "2024-06-18T16:51:36.006Z"
   },
   {
    "duration": 21,
    "start_time": "2024-06-18T16:55:47.170Z"
   },
   {
    "duration": 40,
    "start_time": "2024-06-18T16:55:51.530Z"
   },
   {
    "duration": 41,
    "start_time": "2024-06-18T17:00:15.065Z"
   },
   {
    "duration": 41,
    "start_time": "2024-06-18T17:01:18.830Z"
   },
   {
    "duration": 44,
    "start_time": "2024-06-18T17:06:55.546Z"
   },
   {
    "duration": 60,
    "start_time": "2024-06-18T17:08:16.289Z"
   },
   {
    "duration": 5,
    "start_time": "2024-06-18T17:08:28.674Z"
   },
   {
    "duration": 43,
    "start_time": "2024-06-18T17:08:44.433Z"
   },
   {
    "duration": 5,
    "start_time": "2024-06-18T17:08:44.995Z"
   },
   {
    "duration": 43,
    "start_time": "2024-06-18T17:08:58.141Z"
   },
   {
    "duration": 5,
    "start_time": "2024-06-18T17:08:58.825Z"
   },
   {
    "duration": 48,
    "start_time": "2024-06-18T17:16:13.439Z"
   },
   {
    "duration": 6,
    "start_time": "2024-06-18T17:16:14.067Z"
   },
   {
    "duration": 43,
    "start_time": "2024-06-18T17:16:20.908Z"
   },
   {
    "duration": 6,
    "start_time": "2024-06-18T17:16:21.307Z"
   },
   {
    "duration": 47,
    "start_time": "2024-06-18T17:16:25.959Z"
   },
   {
    "duration": 5,
    "start_time": "2024-06-18T17:16:26.440Z"
   },
   {
    "duration": 41,
    "start_time": "2024-06-18T17:17:17.964Z"
   },
   {
    "duration": 22,
    "start_time": "2024-06-18T17:32:46.575Z"
   },
   {
    "duration": 25,
    "start_time": "2024-06-18T17:33:17.922Z"
   },
   {
    "duration": 5,
    "start_time": "2024-06-18T17:33:56.386Z"
   },
   {
    "duration": 294,
    "start_time": "2024-06-18T17:34:08.295Z"
   },
   {
    "duration": 306,
    "start_time": "2024-06-18T17:34:27.389Z"
   },
   {
    "duration": 14,
    "start_time": "2024-06-18T17:34:40.816Z"
   },
   {
    "duration": 334,
    "start_time": "2024-06-18T17:34:57.637Z"
   },
   {
    "duration": 386,
    "start_time": "2024-06-18T17:35:03.309Z"
   },
   {
    "duration": 12,
    "start_time": "2024-06-18T17:35:44.905Z"
   },
   {
    "duration": 12,
    "start_time": "2024-06-18T17:36:00.263Z"
   },
   {
    "duration": 4,
    "start_time": "2024-06-18T17:45:30.250Z"
   },
   {
    "duration": 27,
    "start_time": "2024-06-18T17:45:59.137Z"
   },
   {
    "duration": 22,
    "start_time": "2024-06-18T17:46:59.293Z"
   },
   {
    "duration": 28,
    "start_time": "2024-06-18T17:47:09.737Z"
   },
   {
    "duration": 32,
    "start_time": "2024-06-18T17:48:02.725Z"
   },
   {
    "duration": 30,
    "start_time": "2024-06-18T17:48:34.625Z"
   },
   {
    "duration": 28,
    "start_time": "2024-06-18T17:48:56.545Z"
   },
   {
    "duration": 6,
    "start_time": "2024-06-18T17:49:35.593Z"
   },
   {
    "duration": 6,
    "start_time": "2024-06-18T17:49:46.713Z"
   },
   {
    "duration": 8,
    "start_time": "2024-06-18T17:56:13.732Z"
   },
   {
    "duration": 16,
    "start_time": "2024-06-18T18:02:55.091Z"
   },
   {
    "duration": 10,
    "start_time": "2024-06-18T18:03:47.669Z"
   },
   {
    "duration": 9,
    "start_time": "2024-06-18T18:07:38.191Z"
   },
   {
    "duration": 35,
    "start_time": "2024-06-18T18:08:25.437Z"
   },
   {
    "duration": 35,
    "start_time": "2024-06-18T18:14:47.839Z"
   },
   {
    "duration": 25,
    "start_time": "2024-06-18T18:15:27.300Z"
   },
   {
    "duration": 25,
    "start_time": "2024-06-18T18:16:03.333Z"
   },
   {
    "duration": 41,
    "start_time": "2024-06-18T18:16:14.204Z"
   },
   {
    "duration": 40,
    "start_time": "2024-06-18T18:16:24.169Z"
   },
   {
    "duration": 22,
    "start_time": "2024-06-18T18:21:37.533Z"
   },
   {
    "duration": 20,
    "start_time": "2024-06-18T18:21:59.967Z"
   },
   {
    "duration": 24,
    "start_time": "2024-06-18T18:22:23.102Z"
   },
   {
    "duration": 19,
    "start_time": "2024-06-18T18:22:35.605Z"
   },
   {
    "duration": 29,
    "start_time": "2024-06-18T18:23:32.039Z"
   },
   {
    "duration": 1118,
    "start_time": "2024-06-18T18:24:03.781Z"
   },
   {
    "duration": 20,
    "start_time": "2024-06-18T18:24:26.083Z"
   },
   {
    "duration": 24,
    "start_time": "2024-06-18T18:24:52.375Z"
   },
   {
    "duration": 21,
    "start_time": "2024-06-18T18:25:25.035Z"
   },
   {
    "duration": 25,
    "start_time": "2024-06-18T18:25:46.432Z"
   },
   {
    "duration": 8,
    "start_time": "2024-06-18T18:26:37.149Z"
   },
   {
    "duration": 6,
    "start_time": "2024-06-18T18:26:46.019Z"
   },
   {
    "duration": 5,
    "start_time": "2024-06-18T18:27:57.284Z"
   },
   {
    "duration": 6,
    "start_time": "2024-06-18T18:28:10.503Z"
   },
   {
    "duration": 7,
    "start_time": "2024-06-18T18:28:13.662Z"
   },
   {
    "duration": 6,
    "start_time": "2024-06-18T18:28:17.551Z"
   },
   {
    "duration": 23,
    "start_time": "2024-06-18T18:28:35.183Z"
   },
   {
    "duration": 8,
    "start_time": "2024-06-18T18:28:55.674Z"
   },
   {
    "duration": 51,
    "start_time": "2024-06-18T18:30:40.699Z"
   },
   {
    "duration": 23,
    "start_time": "2024-06-18T18:30:43.836Z"
   },
   {
    "duration": 5,
    "start_time": "2024-06-18T18:30:51.052Z"
   },
   {
    "duration": 47,
    "start_time": "2024-06-18T18:31:48.504Z"
   },
   {
    "duration": 22,
    "start_time": "2024-06-18T18:33:04.098Z"
   },
   {
    "duration": 24,
    "start_time": "2024-06-18T18:33:22.085Z"
   },
   {
    "duration": 7,
    "start_time": "2024-06-18T18:46:19.638Z"
   },
   {
    "duration": 8,
    "start_time": "2024-06-18T18:46:27.757Z"
   },
   {
    "duration": 5,
    "start_time": "2024-06-18T18:46:37.672Z"
   },
   {
    "duration": 6,
    "start_time": "2024-06-18T18:46:50.096Z"
   },
   {
    "duration": 6,
    "start_time": "2024-06-18T18:47:08.293Z"
   },
   {
    "duration": 5,
    "start_time": "2024-06-18T18:47:19.338Z"
   },
   {
    "duration": 821,
    "start_time": "2024-06-18T18:47:29.322Z"
   },
   {
    "duration": 8,
    "start_time": "2024-06-18T18:47:44.447Z"
   },
   {
    "duration": 8,
    "start_time": "2024-06-18T18:47:53.958Z"
   },
   {
    "duration": 12,
    "start_time": "2024-06-18T18:48:22.224Z"
   },
   {
    "duration": 13,
    "start_time": "2024-06-18T18:48:37.044Z"
   },
   {
    "duration": 10,
    "start_time": "2024-06-18T18:48:56.062Z"
   },
   {
    "duration": 651,
    "start_time": "2024-06-18T18:49:07.822Z"
   },
   {
    "duration": 1846,
    "start_time": "2024-06-18T18:49:28.388Z"
   },
   {
    "duration": 6,
    "start_time": "2024-06-18T18:49:41.604Z"
   },
   {
    "duration": 4,
    "start_time": "2024-06-18T18:51:00.322Z"
   },
   {
    "duration": 4,
    "start_time": "2024-06-18T18:51:42.455Z"
   },
   {
    "duration": 5,
    "start_time": "2024-06-18T18:51:55.533Z"
   },
   {
    "duration": 5,
    "start_time": "2024-06-18T18:52:09.291Z"
   },
   {
    "duration": 1111,
    "start_time": "2024-06-18T18:53:03.107Z"
   },
   {
    "duration": 102,
    "start_time": "2024-06-18T18:53:04.220Z"
   },
   {
    "duration": 6,
    "start_time": "2024-06-18T18:53:04.323Z"
   },
   {
    "duration": 135,
    "start_time": "2024-06-18T18:53:04.330Z"
   },
   {
    "duration": 52,
    "start_time": "2024-06-18T18:53:04.467Z"
   },
   {
    "duration": 32,
    "start_time": "2024-06-18T18:53:04.520Z"
   },
   {
    "duration": 27,
    "start_time": "2024-06-18T18:53:04.553Z"
   },
   {
    "duration": 88,
    "start_time": "2024-06-18T18:53:04.581Z"
   },
   {
    "duration": 53,
    "start_time": "2024-06-18T18:53:04.670Z"
   },
   {
    "duration": 12,
    "start_time": "2024-06-18T18:53:04.724Z"
   },
   {
    "duration": 17,
    "start_time": "2024-06-18T18:53:04.737Z"
   },
   {
    "duration": 12,
    "start_time": "2024-06-18T18:53:04.755Z"
   },
   {
    "duration": 44,
    "start_time": "2024-06-18T18:53:04.768Z"
   },
   {
    "duration": 36,
    "start_time": "2024-06-18T18:53:04.815Z"
   },
   {
    "duration": 11,
    "start_time": "2024-06-18T18:53:04.852Z"
   },
   {
    "duration": 9,
    "start_time": "2024-06-18T18:53:04.865Z"
   },
   {
    "duration": 8,
    "start_time": "2024-06-18T18:53:04.876Z"
   },
   {
    "duration": 36,
    "start_time": "2024-06-18T18:53:04.886Z"
   },
   {
    "duration": 374,
    "start_time": "2024-06-18T18:53:04.924Z"
   },
   {
    "duration": 216,
    "start_time": "2024-06-18T18:53:05.299Z"
   },
   {
    "duration": 1241,
    "start_time": "2024-06-18T18:53:05.516Z"
   },
   {
    "duration": 221,
    "start_time": "2024-06-18T18:53:06.759Z"
   },
   {
    "duration": 402,
    "start_time": "2024-06-18T18:53:06.982Z"
   },
   {
    "duration": 16,
    "start_time": "2024-06-18T18:53:07.385Z"
   },
   {
    "duration": 13,
    "start_time": "2024-06-18T18:53:07.403Z"
   },
   {
    "duration": 13,
    "start_time": "2024-06-18T18:53:07.417Z"
   },
   {
    "duration": 126,
    "start_time": "2024-06-18T18:53:07.431Z"
   },
   {
    "duration": 112,
    "start_time": "2024-06-18T18:53:07.559Z"
   },
   {
    "duration": 52,
    "start_time": "2024-06-18T18:53:07.673Z"
   },
   {
    "duration": 9,
    "start_time": "2024-06-18T18:53:07.726Z"
   },
   {
    "duration": 74,
    "start_time": "2024-06-18T18:53:07.737Z"
   },
   {
    "duration": 0,
    "start_time": "2024-06-18T18:53:07.812Z"
   },
   {
    "duration": 0,
    "start_time": "2024-06-18T18:53:07.814Z"
   },
   {
    "duration": 0,
    "start_time": "2024-06-18T18:53:07.814Z"
   },
   {
    "duration": 0,
    "start_time": "2024-06-18T18:53:07.815Z"
   },
   {
    "duration": 9,
    "start_time": "2024-06-18T18:53:19.741Z"
   },
   {
    "duration": 51,
    "start_time": "2024-06-18T18:53:20.191Z"
   },
   {
    "duration": 22,
    "start_time": "2024-06-18T18:53:20.720Z"
   },
   {
    "duration": 6,
    "start_time": "2024-06-18T18:53:21.339Z"
   },
   {
    "duration": 132,
    "start_time": "2024-06-18T18:53:40.826Z"
   },
   {
    "duration": 61,
    "start_time": "2024-06-18T18:54:25.032Z"
   },
   {
    "duration": 22,
    "start_time": "2024-06-18T18:54:34.381Z"
   },
   {
    "duration": 1036,
    "start_time": "2024-06-18T18:54:54.454Z"
   },
   {
    "duration": 99,
    "start_time": "2024-06-18T18:54:55.492Z"
   },
   {
    "duration": 5,
    "start_time": "2024-06-18T18:54:55.592Z"
   },
   {
    "duration": 134,
    "start_time": "2024-06-18T18:54:55.598Z"
   },
   {
    "duration": 32,
    "start_time": "2024-06-18T18:54:55.734Z"
   },
   {
    "duration": 66,
    "start_time": "2024-06-18T18:54:55.767Z"
   },
   {
    "duration": 27,
    "start_time": "2024-06-18T18:54:55.834Z"
   },
   {
    "duration": 81,
    "start_time": "2024-06-18T18:54:55.863Z"
   },
   {
    "duration": 43,
    "start_time": "2024-06-18T18:54:55.945Z"
   },
   {
    "duration": 23,
    "start_time": "2024-06-18T18:54:55.989Z"
   },
   {
    "duration": 17,
    "start_time": "2024-06-18T18:54:56.014Z"
   },
   {
    "duration": 10,
    "start_time": "2024-06-18T18:54:56.032Z"
   },
   {
    "duration": 18,
    "start_time": "2024-06-18T18:54:56.043Z"
   },
   {
    "duration": 64,
    "start_time": "2024-06-18T18:54:56.064Z"
   },
   {
    "duration": 11,
    "start_time": "2024-06-18T18:54:56.129Z"
   },
   {
    "duration": 22,
    "start_time": "2024-06-18T18:54:56.142Z"
   },
   {
    "duration": 17,
    "start_time": "2024-06-18T18:54:56.165Z"
   },
   {
    "duration": 22,
    "start_time": "2024-06-18T18:54:56.183Z"
   },
   {
    "duration": 358,
    "start_time": "2024-06-18T18:54:56.206Z"
   },
   {
    "duration": 216,
    "start_time": "2024-06-18T18:54:56.566Z"
   },
   {
    "duration": 1216,
    "start_time": "2024-06-18T18:54:56.783Z"
   },
   {
    "duration": 224,
    "start_time": "2024-06-18T18:54:58.001Z"
   },
   {
    "duration": 396,
    "start_time": "2024-06-18T18:54:58.227Z"
   },
   {
    "duration": 18,
    "start_time": "2024-06-18T18:54:58.625Z"
   },
   {
    "duration": 7,
    "start_time": "2024-06-18T18:54:58.645Z"
   },
   {
    "duration": 14,
    "start_time": "2024-06-18T18:54:58.654Z"
   },
   {
    "duration": 156,
    "start_time": "2024-06-18T18:54:58.669Z"
   },
   {
    "duration": 105,
    "start_time": "2024-06-18T18:54:58.827Z"
   },
   {
    "duration": 41,
    "start_time": "2024-06-18T18:54:58.934Z"
   },
   {
    "duration": 9,
    "start_time": "2024-06-18T18:54:58.977Z"
   },
   {
    "duration": 32,
    "start_time": "2024-06-18T18:54:58.987Z"
   },
   {
    "duration": 144,
    "start_time": "2024-06-18T18:54:59.021Z"
   },
   {
    "duration": 21,
    "start_time": "2024-06-18T18:54:59.167Z"
   },
   {
    "duration": 25,
    "start_time": "2024-06-18T18:54:59.189Z"
   },
   {
    "duration": 59,
    "start_time": "2024-06-18T18:55:50.407Z"
   },
   {
    "duration": 63,
    "start_time": "2024-06-18T18:55:57.859Z"
   },
   {
    "duration": 44,
    "start_time": "2024-06-18T18:57:17.548Z"
   },
   {
    "duration": 119,
    "start_time": "2024-06-18T18:57:44.672Z"
   },
   {
    "duration": 9,
    "start_time": "2024-06-18T18:59:18.562Z"
   },
   {
    "duration": 42,
    "start_time": "2024-06-18T18:59:26.558Z"
   },
   {
    "duration": 47,
    "start_time": "2024-06-18T19:01:24.743Z"
   },
   {
    "duration": 40,
    "start_time": "2024-06-18T19:01:43.691Z"
   },
   {
    "duration": 43,
    "start_time": "2024-06-18T19:04:21.238Z"
   },
   {
    "duration": 53,
    "start_time": "2024-06-18T19:04:47.650Z"
   },
   {
    "duration": 189,
    "start_time": "2024-06-18T19:07:12.646Z"
   },
   {
    "duration": 308,
    "start_time": "2024-06-18T19:07:54.385Z"
   },
   {
    "duration": 571,
    "start_time": "2024-06-18T19:08:23.446Z"
   },
   {
    "duration": 38,
    "start_time": "2024-06-18T19:08:37.177Z"
   },
   {
    "duration": 56,
    "start_time": "2024-06-18T19:09:47.542Z"
   },
   {
    "duration": 64,
    "start_time": "2024-06-18T19:09:59.622Z"
   },
   {
    "duration": 71,
    "start_time": "2024-06-18T19:10:23.990Z"
   },
   {
    "duration": 38,
    "start_time": "2024-06-18T19:10:35.693Z"
   },
   {
    "duration": 59,
    "start_time": "2024-06-18T19:10:37.035Z"
   },
   {
    "duration": 71,
    "start_time": "2024-06-18T19:10:52.272Z"
   },
   {
    "duration": 43,
    "start_time": "2024-06-18T19:11:24.063Z"
   },
   {
    "duration": 40,
    "start_time": "2024-06-18T19:11:38.245Z"
   },
   {
    "duration": 12,
    "start_time": "2024-06-18T19:11:38.941Z"
   },
   {
    "duration": 33,
    "start_time": "2024-06-18T19:11:45.413Z"
   },
   {
    "duration": 1116,
    "start_time": "2024-06-18T19:11:56.882Z"
   },
   {
    "duration": 98,
    "start_time": "2024-06-18T19:11:58.000Z"
   },
   {
    "duration": 5,
    "start_time": "2024-06-18T19:11:58.100Z"
   },
   {
    "duration": 138,
    "start_time": "2024-06-18T19:11:58.106Z"
   },
   {
    "duration": 27,
    "start_time": "2024-06-18T19:11:58.246Z"
   },
   {
    "duration": 52,
    "start_time": "2024-06-18T19:11:58.275Z"
   },
   {
    "duration": 25,
    "start_time": "2024-06-18T19:11:58.328Z"
   },
   {
    "duration": 78,
    "start_time": "2024-06-18T19:11:58.354Z"
   },
   {
    "duration": 39,
    "start_time": "2024-06-18T19:11:58.433Z"
   },
   {
    "duration": 11,
    "start_time": "2024-06-18T19:11:58.474Z"
   },
   {
    "duration": 33,
    "start_time": "2024-06-18T19:11:58.487Z"
   },
   {
    "duration": 9,
    "start_time": "2024-06-18T19:11:58.522Z"
   },
   {
    "duration": 16,
    "start_time": "2024-06-18T19:11:58.533Z"
   },
   {
    "duration": 47,
    "start_time": "2024-06-18T19:11:58.552Z"
   },
   {
    "duration": 20,
    "start_time": "2024-06-18T19:11:58.600Z"
   },
   {
    "duration": 34,
    "start_time": "2024-06-18T19:11:58.622Z"
   },
   {
    "duration": 6,
    "start_time": "2024-06-18T19:11:58.657Z"
   },
   {
    "duration": 18,
    "start_time": "2024-06-18T19:11:58.664Z"
   },
   {
    "duration": 340,
    "start_time": "2024-06-18T19:11:58.684Z"
   },
   {
    "duration": 218,
    "start_time": "2024-06-18T19:11:59.026Z"
   },
   {
    "duration": 1203,
    "start_time": "2024-06-18T19:11:59.245Z"
   },
   {
    "duration": 219,
    "start_time": "2024-06-18T19:12:00.450Z"
   },
   {
    "duration": 397,
    "start_time": "2024-06-18T19:12:00.671Z"
   },
   {
    "duration": 16,
    "start_time": "2024-06-18T19:12:01.070Z"
   },
   {
    "duration": 54,
    "start_time": "2024-06-18T19:12:01.088Z"
   },
   {
    "duration": 18,
    "start_time": "2024-06-18T19:12:01.143Z"
   },
   {
    "duration": 163,
    "start_time": "2024-06-18T19:12:01.163Z"
   },
   {
    "duration": 103,
    "start_time": "2024-06-18T19:12:01.328Z"
   },
   {
    "duration": 38,
    "start_time": "2024-06-18T19:12:01.433Z"
   },
   {
    "duration": 14,
    "start_time": "2024-06-18T19:12:01.473Z"
   },
   {
    "duration": 36,
    "start_time": "2024-06-18T19:12:01.489Z"
   },
   {
    "duration": 145,
    "start_time": "2024-06-18T19:12:01.526Z"
   },
   {
    "duration": 13,
    "start_time": "2024-06-18T19:12:01.672Z"
   },
   {
    "duration": 49,
    "start_time": "2024-06-18T19:12:01.686Z"
   },
   {
    "duration": 9,
    "start_time": "2024-06-18T19:12:01.736Z"
   },
   {
    "duration": 19,
    "start_time": "2024-06-18T19:12:49.816Z"
   },
   {
    "duration": 19,
    "start_time": "2024-06-18T19:12:59.461Z"
   },
   {
    "duration": 39,
    "start_time": "2024-06-18T19:13:11.660Z"
   },
   {
    "duration": 21,
    "start_time": "2024-06-18T19:13:18.831Z"
   },
   {
    "duration": 19,
    "start_time": "2024-06-18T19:13:51.540Z"
   },
   {
    "duration": 4,
    "start_time": "2024-06-18T19:14:09.891Z"
   },
   {
    "duration": 20,
    "start_time": "2024-06-18T19:16:14.790Z"
   },
   {
    "duration": 19,
    "start_time": "2024-06-18T19:17:41.434Z"
   },
   {
    "duration": 40,
    "start_time": "2024-06-18T19:18:21.074Z"
   },
   {
    "duration": 20,
    "start_time": "2024-06-18T19:20:00.905Z"
   },
   {
    "duration": 19,
    "start_time": "2024-06-18T19:20:45.241Z"
   },
   {
    "duration": 19,
    "start_time": "2024-06-18T19:21:19.853Z"
   },
   {
    "duration": 114,
    "start_time": "2024-06-18T19:21:40.922Z"
   },
   {
    "duration": 15,
    "start_time": "2024-06-18T19:21:45.333Z"
   },
   {
    "duration": 19,
    "start_time": "2024-06-18T19:21:53.118Z"
   },
   {
    "duration": 23,
    "start_time": "2024-06-18T19:22:35.963Z"
   },
   {
    "duration": 19,
    "start_time": "2024-06-18T19:23:00.875Z"
   },
   {
    "duration": 20,
    "start_time": "2024-06-18T19:23:13.524Z"
   },
   {
    "duration": 15,
    "start_time": "2024-06-18T19:23:32.184Z"
   },
   {
    "duration": 20,
    "start_time": "2024-06-18T19:23:39.524Z"
   },
   {
    "duration": 56,
    "start_time": "2024-06-18T19:24:19.263Z"
   },
   {
    "duration": 18,
    "start_time": "2024-06-18T19:25:03.937Z"
   },
   {
    "duration": 20,
    "start_time": "2024-06-18T19:27:04.255Z"
   },
   {
    "duration": 32,
    "start_time": "2024-06-18T19:27:33.154Z"
   },
   {
    "duration": 41,
    "start_time": "2024-06-18T19:34:12.898Z"
   },
   {
    "duration": 43,
    "start_time": "2024-06-18T19:34:49.319Z"
   },
   {
    "duration": 1093,
    "start_time": "2024-06-18T19:35:21.299Z"
   },
   {
    "duration": 99,
    "start_time": "2024-06-18T19:35:22.394Z"
   },
   {
    "duration": 5,
    "start_time": "2024-06-18T19:35:22.494Z"
   },
   {
    "duration": 135,
    "start_time": "2024-06-18T19:35:22.501Z"
   },
   {
    "duration": 28,
    "start_time": "2024-06-18T19:35:22.639Z"
   },
   {
    "duration": 58,
    "start_time": "2024-06-18T19:35:22.668Z"
   },
   {
    "duration": 26,
    "start_time": "2024-06-18T19:35:22.727Z"
   },
   {
    "duration": 74,
    "start_time": "2024-06-18T19:35:22.755Z"
   },
   {
    "duration": 40,
    "start_time": "2024-06-18T19:35:22.830Z"
   },
   {
    "duration": 11,
    "start_time": "2024-06-18T19:35:22.872Z"
   },
   {
    "duration": 36,
    "start_time": "2024-06-18T19:35:22.885Z"
   },
   {
    "duration": 12,
    "start_time": "2024-06-18T19:35:22.922Z"
   },
   {
    "duration": 19,
    "start_time": "2024-06-18T19:35:22.935Z"
   },
   {
    "duration": 59,
    "start_time": "2024-06-18T19:35:22.958Z"
   },
   {
    "duration": 11,
    "start_time": "2024-06-18T19:35:23.019Z"
   },
   {
    "duration": 18,
    "start_time": "2024-06-18T19:35:23.031Z"
   },
   {
    "duration": 4,
    "start_time": "2024-06-18T19:35:23.051Z"
   },
   {
    "duration": 18,
    "start_time": "2024-06-18T19:35:23.056Z"
   },
   {
    "duration": 376,
    "start_time": "2024-06-18T19:35:23.076Z"
   },
   {
    "duration": 243,
    "start_time": "2024-06-18T19:35:23.453Z"
   },
   {
    "duration": 1185,
    "start_time": "2024-06-18T19:35:23.697Z"
   },
   {
    "duration": 222,
    "start_time": "2024-06-18T19:35:24.883Z"
   },
   {
    "duration": 401,
    "start_time": "2024-06-18T19:35:25.106Z"
   },
   {
    "duration": 16,
    "start_time": "2024-06-18T19:35:25.511Z"
   },
   {
    "duration": 7,
    "start_time": "2024-06-18T19:35:25.528Z"
   },
   {
    "duration": 37,
    "start_time": "2024-06-18T19:35:25.536Z"
   },
   {
    "duration": 103,
    "start_time": "2024-06-18T19:35:25.574Z"
   },
   {
    "duration": 109,
    "start_time": "2024-06-18T19:35:25.678Z"
   },
   {
    "duration": 47,
    "start_time": "2024-06-18T19:35:25.789Z"
   },
   {
    "duration": 21,
    "start_time": "2024-06-18T19:35:25.838Z"
   },
   {
    "duration": 23,
    "start_time": "2024-06-18T19:35:25.861Z"
   },
   {
    "duration": 143,
    "start_time": "2024-06-18T19:35:25.886Z"
   },
   {
    "duration": 5,
    "start_time": "2024-06-18T19:35:26.030Z"
   },
   {
    "duration": 42,
    "start_time": "2024-06-18T19:35:26.036Z"
   },
   {
    "duration": 13,
    "start_time": "2024-06-18T19:35:26.079Z"
   },
   {
    "duration": 44,
    "start_time": "2024-06-18T19:35:47.312Z"
   },
   {
    "duration": 43,
    "start_time": "2024-06-18T19:35:51.066Z"
   },
   {
    "duration": 25,
    "start_time": "2024-06-18T19:36:33.592Z"
   },
   {
    "duration": 32,
    "start_time": "2024-06-18T19:36:37.230Z"
   },
   {
    "duration": 1031,
    "start_time": "2024-06-18T19:37:10.061Z"
   },
   {
    "duration": 103,
    "start_time": "2024-06-18T19:37:11.094Z"
   },
   {
    "duration": 5,
    "start_time": "2024-06-18T19:37:11.199Z"
   },
   {
    "duration": 135,
    "start_time": "2024-06-18T19:37:11.206Z"
   },
   {
    "duration": 28,
    "start_time": "2024-06-18T19:37:11.343Z"
   },
   {
    "duration": 54,
    "start_time": "2024-06-18T19:37:11.372Z"
   },
   {
    "duration": 26,
    "start_time": "2024-06-18T19:37:11.427Z"
   },
   {
    "duration": 79,
    "start_time": "2024-06-18T19:37:11.455Z"
   },
   {
    "duration": 46,
    "start_time": "2024-06-18T19:37:11.535Z"
   },
   {
    "duration": 15,
    "start_time": "2024-06-18T19:37:11.582Z"
   },
   {
    "duration": 17,
    "start_time": "2024-06-18T19:37:11.612Z"
   },
   {
    "duration": 10,
    "start_time": "2024-06-18T19:37:11.631Z"
   },
   {
    "duration": 18,
    "start_time": "2024-06-18T19:37:11.642Z"
   },
   {
    "duration": 57,
    "start_time": "2024-06-18T19:37:11.663Z"
   },
   {
    "duration": 11,
    "start_time": "2024-06-18T19:37:11.721Z"
   },
   {
    "duration": 12,
    "start_time": "2024-06-18T19:37:11.733Z"
   },
   {
    "duration": 20,
    "start_time": "2024-06-18T19:37:11.746Z"
   },
   {
    "duration": 14,
    "start_time": "2024-06-18T19:37:11.767Z"
   },
   {
    "duration": 348,
    "start_time": "2024-06-18T19:37:11.783Z"
   },
   {
    "duration": 214,
    "start_time": "2024-06-18T19:37:12.133Z"
   },
   {
    "duration": 1226,
    "start_time": "2024-06-18T19:37:12.349Z"
   },
   {
    "duration": 241,
    "start_time": "2024-06-18T19:37:13.577Z"
   },
   {
    "duration": 390,
    "start_time": "2024-06-18T19:37:13.820Z"
   },
   {
    "duration": 15,
    "start_time": "2024-06-18T19:37:14.212Z"
   },
   {
    "duration": 6,
    "start_time": "2024-06-18T19:37:14.229Z"
   },
   {
    "duration": 12,
    "start_time": "2024-06-18T19:37:14.237Z"
   },
   {
    "duration": 132,
    "start_time": "2024-06-18T19:37:14.251Z"
   },
   {
    "duration": 106,
    "start_time": "2024-06-18T19:37:14.384Z"
   },
   {
    "duration": 48,
    "start_time": "2024-06-18T19:37:14.491Z"
   },
   {
    "duration": 21,
    "start_time": "2024-06-18T19:37:14.540Z"
   },
   {
    "duration": 9,
    "start_time": "2024-06-18T19:37:14.562Z"
   },
   {
    "duration": 148,
    "start_time": "2024-06-18T19:37:14.572Z"
   },
   {
    "duration": 4,
    "start_time": "2024-06-18T19:37:14.722Z"
   },
   {
    "duration": 20,
    "start_time": "2024-06-18T19:37:14.727Z"
   },
   {
    "duration": 25,
    "start_time": "2024-06-18T19:37:14.749Z"
   },
   {
    "duration": 42,
    "start_time": "2024-06-18T19:38:00.509Z"
   },
   {
    "duration": 20,
    "start_time": "2024-06-18T19:41:39.790Z"
   },
   {
    "duration": 19,
    "start_time": "2024-06-18T19:42:40.200Z"
   },
   {
    "duration": 47,
    "start_time": "2024-06-18T19:44:01.589Z"
   },
   {
    "duration": 18,
    "start_time": "2024-06-18T19:49:28.636Z"
   },
   {
    "duration": 97,
    "start_time": "2024-06-18T19:50:51.003Z"
   },
   {
    "duration": 11,
    "start_time": "2024-06-18T19:50:57.697Z"
   },
   {
    "duration": 28,
    "start_time": "2024-06-18T19:50:58.741Z"
   },
   {
    "duration": 31,
    "start_time": "2024-06-18T19:53:09.038Z"
   },
   {
    "duration": 32,
    "start_time": "2024-06-18T19:53:37.007Z"
   },
   {
    "duration": 1129,
    "start_time": "2024-06-18T19:53:51.072Z"
   },
   {
    "duration": 101,
    "start_time": "2024-06-18T19:53:52.203Z"
   },
   {
    "duration": 5,
    "start_time": "2024-06-18T19:53:52.305Z"
   },
   {
    "duration": 139,
    "start_time": "2024-06-18T19:53:52.312Z"
   },
   {
    "duration": 26,
    "start_time": "2024-06-18T19:53:52.453Z"
   },
   {
    "duration": 54,
    "start_time": "2024-06-18T19:53:52.480Z"
   },
   {
    "duration": 25,
    "start_time": "2024-06-18T19:53:52.535Z"
   },
   {
    "duration": 73,
    "start_time": "2024-06-18T19:53:52.561Z"
   },
   {
    "duration": 40,
    "start_time": "2024-06-18T19:53:52.635Z"
   },
   {
    "duration": 11,
    "start_time": "2024-06-18T19:53:52.677Z"
   },
   {
    "duration": 37,
    "start_time": "2024-06-18T19:53:52.689Z"
   },
   {
    "duration": 10,
    "start_time": "2024-06-18T19:53:52.727Z"
   },
   {
    "duration": 17,
    "start_time": "2024-06-18T19:53:52.739Z"
   },
   {
    "duration": 33,
    "start_time": "2024-06-18T19:53:52.759Z"
   },
   {
    "duration": 11,
    "start_time": "2024-06-18T19:53:52.812Z"
   },
   {
    "duration": 9,
    "start_time": "2024-06-18T19:53:52.824Z"
   },
   {
    "duration": 3,
    "start_time": "2024-06-18T19:53:52.834Z"
   },
   {
    "duration": 15,
    "start_time": "2024-06-18T19:53:52.839Z"
   },
   {
    "duration": 387,
    "start_time": "2024-06-18T19:53:52.856Z"
   },
   {
    "duration": 232,
    "start_time": "2024-06-18T19:53:53.245Z"
   },
   {
    "duration": 1328,
    "start_time": "2024-06-18T19:53:53.478Z"
   },
   {
    "duration": 219,
    "start_time": "2024-06-18T19:53:54.807Z"
   },
   {
    "duration": 394,
    "start_time": "2024-06-18T19:53:55.027Z"
   },
   {
    "duration": 16,
    "start_time": "2024-06-18T19:53:55.422Z"
   },
   {
    "duration": 10,
    "start_time": "2024-06-18T19:53:55.439Z"
   },
   {
    "duration": 12,
    "start_time": "2024-06-18T19:53:55.451Z"
   },
   {
    "duration": 121,
    "start_time": "2024-06-18T19:53:55.464Z"
   },
   {
    "duration": 112,
    "start_time": "2024-06-18T19:53:55.586Z"
   },
   {
    "duration": 42,
    "start_time": "2024-06-18T19:53:55.699Z"
   },
   {
    "duration": 22,
    "start_time": "2024-06-18T19:53:55.743Z"
   },
   {
    "duration": 9,
    "start_time": "2024-06-18T19:53:55.766Z"
   },
   {
    "duration": 159,
    "start_time": "2024-06-18T19:53:55.777Z"
   },
   {
    "duration": 4,
    "start_time": "2024-06-18T19:53:55.937Z"
   },
   {
    "duration": 22,
    "start_time": "2024-06-18T19:53:55.942Z"
   },
   {
    "duration": 26,
    "start_time": "2024-06-18T19:53:55.966Z"
   },
   {
    "duration": 35,
    "start_time": "2024-06-18T19:53:55.994Z"
   },
   {
    "duration": 32,
    "start_time": "2024-06-18T19:53:56.031Z"
   },
   {
    "duration": 47,
    "start_time": "2024-06-18T19:54:17.595Z"
   },
   {
    "duration": 12,
    "start_time": "2024-06-18T19:54:25.524Z"
   },
   {
    "duration": 32,
    "start_time": "2024-06-18T19:54:26.640Z"
   },
   {
    "duration": 9,
    "start_time": "2024-06-18T20:01:28.678Z"
   },
   {
    "duration": 43,
    "start_time": "2024-06-18T20:01:30.246Z"
   },
   {
    "duration": 4,
    "start_time": "2024-06-18T20:01:30.708Z"
   },
   {
    "duration": 22,
    "start_time": "2024-06-18T20:01:31.269Z"
   },
   {
    "duration": 41,
    "start_time": "2024-06-18T20:01:31.665Z"
   },
   {
    "duration": 11,
    "start_time": "2024-06-18T20:01:32.158Z"
   },
   {
    "duration": 31,
    "start_time": "2024-06-18T20:01:32.637Z"
   },
   {
    "duration": 18,
    "start_time": "2024-06-18T20:05:17.973Z"
   },
   {
    "duration": 16,
    "start_time": "2024-06-18T20:06:43.840Z"
   },
   {
    "duration": 1167,
    "start_time": "2024-06-18T20:07:04.902Z"
   },
   {
    "duration": 1100,
    "start_time": "2024-06-18T20:07:19.893Z"
   },
   {
    "duration": 100,
    "start_time": "2024-06-18T20:07:20.995Z"
   },
   {
    "duration": 6,
    "start_time": "2024-06-18T20:07:21.096Z"
   },
   {
    "duration": 142,
    "start_time": "2024-06-18T20:07:21.103Z"
   },
   {
    "duration": 30,
    "start_time": "2024-06-18T20:07:21.246Z"
   },
   {
    "duration": 61,
    "start_time": "2024-06-18T20:07:21.278Z"
   },
   {
    "duration": 27,
    "start_time": "2024-06-18T20:07:21.340Z"
   },
   {
    "duration": 73,
    "start_time": "2024-06-18T20:07:21.369Z"
   },
   {
    "duration": 40,
    "start_time": "2024-06-18T20:07:21.443Z"
   },
   {
    "duration": 11,
    "start_time": "2024-06-18T20:07:21.484Z"
   },
   {
    "duration": 20,
    "start_time": "2024-06-18T20:07:21.512Z"
   },
   {
    "duration": 10,
    "start_time": "2024-06-18T20:07:21.534Z"
   },
   {
    "duration": 18,
    "start_time": "2024-06-18T20:07:21.545Z"
   },
   {
    "duration": 57,
    "start_time": "2024-06-18T20:07:21.566Z"
   },
   {
    "duration": 10,
    "start_time": "2024-06-18T20:07:21.625Z"
   },
   {
    "duration": 14,
    "start_time": "2024-06-18T20:07:21.637Z"
   },
   {
    "duration": 10,
    "start_time": "2024-06-18T20:07:21.653Z"
   },
   {
    "duration": 15,
    "start_time": "2024-06-18T20:07:21.664Z"
   },
   {
    "duration": 357,
    "start_time": "2024-06-18T20:07:21.680Z"
   },
   {
    "duration": 215,
    "start_time": "2024-06-18T20:07:22.038Z"
   },
   {
    "duration": 1218,
    "start_time": "2024-06-18T20:07:22.254Z"
   },
   {
    "duration": 246,
    "start_time": "2024-06-18T20:07:23.474Z"
   },
   {
    "duration": 389,
    "start_time": "2024-06-18T20:07:23.721Z"
   },
   {
    "duration": 16,
    "start_time": "2024-06-18T20:07:24.111Z"
   },
   {
    "duration": 6,
    "start_time": "2024-06-18T20:07:24.128Z"
   },
   {
    "duration": 20,
    "start_time": "2024-06-18T20:07:24.135Z"
   },
   {
    "duration": 124,
    "start_time": "2024-06-18T20:07:24.156Z"
   },
   {
    "duration": 104,
    "start_time": "2024-06-18T20:07:24.281Z"
   },
   {
    "duration": 44,
    "start_time": "2024-06-18T20:07:24.387Z"
   },
   {
    "duration": 22,
    "start_time": "2024-06-18T20:07:24.432Z"
   },
   {
    "duration": 9,
    "start_time": "2024-06-18T20:07:24.455Z"
   },
   {
    "duration": 149,
    "start_time": "2024-06-18T20:07:24.465Z"
   },
   {
    "duration": 4,
    "start_time": "2024-06-18T20:07:24.616Z"
   },
   {
    "duration": 29,
    "start_time": "2024-06-18T20:07:24.621Z"
   },
   {
    "duration": 40,
    "start_time": "2024-06-18T20:07:24.652Z"
   },
   {
    "duration": 18,
    "start_time": "2024-06-18T20:07:24.712Z"
   },
   {
    "duration": 115,
    "start_time": "2024-06-18T20:07:24.732Z"
   },
   {
    "duration": 1080,
    "start_time": "2024-06-18T20:07:49.813Z"
   },
   {
    "duration": 98,
    "start_time": "2024-06-18T20:07:50.895Z"
   },
   {
    "duration": 5,
    "start_time": "2024-06-18T20:07:50.995Z"
   },
   {
    "duration": 148,
    "start_time": "2024-06-18T20:07:51.001Z"
   },
   {
    "duration": 28,
    "start_time": "2024-06-18T20:07:51.151Z"
   },
   {
    "duration": 53,
    "start_time": "2024-06-18T20:07:51.180Z"
   },
   {
    "duration": 26,
    "start_time": "2024-06-18T20:07:51.235Z"
   },
   {
    "duration": 78,
    "start_time": "2024-06-18T20:07:51.262Z"
   },
   {
    "duration": 40,
    "start_time": "2024-06-18T20:07:51.342Z"
   },
   {
    "duration": 12,
    "start_time": "2024-06-18T20:07:51.384Z"
   },
   {
    "duration": 41,
    "start_time": "2024-06-18T20:07:51.397Z"
   },
   {
    "duration": 45,
    "start_time": "2024-06-18T20:07:51.439Z"
   },
   {
    "duration": 18,
    "start_time": "2024-06-18T20:07:51.485Z"
   },
   {
    "duration": 34,
    "start_time": "2024-06-18T20:07:51.506Z"
   },
   {
    "duration": 10,
    "start_time": "2024-06-18T20:07:51.542Z"
   },
   {
    "duration": 10,
    "start_time": "2024-06-18T20:07:51.553Z"
   },
   {
    "duration": 12,
    "start_time": "2024-06-18T20:07:51.565Z"
   },
   {
    "duration": 16,
    "start_time": "2024-06-18T20:07:51.579Z"
   },
   {
    "duration": 353,
    "start_time": "2024-06-18T20:07:51.611Z"
   },
   {
    "duration": 220,
    "start_time": "2024-06-18T20:07:51.965Z"
   },
   {
    "duration": 1214,
    "start_time": "2024-06-18T20:07:52.187Z"
   },
   {
    "duration": 240,
    "start_time": "2024-06-18T20:07:53.404Z"
   },
   {
    "duration": 396,
    "start_time": "2024-06-18T20:07:53.646Z"
   },
   {
    "duration": 18,
    "start_time": "2024-06-18T20:07:54.043Z"
   },
   {
    "duration": 7,
    "start_time": "2024-06-18T20:07:54.062Z"
   },
   {
    "duration": 22,
    "start_time": "2024-06-18T20:07:54.071Z"
   },
   {
    "duration": 134,
    "start_time": "2024-06-18T20:07:54.095Z"
   },
   {
    "duration": 100,
    "start_time": "2024-06-18T20:07:54.230Z"
   },
   {
    "duration": 39,
    "start_time": "2024-06-18T20:07:54.331Z"
   },
   {
    "duration": 22,
    "start_time": "2024-06-18T20:07:54.371Z"
   },
   {
    "duration": 10,
    "start_time": "2024-06-18T20:07:54.412Z"
   },
   {
    "duration": 156,
    "start_time": "2024-06-18T20:07:54.423Z"
   },
   {
    "duration": 4,
    "start_time": "2024-06-18T20:07:54.581Z"
   },
   {
    "duration": 35,
    "start_time": "2024-06-18T20:07:54.587Z"
   },
   {
    "duration": 38,
    "start_time": "2024-06-18T20:07:54.623Z"
   },
   {
    "duration": 19,
    "start_time": "2024-06-18T20:07:54.662Z"
   },
   {
    "duration": 36,
    "start_time": "2024-06-18T20:07:54.682Z"
   },
   {
    "duration": 15,
    "start_time": "2024-06-18T20:07:54.719Z"
   },
   {
    "duration": 7,
    "start_time": "2024-06-18T20:08:54.361Z"
   },
   {
    "duration": 1080,
    "start_time": "2024-06-18T20:09:02.350Z"
   },
   {
    "duration": 100,
    "start_time": "2024-06-18T20:09:03.432Z"
   },
   {
    "duration": 5,
    "start_time": "2024-06-18T20:09:03.534Z"
   },
   {
    "duration": 147,
    "start_time": "2024-06-18T20:09:03.541Z"
   },
   {
    "duration": 38,
    "start_time": "2024-06-18T20:09:03.690Z"
   },
   {
    "duration": 30,
    "start_time": "2024-06-18T20:09:03.730Z"
   },
   {
    "duration": 53,
    "start_time": "2024-06-18T20:09:03.762Z"
   },
   {
    "duration": 62,
    "start_time": "2024-06-18T20:09:03.816Z"
   },
   {
    "duration": 51,
    "start_time": "2024-06-18T20:09:03.880Z"
   },
   {
    "duration": 11,
    "start_time": "2024-06-18T20:09:03.933Z"
   },
   {
    "duration": 19,
    "start_time": "2024-06-18T20:09:03.946Z"
   },
   {
    "duration": 10,
    "start_time": "2024-06-18T20:09:03.966Z"
   },
   {
    "duration": 41,
    "start_time": "2024-06-18T20:09:03.978Z"
   },
   {
    "duration": 35,
    "start_time": "2024-06-18T20:09:04.022Z"
   },
   {
    "duration": 10,
    "start_time": "2024-06-18T20:09:04.059Z"
   },
   {
    "duration": 11,
    "start_time": "2024-06-18T20:09:04.070Z"
   },
   {
    "duration": 30,
    "start_time": "2024-06-18T20:09:04.082Z"
   },
   {
    "duration": 15,
    "start_time": "2024-06-18T20:09:04.114Z"
   },
   {
    "duration": 360,
    "start_time": "2024-06-18T20:09:04.130Z"
   },
   {
    "duration": 214,
    "start_time": "2024-06-18T20:09:04.491Z"
   },
   {
    "duration": 1225,
    "start_time": "2024-06-18T20:09:04.712Z"
   },
   {
    "duration": 223,
    "start_time": "2024-06-18T20:09:05.938Z"
   },
   {
    "duration": 396,
    "start_time": "2024-06-18T20:09:06.163Z"
   },
   {
    "duration": 16,
    "start_time": "2024-06-18T20:09:06.560Z"
   },
   {
    "duration": 6,
    "start_time": "2024-06-18T20:09:06.578Z"
   },
   {
    "duration": 32,
    "start_time": "2024-06-18T20:09:06.585Z"
   },
   {
    "duration": 126,
    "start_time": "2024-06-18T20:09:06.619Z"
   },
   {
    "duration": 97,
    "start_time": "2024-06-18T20:09:06.746Z"
   },
   {
    "duration": 38,
    "start_time": "2024-06-18T20:09:06.845Z"
   },
   {
    "duration": 42,
    "start_time": "2024-06-18T20:09:06.884Z"
   },
   {
    "duration": 9,
    "start_time": "2024-06-18T20:09:06.927Z"
   },
   {
    "duration": 142,
    "start_time": "2024-06-18T20:09:06.937Z"
   },
   {
    "duration": 7,
    "start_time": "2024-06-18T20:09:07.080Z"
   },
   {
    "duration": 31,
    "start_time": "2024-06-18T20:09:07.089Z"
   },
   {
    "duration": 39,
    "start_time": "2024-06-18T20:09:07.122Z"
   },
   {
    "duration": 18,
    "start_time": "2024-06-18T20:09:07.162Z"
   },
   {
    "duration": 31,
    "start_time": "2024-06-18T20:09:07.181Z"
   },
   {
    "duration": 14,
    "start_time": "2024-06-18T20:09:07.213Z"
   },
   {
    "duration": 8,
    "start_time": "2024-06-18T20:10:58.857Z"
   },
   {
    "duration": 8,
    "start_time": "2024-06-18T20:11:06.610Z"
   },
   {
    "duration": 1107,
    "start_time": "2024-06-18T20:11:15.189Z"
   },
   {
    "duration": 99,
    "start_time": "2024-06-18T20:11:16.298Z"
   },
   {
    "duration": 5,
    "start_time": "2024-06-18T20:11:16.398Z"
   },
   {
    "duration": 158,
    "start_time": "2024-06-18T20:11:16.404Z"
   },
   {
    "duration": 50,
    "start_time": "2024-06-18T20:11:16.564Z"
   },
   {
    "duration": 33,
    "start_time": "2024-06-18T20:11:16.616Z"
   },
   {
    "duration": 29,
    "start_time": "2024-06-18T20:11:16.651Z"
   },
   {
    "duration": 87,
    "start_time": "2024-06-18T20:11:16.682Z"
   },
   {
    "duration": 59,
    "start_time": "2024-06-18T20:11:16.771Z"
   },
   {
    "duration": 13,
    "start_time": "2024-06-18T20:11:16.831Z"
   },
   {
    "duration": 18,
    "start_time": "2024-06-18T20:11:16.846Z"
   },
   {
    "duration": 10,
    "start_time": "2024-06-18T20:11:16.866Z"
   },
   {
    "duration": 45,
    "start_time": "2024-06-18T20:11:16.877Z"
   },
   {
    "duration": 35,
    "start_time": "2024-06-18T20:11:16.925Z"
   },
   {
    "duration": 11,
    "start_time": "2024-06-18T20:11:16.961Z"
   },
   {
    "duration": 13,
    "start_time": "2024-06-18T20:11:16.973Z"
   },
   {
    "duration": 3,
    "start_time": "2024-06-18T20:11:16.988Z"
   },
   {
    "duration": 16,
    "start_time": "2024-06-18T20:11:17.012Z"
   },
   {
    "duration": 364,
    "start_time": "2024-06-18T20:11:17.029Z"
   },
   {
    "duration": 213,
    "start_time": "2024-06-18T20:11:17.395Z"
   },
   {
    "duration": 1225,
    "start_time": "2024-06-18T20:11:17.611Z"
   },
   {
    "duration": 237,
    "start_time": "2024-06-18T20:11:18.837Z"
   },
   {
    "duration": 404,
    "start_time": "2024-06-18T20:11:19.076Z"
   },
   {
    "duration": 17,
    "start_time": "2024-06-18T20:11:19.482Z"
   },
   {
    "duration": 7,
    "start_time": "2024-06-18T20:11:19.512Z"
   },
   {
    "duration": 22,
    "start_time": "2024-06-18T20:11:19.521Z"
   },
   {
    "duration": 133,
    "start_time": "2024-06-18T20:11:19.545Z"
   },
   {
    "duration": 106,
    "start_time": "2024-06-18T20:11:19.680Z"
   },
   {
    "duration": 50,
    "start_time": "2024-06-18T20:11:19.787Z"
   },
   {
    "duration": 22,
    "start_time": "2024-06-18T20:11:19.838Z"
   },
   {
    "duration": 9,
    "start_time": "2024-06-18T20:11:19.861Z"
   },
   {
    "duration": 149,
    "start_time": "2024-06-18T20:11:19.872Z"
   },
   {
    "duration": 10,
    "start_time": "2024-06-18T20:11:20.023Z"
   },
   {
    "duration": 22,
    "start_time": "2024-06-18T20:11:20.035Z"
   },
   {
    "duration": 62,
    "start_time": "2024-06-18T20:11:20.058Z"
   },
   {
    "duration": 18,
    "start_time": "2024-06-18T20:11:20.121Z"
   },
   {
    "duration": 14,
    "start_time": "2024-06-18T20:11:20.141Z"
   },
   {
    "duration": 21,
    "start_time": "2024-06-18T20:11:20.156Z"
   },
   {
    "duration": 28,
    "start_time": "2024-06-18T20:16:56.844Z"
   },
   {
    "duration": 24,
    "start_time": "2024-06-18T20:18:14.215Z"
   },
   {
    "duration": 20,
    "start_time": "2024-06-18T20:18:47.817Z"
   },
   {
    "duration": 1075,
    "start_time": "2024-06-18T20:19:06.018Z"
   },
   {
    "duration": 100,
    "start_time": "2024-06-18T20:19:07.096Z"
   },
   {
    "duration": 5,
    "start_time": "2024-06-18T20:19:07.198Z"
   },
   {
    "duration": 148,
    "start_time": "2024-06-18T20:19:07.204Z"
   },
   {
    "duration": 27,
    "start_time": "2024-06-18T20:19:07.354Z"
   },
   {
    "duration": 54,
    "start_time": "2024-06-18T20:19:07.383Z"
   },
   {
    "duration": 27,
    "start_time": "2024-06-18T20:19:07.438Z"
   },
   {
    "duration": 78,
    "start_time": "2024-06-18T20:19:07.466Z"
   },
   {
    "duration": 41,
    "start_time": "2024-06-18T20:19:07.545Z"
   },
   {
    "duration": 27,
    "start_time": "2024-06-18T20:19:07.587Z"
   },
   {
    "duration": 18,
    "start_time": "2024-06-18T20:19:07.615Z"
   },
   {
    "duration": 10,
    "start_time": "2024-06-18T20:19:07.635Z"
   },
   {
    "duration": 18,
    "start_time": "2024-06-18T20:19:07.646Z"
   },
   {
    "duration": 61,
    "start_time": "2024-06-18T20:19:07.667Z"
   },
   {
    "duration": 11,
    "start_time": "2024-06-18T20:19:07.729Z"
   },
   {
    "duration": 9,
    "start_time": "2024-06-18T20:19:07.741Z"
   },
   {
    "duration": 4,
    "start_time": "2024-06-18T20:19:07.752Z"
   },
   {
    "duration": 48,
    "start_time": "2024-06-18T20:19:07.758Z"
   },
   {
    "duration": 349,
    "start_time": "2024-06-18T20:19:07.807Z"
   },
   {
    "duration": 214,
    "start_time": "2024-06-18T20:19:08.158Z"
   },
   {
    "duration": 1225,
    "start_time": "2024-06-18T20:19:08.374Z"
   },
   {
    "duration": 219,
    "start_time": "2024-06-18T20:19:09.601Z"
   },
   {
    "duration": 392,
    "start_time": "2024-06-18T20:19:09.822Z"
   },
   {
    "duration": 18,
    "start_time": "2024-06-18T20:19:10.215Z"
   },
   {
    "duration": 7,
    "start_time": "2024-06-18T20:19:10.235Z"
   },
   {
    "duration": 13,
    "start_time": "2024-06-18T20:19:10.244Z"
   },
   {
    "duration": 156,
    "start_time": "2024-06-18T20:19:10.259Z"
   },
   {
    "duration": 101,
    "start_time": "2024-06-18T20:19:10.417Z"
   },
   {
    "duration": 39,
    "start_time": "2024-06-18T20:19:10.519Z"
   },
   {
    "duration": 22,
    "start_time": "2024-06-18T20:19:10.559Z"
   },
   {
    "duration": 30,
    "start_time": "2024-06-18T20:19:10.583Z"
   },
   {
    "duration": 144,
    "start_time": "2024-06-18T20:19:10.615Z"
   },
   {
    "duration": 8,
    "start_time": "2024-06-18T20:19:10.760Z"
   },
   {
    "duration": 35,
    "start_time": "2024-06-18T20:19:10.770Z"
   },
   {
    "duration": 30,
    "start_time": "2024-06-18T20:19:10.806Z"
   },
   {
    "duration": 27,
    "start_time": "2024-06-18T20:19:10.838Z"
   },
   {
    "duration": 22,
    "start_time": "2024-06-18T20:19:47.832Z"
   },
   {
    "duration": 34,
    "start_time": "2024-06-18T20:20:33.941Z"
   },
   {
    "duration": 35,
    "start_time": "2024-06-18T20:24:37.710Z"
   },
   {
    "duration": 960,
    "start_time": "2024-06-18T20:25:11.211Z"
   },
   {
    "duration": 37,
    "start_time": "2024-06-18T20:25:18.843Z"
   },
   {
    "duration": 1040,
    "start_time": "2024-06-18T20:25:35.257Z"
   },
   {
    "duration": 102,
    "start_time": "2024-06-18T20:25:36.299Z"
   },
   {
    "duration": 6,
    "start_time": "2024-06-18T20:25:36.403Z"
   },
   {
    "duration": 144,
    "start_time": "2024-06-18T20:25:36.411Z"
   },
   {
    "duration": 55,
    "start_time": "2024-06-18T20:25:36.557Z"
   },
   {
    "duration": 31,
    "start_time": "2024-06-18T20:25:36.613Z"
   },
   {
    "duration": 27,
    "start_time": "2024-06-18T20:25:36.645Z"
   },
   {
    "duration": 79,
    "start_time": "2024-06-18T20:25:36.673Z"
   },
   {
    "duration": 40,
    "start_time": "2024-06-18T20:25:36.753Z"
   },
   {
    "duration": 23,
    "start_time": "2024-06-18T20:25:36.795Z"
   },
   {
    "duration": 19,
    "start_time": "2024-06-18T20:25:36.819Z"
   },
   {
    "duration": 10,
    "start_time": "2024-06-18T20:25:36.839Z"
   },
   {
    "duration": 17,
    "start_time": "2024-06-18T20:25:36.850Z"
   },
   {
    "duration": 58,
    "start_time": "2024-06-18T20:25:36.870Z"
   },
   {
    "duration": 10,
    "start_time": "2024-06-18T20:25:36.929Z"
   },
   {
    "duration": 8,
    "start_time": "2024-06-18T20:25:36.940Z"
   },
   {
    "duration": 3,
    "start_time": "2024-06-18T20:25:36.950Z"
   },
   {
    "duration": 14,
    "start_time": "2024-06-18T20:25:36.955Z"
   },
   {
    "duration": 375,
    "start_time": "2024-06-18T20:25:36.970Z"
   },
   {
    "duration": 218,
    "start_time": "2024-06-18T20:25:37.347Z"
   },
   {
    "duration": 1225,
    "start_time": "2024-06-18T20:25:37.567Z"
   },
   {
    "duration": 225,
    "start_time": "2024-06-18T20:25:38.793Z"
   },
   {
    "duration": 387,
    "start_time": "2024-06-18T20:25:39.020Z"
   },
   {
    "duration": 16,
    "start_time": "2024-06-18T20:25:39.409Z"
   },
   {
    "duration": 10,
    "start_time": "2024-06-18T20:25:39.427Z"
   },
   {
    "duration": 12,
    "start_time": "2024-06-18T20:25:39.439Z"
   },
   {
    "duration": 125,
    "start_time": "2024-06-18T20:25:39.452Z"
   },
   {
    "duration": 110,
    "start_time": "2024-06-18T20:25:39.578Z"
   },
   {
    "duration": 49,
    "start_time": "2024-06-18T20:25:39.689Z"
   },
   {
    "duration": 22,
    "start_time": "2024-06-18T20:25:39.740Z"
   },
   {
    "duration": 9,
    "start_time": "2024-06-18T20:25:39.763Z"
   },
   {
    "duration": 156,
    "start_time": "2024-06-18T20:25:39.773Z"
   },
   {
    "duration": 10,
    "start_time": "2024-06-18T20:25:39.931Z"
   },
   {
    "duration": 22,
    "start_time": "2024-06-18T20:25:39.942Z"
   },
   {
    "duration": 47,
    "start_time": "2024-06-18T20:25:39.966Z"
   },
   {
    "duration": 27,
    "start_time": "2024-06-18T20:25:40.014Z"
   },
   {
    "duration": 34,
    "start_time": "2024-06-18T20:25:40.043Z"
   },
   {
    "duration": 29,
    "start_time": "2024-06-18T20:26:47.075Z"
   },
   {
    "duration": 23,
    "start_time": "2024-06-18T20:27:06.407Z"
   },
   {
    "duration": 42,
    "start_time": "2024-06-18T20:28:03.642Z"
   },
   {
    "duration": 14,
    "start_time": "2024-06-18T20:30:47.014Z"
   },
   {
    "duration": 19,
    "start_time": "2024-06-18T20:31:19.675Z"
   },
   {
    "duration": 9,
    "start_time": "2024-06-18T20:31:39.515Z"
   },
   {
    "duration": 114,
    "start_time": "2024-06-18T20:36:36.061Z"
   },
   {
    "duration": 28,
    "start_time": "2024-06-18T20:37:11.931Z"
   },
   {
    "duration": 27,
    "start_time": "2024-06-18T20:37:25.549Z"
   },
   {
    "duration": 29,
    "start_time": "2024-06-18T20:38:37.241Z"
   },
   {
    "duration": 4,
    "start_time": "2024-06-18T20:39:14.132Z"
   },
   {
    "duration": 5,
    "start_time": "2024-06-18T20:39:31.352Z"
   },
   {
    "duration": 2,
    "start_time": "2024-06-18T20:42:20.938Z"
   },
   {
    "duration": 5,
    "start_time": "2024-06-18T20:43:17.231Z"
   },
   {
    "duration": 13,
    "start_time": "2024-06-18T20:43:27.591Z"
   },
   {
    "duration": 6,
    "start_time": "2024-06-18T20:50:53.487Z"
   },
   {
    "duration": 18,
    "start_time": "2024-06-18T20:50:56.847Z"
   },
   {
    "duration": 8,
    "start_time": "2024-06-18T20:51:11.898Z"
   },
   {
    "duration": 3,
    "start_time": "2024-06-18T20:56:25.111Z"
   },
   {
    "duration": 13,
    "start_time": "2024-06-18T20:57:03.549Z"
   },
   {
    "duration": 3,
    "start_time": "2024-06-18T20:57:57.780Z"
   },
   {
    "duration": 13,
    "start_time": "2024-06-18T20:57:58.527Z"
   },
   {
    "duration": 16,
    "start_time": "2024-06-18T20:58:43.747Z"
   },
   {
    "duration": 28,
    "start_time": "2024-06-18T21:08:35.119Z"
   },
   {
    "duration": 38,
    "start_time": "2024-06-18T21:08:38.511Z"
   },
   {
    "duration": 1088,
    "start_time": "2024-06-18T21:10:29.504Z"
   },
   {
    "duration": 101,
    "start_time": "2024-06-18T21:10:30.594Z"
   },
   {
    "duration": 6,
    "start_time": "2024-06-18T21:10:30.696Z"
   },
   {
    "duration": 160,
    "start_time": "2024-06-18T21:10:30.705Z"
   },
   {
    "duration": 51,
    "start_time": "2024-06-18T21:10:30.866Z"
   },
   {
    "duration": 35,
    "start_time": "2024-06-18T21:10:30.918Z"
   },
   {
    "duration": 80,
    "start_time": "2024-06-18T21:10:30.955Z"
   },
   {
    "duration": 82,
    "start_time": "2024-06-18T21:10:31.036Z"
   },
   {
    "duration": 45,
    "start_time": "2024-06-18T21:10:31.120Z"
   },
   {
    "duration": 12,
    "start_time": "2024-06-18T21:10:31.168Z"
   },
   {
    "duration": 53,
    "start_time": "2024-06-18T21:10:31.181Z"
   },
   {
    "duration": 39,
    "start_time": "2024-06-18T21:10:31.236Z"
   },
   {
    "duration": 31,
    "start_time": "2024-06-18T21:10:31.277Z"
   },
   {
    "duration": 63,
    "start_time": "2024-06-18T21:10:31.310Z"
   },
   {
    "duration": 22,
    "start_time": "2024-06-18T21:10:31.374Z"
   },
   {
    "duration": 48,
    "start_time": "2024-06-18T21:10:31.398Z"
   },
   {
    "duration": 18,
    "start_time": "2024-06-18T21:10:31.447Z"
   },
   {
    "duration": 38,
    "start_time": "2024-06-18T21:10:31.467Z"
   },
   {
    "duration": 377,
    "start_time": "2024-06-18T21:10:31.506Z"
   },
   {
    "duration": 217,
    "start_time": "2024-06-18T21:10:31.885Z"
   },
   {
    "duration": 1221,
    "start_time": "2024-06-18T21:10:32.103Z"
   },
   {
    "duration": 237,
    "start_time": "2024-06-18T21:10:33.326Z"
   },
   {
    "duration": 409,
    "start_time": "2024-06-18T21:10:33.565Z"
   },
   {
    "duration": 17,
    "start_time": "2024-06-18T21:10:33.976Z"
   },
   {
    "duration": 22,
    "start_time": "2024-06-18T21:10:33.995Z"
   },
   {
    "duration": 14,
    "start_time": "2024-06-18T21:10:34.018Z"
   },
   {
    "duration": 137,
    "start_time": "2024-06-18T21:10:34.034Z"
   },
   {
    "duration": 115,
    "start_time": "2024-06-18T21:10:34.175Z"
   },
   {
    "duration": 50,
    "start_time": "2024-06-18T21:10:34.292Z"
   },
   {
    "duration": 22,
    "start_time": "2024-06-18T21:10:34.344Z"
   },
   {
    "duration": 11,
    "start_time": "2024-06-18T21:10:34.367Z"
   },
   {
    "duration": 158,
    "start_time": "2024-06-18T21:10:34.379Z"
   },
   {
    "duration": 9,
    "start_time": "2024-06-18T21:10:34.538Z"
   },
   {
    "duration": 27,
    "start_time": "2024-06-18T21:10:34.548Z"
   },
   {
    "duration": 38,
    "start_time": "2024-06-18T21:10:34.576Z"
   },
   {
    "duration": 27,
    "start_time": "2024-06-18T21:10:34.615Z"
   },
   {
    "duration": 34,
    "start_time": "2024-06-18T21:10:34.643Z"
   },
   {
    "duration": 49,
    "start_time": "2024-06-18T21:10:34.679Z"
   },
   {
    "duration": 36,
    "start_time": "2024-06-18T21:10:34.729Z"
   },
   {
    "duration": 46,
    "start_time": "2024-06-18T21:10:34.767Z"
   },
   {
    "duration": 18,
    "start_time": "2024-06-18T21:10:34.814Z"
   },
   {
    "duration": 3,
    "start_time": "2024-06-18T21:10:34.833Z"
   },
   {
    "duration": 41,
    "start_time": "2024-06-18T21:10:34.838Z"
   },
   {
    "duration": 126,
    "start_time": "2024-06-18T21:10:34.880Z"
   },
   {
    "duration": 1080,
    "start_time": "2024-06-18T21:11:10.619Z"
   },
   {
    "duration": 100,
    "start_time": "2024-06-18T21:11:11.701Z"
   },
   {
    "duration": 7,
    "start_time": "2024-06-18T21:11:11.802Z"
   },
   {
    "duration": 147,
    "start_time": "2024-06-18T21:11:11.811Z"
   },
   {
    "duration": 53,
    "start_time": "2024-06-18T21:11:11.959Z"
   },
   {
    "duration": 36,
    "start_time": "2024-06-18T21:11:12.013Z"
   },
   {
    "duration": 25,
    "start_time": "2024-06-18T21:11:12.051Z"
   },
   {
    "duration": 80,
    "start_time": "2024-06-18T21:11:12.078Z"
   },
   {
    "duration": 40,
    "start_time": "2024-06-18T21:11:12.159Z"
   },
   {
    "duration": 11,
    "start_time": "2024-06-18T21:11:12.213Z"
   },
   {
    "duration": 18,
    "start_time": "2024-06-18T21:11:12.226Z"
   },
   {
    "duration": 10,
    "start_time": "2024-06-18T21:11:12.245Z"
   },
   {
    "duration": 17,
    "start_time": "2024-06-18T21:11:12.257Z"
   },
   {
    "duration": 61,
    "start_time": "2024-06-18T21:11:12.275Z"
   },
   {
    "duration": 9,
    "start_time": "2024-06-18T21:11:12.338Z"
   },
   {
    "duration": 12,
    "start_time": "2024-06-18T21:11:12.349Z"
   },
   {
    "duration": 20,
    "start_time": "2024-06-18T21:11:12.362Z"
   },
   {
    "duration": 14,
    "start_time": "2024-06-18T21:11:12.383Z"
   },
   {
    "duration": 343,
    "start_time": "2024-06-18T21:11:12.399Z"
   },
   {
    "duration": 213,
    "start_time": "2024-06-18T21:11:12.744Z"
   },
   {
    "duration": 1232,
    "start_time": "2024-06-18T21:11:12.959Z"
   },
   {
    "duration": 226,
    "start_time": "2024-06-18T21:11:14.193Z"
   },
   {
    "duration": 392,
    "start_time": "2024-06-18T21:11:14.420Z"
   },
   {
    "duration": 16,
    "start_time": "2024-06-18T21:11:14.813Z"
   },
   {
    "duration": 6,
    "start_time": "2024-06-18T21:11:14.831Z"
   },
   {
    "duration": 13,
    "start_time": "2024-06-18T21:11:14.838Z"
   },
   {
    "duration": 131,
    "start_time": "2024-06-18T21:11:14.852Z"
   },
   {
    "duration": 104,
    "start_time": "2024-06-18T21:11:14.986Z"
   },
   {
    "duration": 47,
    "start_time": "2024-06-18T21:11:15.091Z"
   },
   {
    "duration": 23,
    "start_time": "2024-06-18T21:11:15.139Z"
   },
   {
    "duration": 29,
    "start_time": "2024-06-18T21:11:15.164Z"
   },
   {
    "duration": 190,
    "start_time": "2024-06-18T21:11:15.195Z"
   },
   {
    "duration": 9,
    "start_time": "2024-06-18T21:11:15.386Z"
   },
   {
    "duration": 53,
    "start_time": "2024-06-18T21:11:15.397Z"
   },
   {
    "duration": 50,
    "start_time": "2024-06-18T21:11:15.452Z"
   },
   {
    "duration": 31,
    "start_time": "2024-06-18T21:11:15.503Z"
   },
   {
    "duration": 33,
    "start_time": "2024-06-18T21:11:15.535Z"
   },
   {
    "duration": 27,
    "start_time": "2024-06-18T21:11:15.570Z"
   },
   {
    "duration": 33,
    "start_time": "2024-06-18T21:11:15.612Z"
   },
   {
    "duration": 27,
    "start_time": "2024-06-18T21:11:15.647Z"
   },
   {
    "duration": 25,
    "start_time": "2024-06-18T21:11:15.676Z"
   },
   {
    "duration": 341,
    "start_time": "2024-06-18T21:11:15.703Z"
   },
   {
    "duration": 106,
    "start_time": "2024-06-18T21:11:16.046Z"
   },
   {
    "duration": 3,
    "start_time": "2024-06-18T21:13:49.543Z"
   },
   {
    "duration": 41,
    "start_time": "2024-06-18T21:13:50.231Z"
   },
   {
    "duration": 41,
    "start_time": "2024-06-18T21:15:30.240Z"
   },
   {
    "duration": 35,
    "start_time": "2024-06-18T21:16:56.054Z"
   },
   {
    "duration": 1465,
    "start_time": "2024-06-19T10:41:39.900Z"
   },
   {
    "duration": 377,
    "start_time": "2024-06-19T10:41:41.367Z"
   },
   {
    "duration": 5,
    "start_time": "2024-06-19T10:41:41.746Z"
   },
   {
    "duration": 162,
    "start_time": "2024-06-19T10:41:41.753Z"
   },
   {
    "duration": 35,
    "start_time": "2024-06-19T10:41:41.918Z"
   },
   {
    "duration": 63,
    "start_time": "2024-06-19T10:41:41.954Z"
   },
   {
    "duration": 31,
    "start_time": "2024-06-19T10:41:42.018Z"
   },
   {
    "duration": 95,
    "start_time": "2024-06-19T10:41:42.051Z"
   },
   {
    "duration": 53,
    "start_time": "2024-06-19T10:41:42.148Z"
   },
   {
    "duration": 13,
    "start_time": "2024-06-19T10:41:42.203Z"
   },
   {
    "duration": 59,
    "start_time": "2024-06-19T10:41:42.218Z"
   },
   {
    "duration": 12,
    "start_time": "2024-06-19T10:41:42.279Z"
   },
   {
    "duration": 21,
    "start_time": "2024-06-19T10:41:42.293Z"
   },
   {
    "duration": 44,
    "start_time": "2024-06-19T10:41:42.317Z"
   },
   {
    "duration": 32,
    "start_time": "2024-06-19T10:41:42.363Z"
   },
   {
    "duration": 13,
    "start_time": "2024-06-19T10:41:42.397Z"
   },
   {
    "duration": 13,
    "start_time": "2024-06-19T10:41:42.411Z"
   },
   {
    "duration": 40,
    "start_time": "2024-06-19T10:41:42.425Z"
   },
   {
    "duration": 423,
    "start_time": "2024-06-19T10:41:42.467Z"
   },
   {
    "duration": 262,
    "start_time": "2024-06-19T10:41:42.891Z"
   },
   {
    "duration": 1568,
    "start_time": "2024-06-19T10:41:43.154Z"
   },
   {
    "duration": 248,
    "start_time": "2024-06-19T10:41:44.724Z"
   },
   {
    "duration": 486,
    "start_time": "2024-06-19T10:41:44.973Z"
   },
   {
    "duration": 20,
    "start_time": "2024-06-19T10:41:45.460Z"
   },
   {
    "duration": 19,
    "start_time": "2024-06-19T10:41:45.481Z"
   },
   {
    "duration": 42,
    "start_time": "2024-06-19T10:41:45.501Z"
   },
   {
    "duration": 135,
    "start_time": "2024-06-19T10:41:45.544Z"
   },
   {
    "duration": 129,
    "start_time": "2024-06-19T10:41:45.692Z"
   },
   {
    "duration": 47,
    "start_time": "2024-06-19T10:41:45.823Z"
   },
   {
    "duration": 43,
    "start_time": "2024-06-19T10:41:45.872Z"
   },
   {
    "duration": 12,
    "start_time": "2024-06-19T10:41:45.918Z"
   },
   {
    "duration": 236,
    "start_time": "2024-06-19T10:41:45.932Z"
   },
   {
    "duration": 12,
    "start_time": "2024-06-19T10:41:46.170Z"
   },
   {
    "duration": 29,
    "start_time": "2024-06-19T10:41:46.191Z"
   },
   {
    "duration": 39,
    "start_time": "2024-06-19T10:41:46.222Z"
   },
   {
    "duration": 51,
    "start_time": "2024-06-19T10:41:46.263Z"
   },
   {
    "duration": 38,
    "start_time": "2024-06-19T10:41:46.316Z"
   },
   {
    "duration": 52,
    "start_time": "2024-06-19T10:41:46.356Z"
   },
   {
    "duration": 44,
    "start_time": "2024-06-19T10:41:46.410Z"
   },
   {
    "duration": 52,
    "start_time": "2024-06-19T10:41:46.456Z"
   },
   {
    "duration": 3,
    "start_time": "2024-06-19T10:41:46.513Z"
   },
   {
    "duration": 470,
    "start_time": "2024-06-19T10:41:46.518Z"
   },
   {
    "duration": 147,
    "start_time": "2024-06-19T10:45:50.505Z"
   },
   {
    "duration": 42,
    "start_time": "2024-06-19T10:46:02.696Z"
   },
   {
    "duration": 43,
    "start_time": "2024-06-19T10:46:22.574Z"
   },
   {
    "duration": 10,
    "start_time": "2024-06-19T10:46:45.219Z"
   },
   {
    "duration": 8,
    "start_time": "2024-06-19T10:47:54.190Z"
   },
   {
    "duration": 5,
    "start_time": "2024-06-19T10:47:56.969Z"
   },
   {
    "duration": 5,
    "start_time": "2024-06-19T10:48:54.104Z"
   },
   {
    "duration": 4,
    "start_time": "2024-06-19T10:49:49.667Z"
   },
   {
    "duration": 6,
    "start_time": "2024-06-19T10:51:15.555Z"
   },
   {
    "duration": 1255,
    "start_time": "2024-06-19T10:51:22.352Z"
   },
   {
    "duration": 105,
    "start_time": "2024-06-19T10:51:23.609Z"
   },
   {
    "duration": 5,
    "start_time": "2024-06-19T10:51:23.716Z"
   },
   {
    "duration": 185,
    "start_time": "2024-06-19T10:51:23.723Z"
   },
   {
    "duration": 5,
    "start_time": "2024-06-19T10:51:23.911Z"
   },
   {
    "duration": 78,
    "start_time": "2024-06-19T10:51:23.917Z"
   },
   {
    "duration": 38,
    "start_time": "2024-06-19T10:51:23.997Z"
   },
   {
    "duration": 40,
    "start_time": "2024-06-19T10:51:24.037Z"
   },
   {
    "duration": 72,
    "start_time": "2024-06-19T10:51:24.093Z"
   },
   {
    "duration": 60,
    "start_time": "2024-06-19T10:51:24.167Z"
   },
   {
    "duration": 14,
    "start_time": "2024-06-19T10:51:24.229Z"
   },
   {
    "duration": 21,
    "start_time": "2024-06-19T10:51:24.245Z"
   },
   {
    "duration": 34,
    "start_time": "2024-06-19T10:51:24.268Z"
   },
   {
    "duration": 22,
    "start_time": "2024-06-19T10:51:24.305Z"
   },
   {
    "duration": 63,
    "start_time": "2024-06-19T10:51:24.329Z"
   },
   {
    "duration": 12,
    "start_time": "2024-06-19T10:51:24.393Z"
   },
   {
    "duration": 12,
    "start_time": "2024-06-19T10:51:24.407Z"
   },
   {
    "duration": 11,
    "start_time": "2024-06-19T10:51:24.421Z"
   },
   {
    "duration": 35,
    "start_time": "2024-06-19T10:51:24.434Z"
   },
   {
    "duration": 409,
    "start_time": "2024-06-19T10:51:24.470Z"
   },
   {
    "duration": 243,
    "start_time": "2024-06-19T10:51:24.881Z"
   },
   {
    "duration": 1565,
    "start_time": "2024-06-19T10:51:25.126Z"
   },
   {
    "duration": 248,
    "start_time": "2024-06-19T10:51:26.693Z"
   },
   {
    "duration": 495,
    "start_time": "2024-06-19T10:51:26.943Z"
   },
   {
    "duration": 19,
    "start_time": "2024-06-19T10:51:27.441Z"
   },
   {
    "duration": 24,
    "start_time": "2024-06-19T10:51:27.462Z"
   },
   {
    "duration": 43,
    "start_time": "2024-06-19T10:51:27.487Z"
   },
   {
    "duration": 171,
    "start_time": "2024-06-19T10:51:27.532Z"
   },
   {
    "duration": 118,
    "start_time": "2024-06-19T10:51:27.704Z"
   },
   {
    "duration": 45,
    "start_time": "2024-06-19T10:51:27.824Z"
   },
   {
    "duration": 27,
    "start_time": "2024-06-19T10:51:27.871Z"
   },
   {
    "duration": 52,
    "start_time": "2024-06-19T10:51:27.900Z"
   },
   {
    "duration": 153,
    "start_time": "2024-06-19T10:51:27.954Z"
   },
   {
    "duration": 75,
    "start_time": "2024-06-19T10:51:28.109Z"
   },
   {
    "duration": 12,
    "start_time": "2024-06-19T10:51:28.186Z"
   },
   {
    "duration": 58,
    "start_time": "2024-06-19T10:51:28.200Z"
   },
   {
    "duration": 37,
    "start_time": "2024-06-19T10:51:28.260Z"
   },
   {
    "duration": 33,
    "start_time": "2024-06-19T10:51:28.299Z"
   },
   {
    "duration": 59,
    "start_time": "2024-06-19T10:51:28.333Z"
   },
   {
    "duration": 34,
    "start_time": "2024-06-19T10:51:28.393Z"
   },
   {
    "duration": 62,
    "start_time": "2024-06-19T10:51:28.430Z"
   },
   {
    "duration": 32,
    "start_time": "2024-06-19T10:51:28.494Z"
   },
   {
    "duration": 4,
    "start_time": "2024-06-19T10:51:28.527Z"
   },
   {
    "duration": 459,
    "start_time": "2024-06-19T10:51:28.533Z"
   },
   {
    "duration": 23,
    "start_time": "2024-06-19T11:06:56.366Z"
   },
   {
    "duration": 15,
    "start_time": "2024-06-19T11:08:37.674Z"
   },
   {
    "duration": 6,
    "start_time": "2024-06-19T11:09:56.539Z"
   },
   {
    "duration": 1318,
    "start_time": "2024-06-19T11:10:01.967Z"
   },
   {
    "duration": 104,
    "start_time": "2024-06-19T11:10:03.287Z"
   },
   {
    "duration": 7,
    "start_time": "2024-06-19T11:10:03.393Z"
   },
   {
    "duration": 13,
    "start_time": "2024-06-19T11:10:03.401Z"
   },
   {
    "duration": 181,
    "start_time": "2024-06-19T11:10:03.416Z"
   },
   {
    "duration": 34,
    "start_time": "2024-06-19T11:10:03.599Z"
   },
   {
    "duration": 82,
    "start_time": "2024-06-19T11:10:03.634Z"
   },
   {
    "duration": 41,
    "start_time": "2024-06-19T11:10:03.719Z"
   },
   {
    "duration": 82,
    "start_time": "2024-06-19T11:10:03.762Z"
   },
   {
    "duration": 59,
    "start_time": "2024-06-19T11:10:03.846Z"
   },
   {
    "duration": 14,
    "start_time": "2024-06-19T11:10:03.906Z"
   },
   {
    "duration": 44,
    "start_time": "2024-06-19T11:10:03.922Z"
   },
   {
    "duration": 79,
    "start_time": "2024-06-19T11:10:03.967Z"
   },
   {
    "duration": 82,
    "start_time": "2024-06-19T11:10:04.050Z"
   },
   {
    "duration": 53,
    "start_time": "2024-06-19T11:10:04.133Z"
   },
   {
    "duration": 13,
    "start_time": "2024-06-19T11:10:04.188Z"
   },
   {
    "duration": 19,
    "start_time": "2024-06-19T11:10:04.203Z"
   },
   {
    "duration": 7,
    "start_time": "2024-06-19T11:10:04.224Z"
   },
   {
    "duration": 25,
    "start_time": "2024-06-19T11:10:04.232Z"
   },
   {
    "duration": 403,
    "start_time": "2024-06-19T11:10:04.258Z"
   },
   {
    "duration": 251,
    "start_time": "2024-06-19T11:10:04.663Z"
   },
   {
    "duration": 1565,
    "start_time": "2024-06-19T11:10:04.915Z"
   },
   {
    "duration": 259,
    "start_time": "2024-06-19T11:10:06.482Z"
   },
   {
    "duration": 481,
    "start_time": "2024-06-19T11:10:06.743Z"
   },
   {
    "duration": 19,
    "start_time": "2024-06-19T11:10:07.225Z"
   },
   {
    "duration": 7,
    "start_time": "2024-06-19T11:10:07.246Z"
   },
   {
    "duration": 15,
    "start_time": "2024-06-19T11:10:07.254Z"
   },
   {
    "duration": 159,
    "start_time": "2024-06-19T11:10:07.271Z"
   },
   {
    "duration": 126,
    "start_time": "2024-06-19T11:10:07.431Z"
   },
   {
    "duration": 56,
    "start_time": "2024-06-19T11:10:07.559Z"
   },
   {
    "duration": 11,
    "start_time": "2024-06-19T11:10:07.617Z"
   },
   {
    "duration": 40,
    "start_time": "2024-06-19T11:10:07.630Z"
   },
   {
    "duration": 171,
    "start_time": "2024-06-19T11:10:07.672Z"
   },
   {
    "duration": 74,
    "start_time": "2024-06-19T11:10:07.845Z"
   },
   {
    "duration": 23,
    "start_time": "2024-06-19T11:10:07.921Z"
   },
   {
    "duration": 55,
    "start_time": "2024-06-19T11:10:07.945Z"
   },
   {
    "duration": 48,
    "start_time": "2024-06-19T11:10:08.002Z"
   },
   {
    "duration": 39,
    "start_time": "2024-06-19T11:10:08.052Z"
   },
   {
    "duration": 16,
    "start_time": "2024-06-19T11:10:08.093Z"
   },
   {
    "duration": 39,
    "start_time": "2024-06-19T11:10:08.111Z"
   },
   {
    "duration": 55,
    "start_time": "2024-06-19T11:10:08.154Z"
   },
   {
    "duration": 43,
    "start_time": "2024-06-19T11:10:08.210Z"
   },
   {
    "duration": 50,
    "start_time": "2024-06-19T11:10:08.255Z"
   },
   {
    "duration": 3,
    "start_time": "2024-06-19T11:10:08.307Z"
   },
   {
    "duration": 429,
    "start_time": "2024-06-19T11:10:08.312Z"
   },
   {
    "duration": 16,
    "start_time": "2024-06-19T11:11:28.445Z"
   },
   {
    "duration": 38,
    "start_time": "2024-06-19T11:13:49.727Z"
   },
   {
    "duration": 22,
    "start_time": "2024-06-19T11:14:27.174Z"
   },
   {
    "duration": 28,
    "start_time": "2024-06-19T11:15:02.023Z"
   },
   {
    "duration": 16,
    "start_time": "2024-06-19T11:15:11.180Z"
   },
   {
    "duration": 27,
    "start_time": "2024-06-19T11:15:23.671Z"
   },
   {
    "duration": 23,
    "start_time": "2024-06-19T11:15:29.524Z"
   },
   {
    "duration": 13,
    "start_time": "2024-06-19T11:15:38.158Z"
   },
   {
    "duration": 1164,
    "start_time": "2024-06-19T11:15:48.739Z"
   },
   {
    "duration": 1215,
    "start_time": "2024-06-19T11:16:27.618Z"
   },
   {
    "duration": 104,
    "start_time": "2024-06-19T11:16:28.835Z"
   },
   {
    "duration": 5,
    "start_time": "2024-06-19T11:16:28.941Z"
   },
   {
    "duration": 150,
    "start_time": "2024-06-19T11:16:28.949Z"
   },
   {
    "duration": 34,
    "start_time": "2024-06-19T11:16:29.101Z"
   },
   {
    "duration": 63,
    "start_time": "2024-06-19T11:16:29.137Z"
   },
   {
    "duration": 30,
    "start_time": "2024-06-19T11:16:29.201Z"
   },
   {
    "duration": 87,
    "start_time": "2024-06-19T11:16:29.233Z"
   },
   {
    "duration": 46,
    "start_time": "2024-06-19T11:16:29.322Z"
   },
   {
    "duration": 28,
    "start_time": "2024-06-19T11:16:29.369Z"
   },
   {
    "duration": 28,
    "start_time": "2024-06-19T11:16:29.398Z"
   },
   {
    "duration": 23,
    "start_time": "2024-06-19T11:16:29.427Z"
   },
   {
    "duration": 43,
    "start_time": "2024-06-19T11:16:29.452Z"
   },
   {
    "duration": 43,
    "start_time": "2024-06-19T11:16:29.500Z"
   },
   {
    "duration": 13,
    "start_time": "2024-06-19T11:16:29.545Z"
   },
   {
    "duration": 39,
    "start_time": "2024-06-19T11:16:29.560Z"
   },
   {
    "duration": 5,
    "start_time": "2024-06-19T11:16:29.601Z"
   },
   {
    "duration": 26,
    "start_time": "2024-06-19T11:16:29.608Z"
   },
   {
    "duration": 429,
    "start_time": "2024-06-19T11:16:29.636Z"
   },
   {
    "duration": 268,
    "start_time": "2024-06-19T11:16:30.067Z"
   },
   {
    "duration": 1701,
    "start_time": "2024-06-19T11:16:30.336Z"
   },
   {
    "duration": 269,
    "start_time": "2024-06-19T11:16:32.039Z"
   },
   {
    "duration": 495,
    "start_time": "2024-06-19T11:16:32.310Z"
   },
   {
    "duration": 20,
    "start_time": "2024-06-19T11:16:32.807Z"
   },
   {
    "duration": 10,
    "start_time": "2024-06-19T11:16:32.829Z"
   },
   {
    "duration": 34,
    "start_time": "2024-06-19T11:16:32.841Z"
   },
   {
    "duration": 184,
    "start_time": "2024-06-19T11:16:32.877Z"
   },
   {
    "duration": 131,
    "start_time": "2024-06-19T11:16:33.064Z"
   },
   {
    "duration": 50,
    "start_time": "2024-06-19T11:16:33.197Z"
   },
   {
    "duration": 11,
    "start_time": "2024-06-19T11:16:33.249Z"
   },
   {
    "duration": 50,
    "start_time": "2024-06-19T11:16:33.262Z"
   },
   {
    "duration": 12,
    "start_time": "2024-06-19T11:16:33.314Z"
   },
   {
    "duration": 198,
    "start_time": "2024-06-19T11:16:33.328Z"
   },
   {
    "duration": 23,
    "start_time": "2024-06-19T11:16:33.528Z"
   },
   {
    "duration": 46,
    "start_time": "2024-06-19T11:16:33.552Z"
   },
   {
    "duration": 15,
    "start_time": "2024-06-19T11:16:33.599Z"
   },
   {
    "duration": 24,
    "start_time": "2024-06-19T11:16:33.616Z"
   },
   {
    "duration": 13,
    "start_time": "2024-06-19T11:16:33.641Z"
   },
   {
    "duration": 36,
    "start_time": "2024-06-19T11:16:33.656Z"
   },
   {
    "duration": 3,
    "start_time": "2024-06-19T11:16:33.693Z"
   },
   {
    "duration": 54,
    "start_time": "2024-06-19T11:17:27.841Z"
   },
   {
    "duration": 57,
    "start_time": "2024-06-19T11:17:53.374Z"
   },
   {
    "duration": 34,
    "start_time": "2024-06-19T11:18:02.043Z"
   },
   {
    "duration": 27,
    "start_time": "2024-06-19T11:18:08.196Z"
   },
   {
    "duration": 24,
    "start_time": "2024-06-19T11:18:12.374Z"
   },
   {
    "duration": 19,
    "start_time": "2024-06-19T11:18:15.060Z"
   },
   {
    "duration": 23,
    "start_time": "2024-06-19T11:18:17.023Z"
   },
   {
    "duration": 18,
    "start_time": "2024-06-19T11:18:21.153Z"
   },
   {
    "duration": 4,
    "start_time": "2024-06-19T11:18:22.414Z"
   },
   {
    "duration": 28,
    "start_time": "2024-06-19T11:18:48.684Z"
   },
   {
    "duration": 22,
    "start_time": "2024-06-19T11:18:50.292Z"
   },
   {
    "duration": 17,
    "start_time": "2024-06-19T11:18:51.464Z"
   },
   {
    "duration": 24,
    "start_time": "2024-06-19T11:18:51.977Z"
   },
   {
    "duration": 14,
    "start_time": "2024-06-19T11:18:52.468Z"
   },
   {
    "duration": 4,
    "start_time": "2024-06-19T11:18:52.981Z"
   },
   {
    "duration": 15,
    "start_time": "2024-06-19T11:19:09.383Z"
   },
   {
    "duration": 25,
    "start_time": "2024-06-19T11:19:22.920Z"
   },
   {
    "duration": 26,
    "start_time": "2024-06-19T11:19:27.735Z"
   },
   {
    "duration": 26,
    "start_time": "2024-06-19T11:19:31.905Z"
   },
   {
    "duration": 12,
    "start_time": "2024-06-19T11:19:36.705Z"
   },
   {
    "duration": 1118,
    "start_time": "2024-06-19T11:19:44.466Z"
   },
   {
    "duration": 24,
    "start_time": "2024-06-19T11:19:51.175Z"
   },
   {
    "duration": 19,
    "start_time": "2024-06-19T11:20:00.333Z"
   },
   {
    "duration": 1240,
    "start_time": "2024-06-19T11:20:13.405Z"
   },
   {
    "duration": 105,
    "start_time": "2024-06-19T11:20:14.648Z"
   },
   {
    "duration": 6,
    "start_time": "2024-06-19T11:20:14.755Z"
   },
   {
    "duration": 193,
    "start_time": "2024-06-19T11:20:14.764Z"
   },
   {
    "duration": 49,
    "start_time": "2024-06-19T11:20:14.960Z"
   },
   {
    "duration": 35,
    "start_time": "2024-06-19T11:20:15.011Z"
   },
   {
    "duration": 59,
    "start_time": "2024-06-19T11:20:15.048Z"
   },
   {
    "duration": 101,
    "start_time": "2024-06-19T11:20:15.109Z"
   },
   {
    "duration": 46,
    "start_time": "2024-06-19T11:20:15.212Z"
   },
   {
    "duration": 33,
    "start_time": "2024-06-19T11:20:15.260Z"
   },
   {
    "duration": 53,
    "start_time": "2024-06-19T11:20:15.295Z"
   },
   {
    "duration": 13,
    "start_time": "2024-06-19T11:20:15.350Z"
   },
   {
    "duration": 44,
    "start_time": "2024-06-19T11:20:15.364Z"
   },
   {
    "duration": 72,
    "start_time": "2024-06-19T11:20:15.412Z"
   },
   {
    "duration": 12,
    "start_time": "2024-06-19T11:20:15.486Z"
   },
   {
    "duration": 11,
    "start_time": "2024-06-19T11:20:15.500Z"
   },
   {
    "duration": 5,
    "start_time": "2024-06-19T11:20:15.512Z"
   },
   {
    "duration": 17,
    "start_time": "2024-06-19T11:20:15.519Z"
   },
   {
    "duration": 406,
    "start_time": "2024-06-19T11:20:15.538Z"
   },
   {
    "duration": 251,
    "start_time": "2024-06-19T11:20:15.946Z"
   },
   {
    "duration": 1554,
    "start_time": "2024-06-19T11:20:16.199Z"
   },
   {
    "duration": 249,
    "start_time": "2024-06-19T11:20:17.755Z"
   },
   {
    "duration": 481,
    "start_time": "2024-06-19T11:20:18.006Z"
   },
   {
    "duration": 19,
    "start_time": "2024-06-19T11:20:18.489Z"
   },
   {
    "duration": 7,
    "start_time": "2024-06-19T11:20:18.509Z"
   },
   {
    "duration": 14,
    "start_time": "2024-06-19T11:20:18.518Z"
   },
   {
    "duration": 184,
    "start_time": "2024-06-19T11:20:18.533Z"
   },
   {
    "duration": 114,
    "start_time": "2024-06-19T11:20:18.719Z"
   },
   {
    "duration": 43,
    "start_time": "2024-06-19T11:20:18.835Z"
   },
   {
    "duration": 21,
    "start_time": "2024-06-19T11:20:18.892Z"
   },
   {
    "duration": 11,
    "start_time": "2024-06-19T11:20:18.915Z"
   },
   {
    "duration": 40,
    "start_time": "2024-06-19T11:20:18.928Z"
   },
   {
    "duration": 188,
    "start_time": "2024-06-19T11:20:18.969Z"
   },
   {
    "duration": 27,
    "start_time": "2024-06-19T11:20:19.159Z"
   },
   {
    "duration": 33,
    "start_time": "2024-06-19T11:20:19.188Z"
   },
   {
    "duration": 54,
    "start_time": "2024-06-19T11:20:19.223Z"
   },
   {
    "duration": 12,
    "start_time": "2024-06-19T11:20:19.279Z"
   },
   {
    "duration": 6,
    "start_time": "2024-06-19T11:20:19.292Z"
   },
   {
    "duration": 14,
    "start_time": "2024-06-19T11:20:19.299Z"
   },
   {
    "duration": 24,
    "start_time": "2024-06-19T11:23:26.742Z"
   },
   {
    "duration": 1209,
    "start_time": "2024-06-19T11:23:43.168Z"
   },
   {
    "duration": 1295,
    "start_time": "2024-06-19T11:23:52.560Z"
   },
   {
    "duration": 108,
    "start_time": "2024-06-19T11:23:53.857Z"
   },
   {
    "duration": 7,
    "start_time": "2024-06-19T11:23:53.967Z"
   },
   {
    "duration": 194,
    "start_time": "2024-06-19T11:23:53.975Z"
   },
   {
    "duration": 51,
    "start_time": "2024-06-19T11:23:54.171Z"
   },
   {
    "duration": 68,
    "start_time": "2024-06-19T11:23:54.224Z"
   },
   {
    "duration": 39,
    "start_time": "2024-06-19T11:23:54.294Z"
   },
   {
    "duration": 88,
    "start_time": "2024-06-19T11:23:54.335Z"
   },
   {
    "duration": 44,
    "start_time": "2024-06-19T11:23:54.426Z"
   },
   {
    "duration": 28,
    "start_time": "2024-06-19T11:23:54.472Z"
   },
   {
    "duration": 39,
    "start_time": "2024-06-19T11:23:54.502Z"
   },
   {
    "duration": 24,
    "start_time": "2024-06-19T11:23:54.543Z"
   },
   {
    "duration": 22,
    "start_time": "2024-06-19T11:23:54.569Z"
   },
   {
    "duration": 43,
    "start_time": "2024-06-19T11:23:54.594Z"
   },
   {
    "duration": 15,
    "start_time": "2024-06-19T11:23:54.639Z"
   },
   {
    "duration": 43,
    "start_time": "2024-06-19T11:23:54.655Z"
   },
   {
    "duration": 6,
    "start_time": "2024-06-19T11:23:54.701Z"
   },
   {
    "duration": 29,
    "start_time": "2024-06-19T11:23:54.709Z"
   },
   {
    "duration": 394,
    "start_time": "2024-06-19T11:23:54.740Z"
   },
   {
    "duration": 241,
    "start_time": "2024-06-19T11:23:55.136Z"
   },
   {
    "duration": 1538,
    "start_time": "2024-06-19T11:23:55.378Z"
   },
   {
    "duration": 257,
    "start_time": "2024-06-19T11:23:56.918Z"
   },
   {
    "duration": 497,
    "start_time": "2024-06-19T11:23:57.177Z"
   },
   {
    "duration": 25,
    "start_time": "2024-06-19T11:23:57.676Z"
   },
   {
    "duration": 7,
    "start_time": "2024-06-19T11:23:57.703Z"
   },
   {
    "duration": 17,
    "start_time": "2024-06-19T11:23:57.712Z"
   },
   {
    "duration": 184,
    "start_time": "2024-06-19T11:23:57.731Z"
   },
   {
    "duration": 125,
    "start_time": "2024-06-19T11:23:57.916Z"
   },
   {
    "duration": 58,
    "start_time": "2024-06-19T11:23:58.044Z"
   },
   {
    "duration": 20,
    "start_time": "2024-06-19T11:23:58.104Z"
   },
   {
    "duration": 28,
    "start_time": "2024-06-19T11:23:58.125Z"
   },
   {
    "duration": 41,
    "start_time": "2024-06-19T11:23:58.155Z"
   },
   {
    "duration": 202,
    "start_time": "2024-06-19T11:23:58.199Z"
   },
   {
    "duration": 36,
    "start_time": "2024-06-19T11:23:58.403Z"
   },
   {
    "duration": 21,
    "start_time": "2024-06-19T11:23:58.441Z"
   },
   {
    "duration": 27,
    "start_time": "2024-06-19T11:23:58.464Z"
   },
   {
    "duration": 17,
    "start_time": "2024-06-19T11:23:58.493Z"
   },
   {
    "duration": 22,
    "start_time": "2024-06-19T11:23:58.511Z"
   },
   {
    "duration": 9,
    "start_time": "2024-06-19T11:23:58.534Z"
   },
   {
    "duration": 10,
    "start_time": "2024-06-19T11:23:58.545Z"
   },
   {
    "duration": 22,
    "start_time": "2024-06-19T11:25:00.106Z"
   },
   {
    "duration": 105,
    "start_time": "2024-06-19T11:25:45.656Z"
   },
   {
    "duration": 442,
    "start_time": "2024-06-19T11:25:54.257Z"
   },
   {
    "duration": 5,
    "start_time": "2024-06-19T11:31:00.469Z"
   },
   {
    "duration": 5,
    "start_time": "2024-06-19T11:31:48.131Z"
   },
   {
    "duration": 56,
    "start_time": "2024-06-19T11:31:58.446Z"
   },
   {
    "duration": 4,
    "start_time": "2024-06-19T11:32:03.607Z"
   },
   {
    "duration": 19,
    "start_time": "2024-06-19T11:34:23.518Z"
   },
   {
    "duration": 14,
    "start_time": "2024-06-19T11:34:49.478Z"
   },
   {
    "duration": 13,
    "start_time": "2024-06-19T11:34:58.316Z"
   },
   {
    "duration": 56,
    "start_time": "2024-06-19T11:37:48.171Z"
   },
   {
    "duration": 421,
    "start_time": "2024-06-19T11:37:55.575Z"
   },
   {
    "duration": 5,
    "start_time": "2024-06-19T11:38:08.091Z"
   },
   {
    "duration": 13,
    "start_time": "2024-06-19T11:38:16.098Z"
   },
   {
    "duration": 161,
    "start_time": "2024-06-19T11:38:48.647Z"
   },
   {
    "duration": 168,
    "start_time": "2024-06-19T11:39:01.698Z"
   },
   {
    "duration": 182,
    "start_time": "2024-06-19T11:39:17.450Z"
   },
   {
    "duration": 186,
    "start_time": "2024-06-19T11:40:39.027Z"
   },
   {
    "duration": 184,
    "start_time": "2024-06-19T11:40:52.812Z"
   },
   {
    "duration": 189,
    "start_time": "2024-06-19T11:40:57.016Z"
   },
   {
    "duration": 189,
    "start_time": "2024-06-19T11:41:00.760Z"
   },
   {
    "duration": 176,
    "start_time": "2024-06-19T11:42:25.411Z"
   },
   {
    "duration": 180,
    "start_time": "2024-06-19T11:43:07.007Z"
   },
   {
    "duration": 190,
    "start_time": "2024-06-19T11:43:47.425Z"
   },
   {
    "duration": 194,
    "start_time": "2024-06-19T11:44:22.031Z"
   },
   {
    "duration": 189,
    "start_time": "2024-06-19T11:44:32.251Z"
   },
   {
    "duration": 198,
    "start_time": "2024-06-19T11:44:41.554Z"
   },
   {
    "duration": 297,
    "start_time": "2024-06-19T11:44:53.699Z"
   },
   {
    "duration": 188,
    "start_time": "2024-06-19T11:45:05.039Z"
   },
   {
    "duration": 251,
    "start_time": "2024-06-19T11:45:31.946Z"
   },
   {
    "duration": 218,
    "start_time": "2024-06-19T11:45:56.498Z"
   },
   {
    "duration": 216,
    "start_time": "2024-06-19T11:46:12.272Z"
   },
   {
    "duration": 226,
    "start_time": "2024-06-19T11:46:21.220Z"
   },
   {
    "duration": 232,
    "start_time": "2024-06-19T11:46:29.940Z"
   },
   {
    "duration": 24,
    "start_time": "2024-06-19T11:47:42.432Z"
   },
   {
    "duration": 6,
    "start_time": "2024-06-19T11:48:10.745Z"
   },
   {
    "duration": 6,
    "start_time": "2024-06-19T11:48:19.294Z"
   },
   {
    "duration": 217,
    "start_time": "2024-06-19T11:48:33.559Z"
   },
   {
    "duration": 200,
    "start_time": "2024-06-19T11:49:14.272Z"
   },
   {
    "duration": 241,
    "start_time": "2024-06-19T11:49:35.449Z"
   },
   {
    "duration": 57,
    "start_time": "2024-06-19T11:53:01.336Z"
   },
   {
    "duration": 28,
    "start_time": "2024-06-19T11:53:07.424Z"
   },
   {
    "duration": 193,
    "start_time": "2024-06-19T11:57:29.578Z"
   },
   {
    "duration": 290,
    "start_time": "2024-06-19T11:57:51.865Z"
   },
   {
    "duration": 323,
    "start_time": "2024-06-19T11:58:17.275Z"
   },
   {
    "duration": 16,
    "start_time": "2024-06-19T11:59:50.087Z"
   },
   {
    "duration": 520,
    "start_time": "2024-06-19T11:59:53.860Z"
   },
   {
    "duration": 332,
    "start_time": "2024-06-19T12:00:39.635Z"
   },
   {
    "duration": 390,
    "start_time": "2024-06-19T12:01:06.267Z"
   },
   {
    "duration": 467,
    "start_time": "2024-06-19T12:03:13.364Z"
   },
   {
    "duration": 488,
    "start_time": "2024-06-19T12:04:46.798Z"
   },
   {
    "duration": 475,
    "start_time": "2024-06-19T12:04:54.420Z"
   },
   {
    "duration": 446,
    "start_time": "2024-06-19T12:09:24.530Z"
   },
   {
    "duration": 398,
    "start_time": "2024-06-19T12:09:31.823Z"
   },
   {
    "duration": 431,
    "start_time": "2024-06-19T12:09:49.265Z"
   },
   {
    "duration": 374,
    "start_time": "2024-06-19T12:09:56.880Z"
   },
   {
    "duration": 379,
    "start_time": "2024-06-19T12:10:05.500Z"
   },
   {
    "duration": 58,
    "start_time": "2024-06-19T12:10:40.068Z"
   },
   {
    "duration": 178,
    "start_time": "2024-06-19T12:10:52.885Z"
   },
   {
    "duration": 380,
    "start_time": "2024-06-19T12:11:05.340Z"
   },
   {
    "duration": 375,
    "start_time": "2024-06-19T12:11:14.124Z"
   },
   {
    "duration": 506,
    "start_time": "2024-06-19T12:11:28.047Z"
   },
   {
    "duration": 27,
    "start_time": "2024-06-19T12:13:37.336Z"
   },
   {
    "duration": 453,
    "start_time": "2024-06-19T12:15:47.828Z"
   },
   {
    "duration": 360,
    "start_time": "2024-06-19T12:15:58.584Z"
   },
   {
    "duration": 406,
    "start_time": "2024-06-19T12:16:09.736Z"
   },
   {
    "duration": 400,
    "start_time": "2024-06-19T12:16:16.217Z"
   },
   {
    "duration": 182,
    "start_time": "2024-06-19T12:16:33.737Z"
   },
   {
    "duration": 506,
    "start_time": "2024-06-19T12:16:45.024Z"
   },
   {
    "duration": 64,
    "start_time": "2024-06-19T12:16:52.928Z"
   },
   {
    "duration": 409,
    "start_time": "2024-06-19T12:16:58.868Z"
   },
   {
    "duration": 388,
    "start_time": "2024-06-19T12:17:07.487Z"
   },
   {
    "duration": 384,
    "start_time": "2024-06-19T12:18:41.285Z"
   },
   {
    "duration": 397,
    "start_time": "2024-06-19T12:18:46.834Z"
   },
   {
    "duration": 417,
    "start_time": "2024-06-19T12:18:52.066Z"
   },
   {
    "duration": 303,
    "start_time": "2024-06-19T12:19:57.053Z"
   },
   {
    "duration": 175,
    "start_time": "2024-06-19T12:20:23.625Z"
   },
   {
    "duration": 179,
    "start_time": "2024-06-19T12:20:28.905Z"
   },
   {
    "duration": 364,
    "start_time": "2024-06-19T12:20:36.205Z"
   },
   {
    "duration": 378,
    "start_time": "2024-06-19T12:21:13.373Z"
   },
   {
    "duration": 25,
    "start_time": "2024-06-19T12:21:53.251Z"
   },
   {
    "duration": 408,
    "start_time": "2024-06-19T12:22:17.531Z"
   },
   {
    "duration": 35,
    "start_time": "2024-06-19T12:22:26.323Z"
   },
   {
    "duration": 431,
    "start_time": "2024-06-19T12:22:29.002Z"
   },
   {
    "duration": 25,
    "start_time": "2024-06-19T12:22:36.659Z"
   },
   {
    "duration": 498,
    "start_time": "2024-06-19T12:22:48.623Z"
   },
   {
    "duration": 426,
    "start_time": "2024-06-19T12:22:55.740Z"
   },
   {
    "duration": 395,
    "start_time": "2024-06-19T12:23:02.952Z"
   },
   {
    "duration": 24,
    "start_time": "2024-06-19T12:23:18.372Z"
   },
   {
    "duration": 23,
    "start_time": "2024-06-19T12:23:33.511Z"
   },
   {
    "duration": 24,
    "start_time": "2024-06-19T12:23:50.899Z"
   },
   {
    "duration": 396,
    "start_time": "2024-06-19T12:36:22.464Z"
   },
   {
    "duration": 391,
    "start_time": "2024-06-19T12:36:29.081Z"
   },
   {
    "duration": 408,
    "start_time": "2024-06-19T12:36:35.134Z"
   },
   {
    "duration": 532,
    "start_time": "2024-06-19T12:36:46.144Z"
   },
   {
    "duration": 393,
    "start_time": "2024-06-19T12:36:52.971Z"
   },
   {
    "duration": 393,
    "start_time": "2024-06-19T12:37:29.118Z"
   },
   {
    "duration": 25,
    "start_time": "2024-06-19T12:37:33.813Z"
   },
   {
    "duration": 392,
    "start_time": "2024-06-19T12:37:49.413Z"
   },
   {
    "duration": 405,
    "start_time": "2024-06-19T12:37:56.645Z"
   },
   {
    "duration": 26,
    "start_time": "2024-06-19T12:38:01.903Z"
   },
   {
    "duration": 490,
    "start_time": "2024-06-19T12:38:17.253Z"
   },
   {
    "duration": 404,
    "start_time": "2024-06-19T12:38:23.445Z"
   },
   {
    "duration": 384,
    "start_time": "2024-06-19T12:38:33.068Z"
   },
   {
    "duration": 370,
    "start_time": "2024-06-19T12:38:44.021Z"
   },
   {
    "duration": 383,
    "start_time": "2024-06-19T12:38:50.116Z"
   },
   {
    "duration": 552,
    "start_time": "2024-06-19T12:39:00.665Z"
   },
   {
    "duration": 381,
    "start_time": "2024-06-19T12:39:06.895Z"
   },
   {
    "duration": 390,
    "start_time": "2024-06-19T12:39:23.560Z"
   },
   {
    "duration": 359,
    "start_time": "2024-06-19T12:39:43.580Z"
   },
   {
    "duration": 397,
    "start_time": "2024-06-19T12:39:53.581Z"
   },
   {
    "duration": 389,
    "start_time": "2024-06-19T12:40:02.639Z"
   },
   {
    "duration": 557,
    "start_time": "2024-06-19T12:40:29.814Z"
   },
   {
    "duration": 14,
    "start_time": "2024-06-19T12:42:32.892Z"
   },
   {
    "duration": 20,
    "start_time": "2024-06-19T12:42:46.030Z"
   },
   {
    "duration": 12,
    "start_time": "2024-06-19T12:52:45.904Z"
   },
   {
    "duration": 1120,
    "start_time": "2024-06-19T12:54:53.509Z"
   },
   {
    "duration": 7,
    "start_time": "2024-06-19T12:55:12.182Z"
   },
   {
    "duration": 4,
    "start_time": "2024-06-19T13:06:41.185Z"
   },
   {
    "duration": 55,
    "start_time": "2024-06-19T13:07:48.948Z"
   },
   {
    "duration": 14,
    "start_time": "2024-06-19T13:07:57.179Z"
   },
   {
    "duration": 1104,
    "start_time": "2024-06-19T13:08:23.278Z"
   },
   {
    "duration": 4,
    "start_time": "2024-06-19T13:08:47.472Z"
   },
   {
    "duration": 956,
    "start_time": "2024-06-19T13:08:49.551Z"
   },
   {
    "duration": 2502,
    "start_time": "2024-06-19T13:11:03.152Z"
   },
   {
    "duration": 1211,
    "start_time": "2024-06-19T13:11:39.736Z"
   },
   {
    "duration": 108,
    "start_time": "2024-06-19T13:11:40.949Z"
   },
   {
    "duration": 7,
    "start_time": "2024-06-19T13:11:41.059Z"
   },
   {
    "duration": 180,
    "start_time": "2024-06-19T13:11:41.068Z"
   },
   {
    "duration": 57,
    "start_time": "2024-06-19T13:11:41.250Z"
   },
   {
    "duration": 35,
    "start_time": "2024-06-19T13:11:41.308Z"
   },
   {
    "duration": 49,
    "start_time": "2024-06-19T13:11:41.345Z"
   },
   {
    "duration": 69,
    "start_time": "2024-06-19T13:11:41.396Z"
   },
   {
    "duration": 62,
    "start_time": "2024-06-19T13:11:41.467Z"
   },
   {
    "duration": 16,
    "start_time": "2024-06-19T13:11:41.531Z"
   },
   {
    "duration": 45,
    "start_time": "2024-06-19T13:11:41.549Z"
   },
   {
    "duration": 13,
    "start_time": "2024-06-19T13:11:41.596Z"
   },
   {
    "duration": 22,
    "start_time": "2024-06-19T13:11:41.611Z"
   },
   {
    "duration": 64,
    "start_time": "2024-06-19T13:11:41.635Z"
   },
   {
    "duration": 17,
    "start_time": "2024-06-19T13:11:41.701Z"
   },
   {
    "duration": 23,
    "start_time": "2024-06-19T13:11:41.720Z"
   },
   {
    "duration": 19,
    "start_time": "2024-06-19T13:11:41.745Z"
   },
   {
    "duration": 43,
    "start_time": "2024-06-19T13:11:41.765Z"
   },
   {
    "duration": 449,
    "start_time": "2024-06-19T13:11:41.809Z"
   },
   {
    "duration": 248,
    "start_time": "2024-06-19T13:11:42.260Z"
   },
   {
    "duration": 1619,
    "start_time": "2024-06-19T13:11:42.510Z"
   },
   {
    "duration": 263,
    "start_time": "2024-06-19T13:11:44.131Z"
   },
   {
    "duration": 499,
    "start_time": "2024-06-19T13:11:44.395Z"
   },
   {
    "duration": 21,
    "start_time": "2024-06-19T13:11:44.895Z"
   },
   {
    "duration": 9,
    "start_time": "2024-06-19T13:11:44.919Z"
   },
   {
    "duration": 21,
    "start_time": "2024-06-19T13:11:44.930Z"
   },
   {
    "duration": 200,
    "start_time": "2024-06-19T13:11:44.953Z"
   },
   {
    "duration": 150,
    "start_time": "2024-06-19T13:11:45.158Z"
   },
   {
    "duration": 54,
    "start_time": "2024-06-19T13:11:45.309Z"
   },
   {
    "duration": 47,
    "start_time": "2024-06-19T13:11:45.365Z"
   },
   {
    "duration": 24,
    "start_time": "2024-06-19T13:11:45.415Z"
   },
   {
    "duration": 43,
    "start_time": "2024-06-19T13:11:45.441Z"
   },
   {
    "duration": 180,
    "start_time": "2024-06-19T13:11:45.486Z"
   },
   {
    "duration": 31,
    "start_time": "2024-06-19T13:11:45.667Z"
   },
   {
    "duration": 13,
    "start_time": "2024-06-19T13:11:45.700Z"
   },
   {
    "duration": 24,
    "start_time": "2024-06-19T13:11:45.715Z"
   },
   {
    "duration": 25,
    "start_time": "2024-06-19T13:11:45.741Z"
   },
   {
    "duration": 32,
    "start_time": "2024-06-19T13:11:45.768Z"
   },
   {
    "duration": 4,
    "start_time": "2024-06-19T13:11:45.801Z"
   },
   {
    "duration": 459,
    "start_time": "2024-06-19T13:11:45.806Z"
   },
   {
    "duration": 4,
    "start_time": "2024-06-19T13:11:46.266Z"
   },
   {
    "duration": 278,
    "start_time": "2024-06-19T13:11:46.272Z"
   },
   {
    "duration": 112,
    "start_time": "2024-06-19T13:11:46.552Z"
   },
   {
    "duration": 0,
    "start_time": "2024-06-19T13:11:46.666Z"
   },
   {
    "duration": 0,
    "start_time": "2024-06-19T13:11:46.668Z"
   },
   {
    "duration": 0,
    "start_time": "2024-06-19T13:11:46.669Z"
   },
   {
    "duration": 0,
    "start_time": "2024-06-19T13:11:46.671Z"
   },
   {
    "duration": 437,
    "start_time": "2024-06-19T13:12:41.868Z"
   },
   {
    "duration": 10,
    "start_time": "2024-06-19T13:12:43.210Z"
   },
   {
    "duration": 11,
    "start_time": "2024-06-19T13:12:43.919Z"
   },
   {
    "duration": 4,
    "start_time": "2024-06-19T13:12:44.827Z"
   },
   {
    "duration": 2446,
    "start_time": "2024-06-19T13:12:45.850Z"
   },
   {
    "duration": 15,
    "start_time": "2024-06-19T13:15:40.601Z"
   },
   {
    "duration": 5,
    "start_time": "2024-06-19T13:15:57.367Z"
   },
   {
    "duration": 9,
    "start_time": "2024-06-19T13:16:05.873Z"
   },
   {
    "duration": 2733,
    "start_time": "2024-06-19T13:17:38.825Z"
   },
   {
    "duration": 5,
    "start_time": "2024-06-19T13:22:49.047Z"
   },
   {
    "duration": 6,
    "start_time": "2024-06-19T13:26:27.651Z"
   },
   {
    "duration": 10,
    "start_time": "2024-06-19T13:26:34.044Z"
   },
   {
    "duration": 2558,
    "start_time": "2024-06-19T13:27:42.331Z"
   },
   {
    "duration": 28,
    "start_time": "2024-06-19T13:28:00.287Z"
   },
   {
    "duration": 7,
    "start_time": "2024-06-19T13:28:33.222Z"
   },
   {
    "duration": 7,
    "start_time": "2024-06-19T13:28:52.401Z"
   },
   {
    "duration": 31,
    "start_time": "2024-06-19T13:29:29.880Z"
   },
   {
    "duration": 2487,
    "start_time": "2024-06-19T13:30:40.116Z"
   },
   {
    "duration": 2387,
    "start_time": "2024-06-19T13:30:46.521Z"
   },
   {
    "duration": 27,
    "start_time": "2024-06-19T13:40:56.622Z"
   },
   {
    "duration": 21,
    "start_time": "2024-06-19T13:41:53.130Z"
   },
   {
    "duration": 29,
    "start_time": "2024-06-19T13:42:13.552Z"
   },
   {
    "duration": 8,
    "start_time": "2024-06-19T14:14:26.830Z"
   },
   {
    "duration": 6,
    "start_time": "2024-06-19T14:15:10.482Z"
   },
   {
    "duration": 35,
    "start_time": "2024-06-19T14:15:33.718Z"
   },
   {
    "duration": 28,
    "start_time": "2024-06-19T14:17:25.878Z"
   },
   {
    "duration": 44,
    "start_time": "2024-06-19T14:17:59.870Z"
   },
   {
    "duration": 27,
    "start_time": "2024-06-19T14:18:32.492Z"
   },
   {
    "duration": 29,
    "start_time": "2024-06-19T14:21:09.612Z"
   },
   {
    "duration": 4,
    "start_time": "2024-06-19T14:21:10.320Z"
   },
   {
    "duration": 20,
    "start_time": "2024-06-19T14:21:24.820Z"
   },
   {
    "duration": 27,
    "start_time": "2024-06-19T14:23:20.123Z"
   },
   {
    "duration": 1286,
    "start_time": "2024-06-19T14:25:45.155Z"
   },
   {
    "duration": 103,
    "start_time": "2024-06-19T14:25:46.443Z"
   },
   {
    "duration": 6,
    "start_time": "2024-06-19T14:25:46.548Z"
   },
   {
    "duration": 163,
    "start_time": "2024-06-19T14:25:46.555Z"
   },
   {
    "duration": 38,
    "start_time": "2024-06-19T14:25:46.720Z"
   },
   {
    "duration": 57,
    "start_time": "2024-06-19T14:25:46.791Z"
   },
   {
    "duration": 49,
    "start_time": "2024-06-19T14:25:46.850Z"
   },
   {
    "duration": 92,
    "start_time": "2024-06-19T14:25:46.901Z"
   },
   {
    "duration": 47,
    "start_time": "2024-06-19T14:25:46.995Z"
   },
   {
    "duration": 17,
    "start_time": "2024-06-19T14:25:47.044Z"
   },
   {
    "duration": 57,
    "start_time": "2024-06-19T14:25:47.063Z"
   },
   {
    "duration": 26,
    "start_time": "2024-06-19T14:25:47.122Z"
   },
   {
    "duration": 23,
    "start_time": "2024-06-19T14:25:47.151Z"
   },
   {
    "duration": 48,
    "start_time": "2024-06-19T14:25:47.177Z"
   },
   {
    "duration": 13,
    "start_time": "2024-06-19T14:25:47.227Z"
   },
   {
    "duration": 15,
    "start_time": "2024-06-19T14:25:47.241Z"
   },
   {
    "duration": 13,
    "start_time": "2024-06-19T14:25:47.257Z"
   },
   {
    "duration": 37,
    "start_time": "2024-06-19T14:25:47.271Z"
   },
   {
    "duration": 430,
    "start_time": "2024-06-19T14:25:47.310Z"
   },
   {
    "duration": 257,
    "start_time": "2024-06-19T14:25:47.742Z"
   },
   {
    "duration": 1637,
    "start_time": "2024-06-19T14:25:48.001Z"
   },
   {
    "duration": 284,
    "start_time": "2024-06-19T14:25:49.640Z"
   },
   {
    "duration": 522,
    "start_time": "2024-06-19T14:25:49.926Z"
   },
   {
    "duration": 19,
    "start_time": "2024-06-19T14:25:50.450Z"
   },
   {
    "duration": 25,
    "start_time": "2024-06-19T14:25:50.471Z"
   },
   {
    "duration": 15,
    "start_time": "2024-06-19T14:25:50.498Z"
   },
   {
    "duration": 156,
    "start_time": "2024-06-19T14:25:50.515Z"
   },
   {
    "duration": 128,
    "start_time": "2024-06-19T14:25:50.672Z"
   },
   {
    "duration": 48,
    "start_time": "2024-06-19T14:25:50.802Z"
   },
   {
    "duration": 45,
    "start_time": "2024-06-19T14:25:50.852Z"
   },
   {
    "duration": 14,
    "start_time": "2024-06-19T14:25:50.899Z"
   },
   {
    "duration": 35,
    "start_time": "2024-06-19T14:25:50.914Z"
   },
   {
    "duration": 202,
    "start_time": "2024-06-19T14:25:50.950Z"
   },
   {
    "duration": 43,
    "start_time": "2024-06-19T14:25:51.154Z"
   },
   {
    "duration": 18,
    "start_time": "2024-06-19T14:25:51.199Z"
   },
   {
    "duration": 32,
    "start_time": "2024-06-19T14:25:51.219Z"
   },
   {
    "duration": 45,
    "start_time": "2024-06-19T14:25:51.253Z"
   },
   {
    "duration": 32,
    "start_time": "2024-06-19T14:25:51.300Z"
   },
   {
    "duration": 5,
    "start_time": "2024-06-19T14:25:51.335Z"
   },
   {
    "duration": 443,
    "start_time": "2024-06-19T14:25:51.341Z"
   },
   {
    "duration": 5,
    "start_time": "2024-06-19T14:25:51.790Z"
   },
   {
    "duration": 269,
    "start_time": "2024-06-19T14:25:51.798Z"
   },
   {
    "duration": 451,
    "start_time": "2024-06-19T14:25:52.069Z"
   },
   {
    "duration": 9,
    "start_time": "2024-06-19T14:25:52.521Z"
   },
   {
    "duration": 54,
    "start_time": "2024-06-19T14:25:52.532Z"
   },
   {
    "duration": 19,
    "start_time": "2024-06-19T14:25:52.588Z"
   },
   {
    "duration": 2439,
    "start_time": "2024-06-19T14:25:52.609Z"
   },
   {
    "duration": 31,
    "start_time": "2024-06-19T14:25:55.049Z"
   },
   {
    "duration": 19,
    "start_time": "2024-06-19T14:25:55.091Z"
   },
   {
    "duration": 20,
    "start_time": "2024-06-19T14:25:55.111Z"
   },
   {
    "duration": 9,
    "start_time": "2024-06-19T14:26:58.153Z"
   },
   {
    "duration": 5,
    "start_time": "2024-06-19T14:28:03.623Z"
   },
   {
    "duration": 76,
    "start_time": "2024-06-19T14:45:20.861Z"
   },
   {
    "duration": 21,
    "start_time": "2024-06-19T14:45:32.897Z"
   },
   {
    "duration": 5,
    "start_time": "2024-06-19T14:49:05.086Z"
   },
   {
    "duration": 15,
    "start_time": "2024-06-19T14:49:07.643Z"
   },
   {
    "duration": 15,
    "start_time": "2024-06-19T14:49:40.752Z"
   },
   {
    "duration": 64,
    "start_time": "2024-06-19T14:51:09.828Z"
   },
   {
    "duration": 2,
    "start_time": "2024-06-19T14:51:25.799Z"
   },
   {
    "duration": 15,
    "start_time": "2024-06-19T14:53:21.439Z"
   },
   {
    "duration": 64,
    "start_time": "2024-06-19T14:53:49.189Z"
   },
   {
    "duration": 41,
    "start_time": "2024-06-19T14:55:39.855Z"
   },
   {
    "duration": 72,
    "start_time": "2024-06-19T14:57:25.172Z"
   },
   {
    "duration": 53,
    "start_time": "2024-06-19T14:59:23.759Z"
   },
   {
    "duration": 37,
    "start_time": "2024-06-19T15:05:06.200Z"
   },
   {
    "duration": 30,
    "start_time": "2024-06-19T15:06:06.428Z"
   },
   {
    "duration": 39,
    "start_time": "2024-06-19T15:06:32.517Z"
   },
   {
    "duration": 1247,
    "start_time": "2024-06-19T15:06:49.208Z"
   },
   {
    "duration": 105,
    "start_time": "2024-06-19T15:06:50.458Z"
   },
   {
    "duration": 7,
    "start_time": "2024-06-19T15:06:50.564Z"
   },
   {
    "duration": 177,
    "start_time": "2024-06-19T15:06:50.574Z"
   },
   {
    "duration": 51,
    "start_time": "2024-06-19T15:06:50.753Z"
   },
   {
    "duration": 35,
    "start_time": "2024-06-19T15:06:50.805Z"
   },
   {
    "duration": 59,
    "start_time": "2024-06-19T15:06:50.842Z"
   },
   {
    "duration": 69,
    "start_time": "2024-06-19T15:06:50.902Z"
   },
   {
    "duration": 59,
    "start_time": "2024-06-19T15:06:50.973Z"
   },
   {
    "duration": 14,
    "start_time": "2024-06-19T15:06:51.034Z"
   },
   {
    "duration": 25,
    "start_time": "2024-06-19T15:06:51.049Z"
   },
   {
    "duration": 13,
    "start_time": "2024-06-19T15:06:51.092Z"
   },
   {
    "duration": 20,
    "start_time": "2024-06-19T15:06:51.107Z"
   },
   {
    "duration": 64,
    "start_time": "2024-06-19T15:06:51.129Z"
   },
   {
    "duration": 15,
    "start_time": "2024-06-19T15:06:51.195Z"
   },
   {
    "duration": 14,
    "start_time": "2024-06-19T15:06:51.212Z"
   },
   {
    "duration": 4,
    "start_time": "2024-06-19T15:06:51.229Z"
   },
   {
    "duration": 21,
    "start_time": "2024-06-19T15:06:51.235Z"
   },
   {
    "duration": 437,
    "start_time": "2024-06-19T15:06:51.257Z"
   },
   {
    "duration": 250,
    "start_time": "2024-06-19T15:06:51.696Z"
   },
   {
    "duration": 1540,
    "start_time": "2024-06-19T15:06:51.948Z"
   },
   {
    "duration": 257,
    "start_time": "2024-06-19T15:06:53.490Z"
   },
   {
    "duration": 521,
    "start_time": "2024-06-19T15:06:53.749Z"
   },
   {
    "duration": 23,
    "start_time": "2024-06-19T15:06:54.272Z"
   },
   {
    "duration": 7,
    "start_time": "2024-06-19T15:06:54.296Z"
   },
   {
    "duration": 28,
    "start_time": "2024-06-19T15:06:54.304Z"
   },
   {
    "duration": 122,
    "start_time": "2024-06-19T15:06:54.334Z"
   },
   {
    "duration": 130,
    "start_time": "2024-06-19T15:06:54.493Z"
   },
   {
    "duration": 107,
    "start_time": "2024-06-19T15:06:54.624Z"
   },
   {
    "duration": 19,
    "start_time": "2024-06-19T15:06:54.732Z"
   },
   {
    "duration": 13,
    "start_time": "2024-06-19T15:06:54.752Z"
   },
   {
    "duration": 26,
    "start_time": "2024-06-19T15:06:54.792Z"
   },
   {
    "duration": 178,
    "start_time": "2024-06-19T15:06:54.820Z"
   },
   {
    "duration": 28,
    "start_time": "2024-06-19T15:06:55.000Z"
   },
   {
    "duration": 15,
    "start_time": "2024-06-19T15:06:55.030Z"
   },
   {
    "duration": 21,
    "start_time": "2024-06-19T15:06:55.046Z"
   },
   {
    "duration": 13,
    "start_time": "2024-06-19T15:06:55.092Z"
   },
   {
    "duration": 28,
    "start_time": "2024-06-19T15:06:55.107Z"
   },
   {
    "duration": 4,
    "start_time": "2024-06-19T15:06:55.138Z"
   },
   {
    "duration": 423,
    "start_time": "2024-06-19T15:06:55.143Z"
   },
   {
    "duration": 4,
    "start_time": "2024-06-19T15:06:55.567Z"
   },
   {
    "duration": 229,
    "start_time": "2024-06-19T15:06:55.572Z"
   },
   {
    "duration": 400,
    "start_time": "2024-06-19T15:06:55.803Z"
   },
   {
    "duration": 8,
    "start_time": "2024-06-19T15:06:56.205Z"
   },
   {
    "duration": 12,
    "start_time": "2024-06-19T15:06:56.215Z"
   },
   {
    "duration": 5,
    "start_time": "2024-06-19T15:06:56.228Z"
   },
   {
    "duration": 2443,
    "start_time": "2024-06-19T15:06:56.235Z"
   },
   {
    "duration": 2,
    "start_time": "2024-06-19T15:06:58.679Z"
   },
   {
    "duration": 61,
    "start_time": "2024-06-19T15:06:58.683Z"
   },
   {
    "duration": 17,
    "start_time": "2024-06-19T15:06:58.745Z"
   },
   {
    "duration": 28,
    "start_time": "2024-06-19T15:06:58.764Z"
   },
   {
    "duration": 57,
    "start_time": "2024-06-19T15:06:58.793Z"
   },
   {
    "duration": 60,
    "start_time": "2024-06-19T15:07:55.822Z"
   },
   {
    "duration": 14,
    "start_time": "2024-06-19T15:07:58.663Z"
   },
   {
    "duration": 27,
    "start_time": "2024-06-19T15:08:46.929Z"
   },
   {
    "duration": 1179,
    "start_time": "2024-06-19T15:09:19.860Z"
   },
   {
    "duration": 15,
    "start_time": "2024-06-19T15:09:42.437Z"
   },
   {
    "duration": 26,
    "start_time": "2024-06-19T15:10:13.452Z"
   },
   {
    "duration": 15,
    "start_time": "2024-06-19T15:10:20.839Z"
   },
   {
    "duration": 16,
    "start_time": "2024-06-19T15:10:28.923Z"
   },
   {
    "duration": 39,
    "start_time": "2024-06-19T15:10:36.967Z"
   },
   {
    "duration": 29,
    "start_time": "2024-06-19T15:20:23.532Z"
   },
   {
    "duration": 15,
    "start_time": "2024-06-19T15:24:10.547Z"
   },
   {
    "duration": 17,
    "start_time": "2024-06-19T15:24:21.670Z"
   },
   {
    "duration": 13,
    "start_time": "2024-06-19T15:25:10.768Z"
   },
   {
    "duration": 1325,
    "start_time": "2024-06-19T15:25:30.512Z"
   },
   {
    "duration": 107,
    "start_time": "2024-06-19T15:25:31.839Z"
   },
   {
    "duration": 6,
    "start_time": "2024-06-19T15:25:31.948Z"
   },
   {
    "duration": 212,
    "start_time": "2024-06-19T15:25:31.956Z"
   },
   {
    "duration": 47,
    "start_time": "2024-06-19T15:25:32.170Z"
   },
   {
    "duration": 36,
    "start_time": "2024-06-19T15:25:32.219Z"
   },
   {
    "duration": 62,
    "start_time": "2024-06-19T15:25:32.257Z"
   },
   {
    "duration": 97,
    "start_time": "2024-06-19T15:25:32.321Z"
   },
   {
    "duration": 46,
    "start_time": "2024-06-19T15:25:32.419Z"
   },
   {
    "duration": 27,
    "start_time": "2024-06-19T15:25:32.467Z"
   },
   {
    "duration": 34,
    "start_time": "2024-06-19T15:25:32.495Z"
   },
   {
    "duration": 14,
    "start_time": "2024-06-19T15:25:32.532Z"
   },
   {
    "duration": 46,
    "start_time": "2024-06-19T15:25:32.548Z"
   },
   {
    "duration": 43,
    "start_time": "2024-06-19T15:25:32.597Z"
   },
   {
    "duration": 13,
    "start_time": "2024-06-19T15:25:32.642Z"
   },
   {
    "duration": 36,
    "start_time": "2024-06-19T15:25:32.656Z"
   },
   {
    "duration": 5,
    "start_time": "2024-06-19T15:25:32.694Z"
   },
   {
    "duration": 18,
    "start_time": "2024-06-19T15:25:32.701Z"
   },
   {
    "duration": 407,
    "start_time": "2024-06-19T15:25:32.721Z"
   },
   {
    "duration": 271,
    "start_time": "2024-06-19T15:25:33.130Z"
   },
   {
    "duration": 1581,
    "start_time": "2024-06-19T15:25:33.402Z"
   },
   {
    "duration": 235,
    "start_time": "2024-06-19T15:25:34.984Z"
   },
   {
    "duration": 487,
    "start_time": "2024-06-19T15:25:35.221Z"
   },
   {
    "duration": 20,
    "start_time": "2024-06-19T15:25:35.709Z"
   },
   {
    "duration": 8,
    "start_time": "2024-06-19T15:25:35.730Z"
   },
   {
    "duration": 17,
    "start_time": "2024-06-19T15:25:35.740Z"
   },
   {
    "duration": 163,
    "start_time": "2024-06-19T15:25:35.759Z"
   },
   {
    "duration": 117,
    "start_time": "2024-06-19T15:25:35.924Z"
   },
   {
    "duration": 54,
    "start_time": "2024-06-19T15:25:36.043Z"
   },
   {
    "duration": 18,
    "start_time": "2024-06-19T15:25:36.098Z"
   },
   {
    "duration": 10,
    "start_time": "2024-06-19T15:25:36.118Z"
   },
   {
    "duration": 24,
    "start_time": "2024-06-19T15:25:36.130Z"
   },
   {
    "duration": 186,
    "start_time": "2024-06-19T15:25:36.156Z"
   },
   {
    "duration": 21,
    "start_time": "2024-06-19T15:25:36.343Z"
   },
   {
    "duration": 30,
    "start_time": "2024-06-19T15:25:36.365Z"
   },
   {
    "duration": 22,
    "start_time": "2024-06-19T15:25:36.396Z"
   },
   {
    "duration": 12,
    "start_time": "2024-06-19T15:25:36.420Z"
   },
   {
    "duration": 23,
    "start_time": "2024-06-19T15:25:36.434Z"
   },
   {
    "duration": 4,
    "start_time": "2024-06-19T15:25:36.458Z"
   },
   {
    "duration": 427,
    "start_time": "2024-06-19T15:25:36.464Z"
   },
   {
    "duration": 4,
    "start_time": "2024-06-19T15:25:36.895Z"
   },
   {
    "duration": 235,
    "start_time": "2024-06-19T15:25:36.900Z"
   },
   {
    "duration": 391,
    "start_time": "2024-06-19T15:25:37.137Z"
   },
   {
    "duration": 8,
    "start_time": "2024-06-19T15:25:37.530Z"
   },
   {
    "duration": 30,
    "start_time": "2024-06-19T15:25:37.540Z"
   },
   {
    "duration": 26,
    "start_time": "2024-06-19T15:25:37.571Z"
   },
   {
    "duration": 2416,
    "start_time": "2024-06-19T15:25:37.599Z"
   },
   {
    "duration": 3,
    "start_time": "2024-06-19T15:25:40.018Z"
   },
   {
    "duration": 73,
    "start_time": "2024-06-19T15:25:40.023Z"
   },
   {
    "duration": 20,
    "start_time": "2024-06-19T15:25:40.098Z"
   },
   {
    "duration": 36,
    "start_time": "2024-06-19T15:25:40.120Z"
   },
   {
    "duration": 52,
    "start_time": "2024-06-19T15:25:40.157Z"
   },
   {
    "duration": 16,
    "start_time": "2024-06-19T15:25:40.211Z"
   },
   {
    "duration": 4,
    "start_time": "2024-06-19T15:30:52.140Z"
   },
   {
    "duration": 26,
    "start_time": "2024-06-19T15:31:52.218Z"
   },
   {
    "duration": 26,
    "start_time": "2024-06-19T15:32:17.850Z"
   },
   {
    "duration": 12,
    "start_time": "2024-06-19T15:33:02.022Z"
   },
   {
    "duration": 103,
    "start_time": "2024-06-19T15:33:41.793Z"
   },
   {
    "duration": 10,
    "start_time": "2024-06-19T15:33:52.837Z"
   },
   {
    "duration": 15,
    "start_time": "2024-06-19T15:34:26.798Z"
   },
   {
    "duration": 24,
    "start_time": "2024-06-19T15:43:28.038Z"
   },
   {
    "duration": 1239,
    "start_time": "2024-06-19T15:43:36.076Z"
   },
   {
    "duration": 104,
    "start_time": "2024-06-19T15:43:37.317Z"
   },
   {
    "duration": 6,
    "start_time": "2024-06-19T15:43:37.422Z"
   },
   {
    "duration": 150,
    "start_time": "2024-06-19T15:43:37.430Z"
   },
   {
    "duration": 42,
    "start_time": "2024-06-19T15:43:37.582Z"
   },
   {
    "duration": 35,
    "start_time": "2024-06-19T15:43:37.626Z"
   },
   {
    "duration": 56,
    "start_time": "2024-06-19T15:43:37.663Z"
   },
   {
    "duration": 90,
    "start_time": "2024-06-19T15:43:37.721Z"
   },
   {
    "duration": 43,
    "start_time": "2024-06-19T15:43:37.813Z"
   },
   {
    "duration": 14,
    "start_time": "2024-06-19T15:43:37.858Z"
   },
   {
    "duration": 21,
    "start_time": "2024-06-19T15:43:37.892Z"
   },
   {
    "duration": 14,
    "start_time": "2024-06-19T15:43:37.914Z"
   },
   {
    "duration": 26,
    "start_time": "2024-06-19T15:43:37.930Z"
   },
   {
    "duration": 72,
    "start_time": "2024-06-19T15:43:37.960Z"
   },
   {
    "duration": 13,
    "start_time": "2024-06-19T15:43:38.034Z"
   },
   {
    "duration": 12,
    "start_time": "2024-06-19T15:43:38.048Z"
   },
   {
    "duration": 34,
    "start_time": "2024-06-19T15:43:38.061Z"
   },
   {
    "duration": 20,
    "start_time": "2024-06-19T15:43:38.096Z"
   },
   {
    "duration": 377,
    "start_time": "2024-06-19T15:43:38.118Z"
   },
   {
    "duration": 229,
    "start_time": "2024-06-19T15:43:38.497Z"
   },
   {
    "duration": 1531,
    "start_time": "2024-06-19T15:43:38.727Z"
   },
   {
    "duration": 241,
    "start_time": "2024-06-19T15:43:40.260Z"
   },
   {
    "duration": 480,
    "start_time": "2024-06-19T15:43:40.502Z"
   },
   {
    "duration": 20,
    "start_time": "2024-06-19T15:43:40.984Z"
   },
   {
    "duration": 13,
    "start_time": "2024-06-19T15:43:41.006Z"
   },
   {
    "duration": 14,
    "start_time": "2024-06-19T15:43:41.021Z"
   },
   {
    "duration": 188,
    "start_time": "2024-06-19T15:43:41.037Z"
   },
   {
    "duration": 111,
    "start_time": "2024-06-19T15:43:41.227Z"
   },
   {
    "duration": 42,
    "start_time": "2024-06-19T15:43:41.339Z"
   },
   {
    "duration": 17,
    "start_time": "2024-06-19T15:43:41.392Z"
   },
   {
    "duration": 9,
    "start_time": "2024-06-19T15:43:41.411Z"
   },
   {
    "duration": 36,
    "start_time": "2024-06-19T15:43:41.422Z"
   },
   {
    "duration": 192,
    "start_time": "2024-06-19T15:43:41.459Z"
   },
   {
    "duration": 21,
    "start_time": "2024-06-19T15:43:41.653Z"
   },
   {
    "duration": 14,
    "start_time": "2024-06-19T15:43:41.691Z"
   },
   {
    "duration": 22,
    "start_time": "2024-06-19T15:43:41.706Z"
   },
   {
    "duration": 13,
    "start_time": "2024-06-19T15:43:41.730Z"
   },
   {
    "duration": 51,
    "start_time": "2024-06-19T15:43:41.745Z"
   },
   {
    "duration": 4,
    "start_time": "2024-06-19T15:43:41.797Z"
   },
   {
    "duration": 417,
    "start_time": "2024-06-19T15:43:41.802Z"
   },
   {
    "duration": 4,
    "start_time": "2024-06-19T15:43:42.223Z"
   },
   {
    "duration": 229,
    "start_time": "2024-06-19T15:43:42.229Z"
   },
   {
    "duration": 384,
    "start_time": "2024-06-19T15:43:42.460Z"
   },
   {
    "duration": 9,
    "start_time": "2024-06-19T15:43:42.845Z"
   },
   {
    "duration": 15,
    "start_time": "2024-06-19T15:43:42.856Z"
   },
   {
    "duration": 18,
    "start_time": "2024-06-19T15:43:42.873Z"
   },
   {
    "duration": 2328,
    "start_time": "2024-06-19T15:43:42.893Z"
   },
   {
    "duration": 18,
    "start_time": "2024-06-19T15:43:45.222Z"
   },
   {
    "duration": 71,
    "start_time": "2024-06-19T15:43:45.241Z"
   },
   {
    "duration": 18,
    "start_time": "2024-06-19T15:43:45.314Z"
   },
   {
    "duration": 19,
    "start_time": "2024-06-19T15:43:45.333Z"
   },
   {
    "duration": 44,
    "start_time": "2024-06-19T15:43:45.353Z"
   },
   {
    "duration": 16,
    "start_time": "2024-06-19T15:43:45.398Z"
   },
   {
    "duration": 2,
    "start_time": "2024-06-19T15:43:45.416Z"
   },
   {
    "duration": 28,
    "start_time": "2024-06-19T15:43:45.420Z"
   },
   {
    "duration": 10,
    "start_time": "2024-06-19T15:43:45.450Z"
   },
   {
    "duration": 40,
    "start_time": "2024-06-19T15:43:45.461Z"
   },
   {
    "duration": 13,
    "start_time": "2024-06-19T15:45:21.740Z"
   },
   {
    "duration": 11,
    "start_time": "2024-06-19T15:45:32.859Z"
   },
   {
    "duration": 112,
    "start_time": "2024-06-19T15:47:33.182Z"
   },
   {
    "duration": 1236,
    "start_time": "2024-06-19T15:47:37.476Z"
   },
   {
    "duration": 102,
    "start_time": "2024-06-19T15:47:38.714Z"
   },
   {
    "duration": 7,
    "start_time": "2024-06-19T15:47:38.818Z"
   },
   {
    "duration": 179,
    "start_time": "2024-06-19T15:47:38.826Z"
   },
   {
    "duration": 52,
    "start_time": "2024-06-19T15:47:39.008Z"
   },
   {
    "duration": 61,
    "start_time": "2024-06-19T15:47:39.063Z"
   },
   {
    "duration": 30,
    "start_time": "2024-06-19T15:47:39.126Z"
   },
   {
    "duration": 90,
    "start_time": "2024-06-19T15:47:39.158Z"
   },
   {
    "duration": 60,
    "start_time": "2024-06-19T15:47:39.250Z"
   },
   {
    "duration": 14,
    "start_time": "2024-06-19T15:47:39.312Z"
   },
   {
    "duration": 22,
    "start_time": "2024-06-19T15:47:39.328Z"
   },
   {
    "duration": 13,
    "start_time": "2024-06-19T15:47:39.352Z"
   },
   {
    "duration": 23,
    "start_time": "2024-06-19T15:47:39.391Z"
   },
   {
    "duration": 42,
    "start_time": "2024-06-19T15:47:39.419Z"
   },
   {
    "duration": 37,
    "start_time": "2024-06-19T15:47:39.462Z"
   },
   {
    "duration": 18,
    "start_time": "2024-06-19T15:47:39.501Z"
   },
   {
    "duration": 7,
    "start_time": "2024-06-19T15:47:39.520Z"
   },
   {
    "duration": 18,
    "start_time": "2024-06-19T15:47:39.528Z"
   },
   {
    "duration": 410,
    "start_time": "2024-06-19T15:47:39.547Z"
   },
   {
    "duration": 258,
    "start_time": "2024-06-19T15:47:39.958Z"
   },
   {
    "duration": 1578,
    "start_time": "2024-06-19T15:47:40.218Z"
   },
   {
    "duration": 255,
    "start_time": "2024-06-19T15:47:41.799Z"
   },
   {
    "duration": 496,
    "start_time": "2024-06-19T15:47:42.056Z"
   },
   {
    "duration": 19,
    "start_time": "2024-06-19T15:47:42.553Z"
   },
   {
    "duration": 32,
    "start_time": "2024-06-19T15:47:42.573Z"
   },
   {
    "duration": 15,
    "start_time": "2024-06-19T15:47:42.607Z"
   },
   {
    "duration": 128,
    "start_time": "2024-06-19T15:47:42.623Z"
   },
   {
    "duration": 115,
    "start_time": "2024-06-19T15:47:42.753Z"
   },
   {
    "duration": 56,
    "start_time": "2024-06-19T15:47:42.869Z"
   },
   {
    "duration": 19,
    "start_time": "2024-06-19T15:47:42.927Z"
   },
   {
    "duration": 11,
    "start_time": "2024-06-19T15:47:42.947Z"
   },
   {
    "duration": 49,
    "start_time": "2024-06-19T15:47:42.959Z"
   },
   {
    "duration": 174,
    "start_time": "2024-06-19T15:47:43.009Z"
   },
   {
    "duration": 21,
    "start_time": "2024-06-19T15:47:43.191Z"
   },
   {
    "duration": 12,
    "start_time": "2024-06-19T15:47:43.214Z"
   },
   {
    "duration": 24,
    "start_time": "2024-06-19T15:47:43.227Z"
   },
   {
    "duration": 42,
    "start_time": "2024-06-19T15:47:43.252Z"
   },
   {
    "duration": 22,
    "start_time": "2024-06-19T15:47:43.296Z"
   },
   {
    "duration": 10,
    "start_time": "2024-06-19T15:47:43.320Z"
   },
   {
    "duration": 431,
    "start_time": "2024-06-19T15:47:43.332Z"
   },
   {
    "duration": 14,
    "start_time": "2024-06-19T15:47:43.767Z"
   },
   {
    "duration": 231,
    "start_time": "2024-06-19T15:47:43.783Z"
   },
   {
    "duration": 401,
    "start_time": "2024-06-19T15:47:44.016Z"
   },
   {
    "duration": 10,
    "start_time": "2024-06-19T15:47:44.419Z"
   },
   {
    "duration": 14,
    "start_time": "2024-06-19T15:47:44.431Z"
   },
   {
    "duration": 6,
    "start_time": "2024-06-19T15:47:44.447Z"
   },
   {
    "duration": 2408,
    "start_time": "2024-06-19T15:47:44.454Z"
   },
   {
    "duration": 8,
    "start_time": "2024-06-19T15:47:46.864Z"
   },
   {
    "duration": 40,
    "start_time": "2024-06-19T15:47:46.874Z"
   },
   {
    "duration": 14,
    "start_time": "2024-06-19T15:47:46.916Z"
   },
   {
    "duration": 18,
    "start_time": "2024-06-19T15:47:46.932Z"
   },
   {
    "duration": 47,
    "start_time": "2024-06-19T15:47:46.952Z"
   },
   {
    "duration": 109,
    "start_time": "2024-06-19T15:47:47.000Z"
   },
   {
    "duration": 0,
    "start_time": "2024-06-19T15:47:47.110Z"
   },
   {
    "duration": 0,
    "start_time": "2024-06-19T15:47:47.112Z"
   },
   {
    "duration": 0,
    "start_time": "2024-06-19T15:47:47.113Z"
   },
   {
    "duration": 0,
    "start_time": "2024-06-19T15:47:47.114Z"
   },
   {
    "duration": 14,
    "start_time": "2024-06-19T15:49:20.325Z"
   },
   {
    "duration": 1232,
    "start_time": "2024-06-19T15:49:26.394Z"
   },
   {
    "duration": 105,
    "start_time": "2024-06-19T15:49:27.628Z"
   },
   {
    "duration": 6,
    "start_time": "2024-06-19T15:49:27.735Z"
   },
   {
    "duration": 190,
    "start_time": "2024-06-19T15:49:27.742Z"
   },
   {
    "duration": 59,
    "start_time": "2024-06-19T15:49:27.935Z"
   },
   {
    "duration": 34,
    "start_time": "2024-06-19T15:49:27.996Z"
   },
   {
    "duration": 29,
    "start_time": "2024-06-19T15:49:28.032Z"
   },
   {
    "duration": 106,
    "start_time": "2024-06-19T15:49:28.063Z"
   },
   {
    "duration": 63,
    "start_time": "2024-06-19T15:49:28.170Z"
   },
   {
    "duration": 15,
    "start_time": "2024-06-19T15:49:28.235Z"
   },
   {
    "duration": 25,
    "start_time": "2024-06-19T15:49:28.252Z"
   },
   {
    "duration": 13,
    "start_time": "2024-06-19T15:49:28.292Z"
   },
   {
    "duration": 24,
    "start_time": "2024-06-19T15:49:28.307Z"
   },
   {
    "duration": 71,
    "start_time": "2024-06-19T15:49:28.336Z"
   },
   {
    "duration": 13,
    "start_time": "2024-06-19T15:49:28.409Z"
   },
   {
    "duration": 16,
    "start_time": "2024-06-19T15:49:28.424Z"
   },
   {
    "duration": 17,
    "start_time": "2024-06-19T15:49:28.442Z"
   },
   {
    "duration": 31,
    "start_time": "2024-06-19T15:49:28.461Z"
   },
   {
    "duration": 387,
    "start_time": "2024-06-19T15:49:28.495Z"
   },
   {
    "duration": 244,
    "start_time": "2024-06-19T15:49:28.884Z"
   },
   {
    "duration": 1659,
    "start_time": "2024-06-19T15:49:29.130Z"
   },
   {
    "duration": 265,
    "start_time": "2024-06-19T15:49:30.791Z"
   },
   {
    "duration": 544,
    "start_time": "2024-06-19T15:49:31.058Z"
   },
   {
    "duration": 21,
    "start_time": "2024-06-19T15:49:31.603Z"
   },
   {
    "duration": 17,
    "start_time": "2024-06-19T15:49:31.626Z"
   },
   {
    "duration": 26,
    "start_time": "2024-06-19T15:49:31.644Z"
   },
   {
    "duration": 182,
    "start_time": "2024-06-19T15:49:31.671Z"
   },
   {
    "duration": 119,
    "start_time": "2024-06-19T15:49:31.855Z"
   },
   {
    "duration": 50,
    "start_time": "2024-06-19T15:49:31.976Z"
   },
   {
    "duration": 19,
    "start_time": "2024-06-19T15:49:32.028Z"
   },
   {
    "duration": 18,
    "start_time": "2024-06-19T15:49:32.049Z"
   },
   {
    "duration": 46,
    "start_time": "2024-06-19T15:49:32.069Z"
   },
   {
    "duration": 188,
    "start_time": "2024-06-19T15:49:32.116Z"
   },
   {
    "duration": 24,
    "start_time": "2024-06-19T15:49:32.306Z"
   },
   {
    "duration": 13,
    "start_time": "2024-06-19T15:49:32.331Z"
   },
   {
    "duration": 46,
    "start_time": "2024-06-19T15:49:32.346Z"
   },
   {
    "duration": 14,
    "start_time": "2024-06-19T15:49:32.395Z"
   },
   {
    "duration": 22,
    "start_time": "2024-06-19T15:49:32.411Z"
   },
   {
    "duration": 4,
    "start_time": "2024-06-19T15:49:32.435Z"
   },
   {
    "duration": 492,
    "start_time": "2024-06-19T15:49:32.441Z"
   },
   {
    "duration": 4,
    "start_time": "2024-06-19T15:49:32.937Z"
   },
   {
    "duration": 245,
    "start_time": "2024-06-19T15:49:32.942Z"
   },
   {
    "duration": 388,
    "start_time": "2024-06-19T15:49:33.189Z"
   },
   {
    "duration": 14,
    "start_time": "2024-06-19T15:49:33.579Z"
   },
   {
    "duration": 14,
    "start_time": "2024-06-19T15:49:33.594Z"
   },
   {
    "duration": 4,
    "start_time": "2024-06-19T15:49:33.610Z"
   },
   {
    "duration": 2547,
    "start_time": "2024-06-19T15:49:33.615Z"
   },
   {
    "duration": 8,
    "start_time": "2024-06-19T15:49:36.163Z"
   },
   {
    "duration": 41,
    "start_time": "2024-06-19T15:49:36.173Z"
   },
   {
    "duration": 13,
    "start_time": "2024-06-19T15:49:36.216Z"
   },
   {
    "duration": 21,
    "start_time": "2024-06-19T15:49:36.231Z"
   },
   {
    "duration": 38,
    "start_time": "2024-06-19T15:49:36.254Z"
   },
   {
    "duration": 117,
    "start_time": "2024-06-19T15:49:36.294Z"
   },
   {
    "duration": 0,
    "start_time": "2024-06-19T15:49:36.413Z"
   },
   {
    "duration": 0,
    "start_time": "2024-06-19T15:49:36.414Z"
   },
   {
    "duration": 0,
    "start_time": "2024-06-19T15:49:36.416Z"
   },
   {
    "duration": 0,
    "start_time": "2024-06-19T15:49:36.417Z"
   },
   {
    "duration": 18,
    "start_time": "2024-06-19T15:52:10.619Z"
   },
   {
    "duration": 1300,
    "start_time": "2024-06-19T15:52:34.861Z"
   },
   {
    "duration": 108,
    "start_time": "2024-06-19T15:52:36.163Z"
   },
   {
    "duration": 5,
    "start_time": "2024-06-19T15:52:36.273Z"
   },
   {
    "duration": 165,
    "start_time": "2024-06-19T15:52:36.280Z"
   },
   {
    "duration": 54,
    "start_time": "2024-06-19T15:52:36.447Z"
   },
   {
    "duration": 35,
    "start_time": "2024-06-19T15:52:36.504Z"
   },
   {
    "duration": 56,
    "start_time": "2024-06-19T15:52:36.541Z"
   },
   {
    "duration": 93,
    "start_time": "2024-06-19T15:52:36.599Z"
   },
   {
    "duration": 51,
    "start_time": "2024-06-19T15:52:36.693Z"
   },
   {
    "duration": 15,
    "start_time": "2024-06-19T15:52:36.747Z"
   },
   {
    "duration": 45,
    "start_time": "2024-06-19T15:52:36.764Z"
   },
   {
    "duration": 35,
    "start_time": "2024-06-19T15:52:36.811Z"
   },
   {
    "duration": 22,
    "start_time": "2024-06-19T15:52:36.848Z"
   },
   {
    "duration": 60,
    "start_time": "2024-06-19T15:52:36.872Z"
   },
   {
    "duration": 13,
    "start_time": "2024-06-19T15:52:36.934Z"
   },
   {
    "duration": 17,
    "start_time": "2024-06-19T15:52:36.949Z"
   },
   {
    "duration": 7,
    "start_time": "2024-06-19T15:52:36.968Z"
   },
   {
    "duration": 29,
    "start_time": "2024-06-19T15:52:36.976Z"
   },
   {
    "duration": 424,
    "start_time": "2024-06-19T15:52:37.007Z"
   },
   {
    "duration": 254,
    "start_time": "2024-06-19T15:52:37.434Z"
   },
   {
    "duration": 1592,
    "start_time": "2024-06-19T15:52:37.692Z"
   },
   {
    "duration": 266,
    "start_time": "2024-06-19T15:52:39.286Z"
   },
   {
    "duration": 529,
    "start_time": "2024-06-19T15:52:39.553Z"
   },
   {
    "duration": 22,
    "start_time": "2024-06-19T15:52:40.083Z"
   },
   {
    "duration": 18,
    "start_time": "2024-06-19T15:52:40.107Z"
   },
   {
    "duration": 40,
    "start_time": "2024-06-19T15:52:40.127Z"
   },
   {
    "duration": 137,
    "start_time": "2024-06-19T15:52:40.169Z"
   },
   {
    "duration": 121,
    "start_time": "2024-06-19T15:52:40.309Z"
   },
   {
    "duration": 46,
    "start_time": "2024-06-19T15:52:40.432Z"
   },
   {
    "duration": 19,
    "start_time": "2024-06-19T15:52:40.493Z"
   },
   {
    "duration": 12,
    "start_time": "2024-06-19T15:52:40.514Z"
   },
   {
    "duration": 29,
    "start_time": "2024-06-19T15:52:40.528Z"
   },
   {
    "duration": 196,
    "start_time": "2024-06-19T15:52:40.559Z"
   },
   {
    "duration": 40,
    "start_time": "2024-06-19T15:52:40.756Z"
   },
   {
    "duration": 14,
    "start_time": "2024-06-19T15:52:40.797Z"
   },
   {
    "duration": 25,
    "start_time": "2024-06-19T15:52:40.812Z"
   },
   {
    "duration": 15,
    "start_time": "2024-06-19T15:52:40.839Z"
   },
   {
    "duration": 50,
    "start_time": "2024-06-19T15:52:40.856Z"
   },
   {
    "duration": 4,
    "start_time": "2024-06-19T15:52:40.908Z"
   },
   {
    "duration": 454,
    "start_time": "2024-06-19T15:52:40.913Z"
   },
   {
    "duration": 4,
    "start_time": "2024-06-19T15:52:41.369Z"
   },
   {
    "duration": 235,
    "start_time": "2024-06-19T15:52:41.374Z"
   },
   {
    "duration": 385,
    "start_time": "2024-06-19T15:52:41.611Z"
   },
   {
    "duration": 9,
    "start_time": "2024-06-19T15:52:41.998Z"
   },
   {
    "duration": 16,
    "start_time": "2024-06-19T15:52:42.009Z"
   },
   {
    "duration": 15,
    "start_time": "2024-06-19T15:52:42.027Z"
   },
   {
    "duration": 2461,
    "start_time": "2024-06-19T15:52:42.043Z"
   },
   {
    "duration": 8,
    "start_time": "2024-06-19T15:52:44.506Z"
   },
   {
    "duration": 25,
    "start_time": "2024-06-19T15:52:44.515Z"
   },
   {
    "duration": 17,
    "start_time": "2024-06-19T15:52:44.542Z"
   },
   {
    "duration": 36,
    "start_time": "2024-06-19T15:52:44.560Z"
   },
   {
    "duration": 27,
    "start_time": "2024-06-19T15:52:44.598Z"
   },
   {
    "duration": 113,
    "start_time": "2024-06-19T15:52:44.627Z"
   },
   {
    "duration": 0,
    "start_time": "2024-06-19T15:52:44.741Z"
   },
   {
    "duration": 0,
    "start_time": "2024-06-19T15:52:44.742Z"
   },
   {
    "duration": 0,
    "start_time": "2024-06-19T15:52:44.743Z"
   },
   {
    "duration": 0,
    "start_time": "2024-06-19T15:52:44.745Z"
   },
   {
    "duration": 14,
    "start_time": "2024-06-19T15:53:29.356Z"
   },
   {
    "duration": 16,
    "start_time": "2024-06-19T15:53:33.095Z"
   },
   {
    "duration": 19,
    "start_time": "2024-06-19T15:53:48.481Z"
   },
   {
    "duration": 10,
    "start_time": "2024-06-19T15:55:24.274Z"
   },
   {
    "duration": 1201,
    "start_time": "2024-06-19T15:55:29.642Z"
   },
   {
    "duration": 107,
    "start_time": "2024-06-19T15:55:30.845Z"
   },
   {
    "duration": 6,
    "start_time": "2024-06-19T15:55:30.954Z"
   },
   {
    "duration": 213,
    "start_time": "2024-06-19T15:55:30.963Z"
   },
   {
    "duration": 50,
    "start_time": "2024-06-19T15:55:31.178Z"
   },
   {
    "duration": 116,
    "start_time": "2024-06-19T15:55:31.230Z"
   },
   {
    "duration": 29,
    "start_time": "2024-06-19T15:55:31.348Z"
   },
   {
    "duration": 108,
    "start_time": "2024-06-19T15:55:31.379Z"
   },
   {
    "duration": 48,
    "start_time": "2024-06-19T15:55:31.488Z"
   },
   {
    "duration": 28,
    "start_time": "2024-06-19T15:55:31.539Z"
   },
   {
    "duration": 61,
    "start_time": "2024-06-19T15:55:31.569Z"
   },
   {
    "duration": 56,
    "start_time": "2024-06-19T15:55:31.632Z"
   },
   {
    "duration": 97,
    "start_time": "2024-06-19T15:55:31.689Z"
   },
   {
    "duration": 77,
    "start_time": "2024-06-19T15:55:31.788Z"
   },
   {
    "duration": 14,
    "start_time": "2024-06-19T15:55:31.866Z"
   },
   {
    "duration": 49,
    "start_time": "2024-06-19T15:55:31.881Z"
   },
   {
    "duration": 29,
    "start_time": "2024-06-19T15:55:31.931Z"
   },
   {
    "duration": 50,
    "start_time": "2024-06-19T15:55:31.962Z"
   },
   {
    "duration": 409,
    "start_time": "2024-06-19T15:55:32.013Z"
   },
   {
    "duration": 244,
    "start_time": "2024-06-19T15:55:32.424Z"
   },
   {
    "duration": 1598,
    "start_time": "2024-06-19T15:55:32.670Z"
   },
   {
    "duration": 278,
    "start_time": "2024-06-19T15:55:34.270Z"
   },
   {
    "duration": 501,
    "start_time": "2024-06-19T15:55:34.551Z"
   },
   {
    "duration": 21,
    "start_time": "2024-06-19T15:55:35.054Z"
   },
   {
    "duration": 8,
    "start_time": "2024-06-19T15:55:35.091Z"
   },
   {
    "duration": 27,
    "start_time": "2024-06-19T15:55:35.102Z"
   },
   {
    "duration": 165,
    "start_time": "2024-06-19T15:55:35.131Z"
   },
   {
    "duration": 112,
    "start_time": "2024-06-19T15:55:35.301Z"
   },
   {
    "duration": 45,
    "start_time": "2024-06-19T15:55:35.416Z"
   },
   {
    "duration": 44,
    "start_time": "2024-06-19T15:55:35.462Z"
   },
   {
    "duration": 13,
    "start_time": "2024-06-19T15:55:35.508Z"
   },
   {
    "duration": 30,
    "start_time": "2024-06-19T15:55:35.523Z"
   },
   {
    "duration": 189,
    "start_time": "2024-06-19T15:55:35.555Z"
   },
   {
    "duration": 74,
    "start_time": "2024-06-19T15:55:35.746Z"
   },
   {
    "duration": 30,
    "start_time": "2024-06-19T15:55:35.823Z"
   },
   {
    "duration": 24,
    "start_time": "2024-06-19T15:55:35.855Z"
   },
   {
    "duration": 14,
    "start_time": "2024-06-19T15:55:35.881Z"
   },
   {
    "duration": 21,
    "start_time": "2024-06-19T15:55:35.897Z"
   },
   {
    "duration": 13,
    "start_time": "2024-06-19T15:55:35.919Z"
   },
   {
    "duration": 447,
    "start_time": "2024-06-19T15:55:35.933Z"
   },
   {
    "duration": 9,
    "start_time": "2024-06-19T15:55:36.382Z"
   },
   {
    "duration": 255,
    "start_time": "2024-06-19T15:55:36.393Z"
   },
   {
    "duration": 389,
    "start_time": "2024-06-19T15:55:36.650Z"
   },
   {
    "duration": 9,
    "start_time": "2024-06-19T15:55:37.040Z"
   },
   {
    "duration": 21,
    "start_time": "2024-06-19T15:55:37.051Z"
   },
   {
    "duration": 31,
    "start_time": "2024-06-19T15:55:37.074Z"
   },
   {
    "duration": 2500,
    "start_time": "2024-06-19T15:55:37.107Z"
   },
   {
    "duration": 9,
    "start_time": "2024-06-19T15:55:39.609Z"
   },
   {
    "duration": 29,
    "start_time": "2024-06-19T15:55:39.620Z"
   },
   {
    "duration": 21,
    "start_time": "2024-06-19T15:55:39.651Z"
   },
   {
    "duration": 34,
    "start_time": "2024-06-19T15:55:39.674Z"
   },
   {
    "duration": 120,
    "start_time": "2024-06-19T15:55:39.709Z"
   },
   {
    "duration": 0,
    "start_time": "2024-06-19T15:55:39.831Z"
   },
   {
    "duration": 0,
    "start_time": "2024-06-19T15:55:39.832Z"
   },
   {
    "duration": 0,
    "start_time": "2024-06-19T15:55:39.834Z"
   },
   {
    "duration": 0,
    "start_time": "2024-06-19T15:55:39.835Z"
   },
   {
    "duration": 16,
    "start_time": "2024-06-19T15:56:23.300Z"
   },
   {
    "duration": 3,
    "start_time": "2024-06-19T15:57:09.455Z"
   },
   {
    "duration": 1252,
    "start_time": "2024-06-19T15:57:11.947Z"
   },
   {
    "duration": 3,
    "start_time": "2024-06-19T15:57:23.750Z"
   },
   {
    "duration": 21,
    "start_time": "2024-06-19T15:57:24.343Z"
   },
   {
    "duration": 11,
    "start_time": "2024-06-19T15:58:21.723Z"
   },
   {
    "duration": 164,
    "start_time": "2024-06-19T16:00:59.727Z"
   },
   {
    "duration": 161,
    "start_time": "2024-06-19T16:01:10.642Z"
   },
   {
    "duration": 180,
    "start_time": "2024-06-19T16:01:15.575Z"
   },
   {
    "duration": 205,
    "start_time": "2024-06-19T16:02:28.220Z"
   },
   {
    "duration": 219,
    "start_time": "2024-06-19T16:02:54.024Z"
   },
   {
    "duration": 5,
    "start_time": "2024-06-19T16:05:49.499Z"
   },
   {
    "duration": 189,
    "start_time": "2024-06-19T16:06:47.686Z"
   },
   {
    "duration": 363,
    "start_time": "2024-06-19T16:07:24.506Z"
   },
   {
    "duration": 476,
    "start_time": "2024-06-19T16:07:32.527Z"
   },
   {
    "duration": 388,
    "start_time": "2024-06-19T16:07:43.515Z"
   },
   {
    "duration": 429,
    "start_time": "2024-06-19T16:07:49.655Z"
   },
   {
    "duration": 449,
    "start_time": "2024-06-19T16:08:25.468Z"
   },
   {
    "duration": 417,
    "start_time": "2024-06-19T16:08:31.874Z"
   },
   {
    "duration": 517,
    "start_time": "2024-06-19T16:08:54.479Z"
   },
   {
    "duration": 398,
    "start_time": "2024-06-19T16:09:11.248Z"
   },
   {
    "duration": 381,
    "start_time": "2024-06-19T16:10:35.311Z"
   },
   {
    "duration": 437,
    "start_time": "2024-06-19T16:10:49.207Z"
   },
   {
    "duration": 386,
    "start_time": "2024-06-19T16:11:02.875Z"
   },
   {
    "duration": 419,
    "start_time": "2024-06-19T16:11:49.282Z"
   },
   {
    "duration": 407,
    "start_time": "2024-06-19T16:12:25.654Z"
   },
   {
    "duration": 4,
    "start_time": "2024-06-19T16:14:33.547Z"
   },
   {
    "duration": 1306,
    "start_time": "2024-06-19T16:14:41.324Z"
   },
   {
    "duration": 106,
    "start_time": "2024-06-19T16:14:42.633Z"
   },
   {
    "duration": 6,
    "start_time": "2024-06-19T16:14:42.741Z"
   },
   {
    "duration": 208,
    "start_time": "2024-06-19T16:14:42.749Z"
   },
   {
    "duration": 58,
    "start_time": "2024-06-19T16:14:42.959Z"
   },
   {
    "duration": 41,
    "start_time": "2024-06-19T16:14:43.019Z"
   },
   {
    "duration": 71,
    "start_time": "2024-06-19T16:14:43.062Z"
   },
   {
    "duration": 103,
    "start_time": "2024-06-19T16:14:43.135Z"
   },
   {
    "duration": 53,
    "start_time": "2024-06-19T16:14:43.240Z"
   },
   {
    "duration": 15,
    "start_time": "2024-06-19T16:14:43.295Z"
   },
   {
    "duration": 45,
    "start_time": "2024-06-19T16:14:43.311Z"
   },
   {
    "duration": 13,
    "start_time": "2024-06-19T16:14:43.357Z"
   },
   {
    "duration": 26,
    "start_time": "2024-06-19T16:14:43.372Z"
   },
   {
    "duration": 42,
    "start_time": "2024-06-19T16:14:43.400Z"
   },
   {
    "duration": 13,
    "start_time": "2024-06-19T16:14:43.444Z"
   },
   {
    "duration": 34,
    "start_time": "2024-06-19T16:14:43.458Z"
   },
   {
    "duration": 9,
    "start_time": "2024-06-19T16:14:43.493Z"
   },
   {
    "duration": 17,
    "start_time": "2024-06-19T16:14:43.503Z"
   },
   {
    "duration": 406,
    "start_time": "2024-06-19T16:14:43.522Z"
   },
   {
    "duration": 243,
    "start_time": "2024-06-19T16:14:43.930Z"
   },
   {
    "duration": 1594,
    "start_time": "2024-06-19T16:14:44.174Z"
   },
   {
    "duration": 259,
    "start_time": "2024-06-19T16:14:45.770Z"
   },
   {
    "duration": 544,
    "start_time": "2024-06-19T16:14:46.031Z"
   },
   {
    "duration": 29,
    "start_time": "2024-06-19T16:14:46.577Z"
   },
   {
    "duration": 12,
    "start_time": "2024-06-19T16:14:46.607Z"
   },
   {
    "duration": 23,
    "start_time": "2024-06-19T16:14:46.622Z"
   },
   {
    "duration": 173,
    "start_time": "2024-06-19T16:14:46.647Z"
   },
   {
    "duration": 116,
    "start_time": "2024-06-19T16:14:46.824Z"
   },
   {
    "duration": 52,
    "start_time": "2024-06-19T16:14:46.941Z"
   },
   {
    "duration": 19,
    "start_time": "2024-06-19T16:14:46.995Z"
   },
   {
    "duration": 11,
    "start_time": "2024-06-19T16:14:47.016Z"
   },
   {
    "duration": 41,
    "start_time": "2024-06-19T16:14:47.028Z"
   },
   {
    "duration": 173,
    "start_time": "2024-06-19T16:14:47.070Z"
   },
   {
    "duration": 21,
    "start_time": "2024-06-19T16:14:47.244Z"
   },
   {
    "duration": 29,
    "start_time": "2024-06-19T16:14:47.267Z"
   },
   {
    "duration": 32,
    "start_time": "2024-06-19T16:14:47.298Z"
   },
   {
    "duration": 14,
    "start_time": "2024-06-19T16:14:47.332Z"
   },
   {
    "duration": 44,
    "start_time": "2024-06-19T16:14:47.348Z"
   },
   {
    "duration": 5,
    "start_time": "2024-06-19T16:14:47.394Z"
   },
   {
    "duration": 437,
    "start_time": "2024-06-19T16:14:47.400Z"
   },
   {
    "duration": 4,
    "start_time": "2024-06-19T16:14:47.838Z"
   },
   {
    "duration": 286,
    "start_time": "2024-06-19T16:14:47.843Z"
   },
   {
    "duration": 403,
    "start_time": "2024-06-19T16:14:48.132Z"
   },
   {
    "duration": 9,
    "start_time": "2024-06-19T16:14:48.537Z"
   },
   {
    "duration": 12,
    "start_time": "2024-06-19T16:14:48.548Z"
   },
   {
    "duration": 4,
    "start_time": "2024-06-19T16:14:48.562Z"
   },
   {
    "duration": 2429,
    "start_time": "2024-06-19T16:14:48.592Z"
   },
   {
    "duration": 9,
    "start_time": "2024-06-19T16:14:51.023Z"
   },
   {
    "duration": 45,
    "start_time": "2024-06-19T16:14:51.034Z"
   },
   {
    "duration": 37,
    "start_time": "2024-06-19T16:14:51.081Z"
   },
   {
    "duration": 36,
    "start_time": "2024-06-19T16:14:51.120Z"
   },
   {
    "duration": 58,
    "start_time": "2024-06-19T16:14:51.158Z"
   },
   {
    "duration": 14,
    "start_time": "2024-06-19T16:14:51.218Z"
   },
   {
    "duration": 28,
    "start_time": "2024-06-19T16:14:51.234Z"
   },
   {
    "duration": 236,
    "start_time": "2024-06-19T16:14:51.264Z"
   },
   {
    "duration": 218,
    "start_time": "2024-06-19T16:14:51.502Z"
   },
   {
    "duration": 441,
    "start_time": "2024-06-19T16:14:51.722Z"
   },
   {
    "duration": 417,
    "start_time": "2024-06-19T16:16:30.144Z"
   },
   {
    "duration": 459,
    "start_time": "2024-06-19T16:17:23.812Z"
   },
   {
    "duration": 7,
    "start_time": "2024-06-19T16:21:49.150Z"
   },
   {
    "duration": 524,
    "start_time": "2024-06-19T16:22:54.297Z"
   },
   {
    "duration": 421,
    "start_time": "2024-06-19T16:25:54.111Z"
   },
   {
    "duration": 431,
    "start_time": "2024-06-19T16:26:12.085Z"
   },
   {
    "duration": 417,
    "start_time": "2024-06-19T16:26:23.218Z"
   },
   {
    "duration": 4,
    "start_time": "2024-06-19T16:28:23.264Z"
   },
   {
    "duration": 406,
    "start_time": "2024-06-19T16:29:34.928Z"
   },
   {
    "duration": 493,
    "start_time": "2024-06-19T16:30:28.348Z"
   },
   {
    "duration": 420,
    "start_time": "2024-06-19T16:31:44.661Z"
   },
   {
    "duration": 409,
    "start_time": "2024-06-19T16:33:05.969Z"
   },
   {
    "duration": 310,
    "start_time": "2024-06-19T16:34:03.788Z"
   },
   {
    "duration": 303,
    "start_time": "2024-06-19T16:34:12.752Z"
   },
   {
    "duration": 319,
    "start_time": "2024-06-19T16:34:25.776Z"
   },
   {
    "duration": 314,
    "start_time": "2024-06-19T16:34:31.783Z"
   },
   {
    "duration": 319,
    "start_time": "2024-06-19T16:36:35.029Z"
   },
   {
    "duration": 291,
    "start_time": "2024-06-19T16:36:39.185Z"
   },
   {
    "duration": 423,
    "start_time": "2024-06-19T16:36:50.917Z"
   },
   {
    "duration": 306,
    "start_time": "2024-06-19T16:36:57.769Z"
   },
   {
    "duration": 251,
    "start_time": "2024-06-19T16:39:26.053Z"
   },
   {
    "duration": 248,
    "start_time": "2024-06-19T16:39:32.941Z"
   },
   {
    "duration": 238,
    "start_time": "2024-06-19T16:40:41.661Z"
   },
   {
    "duration": 236,
    "start_time": "2024-06-19T16:40:49.723Z"
   },
   {
    "duration": 235,
    "start_time": "2024-06-19T16:41:49.613Z"
   },
   {
    "duration": 221,
    "start_time": "2024-06-19T16:42:39.334Z"
   },
   {
    "duration": 229,
    "start_time": "2024-06-19T16:42:55.723Z"
   },
   {
    "duration": 166,
    "start_time": "2024-06-19T16:43:08.327Z"
   },
   {
    "duration": 240,
    "start_time": "2024-06-19T16:43:15.214Z"
   },
   {
    "duration": 358,
    "start_time": "2024-06-19T16:43:21.536Z"
   },
   {
    "duration": 229,
    "start_time": "2024-06-19T16:43:28.615Z"
   },
   {
    "duration": 238,
    "start_time": "2024-06-19T16:43:37.504Z"
   },
   {
    "duration": 165,
    "start_time": "2024-06-19T16:43:49.972Z"
   },
   {
    "duration": 229,
    "start_time": "2024-06-19T16:43:54.143Z"
   },
   {
    "duration": 227,
    "start_time": "2024-06-19T16:44:22.141Z"
   },
   {
    "duration": 170,
    "start_time": "2024-06-19T16:44:30.553Z"
   },
   {
    "duration": 252,
    "start_time": "2024-06-19T16:44:54.023Z"
   },
   {
    "duration": 157,
    "start_time": "2024-06-19T16:45:10.941Z"
   },
   {
    "duration": 235,
    "start_time": "2024-06-19T16:45:20.773Z"
   },
   {
    "duration": 160,
    "start_time": "2024-06-19T16:45:45.003Z"
   },
   {
    "duration": 277,
    "start_time": "2024-06-19T16:45:53.082Z"
   },
   {
    "duration": 163,
    "start_time": "2024-06-19T16:46:10.127Z"
   },
   {
    "duration": 170,
    "start_time": "2024-06-19T16:46:18.522Z"
   },
   {
    "duration": 247,
    "start_time": "2024-06-19T16:46:23.193Z"
   },
   {
    "duration": 254,
    "start_time": "2024-06-19T16:46:30.877Z"
   },
   {
    "duration": 223,
    "start_time": "2024-06-19T16:46:39.251Z"
   },
   {
    "duration": 228,
    "start_time": "2024-06-19T16:46:55.084Z"
   },
   {
    "duration": 228,
    "start_time": "2024-06-19T16:47:00.781Z"
   },
   {
    "duration": 239,
    "start_time": "2024-06-19T16:47:08.430Z"
   },
   {
    "duration": 60,
    "start_time": "2024-06-19T16:47:16.330Z"
   },
   {
    "duration": 239,
    "start_time": "2024-06-19T16:47:19.691Z"
   },
   {
    "duration": 232,
    "start_time": "2024-06-19T16:47:31.321Z"
   },
   {
    "duration": 346,
    "start_time": "2024-06-19T16:47:38.221Z"
   },
   {
    "duration": 228,
    "start_time": "2024-06-19T16:47:48.362Z"
   },
   {
    "duration": 247,
    "start_time": "2024-06-19T16:48:05.297Z"
   },
   {
    "duration": 226,
    "start_time": "2024-06-19T16:48:20.545Z"
   },
   {
    "duration": 404,
    "start_time": "2024-06-19T16:48:55.318Z"
   },
   {
    "duration": 1277,
    "start_time": "2024-06-19T16:49:34.656Z"
   },
   {
    "duration": 111,
    "start_time": "2024-06-19T16:49:35.936Z"
   },
   {
    "duration": 6,
    "start_time": "2024-06-19T16:49:36.049Z"
   },
   {
    "duration": 182,
    "start_time": "2024-06-19T16:49:36.057Z"
   },
   {
    "duration": 53,
    "start_time": "2024-06-19T16:49:36.242Z"
   },
   {
    "duration": 37,
    "start_time": "2024-06-19T16:49:36.297Z"
   },
   {
    "duration": 32,
    "start_time": "2024-06-19T16:49:36.335Z"
   },
   {
    "duration": 75,
    "start_time": "2024-06-19T16:49:36.391Z"
   },
   {
    "duration": 64,
    "start_time": "2024-06-19T16:49:36.468Z"
   },
   {
    "duration": 14,
    "start_time": "2024-06-19T16:49:36.535Z"
   },
   {
    "duration": 45,
    "start_time": "2024-06-19T16:49:36.551Z"
   },
   {
    "duration": 13,
    "start_time": "2024-06-19T16:49:36.598Z"
   },
   {
    "duration": 42,
    "start_time": "2024-06-19T16:49:36.613Z"
   },
   {
    "duration": 53,
    "start_time": "2024-06-19T16:49:36.659Z"
   },
   {
    "duration": 14,
    "start_time": "2024-06-19T16:49:36.713Z"
   },
   {
    "duration": 11,
    "start_time": "2024-06-19T16:49:36.729Z"
   },
   {
    "duration": 4,
    "start_time": "2024-06-19T16:49:36.742Z"
   },
   {
    "duration": 44,
    "start_time": "2024-06-19T16:49:36.748Z"
   },
   {
    "duration": 388,
    "start_time": "2024-06-19T16:49:36.795Z"
   },
   {
    "duration": 239,
    "start_time": "2024-06-19T16:49:37.185Z"
   },
   {
    "duration": 1550,
    "start_time": "2024-06-19T16:49:37.426Z"
   },
   {
    "duration": 243,
    "start_time": "2024-06-19T16:49:38.977Z"
   },
   {
    "duration": 496,
    "start_time": "2024-06-19T16:49:39.222Z"
   },
   {
    "duration": 20,
    "start_time": "2024-06-19T16:49:39.719Z"
   },
   {
    "duration": 12,
    "start_time": "2024-06-19T16:49:39.740Z"
   },
   {
    "duration": 37,
    "start_time": "2024-06-19T16:49:39.755Z"
   },
   {
    "duration": 155,
    "start_time": "2024-06-19T16:49:39.794Z"
   },
   {
    "duration": 131,
    "start_time": "2024-06-19T16:49:39.950Z"
   },
   {
    "duration": 50,
    "start_time": "2024-06-19T16:49:40.083Z"
   },
   {
    "duration": 20,
    "start_time": "2024-06-19T16:49:40.135Z"
   },
   {
    "duration": 11,
    "start_time": "2024-06-19T16:49:40.157Z"
   },
   {
    "duration": 47,
    "start_time": "2024-06-19T16:49:40.169Z"
   },
   {
    "duration": 181,
    "start_time": "2024-06-19T16:49:40.217Z"
   },
   {
    "duration": 22,
    "start_time": "2024-06-19T16:49:40.400Z"
   },
   {
    "duration": 15,
    "start_time": "2024-06-19T16:49:40.424Z"
   },
   {
    "duration": 51,
    "start_time": "2024-06-19T16:49:40.441Z"
   },
   {
    "duration": 15,
    "start_time": "2024-06-19T16:49:40.493Z"
   },
   {
    "duration": 22,
    "start_time": "2024-06-19T16:49:40.509Z"
   },
   {
    "duration": 4,
    "start_time": "2024-06-19T16:49:40.533Z"
   },
   {
    "duration": 465,
    "start_time": "2024-06-19T16:49:40.538Z"
   },
   {
    "duration": 3,
    "start_time": "2024-06-19T16:49:41.007Z"
   },
   {
    "duration": 264,
    "start_time": "2024-06-19T16:49:41.012Z"
   },
   {
    "duration": 385,
    "start_time": "2024-06-19T16:49:41.279Z"
   },
   {
    "duration": 10,
    "start_time": "2024-06-19T16:49:41.666Z"
   },
   {
    "duration": 24,
    "start_time": "2024-06-19T16:49:41.678Z"
   },
   {
    "duration": 5,
    "start_time": "2024-06-19T16:49:41.703Z"
   },
   {
    "duration": 2480,
    "start_time": "2024-06-19T16:49:41.709Z"
   },
   {
    "duration": 11,
    "start_time": "2024-06-19T16:49:44.191Z"
   },
   {
    "duration": 26,
    "start_time": "2024-06-19T16:49:44.204Z"
   },
   {
    "duration": 15,
    "start_time": "2024-06-19T16:49:44.231Z"
   },
   {
    "duration": 46,
    "start_time": "2024-06-19T16:49:44.248Z"
   },
   {
    "duration": 26,
    "start_time": "2024-06-19T16:49:44.296Z"
   },
   {
    "duration": 5,
    "start_time": "2024-06-19T16:49:44.324Z"
   },
   {
    "duration": 25,
    "start_time": "2024-06-19T16:49:44.331Z"
   },
   {
    "duration": 457,
    "start_time": "2024-06-19T16:49:44.358Z"
   },
   {
    "duration": 252,
    "start_time": "2024-06-19T16:49:44.817Z"
   },
   {
    "duration": 2,
    "start_time": "2024-06-19T16:50:14.243Z"
   },
   {
    "duration": 422,
    "start_time": "2024-06-19T16:50:14.751Z"
   },
   {
    "duration": 226,
    "start_time": "2024-06-19T16:50:15.675Z"
   },
   {
    "duration": 252,
    "start_time": "2024-06-19T16:50:34.916Z"
   },
   {
    "duration": 555,
    "start_time": "2024-06-19T16:50:41.566Z"
   },
   {
    "duration": 586,
    "start_time": "2024-06-19T16:50:53.936Z"
   },
   {
    "duration": 160,
    "start_time": "2024-06-19T16:51:40.782Z"
   },
   {
    "duration": 173,
    "start_time": "2024-06-19T16:51:55.890Z"
   },
   {
    "duration": 257,
    "start_time": "2024-06-19T16:52:29.646Z"
   },
   {
    "duration": 244,
    "start_time": "2024-06-19T16:54:11.919Z"
   },
   {
    "duration": 209,
    "start_time": "2024-06-19T16:54:22.027Z"
   },
   {
    "duration": 221,
    "start_time": "2024-06-19T16:54:28.419Z"
   },
   {
    "duration": 1141,
    "start_time": "2024-06-20T12:48:35.394Z"
   },
   {
    "duration": 345,
    "start_time": "2024-06-20T12:48:36.537Z"
   },
   {
    "duration": 6,
    "start_time": "2024-06-20T12:48:36.883Z"
   },
   {
    "duration": 116,
    "start_time": "2024-06-20T12:48:36.890Z"
   },
   {
    "duration": 25,
    "start_time": "2024-06-20T12:48:37.008Z"
   },
   {
    "duration": 52,
    "start_time": "2024-06-20T12:48:37.034Z"
   },
   {
    "duration": 24,
    "start_time": "2024-06-20T12:48:37.087Z"
   },
   {
    "duration": 51,
    "start_time": "2024-06-20T12:48:37.112Z"
   },
   {
    "duration": 49,
    "start_time": "2024-06-20T12:48:37.164Z"
   },
   {
    "duration": 10,
    "start_time": "2024-06-20T12:48:37.214Z"
   },
   {
    "duration": 15,
    "start_time": "2024-06-20T12:48:37.225Z"
   },
   {
    "duration": 8,
    "start_time": "2024-06-20T12:48:37.241Z"
   },
   {
    "duration": 35,
    "start_time": "2024-06-20T12:48:37.250Z"
   },
   {
    "duration": 29,
    "start_time": "2024-06-20T12:48:37.287Z"
   },
   {
    "duration": 9,
    "start_time": "2024-06-20T12:48:37.318Z"
   },
   {
    "duration": 7,
    "start_time": "2024-06-20T12:48:37.328Z"
   },
   {
    "duration": 10,
    "start_time": "2024-06-20T12:48:37.336Z"
   },
   {
    "duration": 26,
    "start_time": "2024-06-20T12:48:37.347Z"
   },
   {
    "duration": 294,
    "start_time": "2024-06-20T12:48:37.375Z"
   },
   {
    "duration": 189,
    "start_time": "2024-06-20T12:48:37.671Z"
   },
   {
    "duration": 1074,
    "start_time": "2024-06-20T12:48:37.861Z"
   },
   {
    "duration": 185,
    "start_time": "2024-06-20T12:48:38.936Z"
   },
   {
    "duration": 350,
    "start_time": "2024-06-20T12:48:39.123Z"
   },
   {
    "duration": 21,
    "start_time": "2024-06-20T12:48:39.474Z"
   },
   {
    "duration": 7,
    "start_time": "2024-06-20T12:48:39.496Z"
   },
   {
    "duration": 11,
    "start_time": "2024-06-20T12:48:39.505Z"
   },
   {
    "duration": 119,
    "start_time": "2024-06-20T12:48:39.517Z"
   },
   {
    "duration": 89,
    "start_time": "2024-06-20T12:48:39.637Z"
   },
   {
    "duration": 34,
    "start_time": "2024-06-20T12:48:39.727Z"
   },
   {
    "duration": 31,
    "start_time": "2024-06-20T12:48:39.763Z"
   },
   {
    "duration": 8,
    "start_time": "2024-06-20T12:48:39.795Z"
   },
   {
    "duration": 18,
    "start_time": "2024-06-20T12:48:39.804Z"
   },
   {
    "duration": 116,
    "start_time": "2024-06-20T12:48:39.823Z"
   },
   {
    "duration": 16,
    "start_time": "2024-06-20T12:48:39.940Z"
   },
   {
    "duration": 9,
    "start_time": "2024-06-20T12:48:39.958Z"
   },
   {
    "duration": 32,
    "start_time": "2024-06-20T12:48:39.968Z"
   },
   {
    "duration": 10,
    "start_time": "2024-06-20T12:48:40.001Z"
   },
   {
    "duration": 42,
    "start_time": "2024-06-20T12:48:40.012Z"
   },
   {
    "duration": 21,
    "start_time": "2024-06-20T12:48:40.055Z"
   },
   {
    "duration": 307,
    "start_time": "2024-06-20T12:48:40.078Z"
   },
   {
    "duration": 3,
    "start_time": "2024-06-20T12:48:40.388Z"
   },
   {
    "duration": 180,
    "start_time": "2024-06-20T12:48:40.392Z"
   },
   {
    "duration": 292,
    "start_time": "2024-06-20T12:48:40.573Z"
   },
   {
    "duration": 7,
    "start_time": "2024-06-20T12:48:40.866Z"
   },
   {
    "duration": 17,
    "start_time": "2024-06-20T12:48:40.874Z"
   },
   {
    "duration": 3,
    "start_time": "2024-06-20T12:48:40.892Z"
   },
   {
    "duration": 1785,
    "start_time": "2024-06-20T12:48:40.896Z"
   },
   {
    "duration": 7,
    "start_time": "2024-06-20T12:48:42.685Z"
   },
   {
    "duration": 26,
    "start_time": "2024-06-20T12:48:42.693Z"
   },
   {
    "duration": 13,
    "start_time": "2024-06-20T12:48:42.721Z"
   },
   {
    "duration": 16,
    "start_time": "2024-06-20T12:48:42.735Z"
   },
   {
    "duration": 36,
    "start_time": "2024-06-20T12:48:42.753Z"
   },
   {
    "duration": 2,
    "start_time": "2024-06-20T12:48:42.790Z"
   },
   {
    "duration": 16,
    "start_time": "2024-06-20T12:48:42.793Z"
   },
   {
    "duration": 4,
    "start_time": "2024-06-20T12:48:42.810Z"
   },
   {
    "duration": 324,
    "start_time": "2024-06-20T12:48:42.815Z"
   },
   {
    "duration": 173,
    "start_time": "2024-06-20T12:48:43.141Z"
   },
   {
    "duration": 161,
    "start_time": "2024-06-20T12:49:07.493Z"
   },
   {
    "duration": 154,
    "start_time": "2024-06-20T12:49:49.454Z"
   },
   {
    "duration": 10,
    "start_time": "2024-06-20T12:52:39.872Z"
   },
   {
    "duration": 89,
    "start_time": "2024-06-20T12:53:10.525Z"
   },
   {
    "duration": 11,
    "start_time": "2024-06-20T12:53:20.541Z"
   },
   {
    "duration": 7,
    "start_time": "2024-06-20T12:53:38.113Z"
   },
   {
    "duration": 6,
    "start_time": "2024-06-20T12:53:45.013Z"
   },
   {
    "duration": 7,
    "start_time": "2024-06-20T12:53:51.524Z"
   },
   {
    "duration": 107,
    "start_time": "2024-06-20T12:53:59.025Z"
   },
   {
    "duration": 49,
    "start_time": "2024-06-20T12:54:58.333Z"
   },
   {
    "duration": 60,
    "start_time": "2024-06-20T12:55:29.074Z"
   },
   {
    "duration": 10,
    "start_time": "2024-06-20T12:55:46.165Z"
   },
   {
    "duration": 132,
    "start_time": "2024-06-20T12:56:57.505Z"
   },
   {
    "duration": 76,
    "start_time": "2024-06-20T12:57:05.001Z"
   },
   {
    "duration": 72,
    "start_time": "2024-06-20T12:57:07.853Z"
   },
   {
    "duration": 89,
    "start_time": "2024-06-20T13:13:36.338Z"
   },
   {
    "duration": 82,
    "start_time": "2024-06-20T13:15:08.898Z"
   },
   {
    "duration": 2,
    "start_time": "2024-06-20T13:21:04.986Z"
   },
   {
    "duration": 19,
    "start_time": "2024-06-20T13:21:34.858Z"
   },
   {
    "duration": 3,
    "start_time": "2024-06-20T13:21:55.798Z"
   },
   {
    "duration": 12,
    "start_time": "2024-06-20T13:24:21.462Z"
   },
   {
    "duration": 11,
    "start_time": "2024-06-20T13:24:45.056Z"
   },
   {
    "duration": 9,
    "start_time": "2024-06-20T13:25:03.866Z"
   },
   {
    "duration": 1064,
    "start_time": "2024-06-20T13:25:09.665Z"
   },
   {
    "duration": 86,
    "start_time": "2024-06-20T13:25:10.731Z"
   },
   {
    "duration": 5,
    "start_time": "2024-06-20T13:25:10.818Z"
   },
   {
    "duration": 110,
    "start_time": "2024-06-20T13:25:10.824Z"
   },
   {
    "duration": 24,
    "start_time": "2024-06-20T13:25:10.935Z"
   },
   {
    "duration": 51,
    "start_time": "2024-06-20T13:25:10.961Z"
   },
   {
    "duration": 23,
    "start_time": "2024-06-20T13:25:11.014Z"
   },
   {
    "duration": 67,
    "start_time": "2024-06-20T13:25:11.038Z"
   },
   {
    "duration": 37,
    "start_time": "2024-06-20T13:25:11.106Z"
   },
   {
    "duration": 10,
    "start_time": "2024-06-20T13:25:11.145Z"
   },
   {
    "duration": 36,
    "start_time": "2024-06-20T13:25:11.156Z"
   },
   {
    "duration": 9,
    "start_time": "2024-06-20T13:25:11.193Z"
   },
   {
    "duration": 16,
    "start_time": "2024-06-20T13:25:11.204Z"
   },
   {
    "duration": 29,
    "start_time": "2024-06-20T13:25:11.221Z"
   },
   {
    "duration": 36,
    "start_time": "2024-06-20T13:25:11.251Z"
   },
   {
    "duration": 7,
    "start_time": "2024-06-20T13:25:11.288Z"
   },
   {
    "duration": 4,
    "start_time": "2024-06-20T13:25:11.296Z"
   },
   {
    "duration": 26,
    "start_time": "2024-06-20T13:25:11.301Z"
   },
   {
    "duration": 335,
    "start_time": "2024-06-20T13:25:11.328Z"
   },
   {
    "duration": 196,
    "start_time": "2024-06-20T13:25:11.665Z"
   },
   {
    "duration": 1175,
    "start_time": "2024-06-20T13:25:11.863Z"
   },
   {
    "duration": 196,
    "start_time": "2024-06-20T13:25:13.039Z"
   },
   {
    "duration": 341,
    "start_time": "2024-06-20T13:25:13.237Z"
   },
   {
    "duration": 17,
    "start_time": "2024-06-20T13:25:13.579Z"
   },
   {
    "duration": 13,
    "start_time": "2024-06-20T13:25:13.597Z"
   },
   {
    "duration": 18,
    "start_time": "2024-06-20T13:25:13.612Z"
   },
   {
    "duration": 97,
    "start_time": "2024-06-20T13:25:13.631Z"
   },
   {
    "duration": 90,
    "start_time": "2024-06-20T13:25:13.731Z"
   },
   {
    "duration": 32,
    "start_time": "2024-06-20T13:25:13.823Z"
   },
   {
    "duration": 28,
    "start_time": "2024-06-20T13:25:13.857Z"
   },
   {
    "duration": 8,
    "start_time": "2024-06-20T13:25:13.886Z"
   },
   {
    "duration": 17,
    "start_time": "2024-06-20T13:25:13.895Z"
   },
   {
    "duration": 109,
    "start_time": "2024-06-20T13:25:13.913Z"
   },
   {
    "duration": 15,
    "start_time": "2024-06-20T13:25:14.024Z"
   },
   {
    "duration": 10,
    "start_time": "2024-06-20T13:25:14.040Z"
   },
   {
    "duration": 41,
    "start_time": "2024-06-20T13:25:14.051Z"
   },
   {
    "duration": 10,
    "start_time": "2024-06-20T13:25:14.093Z"
   },
   {
    "duration": 15,
    "start_time": "2024-06-20T13:25:14.104Z"
   },
   {
    "duration": 3,
    "start_time": "2024-06-20T13:25:14.120Z"
   },
   {
    "duration": 327,
    "start_time": "2024-06-20T13:25:14.124Z"
   },
   {
    "duration": 3,
    "start_time": "2024-06-20T13:25:14.452Z"
   },
   {
    "duration": 180,
    "start_time": "2024-06-20T13:25:14.456Z"
   },
   {
    "duration": 292,
    "start_time": "2024-06-20T13:25:14.637Z"
   },
   {
    "duration": 8,
    "start_time": "2024-06-20T13:25:14.930Z"
   },
   {
    "duration": 11,
    "start_time": "2024-06-20T13:25:14.940Z"
   },
   {
    "duration": 4,
    "start_time": "2024-06-20T13:25:14.952Z"
   },
   {
    "duration": 1835,
    "start_time": "2024-06-20T13:25:14.958Z"
   },
   {
    "duration": 7,
    "start_time": "2024-06-20T13:25:16.795Z"
   },
   {
    "duration": 19,
    "start_time": "2024-06-20T13:25:16.803Z"
   },
   {
    "duration": 10,
    "start_time": "2024-06-20T13:25:16.824Z"
   },
   {
    "duration": 11,
    "start_time": "2024-06-20T13:25:16.836Z"
   },
   {
    "duration": 13,
    "start_time": "2024-06-20T13:25:16.848Z"
   },
   {
    "duration": 2,
    "start_time": "2024-06-20T13:25:16.884Z"
   },
   {
    "duration": 6,
    "start_time": "2024-06-20T13:25:16.888Z"
   },
   {
    "duration": 24,
    "start_time": "2024-06-20T13:25:16.895Z"
   },
   {
    "duration": 14,
    "start_time": "2024-06-20T13:25:16.921Z"
   },
   {
    "duration": 2,
    "start_time": "2024-06-20T13:25:16.936Z"
   },
   {
    "duration": 353,
    "start_time": "2024-06-20T13:25:16.940Z"
   },
   {
    "duration": 169,
    "start_time": "2024-06-20T13:25:17.294Z"
   },
   {
    "duration": 96,
    "start_time": "2024-06-20T13:25:17.464Z"
   },
   {
    "duration": 83,
    "start_time": "2024-06-20T13:25:17.561Z"
   },
   {
    "duration": 213,
    "start_time": "2024-06-20T13:25:17.646Z"
   },
   {
    "duration": 326,
    "start_time": "2024-06-20T13:33:05.204Z"
   },
   {
    "duration": 244,
    "start_time": "2024-06-20T13:33:31.875Z"
   },
   {
    "duration": 87,
    "start_time": "2024-06-20T13:34:01.743Z"
   },
   {
    "duration": 135,
    "start_time": "2024-06-20T13:36:38.443Z"
   },
   {
    "duration": 131,
    "start_time": "2024-06-20T13:37:02.191Z"
   },
   {
    "duration": 139,
    "start_time": "2024-06-20T13:37:42.743Z"
   },
   {
    "duration": 143,
    "start_time": "2024-06-20T13:38:07.623Z"
   },
   {
    "duration": 147,
    "start_time": "2024-06-20T13:38:13.583Z"
   },
   {
    "duration": 155,
    "start_time": "2024-06-20T13:38:18.131Z"
   },
   {
    "duration": 156,
    "start_time": "2024-06-20T13:38:24.947Z"
   },
   {
    "duration": 174,
    "start_time": "2024-06-20T13:38:44.643Z"
   },
   {
    "duration": 158,
    "start_time": "2024-06-20T13:39:11.506Z"
   },
   {
    "duration": 225,
    "start_time": "2024-06-20T13:39:28.815Z"
   },
   {
    "duration": 154,
    "start_time": "2024-06-20T13:39:34.739Z"
   },
   {
    "duration": 225,
    "start_time": "2024-06-20T13:39:42.186Z"
   },
   {
    "duration": 172,
    "start_time": "2024-06-20T13:40:02.103Z"
   },
   {
    "duration": 152,
    "start_time": "2024-06-20T13:40:08.391Z"
   },
   {
    "duration": 158,
    "start_time": "2024-06-20T13:40:18.019Z"
   },
   {
    "duration": 154,
    "start_time": "2024-06-20T13:40:27.764Z"
   },
   {
    "duration": 171,
    "start_time": "2024-06-20T13:40:37.199Z"
   },
   {
    "duration": 160,
    "start_time": "2024-06-20T13:40:44.104Z"
   },
   {
    "duration": 164,
    "start_time": "2024-06-20T13:40:51.026Z"
   },
   {
    "duration": 12,
    "start_time": "2024-06-20T13:45:26.972Z"
   },
   {
    "duration": 17,
    "start_time": "2024-06-20T13:55:34.977Z"
   },
   {
    "duration": 16,
    "start_time": "2024-06-20T13:56:38.823Z"
   },
   {
    "duration": 17,
    "start_time": "2024-06-20T13:57:05.944Z"
   },
   {
    "duration": 1046,
    "start_time": "2024-06-20T13:57:15.587Z"
   },
   {
    "duration": 100,
    "start_time": "2024-06-20T13:57:16.635Z"
   },
   {
    "duration": 6,
    "start_time": "2024-06-20T13:57:16.736Z"
   },
   {
    "duration": 129,
    "start_time": "2024-06-20T13:57:16.743Z"
   },
   {
    "duration": 38,
    "start_time": "2024-06-20T13:57:16.874Z"
   },
   {
    "duration": 30,
    "start_time": "2024-06-20T13:57:16.913Z"
   },
   {
    "duration": 64,
    "start_time": "2024-06-20T13:57:16.944Z"
   },
   {
    "duration": 55,
    "start_time": "2024-06-20T13:57:17.009Z"
   },
   {
    "duration": 47,
    "start_time": "2024-06-20T13:57:17.066Z"
   },
   {
    "duration": 10,
    "start_time": "2024-06-20T13:57:17.114Z"
   },
   {
    "duration": 15,
    "start_time": "2024-06-20T13:57:17.126Z"
   },
   {
    "duration": 10,
    "start_time": "2024-06-20T13:57:17.142Z"
   },
   {
    "duration": 39,
    "start_time": "2024-06-20T13:57:17.153Z"
   },
   {
    "duration": 30,
    "start_time": "2024-06-20T13:57:17.195Z"
   },
   {
    "duration": 10,
    "start_time": "2024-06-20T13:57:17.226Z"
   },
   {
    "duration": 8,
    "start_time": "2024-06-20T13:57:17.237Z"
   },
   {
    "duration": 8,
    "start_time": "2024-06-20T13:57:17.246Z"
   },
   {
    "duration": 30,
    "start_time": "2024-06-20T13:57:17.255Z"
   },
   {
    "duration": 323,
    "start_time": "2024-06-20T13:57:17.287Z"
   },
   {
    "duration": 203,
    "start_time": "2024-06-20T13:57:17.611Z"
   },
   {
    "duration": 1103,
    "start_time": "2024-06-20T13:57:17.815Z"
   },
   {
    "duration": 214,
    "start_time": "2024-06-20T13:57:18.919Z"
   },
   {
    "duration": 374,
    "start_time": "2024-06-20T13:57:19.135Z"
   },
   {
    "duration": 17,
    "start_time": "2024-06-20T13:57:19.510Z"
   },
   {
    "duration": 6,
    "start_time": "2024-06-20T13:57:19.528Z"
   },
   {
    "duration": 21,
    "start_time": "2024-06-20T13:57:19.536Z"
   },
   {
    "duration": 133,
    "start_time": "2024-06-20T13:57:19.559Z"
   },
   {
    "duration": 97,
    "start_time": "2024-06-20T13:57:19.693Z"
   },
   {
    "duration": 37,
    "start_time": "2024-06-20T13:57:19.792Z"
   },
   {
    "duration": 17,
    "start_time": "2024-06-20T13:57:19.830Z"
   },
   {
    "duration": 10,
    "start_time": "2024-06-20T13:57:19.848Z"
   },
   {
    "duration": 42,
    "start_time": "2024-06-20T13:57:19.859Z"
   },
   {
    "duration": 124,
    "start_time": "2024-06-20T13:57:19.902Z"
   },
   {
    "duration": 19,
    "start_time": "2024-06-20T13:57:20.027Z"
   },
   {
    "duration": 11,
    "start_time": "2024-06-20T13:57:20.047Z"
   },
   {
    "duration": 39,
    "start_time": "2024-06-20T13:57:20.059Z"
   },
   {
    "duration": 11,
    "start_time": "2024-06-20T13:57:20.100Z"
   },
   {
    "duration": 17,
    "start_time": "2024-06-20T13:57:20.113Z"
   },
   {
    "duration": 4,
    "start_time": "2024-06-20T13:57:20.131Z"
   },
   {
    "duration": 341,
    "start_time": "2024-06-20T13:57:20.136Z"
   },
   {
    "duration": 3,
    "start_time": "2024-06-20T13:57:20.484Z"
   },
   {
    "duration": 188,
    "start_time": "2024-06-20T13:57:20.488Z"
   },
   {
    "duration": 332,
    "start_time": "2024-06-20T13:57:20.678Z"
   },
   {
    "duration": 7,
    "start_time": "2024-06-20T13:57:21.012Z"
   },
   {
    "duration": 14,
    "start_time": "2024-06-20T13:57:21.020Z"
   },
   {
    "duration": 13,
    "start_time": "2024-06-20T13:57:21.035Z"
   },
   {
    "duration": 2123,
    "start_time": "2024-06-20T13:57:21.049Z"
   },
   {
    "duration": 11,
    "start_time": "2024-06-20T13:57:23.174Z"
   },
   {
    "duration": 28,
    "start_time": "2024-06-20T13:57:23.186Z"
   },
   {
    "duration": 12,
    "start_time": "2024-06-20T13:57:23.215Z"
   },
   {
    "duration": 13,
    "start_time": "2024-06-20T13:57:23.228Z"
   },
   {
    "duration": 27,
    "start_time": "2024-06-20T13:57:23.242Z"
   },
   {
    "duration": 5,
    "start_time": "2024-06-20T13:57:23.271Z"
   },
   {
    "duration": 18,
    "start_time": "2024-06-20T13:57:23.277Z"
   },
   {
    "duration": 27,
    "start_time": "2024-06-20T13:57:23.297Z"
   },
   {
    "duration": 13,
    "start_time": "2024-06-20T13:57:23.326Z"
   },
   {
    "duration": 18,
    "start_time": "2024-06-20T13:57:23.340Z"
   },
   {
    "duration": 2,
    "start_time": "2024-06-20T13:57:23.359Z"
   },
   {
    "duration": 49,
    "start_time": "2024-06-20T13:57:23.363Z"
   },
   {
    "duration": 0,
    "start_time": "2024-06-20T13:57:23.413Z"
   },
   {
    "duration": 0,
    "start_time": "2024-06-20T13:57:23.414Z"
   },
   {
    "duration": 0,
    "start_time": "2024-06-20T13:57:23.415Z"
   },
   {
    "duration": 302,
    "start_time": "2024-06-20T13:59:03.337Z"
   },
   {
    "duration": 212,
    "start_time": "2024-06-20T13:59:12.697Z"
   },
   {
    "duration": 170,
    "start_time": "2024-06-20T13:59:13.265Z"
   },
   {
    "duration": 14,
    "start_time": "2024-06-20T13:59:15.857Z"
   },
   {
    "duration": 300,
    "start_time": "2024-06-20T13:59:48.018Z"
   },
   {
    "duration": 168,
    "start_time": "2024-06-20T14:02:05.656Z"
   },
   {
    "duration": 166,
    "start_time": "2024-06-20T14:02:18.129Z"
   },
   {
    "duration": 257,
    "start_time": "2024-06-20T14:02:27.177Z"
   },
   {
    "duration": 6,
    "start_time": "2024-06-20T14:04:22.038Z"
   },
   {
    "duration": 4,
    "start_time": "2024-06-20T14:04:32.522Z"
   },
   {
    "duration": 4,
    "start_time": "2024-06-20T14:04:39.245Z"
   },
   {
    "duration": 4,
    "start_time": "2024-06-20T14:05:11.686Z"
   },
   {
    "duration": 14,
    "start_time": "2024-06-20T14:10:24.086Z"
   },
   {
    "duration": 3,
    "start_time": "2024-06-20T14:11:03.826Z"
   },
   {
    "duration": 53,
    "start_time": "2024-06-20T14:22:46.080Z"
   },
   {
    "duration": 1155,
    "start_time": "2024-06-20T14:22:56.752Z"
   },
   {
    "duration": 4,
    "start_time": "2024-06-20T14:23:12.105Z"
   },
   {
    "duration": 4,
    "start_time": "2024-06-20T14:23:26.871Z"
   },
   {
    "duration": 5,
    "start_time": "2024-06-20T14:33:18.710Z"
   },
   {
    "duration": 3,
    "start_time": "2024-06-20T14:33:41.753Z"
   },
   {
    "duration": 5,
    "start_time": "2024-06-20T14:33:45.732Z"
   },
   {
    "duration": 4,
    "start_time": "2024-06-20T14:34:13.279Z"
   },
   {
    "duration": 6,
    "start_time": "2024-06-20T14:34:26.999Z"
   },
   {
    "duration": 4,
    "start_time": "2024-06-20T14:36:32.880Z"
   },
   {
    "duration": 5,
    "start_time": "2024-06-20T14:36:42.482Z"
   },
   {
    "duration": 14,
    "start_time": "2024-06-20T14:41:13.619Z"
   },
   {
    "duration": 10,
    "start_time": "2024-06-20T14:42:32.644Z"
   },
   {
    "duration": 152,
    "start_time": "2024-06-20T14:46:54.458Z"
   },
   {
    "duration": 213,
    "start_time": "2024-06-20T14:48:52.854Z"
   },
   {
    "duration": 142,
    "start_time": "2024-06-20T14:49:06.530Z"
   },
   {
    "duration": 202,
    "start_time": "2024-06-20T14:52:06.496Z"
   },
   {
    "duration": 258,
    "start_time": "2024-06-20T14:52:30.788Z"
   },
   {
    "duration": 263,
    "start_time": "2024-06-20T14:52:53.023Z"
   },
   {
    "duration": 65,
    "start_time": "2024-06-20T14:54:22.197Z"
   },
   {
    "duration": 206,
    "start_time": "2024-06-20T14:54:28.423Z"
   },
   {
    "duration": 123,
    "start_time": "2024-06-20T14:54:39.936Z"
   },
   {
    "duration": 14,
    "start_time": "2024-06-20T14:55:14.025Z"
   },
   {
    "duration": 142,
    "start_time": "2024-06-20T14:55:48.533Z"
   },
   {
    "duration": 254,
    "start_time": "2024-06-20T14:56:09.183Z"
   },
   {
    "duration": 252,
    "start_time": "2024-06-20T14:57:52.895Z"
   },
   {
    "duration": 257,
    "start_time": "2024-06-20T14:58:31.098Z"
   },
   {
    "duration": 8,
    "start_time": "2024-06-20T15:34:41.934Z"
   },
   {
    "duration": 17,
    "start_time": "2024-06-20T15:34:46.699Z"
   },
   {
    "duration": 1067,
    "start_time": "2024-06-20T15:35:00.192Z"
   },
   {
    "duration": 101,
    "start_time": "2024-06-20T15:35:01.260Z"
   },
   {
    "duration": 5,
    "start_time": "2024-06-20T15:35:01.362Z"
   },
   {
    "duration": 151,
    "start_time": "2024-06-20T15:35:01.369Z"
   },
   {
    "duration": 27,
    "start_time": "2024-06-20T15:35:01.522Z"
   },
   {
    "duration": 63,
    "start_time": "2024-06-20T15:35:01.550Z"
   },
   {
    "duration": 55,
    "start_time": "2024-06-20T15:35:01.614Z"
   },
   {
    "duration": 60,
    "start_time": "2024-06-20T15:35:01.671Z"
   },
   {
    "duration": 52,
    "start_time": "2024-06-20T15:35:01.732Z"
   },
   {
    "duration": 12,
    "start_time": "2024-06-20T15:35:01.786Z"
   },
   {
    "duration": 54,
    "start_time": "2024-06-20T15:35:01.800Z"
   },
   {
    "duration": 55,
    "start_time": "2024-06-20T15:35:01.855Z"
   },
   {
    "duration": 36,
    "start_time": "2024-06-20T15:35:01.911Z"
   },
   {
    "duration": 80,
    "start_time": "2024-06-20T15:35:01.950Z"
   },
   {
    "duration": 57,
    "start_time": "2024-06-20T15:35:02.031Z"
   },
   {
    "duration": 61,
    "start_time": "2024-06-20T15:35:02.090Z"
   },
   {
    "duration": 49,
    "start_time": "2024-06-20T15:35:02.153Z"
   },
   {
    "duration": 32,
    "start_time": "2024-06-20T15:35:02.204Z"
   },
   {
    "duration": 355,
    "start_time": "2024-06-20T15:35:02.237Z"
   },
   {
    "duration": 212,
    "start_time": "2024-06-20T15:35:02.594Z"
   },
   {
    "duration": 1098,
    "start_time": "2024-06-20T15:35:02.807Z"
   },
   {
    "duration": 198,
    "start_time": "2024-06-20T15:35:03.906Z"
   },
   {
    "duration": 409,
    "start_time": "2024-06-20T15:35:04.105Z"
   },
   {
    "duration": 15,
    "start_time": "2024-06-20T15:35:04.516Z"
   },
   {
    "duration": 7,
    "start_time": "2024-06-20T15:35:04.533Z"
   },
   {
    "duration": 65,
    "start_time": "2024-06-20T15:35:04.542Z"
   },
   {
    "duration": 127,
    "start_time": "2024-06-20T15:35:04.609Z"
   },
   {
    "duration": 107,
    "start_time": "2024-06-20T15:35:04.738Z"
   },
   {
    "duration": 38,
    "start_time": "2024-06-20T15:35:04.847Z"
   },
   {
    "duration": 20,
    "start_time": "2024-06-20T15:35:04.887Z"
   },
   {
    "duration": 9,
    "start_time": "2024-06-20T15:35:04.908Z"
   },
   {
    "duration": 28,
    "start_time": "2024-06-20T15:35:04.918Z"
   },
   {
    "duration": 124,
    "start_time": "2024-06-20T15:35:04.948Z"
   },
   {
    "duration": 33,
    "start_time": "2024-06-20T15:35:05.073Z"
   },
   {
    "duration": 10,
    "start_time": "2024-06-20T15:35:05.107Z"
   },
   {
    "duration": 23,
    "start_time": "2024-06-20T15:35:05.118Z"
   },
   {
    "duration": 11,
    "start_time": "2024-06-20T15:35:05.142Z"
   },
   {
    "duration": 37,
    "start_time": "2024-06-20T15:35:05.154Z"
   },
   {
    "duration": 4,
    "start_time": "2024-06-20T15:35:05.193Z"
   },
   {
    "duration": 363,
    "start_time": "2024-06-20T15:35:05.199Z"
   },
   {
    "duration": 3,
    "start_time": "2024-06-20T15:35:05.565Z"
   },
   {
    "duration": 213,
    "start_time": "2024-06-20T15:35:05.569Z"
   },
   {
    "duration": 348,
    "start_time": "2024-06-20T15:35:05.783Z"
   },
   {
    "duration": 8,
    "start_time": "2024-06-20T15:35:06.132Z"
   },
   {
    "duration": 12,
    "start_time": "2024-06-20T15:35:06.141Z"
   },
   {
    "duration": 7,
    "start_time": "2024-06-20T15:35:06.154Z"
   },
   {
    "duration": 2068,
    "start_time": "2024-06-20T15:35:06.162Z"
   },
   {
    "duration": 6,
    "start_time": "2024-06-20T15:35:08.231Z"
   },
   {
    "duration": 20,
    "start_time": "2024-06-20T15:35:08.238Z"
   },
   {
    "duration": 1130,
    "start_time": "2024-06-20T15:35:08.259Z"
   },
   {
    "duration": 0,
    "start_time": "2024-06-20T15:35:09.391Z"
   },
   {
    "duration": 0,
    "start_time": "2024-06-20T15:35:09.393Z"
   },
   {
    "duration": 0,
    "start_time": "2024-06-20T15:35:09.394Z"
   },
   {
    "duration": 0,
    "start_time": "2024-06-20T15:35:09.395Z"
   },
   {
    "duration": 0,
    "start_time": "2024-06-20T15:35:09.396Z"
   },
   {
    "duration": 0,
    "start_time": "2024-06-20T15:35:09.398Z"
   },
   {
    "duration": 0,
    "start_time": "2024-06-20T15:35:09.399Z"
   },
   {
    "duration": 0,
    "start_time": "2024-06-20T15:35:09.401Z"
   },
   {
    "duration": 1,
    "start_time": "2024-06-20T15:35:09.402Z"
   },
   {
    "duration": 0,
    "start_time": "2024-06-20T15:35:09.404Z"
   },
   {
    "duration": 0,
    "start_time": "2024-06-20T15:35:09.405Z"
   },
   {
    "duration": 0,
    "start_time": "2024-06-20T15:35:09.406Z"
   },
   {
    "duration": 0,
    "start_time": "2024-06-20T15:35:09.408Z"
   },
   {
    "duration": 0,
    "start_time": "2024-06-20T15:35:09.408Z"
   },
   {
    "duration": 11,
    "start_time": "2024-06-20T15:35:37.735Z"
   },
   {
    "duration": 12,
    "start_time": "2024-06-20T15:36:41.726Z"
   },
   {
    "duration": 14,
    "start_time": "2024-06-20T15:37:13.573Z"
   },
   {
    "duration": 10,
    "start_time": "2024-06-20T15:37:39.981Z"
   },
   {
    "duration": 3,
    "start_time": "2024-06-20T15:37:47.049Z"
   },
   {
    "duration": 3,
    "start_time": "2024-06-20T15:37:47.503Z"
   },
   {
    "duration": 20,
    "start_time": "2024-06-20T15:37:48.013Z"
   },
   {
    "duration": 18,
    "start_time": "2024-06-20T15:37:56.073Z"
   },
   {
    "duration": 19,
    "start_time": "2024-06-20T15:40:39.097Z"
   },
   {
    "duration": 53,
    "start_time": "2024-06-20T15:42:56.020Z"
   },
   {
    "duration": 7,
    "start_time": "2024-06-20T15:43:05.168Z"
   },
   {
    "duration": 6,
    "start_time": "2024-06-20T15:44:27.496Z"
   },
   {
    "duration": 13,
    "start_time": "2024-06-20T15:44:41.648Z"
   },
   {
    "duration": 14,
    "start_time": "2024-06-20T15:44:44.388Z"
   },
   {
    "duration": 3,
    "start_time": "2024-06-20T15:47:01.079Z"
   },
   {
    "duration": 16,
    "start_time": "2024-06-20T15:48:26.145Z"
   },
   {
    "duration": 15,
    "start_time": "2024-06-20T15:48:39.533Z"
   },
   {
    "duration": 3,
    "start_time": "2024-06-20T15:48:40.086Z"
   },
   {
    "duration": 294,
    "start_time": "2024-06-20T15:48:40.559Z"
   },
   {
    "duration": 168,
    "start_time": "2024-06-20T15:48:41.137Z"
   },
   {
    "duration": 210,
    "start_time": "2024-06-20T15:48:41.739Z"
   },
   {
    "duration": 5,
    "start_time": "2024-06-20T15:48:42.792Z"
   },
   {
    "duration": 251,
    "start_time": "2024-06-20T15:48:43.571Z"
   },
   {
    "duration": 13,
    "start_time": "2024-06-20T15:48:45.144Z"
   },
   {
    "duration": 174,
    "start_time": "2024-06-20T15:49:26.567Z"
   },
   {
    "duration": 14,
    "start_time": "2024-06-20T16:05:10.847Z"
   },
   {
    "duration": 335,
    "start_time": "2024-06-20T16:06:35.307Z"
   },
   {
    "duration": 392,
    "start_time": "2024-06-20T16:07:50.739Z"
   },
   {
    "duration": 319,
    "start_time": "2024-06-20T16:09:05.967Z"
   },
   {
    "duration": 7,
    "start_time": "2024-06-20T16:14:02.099Z"
   },
   {
    "duration": 29,
    "start_time": "2024-06-20T16:14:09.839Z"
   },
   {
    "duration": 5,
    "start_time": "2024-06-20T16:14:25.899Z"
   },
   {
    "duration": 4,
    "start_time": "2024-06-20T16:14:33.080Z"
   },
   {
    "duration": 15,
    "start_time": "2024-06-20T16:16:19.140Z"
   },
   {
    "duration": 16,
    "start_time": "2024-06-20T16:17:21.160Z"
   },
   {
    "duration": 21,
    "start_time": "2024-06-20T16:17:47.060Z"
   },
   {
    "duration": 21,
    "start_time": "2024-06-20T16:18:40.220Z"
   },
   {
    "duration": 14,
    "start_time": "2024-06-20T16:20:37.901Z"
   },
   {
    "duration": 17,
    "start_time": "2024-06-20T16:21:58.736Z"
   },
   {
    "duration": 19,
    "start_time": "2024-06-20T16:22:44.860Z"
   },
   {
    "duration": 54,
    "start_time": "2024-06-20T16:23:00.237Z"
   },
   {
    "duration": 330,
    "start_time": "2024-06-20T16:23:14.600Z"
   },
   {
    "duration": 537,
    "start_time": "2024-06-20T16:27:46.249Z"
   },
   {
    "duration": 494,
    "start_time": "2024-06-20T16:27:57.800Z"
   },
   {
    "duration": 548,
    "start_time": "2024-06-20T16:28:22.040Z"
   },
   {
    "duration": 539,
    "start_time": "2024-06-20T16:28:56.168Z"
   },
   {
    "duration": 399,
    "start_time": "2024-06-20T16:30:29.840Z"
   },
   {
    "duration": 658,
    "start_time": "2024-06-20T16:32:42.280Z"
   },
   {
    "duration": 611,
    "start_time": "2024-06-20T16:34:17.481Z"
   },
   {
    "duration": 614,
    "start_time": "2024-06-20T16:34:26.448Z"
   },
   {
    "duration": 288,
    "start_time": "2024-06-20T16:36:00.789Z"
   },
   {
    "duration": 115,
    "start_time": "2024-06-20T16:37:24.408Z"
   },
   {
    "duration": 111,
    "start_time": "2024-06-20T16:37:33.880Z"
   },
   {
    "duration": 116,
    "start_time": "2024-06-20T16:37:43.697Z"
   },
   {
    "duration": 715,
    "start_time": "2024-06-20T16:38:03.548Z"
   },
   {
    "duration": 121,
    "start_time": "2024-06-20T16:38:11.599Z"
   },
   {
    "duration": 644,
    "start_time": "2024-06-20T16:38:16.487Z"
   },
   {
    "duration": 234,
    "start_time": "2024-06-20T16:38:50.899Z"
   },
   {
    "duration": 251,
    "start_time": "2024-06-20T16:38:59.079Z"
   },
   {
    "duration": 274,
    "start_time": "2024-06-20T16:39:44.819Z"
   },
   {
    "duration": 333,
    "start_time": "2024-06-20T16:39:53.419Z"
   },
   {
    "duration": 329,
    "start_time": "2024-06-20T16:40:01.187Z"
   },
   {
    "duration": 609,
    "start_time": "2024-06-20T16:40:55.467Z"
   },
   {
    "duration": 668,
    "start_time": "2024-06-20T16:41:21.647Z"
   },
   {
    "duration": 653,
    "start_time": "2024-06-20T16:41:29.739Z"
   },
   {
    "duration": 753,
    "start_time": "2024-06-20T16:41:37.327Z"
   },
   {
    "duration": 653,
    "start_time": "2024-06-20T16:41:49.488Z"
   },
   {
    "duration": 625,
    "start_time": "2024-06-20T16:42:33.433Z"
   },
   {
    "duration": 640,
    "start_time": "2024-06-20T16:42:43.772Z"
   },
   {
    "duration": 645,
    "start_time": "2024-06-20T16:43:20.072Z"
   },
   {
    "duration": 640,
    "start_time": "2024-06-20T16:43:55.252Z"
   },
   {
    "duration": 15,
    "start_time": "2024-06-20T16:46:22.683Z"
   },
   {
    "duration": 9,
    "start_time": "2024-06-20T16:48:34.598Z"
   },
   {
    "duration": 7,
    "start_time": "2024-06-20T16:51:31.340Z"
   },
   {
    "duration": 6,
    "start_time": "2024-06-20T16:51:45.926Z"
   },
   {
    "duration": 4,
    "start_time": "2024-06-20T16:52:23.683Z"
   },
   {
    "duration": 8,
    "start_time": "2024-06-20T16:52:29.592Z"
   },
   {
    "duration": 9,
    "start_time": "2024-06-20T16:52:56.966Z"
   },
   {
    "duration": 70,
    "start_time": "2024-06-20T16:53:15.576Z"
   },
   {
    "duration": 9,
    "start_time": "2024-06-20T16:53:19.058Z"
   },
   {
    "duration": 5,
    "start_time": "2024-06-20T16:54:47.951Z"
   },
   {
    "duration": 8,
    "start_time": "2024-06-20T16:54:54.598Z"
   },
   {
    "duration": 164,
    "start_time": "2024-06-20T16:55:39.311Z"
   },
   {
    "duration": 82,
    "start_time": "2024-06-20T16:55:54.016Z"
   },
   {
    "duration": 112,
    "start_time": "2024-06-20T16:56:11.826Z"
   },
   {
    "duration": 79,
    "start_time": "2024-06-20T16:56:22.397Z"
   },
   {
    "duration": 15,
    "start_time": "2024-06-20T16:56:36.905Z"
   },
   {
    "duration": 16,
    "start_time": "2024-06-20T16:56:54.146Z"
   },
   {
    "duration": 15,
    "start_time": "2024-06-20T16:57:04.313Z"
   },
   {
    "duration": 15,
    "start_time": "2024-06-20T16:57:17.122Z"
   },
   {
    "duration": 56,
    "start_time": "2024-06-20T16:57:43.166Z"
   },
   {
    "duration": 80,
    "start_time": "2024-06-20T16:57:45.834Z"
   },
   {
    "duration": 85,
    "start_time": "2024-06-20T16:58:02.958Z"
   },
   {
    "duration": 116,
    "start_time": "2024-06-20T16:59:16.880Z"
   },
   {
    "duration": 93,
    "start_time": "2024-06-20T16:59:31.017Z"
   },
   {
    "duration": 15,
    "start_time": "2024-06-20T16:59:42.351Z"
   },
   {
    "duration": 14,
    "start_time": "2024-06-20T17:00:00.458Z"
   },
   {
    "duration": 84,
    "start_time": "2024-06-20T17:00:05.053Z"
   },
   {
    "duration": 84,
    "start_time": "2024-06-20T17:00:26.785Z"
   },
   {
    "duration": 9,
    "start_time": "2024-06-20T17:00:58.842Z"
   },
   {
    "duration": 84,
    "start_time": "2024-06-20T17:00:59.686Z"
   },
   {
    "duration": 8,
    "start_time": "2024-06-20T17:01:07.762Z"
   },
   {
    "duration": 8,
    "start_time": "2024-06-20T17:01:12.808Z"
   },
   {
    "duration": 85,
    "start_time": "2024-06-20T17:01:13.140Z"
   },
   {
    "duration": 109,
    "start_time": "2024-06-20T17:01:37.945Z"
   },
   {
    "duration": 9,
    "start_time": "2024-06-20T17:02:34.350Z"
   },
   {
    "duration": 107,
    "start_time": "2024-06-20T17:02:34.855Z"
   },
   {
    "duration": 8,
    "start_time": "2024-06-20T17:03:01.676Z"
   },
   {
    "duration": 111,
    "start_time": "2024-06-20T17:03:02.197Z"
   },
   {
    "duration": 112,
    "start_time": "2024-06-20T17:04:27.538Z"
   },
   {
    "duration": 122,
    "start_time": "2024-06-20T17:04:42.298Z"
   },
   {
    "duration": 174,
    "start_time": "2024-06-20T17:05:06.351Z"
   },
   {
    "duration": 6,
    "start_time": "2024-06-20T17:08:54.630Z"
   },
   {
    "duration": 13,
    "start_time": "2024-06-20T17:08:58.197Z"
   },
   {
    "duration": 14,
    "start_time": "2024-06-20T17:09:27.390Z"
   },
   {
    "duration": 49,
    "start_time": "2024-06-21T16:51:44.282Z"
   },
   {
    "duration": 1465,
    "start_time": "2024-06-21T16:51:54.155Z"
   },
   {
    "duration": 217,
    "start_time": "2024-06-21T16:51:55.622Z"
   },
   {
    "duration": 8,
    "start_time": "2024-06-21T16:51:55.841Z"
   },
   {
    "duration": 215,
    "start_time": "2024-06-21T16:51:55.852Z"
   },
   {
    "duration": 43,
    "start_time": "2024-06-21T16:51:56.070Z"
   },
   {
    "duration": 47,
    "start_time": "2024-06-21T16:51:56.115Z"
   },
   {
    "duration": 41,
    "start_time": "2024-06-21T16:51:56.164Z"
   },
   {
    "duration": 80,
    "start_time": "2024-06-21T16:51:56.206Z"
   },
   {
    "duration": 43,
    "start_time": "2024-06-21T16:51:56.287Z"
   },
   {
    "duration": 13,
    "start_time": "2024-06-21T16:51:56.333Z"
   },
   {
    "duration": 44,
    "start_time": "2024-06-21T16:51:56.348Z"
   },
   {
    "duration": 11,
    "start_time": "2024-06-21T16:51:56.393Z"
   },
   {
    "duration": 21,
    "start_time": "2024-06-21T16:51:56.405Z"
   },
   {
    "duration": 64,
    "start_time": "2024-06-21T16:51:56.428Z"
   },
   {
    "duration": 12,
    "start_time": "2024-06-21T16:51:56.494Z"
   },
   {
    "duration": 18,
    "start_time": "2024-06-21T16:51:56.509Z"
   },
   {
    "duration": 6,
    "start_time": "2024-06-21T16:51:56.528Z"
   },
   {
    "duration": 20,
    "start_time": "2024-06-21T16:51:56.535Z"
   },
   {
    "duration": 409,
    "start_time": "2024-06-21T16:51:56.557Z"
   },
   {
    "duration": 240,
    "start_time": "2024-06-21T16:51:56.968Z"
   },
   {
    "duration": 1525,
    "start_time": "2024-06-21T16:51:57.210Z"
   },
   {
    "duration": 255,
    "start_time": "2024-06-21T16:51:58.736Z"
   },
   {
    "duration": 486,
    "start_time": "2024-06-21T16:51:58.993Z"
   },
   {
    "duration": 19,
    "start_time": "2024-06-21T16:51:59.481Z"
   },
   {
    "duration": 36,
    "start_time": "2024-06-21T16:51:59.501Z"
   },
   {
    "duration": 22,
    "start_time": "2024-06-21T16:51:59.539Z"
   },
   {
    "duration": 133,
    "start_time": "2024-06-21T16:51:59.562Z"
   },
   {
    "duration": 108,
    "start_time": "2024-06-21T16:51:59.698Z"
   },
   {
    "duration": 44,
    "start_time": "2024-06-21T16:51:59.807Z"
   },
   {
    "duration": 38,
    "start_time": "2024-06-21T16:51:59.853Z"
   },
   {
    "duration": 12,
    "start_time": "2024-06-21T16:51:59.893Z"
   },
   {
    "duration": 40,
    "start_time": "2024-06-21T16:51:59.906Z"
   },
   {
    "duration": 157,
    "start_time": "2024-06-21T16:51:59.947Z"
   },
   {
    "duration": 55,
    "start_time": "2024-06-21T16:52:00.106Z"
   },
   {
    "duration": 68,
    "start_time": "2024-06-21T16:52:00.162Z"
   },
   {
    "duration": 42,
    "start_time": "2024-06-21T16:52:00.232Z"
   },
   {
    "duration": 27,
    "start_time": "2024-06-21T16:52:00.276Z"
   },
   {
    "duration": 61,
    "start_time": "2024-06-21T16:52:00.305Z"
   },
   {
    "duration": 25,
    "start_time": "2024-06-21T16:52:00.368Z"
   },
   {
    "duration": 479,
    "start_time": "2024-06-21T16:52:00.395Z"
   },
   {
    "duration": 7,
    "start_time": "2024-06-21T16:52:00.876Z"
   },
   {
    "duration": 332,
    "start_time": "2024-06-21T16:52:00.885Z"
   },
   {
    "duration": 401,
    "start_time": "2024-06-21T16:52:01.219Z"
   },
   {
    "duration": 8,
    "start_time": "2024-06-21T16:52:01.622Z"
   },
   {
    "duration": 55,
    "start_time": "2024-06-21T16:52:01.632Z"
   },
   {
    "duration": 48,
    "start_time": "2024-06-21T16:52:01.688Z"
   },
   {
    "duration": 2471,
    "start_time": "2024-06-21T16:52:01.738Z"
   },
   {
    "duration": 9,
    "start_time": "2024-06-21T16:52:04.211Z"
   },
   {
    "duration": 37,
    "start_time": "2024-06-21T16:52:04.221Z"
   },
   {
    "duration": 14,
    "start_time": "2024-06-21T16:52:04.259Z"
   },
   {
    "duration": 30,
    "start_time": "2024-06-21T16:52:04.281Z"
   },
   {
    "duration": 44,
    "start_time": "2024-06-21T16:52:04.313Z"
   },
   {
    "duration": 109,
    "start_time": "2024-06-21T16:52:04.360Z"
   },
   {
    "duration": 18,
    "start_time": "2024-06-21T16:52:04.470Z"
   },
   {
    "duration": 29,
    "start_time": "2024-06-21T16:52:04.489Z"
   },
   {
    "duration": 20,
    "start_time": "2024-06-21T16:52:04.520Z"
   },
   {
    "duration": 27,
    "start_time": "2024-06-21T16:52:04.542Z"
   },
   {
    "duration": 18,
    "start_time": "2024-06-21T16:52:04.571Z"
   },
   {
    "duration": 45,
    "start_time": "2024-06-21T16:52:04.591Z"
   },
   {
    "duration": 57,
    "start_time": "2024-06-21T16:52:04.638Z"
   },
   {
    "duration": 13,
    "start_time": "2024-06-21T16:52:04.697Z"
   },
   {
    "duration": 391,
    "start_time": "2024-06-21T16:52:04.711Z"
   },
   {
    "duration": 233,
    "start_time": "2024-06-21T16:52:05.103Z"
   },
   {
    "duration": 208,
    "start_time": "2024-06-21T16:52:05.337Z"
   },
   {
    "duration": 6,
    "start_time": "2024-06-21T16:52:05.546Z"
   },
   {
    "duration": 363,
    "start_time": "2024-06-21T16:52:05.554Z"
   },
   {
    "duration": 920,
    "start_time": "2024-06-21T16:52:05.919Z"
   },
   {
    "duration": 17,
    "start_time": "2024-06-21T16:52:06.841Z"
   },
   {
    "duration": 254,
    "start_time": "2024-06-21T16:52:06.860Z"
   },
   {
    "duration": 18,
    "start_time": "2024-06-21T16:52:07.116Z"
   },
   {
    "duration": 12,
    "start_time": "2024-06-21T16:52:07.135Z"
   },
   {
    "duration": 6,
    "start_time": "2024-06-21T17:20:37.950Z"
   },
   {
    "duration": 18,
    "start_time": "2024-06-21T17:23:08.941Z"
   },
   {
    "duration": 107,
    "start_time": "2024-06-21T17:26:26.947Z"
   },
   {
    "duration": 5,
    "start_time": "2024-06-21T17:26:37.535Z"
   },
   {
    "duration": 19,
    "start_time": "2024-06-21T17:27:03.244Z"
   },
   {
    "duration": 5,
    "start_time": "2024-06-21T17:27:11.980Z"
   },
   {
    "duration": 6,
    "start_time": "2024-06-21T17:27:19.844Z"
   },
   {
    "duration": 5,
    "start_time": "2024-06-21T17:27:29.628Z"
   },
   {
    "duration": 23,
    "start_time": "2024-06-21T17:43:42.334Z"
   },
   {
    "duration": 1287,
    "start_time": "2024-06-21T17:43:52.164Z"
   },
   {
    "duration": 106,
    "start_time": "2024-06-21T17:43:53.453Z"
   },
   {
    "duration": 7,
    "start_time": "2024-06-21T17:43:53.560Z"
   },
   {
    "duration": 172,
    "start_time": "2024-06-21T17:43:53.570Z"
   },
   {
    "duration": 51,
    "start_time": "2024-06-21T17:43:53.744Z"
   },
   {
    "duration": 33,
    "start_time": "2024-06-21T17:43:53.797Z"
   },
   {
    "duration": 61,
    "start_time": "2024-06-21T17:43:53.832Z"
   },
   {
    "duration": 87,
    "start_time": "2024-06-21T17:43:53.895Z"
   },
   {
    "duration": 43,
    "start_time": "2024-06-21T17:43:53.984Z"
   },
   {
    "duration": 14,
    "start_time": "2024-06-21T17:43:54.030Z"
   },
   {
    "duration": 49,
    "start_time": "2024-06-21T17:43:54.046Z"
   },
   {
    "duration": 24,
    "start_time": "2024-06-21T17:43:54.096Z"
   },
   {
    "duration": 23,
    "start_time": "2024-06-21T17:43:54.122Z"
   },
   {
    "duration": 62,
    "start_time": "2024-06-21T17:43:54.146Z"
   },
   {
    "duration": 12,
    "start_time": "2024-06-21T17:43:54.210Z"
   },
   {
    "duration": 17,
    "start_time": "2024-06-21T17:43:54.224Z"
   },
   {
    "duration": 18,
    "start_time": "2024-06-21T17:43:54.242Z"
   },
   {
    "duration": 37,
    "start_time": "2024-06-21T17:43:54.262Z"
   },
   {
    "duration": 403,
    "start_time": "2024-06-21T17:43:54.301Z"
   },
   {
    "duration": 252,
    "start_time": "2024-06-21T17:43:54.705Z"
   },
   {
    "duration": 1641,
    "start_time": "2024-06-21T17:43:54.959Z"
   },
   {
    "duration": 252,
    "start_time": "2024-06-21T17:43:56.602Z"
   },
   {
    "duration": 468,
    "start_time": "2024-06-21T17:43:56.856Z"
   },
   {
    "duration": 19,
    "start_time": "2024-06-21T17:43:57.326Z"
   },
   {
    "duration": 6,
    "start_time": "2024-06-21T17:43:57.347Z"
   },
   {
    "duration": 38,
    "start_time": "2024-06-21T17:43:57.355Z"
   },
   {
    "duration": 139,
    "start_time": "2024-06-21T17:43:57.394Z"
   },
   {
    "duration": 124,
    "start_time": "2024-06-21T17:43:57.537Z"
   },
   {
    "duration": 56,
    "start_time": "2024-06-21T17:43:57.662Z"
   },
   {
    "duration": 19,
    "start_time": "2024-06-21T17:43:57.720Z"
   },
   {
    "duration": 11,
    "start_time": "2024-06-21T17:43:57.741Z"
   },
   {
    "duration": 47,
    "start_time": "2024-06-21T17:43:57.753Z"
   },
   {
    "duration": 168,
    "start_time": "2024-06-21T17:43:57.802Z"
   },
   {
    "duration": 38,
    "start_time": "2024-06-21T17:43:57.971Z"
   },
   {
    "duration": 13,
    "start_time": "2024-06-21T17:43:58.010Z"
   },
   {
    "duration": 22,
    "start_time": "2024-06-21T17:43:58.025Z"
   },
   {
    "duration": 45,
    "start_time": "2024-06-21T17:43:58.049Z"
   },
   {
    "duration": 16,
    "start_time": "2024-06-21T17:43:58.095Z"
   },
   {
    "duration": 8,
    "start_time": "2024-06-21T17:43:58.112Z"
   },
   {
    "duration": 439,
    "start_time": "2024-06-21T17:43:58.121Z"
   },
   {
    "duration": 4,
    "start_time": "2024-06-21T17:43:58.562Z"
   },
   {
    "duration": 231,
    "start_time": "2024-06-21T17:43:58.568Z"
   },
   {
    "duration": 393,
    "start_time": "2024-06-21T17:43:58.801Z"
   },
   {
    "duration": 9,
    "start_time": "2024-06-21T17:43:59.196Z"
   },
   {
    "duration": 40,
    "start_time": "2024-06-21T17:43:59.206Z"
   },
   {
    "duration": 7,
    "start_time": "2024-06-21T17:43:59.247Z"
   },
   {
    "duration": 2494,
    "start_time": "2024-06-21T17:43:59.255Z"
   },
   {
    "duration": 9,
    "start_time": "2024-06-21T17:44:01.751Z"
   },
   {
    "duration": 97,
    "start_time": "2024-06-21T17:44:01.761Z"
   },
   {
    "duration": 42,
    "start_time": "2024-06-21T17:44:01.860Z"
   },
   {
    "duration": 51,
    "start_time": "2024-06-21T17:44:01.905Z"
   },
   {
    "duration": 38,
    "start_time": "2024-06-21T17:44:01.958Z"
   },
   {
    "duration": 40,
    "start_time": "2024-06-21T17:44:01.998Z"
   },
   {
    "duration": 81,
    "start_time": "2024-06-21T17:44:02.040Z"
   },
   {
    "duration": 40,
    "start_time": "2024-06-21T17:44:02.122Z"
   },
   {
    "duration": 44,
    "start_time": "2024-06-21T17:44:02.164Z"
   },
   {
    "duration": 31,
    "start_time": "2024-06-21T17:44:02.210Z"
   },
   {
    "duration": 3,
    "start_time": "2024-06-21T17:44:02.243Z"
   },
   {
    "duration": 40,
    "start_time": "2024-06-21T17:44:02.248Z"
   },
   {
    "duration": 22,
    "start_time": "2024-06-21T17:44:02.290Z"
   },
   {
    "duration": 6,
    "start_time": "2024-06-21T17:44:02.314Z"
   },
   {
    "duration": 447,
    "start_time": "2024-06-21T17:44:02.321Z"
   },
   {
    "duration": 251,
    "start_time": "2024-06-21T17:44:02.770Z"
   },
   {
    "duration": 277,
    "start_time": "2024-06-21T17:44:03.023Z"
   },
   {
    "duration": 6,
    "start_time": "2024-06-21T17:44:03.302Z"
   },
   {
    "duration": 381,
    "start_time": "2024-06-21T17:44:03.310Z"
   },
   {
    "duration": 905,
    "start_time": "2024-06-21T17:44:03.693Z"
   },
   {
    "duration": 18,
    "start_time": "2024-06-21T17:44:04.599Z"
   },
   {
    "duration": 338,
    "start_time": "2024-06-21T17:44:04.619Z"
   },
   {
    "duration": 24,
    "start_time": "2024-06-21T17:44:04.959Z"
   },
   {
    "duration": 12,
    "start_time": "2024-06-21T17:44:04.985Z"
   },
   {
    "duration": 32,
    "start_time": "2024-06-21T17:44:04.999Z"
   },
   {
    "duration": 5,
    "start_time": "2024-06-21T17:44:05.033Z"
   },
   {
    "duration": 11,
    "start_time": "2024-06-21T17:53:47.207Z"
   },
   {
    "duration": 424,
    "start_time": "2024-06-21T18:13:04.629Z"
   },
   {
    "duration": 7382,
    "start_time": "2024-06-21T18:14:13.060Z"
   },
   {
    "duration": 914,
    "start_time": "2024-06-21T18:16:18.190Z"
   },
   {
    "duration": 910,
    "start_time": "2024-06-21T18:16:44.541Z"
   },
   {
    "duration": 351,
    "start_time": "2024-06-21T18:17:35.141Z"
   },
   {
    "duration": 987,
    "start_time": "2024-06-21T18:18:12.437Z"
   },
   {
    "duration": 546,
    "start_time": "2024-06-21T18:20:07.270Z"
   },
   {
    "duration": 429,
    "start_time": "2024-06-21T18:20:16.701Z"
   },
   {
    "duration": 15,
    "start_time": "2024-06-21T18:28:55.802Z"
   },
   {
    "duration": 317,
    "start_time": "2024-06-21T18:29:05.542Z"
   },
   {
    "duration": 8,
    "start_time": "2024-06-21T18:29:35.981Z"
   },
   {
    "duration": 327,
    "start_time": "2024-06-21T18:29:42.617Z"
   },
   {
    "duration": 353,
    "start_time": "2024-06-21T18:30:00.278Z"
   },
   {
    "duration": 257,
    "start_time": "2024-06-21T18:30:41.112Z"
   },
   {
    "duration": 331,
    "start_time": "2024-06-21T18:30:49.849Z"
   },
   {
    "duration": 329,
    "start_time": "2024-06-21T18:32:46.792Z"
   },
   {
    "duration": 370,
    "start_time": "2024-06-21T18:32:59.578Z"
   },
   {
    "duration": 320,
    "start_time": "2024-06-21T18:33:06.892Z"
   },
   {
    "duration": 352,
    "start_time": "2024-06-21T18:33:43.837Z"
   },
   {
    "duration": 353,
    "start_time": "2024-06-21T18:34:04.753Z"
   },
   {
    "duration": 348,
    "start_time": "2024-06-21T18:34:15.054Z"
   },
   {
    "duration": 350,
    "start_time": "2024-06-21T18:42:22.621Z"
   },
   {
    "duration": 266,
    "start_time": "2024-06-21T18:53:48.964Z"
   },
   {
    "duration": 14,
    "start_time": "2024-06-21T18:54:17.901Z"
   },
   {
    "duration": 11,
    "start_time": "2024-06-21T18:54:21.921Z"
   },
   {
    "duration": 29,
    "start_time": "2024-06-21T18:55:13.061Z"
   },
   {
    "duration": 42,
    "start_time": "2024-06-21T18:55:20.552Z"
   },
   {
    "duration": 25,
    "start_time": "2024-06-21T18:56:29.273Z"
   },
   {
    "duration": 44,
    "start_time": "2024-06-21T18:56:59.097Z"
   },
   {
    "duration": 1223,
    "start_time": "2024-06-21T18:57:05.994Z"
   },
   {
    "duration": 111,
    "start_time": "2024-06-21T18:57:07.218Z"
   },
   {
    "duration": 7,
    "start_time": "2024-06-21T18:57:07.331Z"
   },
   {
    "duration": 207,
    "start_time": "2024-06-21T18:57:07.340Z"
   },
   {
    "duration": 51,
    "start_time": "2024-06-21T18:57:07.549Z"
   },
   {
    "duration": 35,
    "start_time": "2024-06-21T18:57:07.602Z"
   },
   {
    "duration": 62,
    "start_time": "2024-06-21T18:57:07.639Z"
   },
   {
    "duration": 93,
    "start_time": "2024-06-21T18:57:07.703Z"
   },
   {
    "duration": 55,
    "start_time": "2024-06-21T18:57:07.798Z"
   },
   {
    "duration": 32,
    "start_time": "2024-06-21T18:57:07.857Z"
   },
   {
    "duration": 27,
    "start_time": "2024-06-21T18:57:07.891Z"
   },
   {
    "duration": 13,
    "start_time": "2024-06-21T18:57:07.920Z"
   },
   {
    "duration": 22,
    "start_time": "2024-06-21T18:57:07.934Z"
   },
   {
    "duration": 44,
    "start_time": "2024-06-21T18:57:07.982Z"
   },
   {
    "duration": 13,
    "start_time": "2024-06-21T18:57:08.027Z"
   },
   {
    "duration": 20,
    "start_time": "2024-06-21T18:57:08.042Z"
   },
   {
    "duration": 21,
    "start_time": "2024-06-21T18:57:08.064Z"
   },
   {
    "duration": 420,
    "start_time": "2024-06-21T18:57:08.086Z"
   },
   {
    "duration": 258,
    "start_time": "2024-06-21T18:57:08.508Z"
   },
   {
    "duration": 35,
    "start_time": "2024-06-21T18:57:08.768Z"
   },
   {
    "duration": 253,
    "start_time": "2024-06-21T18:57:08.805Z"
   },
   {
    "duration": 1668,
    "start_time": "2024-06-21T18:57:09.061Z"
   },
   {
    "duration": 290,
    "start_time": "2024-06-21T18:57:10.731Z"
   },
   {
    "duration": 518,
    "start_time": "2024-06-21T18:57:11.024Z"
   },
   {
    "duration": 20,
    "start_time": "2024-06-21T18:57:11.544Z"
   },
   {
    "duration": 21,
    "start_time": "2024-06-21T18:57:11.566Z"
   },
   {
    "duration": 166,
    "start_time": "2024-06-21T18:57:11.589Z"
   },
   {
    "duration": 155,
    "start_time": "2024-06-21T18:57:11.761Z"
   },
   {
    "duration": 123,
    "start_time": "2024-06-21T18:57:11.918Z"
   },
   {
    "duration": 52,
    "start_time": "2024-06-21T18:57:12.043Z"
   },
   {
    "duration": 18,
    "start_time": "2024-06-21T18:57:12.097Z"
   },
   {
    "duration": 11,
    "start_time": "2024-06-21T18:57:12.117Z"
   },
   {
    "duration": 62,
    "start_time": "2024-06-21T18:57:12.130Z"
   },
   {
    "duration": 39,
    "start_time": "2024-06-21T18:57:12.194Z"
   },
   {
    "duration": 24,
    "start_time": "2024-06-21T18:57:12.235Z"
   },
   {
    "duration": 32,
    "start_time": "2024-06-21T18:57:12.261Z"
   },
   {
    "duration": 26,
    "start_time": "2024-06-21T18:57:12.294Z"
   },
   {
    "duration": 15,
    "start_time": "2024-06-21T18:57:12.321Z"
   },
   {
    "duration": 46,
    "start_time": "2024-06-21T18:57:12.338Z"
   },
   {
    "duration": 4,
    "start_time": "2024-06-21T18:57:12.386Z"
   },
   {
    "duration": 434,
    "start_time": "2024-06-21T18:57:12.393Z"
   },
   {
    "duration": 7,
    "start_time": "2024-06-21T18:57:12.829Z"
   },
   {
    "duration": 271,
    "start_time": "2024-06-21T18:57:12.837Z"
   },
   {
    "duration": 372,
    "start_time": "2024-06-21T18:57:13.110Z"
   },
   {
    "duration": 9,
    "start_time": "2024-06-21T18:57:13.484Z"
   },
   {
    "duration": 14,
    "start_time": "2024-06-21T18:57:13.495Z"
   },
   {
    "duration": 4,
    "start_time": "2024-06-21T18:57:13.511Z"
   },
   {
    "duration": 2360,
    "start_time": "2024-06-21T18:57:13.516Z"
   },
   {
    "duration": 12,
    "start_time": "2024-06-21T18:57:15.881Z"
   },
   {
    "duration": 37,
    "start_time": "2024-06-21T18:57:15.896Z"
   },
   {
    "duration": 15,
    "start_time": "2024-06-21T18:57:15.935Z"
   },
   {
    "duration": 41,
    "start_time": "2024-06-21T18:57:15.951Z"
   },
   {
    "duration": 29,
    "start_time": "2024-06-21T18:57:15.994Z"
   },
   {
    "duration": 10,
    "start_time": "2024-06-21T18:57:16.025Z"
   },
   {
    "duration": 5,
    "start_time": "2024-06-21T18:57:16.037Z"
   },
   {
    "duration": 55,
    "start_time": "2024-06-21T18:57:16.044Z"
   },
   {
    "duration": 18,
    "start_time": "2024-06-21T18:57:16.101Z"
   },
   {
    "duration": 18,
    "start_time": "2024-06-21T18:57:16.121Z"
   },
   {
    "duration": 4,
    "start_time": "2024-06-21T18:57:16.141Z"
   },
   {
    "duration": 64,
    "start_time": "2024-06-21T18:57:16.147Z"
   },
   {
    "duration": 69,
    "start_time": "2024-06-21T18:57:16.213Z"
   },
   {
    "duration": 28,
    "start_time": "2024-06-21T18:57:16.284Z"
   },
   {
    "duration": 462,
    "start_time": "2024-06-21T18:57:16.314Z"
   },
   {
    "duration": 275,
    "start_time": "2024-06-21T18:57:16.778Z"
   },
   {
    "duration": 263,
    "start_time": "2024-06-21T18:57:17.055Z"
   },
   {
    "duration": 6,
    "start_time": "2024-06-21T18:57:17.320Z"
   },
   {
    "duration": 365,
    "start_time": "2024-06-21T18:57:17.328Z"
   },
   {
    "duration": 865,
    "start_time": "2024-06-21T18:57:17.695Z"
   },
   {
    "duration": 25,
    "start_time": "2024-06-21T18:57:18.562Z"
   },
   {
    "duration": 185,
    "start_time": "2024-06-21T18:57:18.589Z"
   },
   {
    "duration": 20,
    "start_time": "2024-06-21T18:57:18.782Z"
   },
   {
    "duration": 10,
    "start_time": "2024-06-21T18:57:18.804Z"
   },
   {
    "duration": 22,
    "start_time": "2024-06-21T18:57:18.816Z"
   },
   {
    "duration": 5,
    "start_time": "2024-06-21T18:57:18.839Z"
   },
   {
    "duration": 230,
    "start_time": "2024-06-21T18:58:34.040Z"
   },
   {
    "duration": 1199,
    "start_time": "2024-06-22T10:34:59.596Z"
   },
   {
    "duration": 376,
    "start_time": "2024-06-22T10:35:00.796Z"
   },
   {
    "duration": 5,
    "start_time": "2024-06-22T10:35:01.173Z"
   },
   {
    "duration": 209,
    "start_time": "2024-06-22T10:35:01.179Z"
   },
   {
    "duration": 42,
    "start_time": "2024-06-22T10:35:01.390Z"
   },
   {
    "duration": 61,
    "start_time": "2024-06-22T10:35:01.433Z"
   },
   {
    "duration": 25,
    "start_time": "2024-06-22T10:35:01.495Z"
   },
   {
    "duration": 88,
    "start_time": "2024-06-22T10:35:01.522Z"
   },
   {
    "duration": 37,
    "start_time": "2024-06-22T10:35:01.611Z"
   },
   {
    "duration": 30,
    "start_time": "2024-06-22T10:35:01.650Z"
   },
   {
    "duration": 59,
    "start_time": "2024-06-22T10:35:01.681Z"
   },
   {
    "duration": 43,
    "start_time": "2024-06-22T10:35:01.742Z"
   },
   {
    "duration": 32,
    "start_time": "2024-06-22T10:35:01.786Z"
   },
   {
    "duration": 59,
    "start_time": "2024-06-22T10:35:01.820Z"
   },
   {
    "duration": 203,
    "start_time": "2024-06-22T10:35:01.880Z"
   },
   {
    "duration": 127,
    "start_time": "2024-06-22T10:35:02.084Z"
   },
   {
    "duration": 6,
    "start_time": "2024-06-22T10:35:02.212Z"
   },
   {
    "duration": 349,
    "start_time": "2024-06-22T10:35:02.219Z"
   },
   {
    "duration": 215,
    "start_time": "2024-06-22T10:35:02.569Z"
   },
   {
    "duration": 18,
    "start_time": "2024-06-22T10:35:02.785Z"
   },
   {
    "duration": 203,
    "start_time": "2024-06-22T10:35:02.805Z"
   },
   {
    "duration": 1082,
    "start_time": "2024-06-22T10:35:03.010Z"
   },
   {
    "duration": 195,
    "start_time": "2024-06-22T10:35:04.094Z"
   },
   {
    "duration": 368,
    "start_time": "2024-06-22T10:35:04.291Z"
   },
   {
    "duration": 14,
    "start_time": "2024-06-22T10:35:04.661Z"
   },
   {
    "duration": 5,
    "start_time": "2024-06-22T10:35:04.676Z"
   },
   {
    "duration": 102,
    "start_time": "2024-06-22T10:35:04.682Z"
   },
   {
    "duration": 93,
    "start_time": "2024-06-22T10:35:04.788Z"
   },
   {
    "duration": 91,
    "start_time": "2024-06-22T10:35:04.882Z"
   },
   {
    "duration": 35,
    "start_time": "2024-06-22T10:35:04.974Z"
   },
   {
    "duration": 16,
    "start_time": "2024-06-22T10:35:05.020Z"
   },
   {
    "duration": 8,
    "start_time": "2024-06-22T10:35:05.037Z"
   },
   {
    "duration": 20,
    "start_time": "2024-06-22T10:35:05.046Z"
   },
   {
    "duration": 21,
    "start_time": "2024-06-22T10:35:05.067Z"
   },
   {
    "duration": 41,
    "start_time": "2024-06-22T10:35:05.089Z"
   },
   {
    "duration": 9,
    "start_time": "2024-06-22T10:35:05.131Z"
   },
   {
    "duration": 18,
    "start_time": "2024-06-22T10:35:05.141Z"
   },
   {
    "duration": 11,
    "start_time": "2024-06-22T10:35:05.160Z"
   },
   {
    "duration": 11,
    "start_time": "2024-06-22T10:35:05.172Z"
   },
   {
    "duration": 3,
    "start_time": "2024-06-22T10:35:05.185Z"
   },
   {
    "duration": 315,
    "start_time": "2024-06-22T10:35:05.189Z"
   },
   {
    "duration": 3,
    "start_time": "2024-06-22T10:35:05.505Z"
   },
   {
    "duration": 205,
    "start_time": "2024-06-22T10:35:05.510Z"
   },
   {
    "duration": 263,
    "start_time": "2024-06-22T10:35:05.717Z"
   },
   {
    "duration": 8,
    "start_time": "2024-06-22T10:35:05.981Z"
   },
   {
    "duration": 29,
    "start_time": "2024-06-22T10:35:05.990Z"
   },
   {
    "duration": 7,
    "start_time": "2024-06-22T10:35:06.020Z"
   },
   {
    "duration": 1781,
    "start_time": "2024-06-22T10:35:06.028Z"
   },
   {
    "duration": 13,
    "start_time": "2024-06-22T10:35:07.811Z"
   },
   {
    "duration": 20,
    "start_time": "2024-06-22T10:35:07.826Z"
   },
   {
    "duration": 11,
    "start_time": "2024-06-22T10:35:07.847Z"
   },
   {
    "duration": 13,
    "start_time": "2024-06-22T10:35:07.859Z"
   },
   {
    "duration": 13,
    "start_time": "2024-06-22T10:35:07.874Z"
   },
   {
    "duration": 2,
    "start_time": "2024-06-22T10:35:07.888Z"
   },
   {
    "duration": 11,
    "start_time": "2024-06-22T10:35:07.891Z"
   },
   {
    "duration": 41,
    "start_time": "2024-06-22T10:35:07.903Z"
   },
   {
    "duration": 14,
    "start_time": "2024-06-22T10:35:07.945Z"
   },
   {
    "duration": 16,
    "start_time": "2024-06-22T10:35:07.961Z"
   },
   {
    "duration": 2,
    "start_time": "2024-06-22T10:35:07.978Z"
   },
   {
    "duration": 30,
    "start_time": "2024-06-22T10:35:07.982Z"
   },
   {
    "duration": 29,
    "start_time": "2024-06-22T10:35:08.013Z"
   },
   {
    "duration": 23,
    "start_time": "2024-06-22T10:35:08.043Z"
   },
   {
    "duration": 333,
    "start_time": "2024-06-22T10:35:08.067Z"
   },
   {
    "duration": 191,
    "start_time": "2024-06-22T10:35:08.401Z"
   },
   {
    "duration": 171,
    "start_time": "2024-06-22T10:35:08.593Z"
   },
   {
    "duration": 4,
    "start_time": "2024-06-22T10:35:08.766Z"
   },
   {
    "duration": 266,
    "start_time": "2024-06-22T10:35:08.772Z"
   },
   {
    "duration": 635,
    "start_time": "2024-06-22T10:35:09.039Z"
   },
   {
    "duration": 14,
    "start_time": "2024-06-22T10:35:09.675Z"
   },
   {
    "duration": 132,
    "start_time": "2024-06-22T10:35:09.690Z"
   },
   {
    "duration": 14,
    "start_time": "2024-06-22T10:35:09.824Z"
   },
   {
    "duration": 5,
    "start_time": "2024-06-22T10:35:09.840Z"
   },
   {
    "duration": 24,
    "start_time": "2024-06-22T10:35:09.846Z"
   },
   {
    "duration": 3,
    "start_time": "2024-06-22T10:35:09.871Z"
   },
   {
    "duration": 39,
    "start_time": "2024-06-22T10:38:09.211Z"
   },
   {
    "duration": 34,
    "start_time": "2024-06-22T10:38:40.276Z"
   },
   {
    "duration": 54,
    "start_time": "2024-06-22T10:38:56.646Z"
   },
   {
    "duration": 36,
    "start_time": "2024-06-22T10:39:00.419Z"
   },
   {
    "duration": 43,
    "start_time": "2024-06-22T10:39:09.593Z"
   },
   {
    "duration": 42,
    "start_time": "2024-06-22T10:39:16.788Z"
   },
   {
    "duration": 1061,
    "start_time": "2024-06-22T10:43:11.432Z"
   },
   {
    "duration": 97,
    "start_time": "2024-06-22T10:43:12.495Z"
   },
   {
    "duration": 6,
    "start_time": "2024-06-22T10:43:12.593Z"
   },
   {
    "duration": 146,
    "start_time": "2024-06-22T10:43:12.601Z"
   },
   {
    "duration": 32,
    "start_time": "2024-06-22T10:43:12.748Z"
   },
   {
    "duration": 51,
    "start_time": "2024-06-22T10:43:12.781Z"
   },
   {
    "duration": 24,
    "start_time": "2024-06-22T10:43:12.833Z"
   },
   {
    "duration": 81,
    "start_time": "2024-06-22T10:43:12.858Z"
   },
   {
    "duration": 36,
    "start_time": "2024-06-22T10:43:12.940Z"
   },
   {
    "duration": 11,
    "start_time": "2024-06-22T10:43:12.978Z"
   },
   {
    "duration": 34,
    "start_time": "2024-06-22T10:43:12.990Z"
   },
   {
    "duration": 10,
    "start_time": "2024-06-22T10:43:13.025Z"
   },
   {
    "duration": 24,
    "start_time": "2024-06-22T10:43:13.036Z"
   },
   {
    "duration": 32,
    "start_time": "2024-06-22T10:43:13.061Z"
   },
   {
    "duration": 9,
    "start_time": "2024-06-22T10:43:13.094Z"
   },
   {
    "duration": 7,
    "start_time": "2024-06-22T10:43:13.120Z"
   },
   {
    "duration": 5,
    "start_time": "2024-06-22T10:43:13.128Z"
   },
   {
    "duration": 341,
    "start_time": "2024-06-22T10:43:13.134Z"
   },
   {
    "duration": 200,
    "start_time": "2024-06-22T10:43:13.476Z"
   },
   {
    "duration": 18,
    "start_time": "2024-06-22T10:43:13.677Z"
   },
   {
    "duration": 198,
    "start_time": "2024-06-22T10:43:13.696Z"
   },
   {
    "duration": 1110,
    "start_time": "2024-06-22T10:43:13.895Z"
   },
   {
    "duration": 192,
    "start_time": "2024-06-22T10:43:15.006Z"
   },
   {
    "duration": 362,
    "start_time": "2024-06-22T10:43:15.200Z"
   },
   {
    "duration": 15,
    "start_time": "2024-06-22T10:43:15.563Z"
   },
   {
    "duration": 7,
    "start_time": "2024-06-22T10:43:15.579Z"
   },
   {
    "duration": 116,
    "start_time": "2024-06-22T10:43:15.587Z"
   },
   {
    "duration": 87,
    "start_time": "2024-06-22T10:43:15.706Z"
   },
   {
    "duration": 98,
    "start_time": "2024-06-22T10:43:15.794Z"
   },
   {
    "duration": 42,
    "start_time": "2024-06-22T10:43:15.894Z"
   },
   {
    "duration": 16,
    "start_time": "2024-06-22T10:43:15.937Z"
   },
   {
    "duration": 8,
    "start_time": "2024-06-22T10:43:15.954Z"
   },
   {
    "duration": 20,
    "start_time": "2024-06-22T10:43:15.963Z"
   },
   {
    "duration": 43,
    "start_time": "2024-06-22T10:43:15.984Z"
   },
   {
    "duration": 18,
    "start_time": "2024-06-22T10:43:16.028Z"
   },
   {
    "duration": 10,
    "start_time": "2024-06-22T10:43:16.047Z"
   },
   {
    "duration": 23,
    "start_time": "2024-06-22T10:43:16.059Z"
   },
   {
    "duration": 11,
    "start_time": "2024-06-22T10:43:16.083Z"
   },
   {
    "duration": 29,
    "start_time": "2024-06-22T10:43:16.095Z"
   },
   {
    "duration": 3,
    "start_time": "2024-06-22T10:43:16.126Z"
   },
   {
    "duration": 299,
    "start_time": "2024-06-22T10:43:16.130Z"
   },
   {
    "duration": 3,
    "start_time": "2024-06-22T10:43:16.431Z"
   },
   {
    "duration": 187,
    "start_time": "2024-06-22T10:43:16.435Z"
   },
   {
    "duration": 256,
    "start_time": "2024-06-22T10:43:16.623Z"
   },
   {
    "duration": 7,
    "start_time": "2024-06-22T10:43:16.881Z"
   },
   {
    "duration": 12,
    "start_time": "2024-06-22T10:43:16.889Z"
   },
   {
    "duration": 6,
    "start_time": "2024-06-22T10:43:16.902Z"
   },
   {
    "duration": 1734,
    "start_time": "2024-06-22T10:43:16.920Z"
   },
   {
    "duration": 7,
    "start_time": "2024-06-22T10:43:18.655Z"
   },
   {
    "duration": 36,
    "start_time": "2024-06-22T10:43:18.664Z"
   },
   {
    "duration": 10,
    "start_time": "2024-06-22T10:43:18.702Z"
   },
   {
    "duration": 16,
    "start_time": "2024-06-22T10:43:18.713Z"
   },
   {
    "duration": 12,
    "start_time": "2024-06-22T10:43:18.730Z"
   },
   {
    "duration": 3,
    "start_time": "2024-06-22T10:43:18.743Z"
   },
   {
    "duration": 3,
    "start_time": "2024-06-22T10:43:18.747Z"
   },
   {
    "duration": 36,
    "start_time": "2024-06-22T10:43:18.751Z"
   },
   {
    "duration": 12,
    "start_time": "2024-06-22T10:43:18.788Z"
   },
   {
    "duration": 17,
    "start_time": "2024-06-22T10:43:18.801Z"
   },
   {
    "duration": 2,
    "start_time": "2024-06-22T10:43:18.820Z"
   },
   {
    "duration": 33,
    "start_time": "2024-06-22T10:43:18.823Z"
   },
   {
    "duration": 14,
    "start_time": "2024-06-22T10:43:18.857Z"
   },
   {
    "duration": 2,
    "start_time": "2024-06-22T10:43:18.873Z"
   },
   {
    "duration": 316,
    "start_time": "2024-06-22T10:43:18.876Z"
   },
   {
    "duration": 181,
    "start_time": "2024-06-22T10:43:19.193Z"
   },
   {
    "duration": 173,
    "start_time": "2024-06-22T10:43:19.376Z"
   },
   {
    "duration": 4,
    "start_time": "2024-06-22T10:43:19.551Z"
   },
   {
    "duration": 272,
    "start_time": "2024-06-22T10:43:19.557Z"
   },
   {
    "duration": 631,
    "start_time": "2024-06-22T10:43:19.830Z"
   },
   {
    "duration": 14,
    "start_time": "2024-06-22T10:43:20.462Z"
   },
   {
    "duration": 124,
    "start_time": "2024-06-22T10:43:20.477Z"
   },
   {
    "duration": 19,
    "start_time": "2024-06-22T10:43:20.602Z"
   },
   {
    "duration": 4,
    "start_time": "2024-06-22T10:43:20.623Z"
   },
   {
    "duration": 20,
    "start_time": "2024-06-22T10:43:20.628Z"
   },
   {
    "duration": 4,
    "start_time": "2024-06-22T10:43:20.649Z"
   },
   {
    "duration": 12,
    "start_time": "2024-06-22T10:44:49.018Z"
   },
   {
    "duration": 13,
    "start_time": "2024-06-22T10:53:13.396Z"
   },
   {
    "duration": 20,
    "start_time": "2024-06-22T10:54:46.852Z"
   },
   {
    "duration": 20,
    "start_time": "2024-06-22T11:02:05.475Z"
   },
   {
    "duration": 17,
    "start_time": "2024-06-22T11:02:36.851Z"
   },
   {
    "duration": 11,
    "start_time": "2024-06-22T11:04:11.946Z"
   },
   {
    "duration": 18,
    "start_time": "2024-06-22T11:04:43.558Z"
   },
   {
    "duration": 13,
    "start_time": "2024-06-22T11:05:56.086Z"
   },
   {
    "duration": 12,
    "start_time": "2024-06-22T11:08:04.826Z"
   },
   {
    "duration": 54,
    "start_time": "2024-06-22T11:15:01.437Z"
   },
   {
    "duration": 3,
    "start_time": "2024-06-22T11:15:32.911Z"
   },
   {
    "duration": 3,
    "start_time": "2024-06-22T11:17:14.121Z"
   },
   {
    "duration": 286,
    "start_time": "2024-06-22T11:17:43.202Z"
   },
   {
    "duration": 274,
    "start_time": "2024-06-22T11:18:33.672Z"
   },
   {
    "duration": 170,
    "start_time": "2024-06-22T11:34:17.579Z"
   },
   {
    "duration": 179,
    "start_time": "2024-06-22T11:34:24.043Z"
   },
   {
    "duration": 239,
    "start_time": "2024-06-22T11:41:29.191Z"
   },
   {
    "duration": 331,
    "start_time": "2024-06-22T11:41:56.941Z"
   },
   {
    "duration": 247,
    "start_time": "2024-06-22T11:42:03.003Z"
   },
   {
    "duration": 328,
    "start_time": "2024-06-22T11:42:06.133Z"
   },
   {
    "duration": 245,
    "start_time": "2024-06-22T11:42:11.240Z"
   },
   {
    "duration": 242,
    "start_time": "2024-06-22T11:43:16.640Z"
   },
   {
    "duration": 251,
    "start_time": "2024-06-22T11:52:07.567Z"
   },
   {
    "duration": 4,
    "start_time": "2024-06-22T12:20:07.433Z"
   },
   {
    "duration": 1755,
    "start_time": "2024-06-22T12:23:27.294Z"
   },
   {
    "duration": 14,
    "start_time": "2024-06-22T12:29:33.803Z"
   },
   {
    "duration": 19,
    "start_time": "2024-06-22T12:30:54.587Z"
   },
   {
    "duration": 14,
    "start_time": "2024-06-22T12:31:09.034Z"
   },
   {
    "duration": 11,
    "start_time": "2024-06-22T12:32:33.596Z"
   },
   {
    "duration": 13,
    "start_time": "2024-06-22T12:45:25.452Z"
   },
   {
    "duration": 10,
    "start_time": "2024-06-22T12:45:34.093Z"
   },
   {
    "duration": 1082,
    "start_time": "2024-06-22T12:45:40.392Z"
   },
   {
    "duration": 91,
    "start_time": "2024-06-22T12:45:41.476Z"
   },
   {
    "duration": 4,
    "start_time": "2024-06-22T12:45:41.569Z"
   },
   {
    "duration": 161,
    "start_time": "2024-06-22T12:45:41.575Z"
   },
   {
    "duration": 27,
    "start_time": "2024-06-22T12:45:41.738Z"
   },
   {
    "duration": 28,
    "start_time": "2024-06-22T12:45:41.766Z"
   },
   {
    "duration": 47,
    "start_time": "2024-06-22T12:45:41.795Z"
   },
   {
    "duration": 55,
    "start_time": "2024-06-22T12:45:41.844Z"
   },
   {
    "duration": 50,
    "start_time": "2024-06-22T12:45:41.901Z"
   },
   {
    "duration": 11,
    "start_time": "2024-06-22T12:45:41.954Z"
   },
   {
    "duration": 43,
    "start_time": "2024-06-22T12:45:41.966Z"
   },
   {
    "duration": 11,
    "start_time": "2024-06-22T12:45:42.011Z"
   },
   {
    "duration": 18,
    "start_time": "2024-06-22T12:45:42.024Z"
   },
   {
    "duration": 33,
    "start_time": "2024-06-22T12:45:42.044Z"
   },
   {
    "duration": 10,
    "start_time": "2024-06-22T12:45:42.079Z"
   },
   {
    "duration": 33,
    "start_time": "2024-06-22T12:45:42.090Z"
   },
   {
    "duration": 3,
    "start_time": "2024-06-22T12:45:42.124Z"
   },
   {
    "duration": 340,
    "start_time": "2024-06-22T12:45:42.128Z"
   },
   {
    "duration": 212,
    "start_time": "2024-06-22T12:45:42.470Z"
   },
   {
    "duration": 32,
    "start_time": "2024-06-22T12:45:42.683Z"
   },
   {
    "duration": 200,
    "start_time": "2024-06-22T12:45:42.716Z"
   },
   {
    "duration": 1098,
    "start_time": "2024-06-22T12:45:42.920Z"
   },
   {
    "duration": 195,
    "start_time": "2024-06-22T12:45:44.020Z"
   },
   {
    "duration": 357,
    "start_time": "2024-06-22T12:45:44.216Z"
   },
   {
    "duration": 13,
    "start_time": "2024-06-22T12:45:44.575Z"
   },
   {
    "duration": 11,
    "start_time": "2024-06-22T12:45:44.589Z"
   },
   {
    "duration": 105,
    "start_time": "2024-06-22T12:45:44.601Z"
   },
   {
    "duration": 110,
    "start_time": "2024-06-22T12:45:44.710Z"
   },
   {
    "duration": 81,
    "start_time": "2024-06-22T12:45:44.822Z"
   },
   {
    "duration": 45,
    "start_time": "2024-06-22T12:45:44.904Z"
   },
   {
    "duration": 23,
    "start_time": "2024-06-22T12:45:44.951Z"
   },
   {
    "duration": 9,
    "start_time": "2024-06-22T12:45:44.975Z"
   },
   {
    "duration": 42,
    "start_time": "2024-06-22T12:45:44.985Z"
   },
   {
    "duration": 17,
    "start_time": "2024-06-22T12:45:45.029Z"
   },
   {
    "duration": 46,
    "start_time": "2024-06-22T12:45:45.047Z"
   },
   {
    "duration": 26,
    "start_time": "2024-06-22T12:45:45.094Z"
   },
   {
    "duration": 17,
    "start_time": "2024-06-22T12:45:45.122Z"
   },
   {
    "duration": 23,
    "start_time": "2024-06-22T12:45:45.141Z"
   },
   {
    "duration": 46,
    "start_time": "2024-06-22T12:45:45.165Z"
   },
   {
    "duration": 342,
    "start_time": "2024-06-22T12:45:45.213Z"
   },
   {
    "duration": 3,
    "start_time": "2024-06-22T12:45:45.557Z"
   },
   {
    "duration": 204,
    "start_time": "2024-06-22T12:45:45.561Z"
   },
   {
    "duration": 255,
    "start_time": "2024-06-22T12:45:45.767Z"
   },
   {
    "duration": 258,
    "start_time": "2024-06-22T12:45:46.023Z"
   },
   {
    "duration": 3,
    "start_time": "2024-06-22T12:45:46.283Z"
   },
   {
    "duration": 1759,
    "start_time": "2024-06-22T12:45:46.288Z"
   },
   {
    "duration": 14,
    "start_time": "2024-06-22T12:45:48.048Z"
   },
   {
    "duration": 13,
    "start_time": "2024-06-22T12:45:48.063Z"
   },
   {
    "duration": 11,
    "start_time": "2024-06-22T12:45:48.077Z"
   },
   {
    "duration": 47,
    "start_time": "2024-06-22T12:45:48.089Z"
   },
   {
    "duration": 13,
    "start_time": "2024-06-22T12:45:48.137Z"
   },
   {
    "duration": 3,
    "start_time": "2024-06-22T12:45:48.151Z"
   },
   {
    "duration": 4,
    "start_time": "2024-06-22T12:45:48.155Z"
   },
   {
    "duration": 30,
    "start_time": "2024-06-22T12:45:48.160Z"
   },
   {
    "duration": 12,
    "start_time": "2024-06-22T12:45:48.191Z"
   },
   {
    "duration": 22,
    "start_time": "2024-06-22T12:45:48.205Z"
   },
   {
    "duration": 2,
    "start_time": "2024-06-22T12:45:48.229Z"
   },
   {
    "duration": 20,
    "start_time": "2024-06-22T12:45:48.232Z"
   },
   {
    "duration": 16,
    "start_time": "2024-06-22T12:45:48.253Z"
   },
   {
    "duration": 2,
    "start_time": "2024-06-22T12:45:48.270Z"
   },
   {
    "duration": 344,
    "start_time": "2024-06-22T12:45:48.273Z"
   },
   {
    "duration": 184,
    "start_time": "2024-06-22T12:45:48.620Z"
   },
   {
    "duration": 174,
    "start_time": "2024-06-22T12:45:48.805Z"
   },
   {
    "duration": 5,
    "start_time": "2024-06-22T12:45:48.980Z"
   },
   {
    "duration": 272,
    "start_time": "2024-06-22T12:45:48.986Z"
   },
   {
    "duration": 632,
    "start_time": "2024-06-22T12:45:49.259Z"
   },
   {
    "duration": 15,
    "start_time": "2024-06-22T12:45:49.893Z"
   },
   {
    "duration": 124,
    "start_time": "2024-06-22T12:45:49.919Z"
   },
   {
    "duration": 15,
    "start_time": "2024-06-22T12:45:50.045Z"
   },
   {
    "duration": 12,
    "start_time": "2024-06-22T12:45:50.062Z"
   },
   {
    "duration": 27,
    "start_time": "2024-06-22T12:45:50.076Z"
   },
   {
    "duration": 22,
    "start_time": "2024-06-22T12:45:50.105Z"
   },
   {
    "duration": 3,
    "start_time": "2024-06-22T12:49:47.618Z"
   },
   {
    "duration": 4,
    "start_time": "2024-06-22T12:51:34.240Z"
   },
   {
    "duration": 1134,
    "start_time": "2024-06-22T12:52:42.020Z"
   },
   {
    "duration": 16,
    "start_time": "2024-06-22T12:53:50.639Z"
   },
   {
    "duration": 16,
    "start_time": "2024-06-22T12:55:26.272Z"
   },
   {
    "duration": 14,
    "start_time": "2024-06-22T12:57:34.834Z"
   },
   {
    "duration": 3,
    "start_time": "2024-06-22T12:58:32.126Z"
   },
   {
    "duration": 3,
    "start_time": "2024-06-22T12:58:35.174Z"
   },
   {
    "duration": 19,
    "start_time": "2024-06-22T12:59:04.291Z"
   },
   {
    "duration": 8,
    "start_time": "2024-06-22T12:59:17.455Z"
   },
   {
    "duration": 11,
    "start_time": "2024-06-22T12:59:30.490Z"
   },
   {
    "duration": 12,
    "start_time": "2024-06-22T13:00:04.049Z"
   },
   {
    "duration": 3,
    "start_time": "2024-06-22T13:00:17.130Z"
   },
   {
    "duration": 1017,
    "start_time": "2024-06-22T13:00:22.470Z"
   },
   {
    "duration": 93,
    "start_time": "2024-06-22T13:00:23.489Z"
   },
   {
    "duration": 5,
    "start_time": "2024-06-22T13:00:23.584Z"
   },
   {
    "duration": 118,
    "start_time": "2024-06-22T13:00:23.591Z"
   },
   {
    "duration": 30,
    "start_time": "2024-06-22T13:00:23.720Z"
   },
   {
    "duration": 28,
    "start_time": "2024-06-22T13:00:23.752Z"
   },
   {
    "duration": 53,
    "start_time": "2024-06-22T13:00:23.781Z"
   },
   {
    "duration": 64,
    "start_time": "2024-06-22T13:00:23.835Z"
   },
   {
    "duration": 51,
    "start_time": "2024-06-22T13:00:23.901Z"
   },
   {
    "duration": 10,
    "start_time": "2024-06-22T13:00:23.954Z"
   },
   {
    "duration": 26,
    "start_time": "2024-06-22T13:00:23.966Z"
   },
   {
    "duration": 9,
    "start_time": "2024-06-22T13:00:23.993Z"
   },
   {
    "duration": 32,
    "start_time": "2024-06-22T13:00:24.003Z"
   },
   {
    "duration": 30,
    "start_time": "2024-06-22T13:00:24.037Z"
   },
   {
    "duration": 10,
    "start_time": "2024-06-22T13:00:24.068Z"
   },
   {
    "duration": 26,
    "start_time": "2024-06-22T13:00:24.079Z"
   },
   {
    "duration": 6,
    "start_time": "2024-06-22T13:00:24.106Z"
   },
   {
    "duration": 340,
    "start_time": "2024-06-22T13:00:24.113Z"
   },
   {
    "duration": 202,
    "start_time": "2024-06-22T13:00:24.454Z"
   },
   {
    "duration": 19,
    "start_time": "2024-06-22T13:00:24.657Z"
   },
   {
    "duration": 200,
    "start_time": "2024-06-22T13:00:24.677Z"
   },
   {
    "duration": 1103,
    "start_time": "2024-06-22T13:00:24.878Z"
   },
   {
    "duration": 190,
    "start_time": "2024-06-22T13:00:25.982Z"
   },
   {
    "duration": 349,
    "start_time": "2024-06-22T13:00:26.173Z"
   },
   {
    "duration": 15,
    "start_time": "2024-06-22T13:00:26.523Z"
   },
   {
    "duration": 6,
    "start_time": "2024-06-22T13:00:26.539Z"
   },
   {
    "duration": 107,
    "start_time": "2024-06-22T13:00:26.546Z"
   },
   {
    "duration": 109,
    "start_time": "2024-06-22T13:00:26.654Z"
   },
   {
    "duration": 97,
    "start_time": "2024-06-22T13:00:26.765Z"
   },
   {
    "duration": 36,
    "start_time": "2024-06-22T13:00:26.863Z"
   },
   {
    "duration": 32,
    "start_time": "2024-06-22T13:00:26.900Z"
   },
   {
    "duration": 8,
    "start_time": "2024-06-22T13:00:26.933Z"
   },
   {
    "duration": 35,
    "start_time": "2024-06-22T13:00:26.943Z"
   },
   {
    "duration": 17,
    "start_time": "2024-06-22T13:00:26.979Z"
   },
   {
    "duration": 10,
    "start_time": "2024-06-22T13:00:26.997Z"
   },
   {
    "duration": 27,
    "start_time": "2024-06-22T13:00:27.008Z"
   },
   {
    "duration": 10,
    "start_time": "2024-06-22T13:00:27.036Z"
   },
   {
    "duration": 18,
    "start_time": "2024-06-22T13:00:27.047Z"
   },
   {
    "duration": 2,
    "start_time": "2024-06-22T13:00:27.067Z"
   },
   {
    "duration": 286,
    "start_time": "2024-06-22T13:00:27.070Z"
   },
   {
    "duration": 3,
    "start_time": "2024-06-22T13:00:27.360Z"
   },
   {
    "duration": 184,
    "start_time": "2024-06-22T13:00:27.364Z"
   },
   {
    "duration": 260,
    "start_time": "2024-06-22T13:00:27.549Z"
   },
   {
    "duration": 266,
    "start_time": "2024-06-22T13:00:27.810Z"
   },
   {
    "duration": 4,
    "start_time": "2024-06-22T13:00:28.077Z"
   },
   {
    "duration": 1776,
    "start_time": "2024-06-22T13:00:28.082Z"
   },
   {
    "duration": 13,
    "start_time": "2024-06-22T13:00:29.859Z"
   },
   {
    "duration": 13,
    "start_time": "2024-06-22T13:00:29.873Z"
   },
   {
    "duration": 23,
    "start_time": "2024-06-22T13:00:29.887Z"
   },
   {
    "duration": 26,
    "start_time": "2024-06-22T13:00:29.911Z"
   },
   {
    "duration": 9,
    "start_time": "2024-06-22T13:00:29.938Z"
   },
   {
    "duration": 19,
    "start_time": "2024-06-22T13:00:29.948Z"
   },
   {
    "duration": 17,
    "start_time": "2024-06-22T13:00:29.968Z"
   },
   {
    "duration": 16,
    "start_time": "2024-06-22T13:00:29.986Z"
   },
   {
    "duration": 26,
    "start_time": "2024-06-22T13:00:30.003Z"
   },
   {
    "duration": 38,
    "start_time": "2024-06-22T13:00:30.030Z"
   },
   {
    "duration": 42,
    "start_time": "2024-06-22T13:00:30.069Z"
   },
   {
    "duration": 42,
    "start_time": "2024-06-22T13:00:30.113Z"
   },
   {
    "duration": 350,
    "start_time": "2024-06-22T13:00:30.156Z"
   },
   {
    "duration": 196,
    "start_time": "2024-06-22T13:00:30.507Z"
   },
   {
    "duration": 178,
    "start_time": "2024-06-22T13:00:30.704Z"
   },
   {
    "duration": 5,
    "start_time": "2024-06-22T13:00:30.884Z"
   },
   {
    "duration": 377,
    "start_time": "2024-06-22T13:00:30.891Z"
   },
   {
    "duration": 625,
    "start_time": "2024-06-22T13:00:31.269Z"
   },
   {
    "duration": 14,
    "start_time": "2024-06-22T13:00:31.896Z"
   },
   {
    "duration": 154,
    "start_time": "2024-06-22T13:00:31.920Z"
   },
   {
    "duration": 20,
    "start_time": "2024-06-22T13:00:32.076Z"
   },
   {
    "duration": 110,
    "start_time": "2024-06-22T13:00:32.098Z"
   },
   {
    "duration": 31,
    "start_time": "2024-06-22T13:00:32.210Z"
   },
   {
    "duration": 6,
    "start_time": "2024-06-22T13:00:32.242Z"
   },
   {
    "duration": 321,
    "start_time": "2024-06-22T13:02:08.827Z"
   },
   {
    "duration": 318,
    "start_time": "2024-06-22T13:06:03.224Z"
   },
   {
    "duration": 313,
    "start_time": "2024-06-22T13:06:13.419Z"
   },
   {
    "duration": 188,
    "start_time": "2024-06-22T13:08:16.776Z"
   },
   {
    "duration": 11,
    "start_time": "2024-06-22T13:12:45.825Z"
   },
   {
    "duration": 1055,
    "start_time": "2024-06-22T14:19:11.340Z"
   },
   {
    "duration": 5,
    "start_time": "2024-06-22T14:19:23.157Z"
   },
   {
    "duration": 930,
    "start_time": "2024-06-22T14:19:40.920Z"
   },
   {
    "duration": 5,
    "start_time": "2024-06-22T14:19:44.652Z"
   },
   {
    "duration": 5,
    "start_time": "2024-06-22T14:20:19.869Z"
   },
   {
    "duration": 4,
    "start_time": "2024-06-22T14:37:22.882Z"
   },
   {
    "duration": 4,
    "start_time": "2024-06-22T14:37:32.791Z"
   },
   {
    "duration": 16,
    "start_time": "2024-06-22T14:41:16.121Z"
   },
   {
    "duration": 15,
    "start_time": "2024-06-22T14:41:45.101Z"
   },
   {
    "duration": 5,
    "start_time": "2024-06-22T14:42:04.334Z"
   },
   {
    "duration": 14,
    "start_time": "2024-06-22T14:43:36.993Z"
   },
   {
    "duration": 143,
    "start_time": "2024-06-22T14:45:34.212Z"
   },
   {
    "duration": 194,
    "start_time": "2024-06-22T14:45:49.450Z"
   },
   {
    "duration": 143,
    "start_time": "2024-06-22T14:53:25.460Z"
   },
   {
    "duration": 8,
    "start_time": "2024-06-22T15:12:36.821Z"
   },
   {
    "duration": 4,
    "start_time": "2024-06-22T15:12:51.842Z"
   },
   {
    "duration": 3,
    "start_time": "2024-06-22T15:13:21.761Z"
   },
   {
    "duration": 5,
    "start_time": "2024-06-22T15:14:13.103Z"
   },
   {
    "duration": 52,
    "start_time": "2024-06-22T15:14:37.553Z"
   },
   {
    "duration": 4,
    "start_time": "2024-06-22T15:14:40.523Z"
   },
   {
    "duration": 894,
    "start_time": "2024-06-22T15:14:53.041Z"
   },
   {
    "duration": 1056,
    "start_time": "2024-06-22T15:15:00.535Z"
   },
   {
    "duration": 96,
    "start_time": "2024-06-22T15:15:01.593Z"
   },
   {
    "duration": 167,
    "start_time": "2024-06-22T15:15:01.690Z"
   },
   {
    "duration": 351,
    "start_time": "2024-06-22T15:15:01.859Z"
   },
   {
    "duration": 39,
    "start_time": "2024-06-22T15:15:02.212Z"
   },
   {
    "duration": 68,
    "start_time": "2024-06-22T15:15:02.253Z"
   },
   {
    "duration": 25,
    "start_time": "2024-06-22T15:15:02.322Z"
   },
   {
    "duration": 71,
    "start_time": "2024-06-22T15:15:02.349Z"
   },
   {
    "duration": 39,
    "start_time": "2024-06-22T15:15:02.421Z"
   },
   {
    "duration": 12,
    "start_time": "2024-06-22T15:15:02.463Z"
   },
   {
    "duration": 28,
    "start_time": "2024-06-22T15:15:02.476Z"
   },
   {
    "duration": 21,
    "start_time": "2024-06-22T15:15:02.506Z"
   },
   {
    "duration": 24,
    "start_time": "2024-06-22T15:15:02.529Z"
   },
   {
    "duration": 96,
    "start_time": "2024-06-22T15:15:02.554Z"
   },
   {
    "duration": 14,
    "start_time": "2024-06-22T15:15:02.652Z"
   },
   {
    "duration": 18,
    "start_time": "2024-06-22T15:15:02.667Z"
   },
   {
    "duration": 4,
    "start_time": "2024-06-22T15:15:02.687Z"
   },
   {
    "duration": 348,
    "start_time": "2024-06-22T15:15:02.693Z"
   },
   {
    "duration": 207,
    "start_time": "2024-06-22T15:15:03.042Z"
   },
   {
    "duration": 18,
    "start_time": "2024-06-22T15:15:03.251Z"
   },
   {
    "duration": 198,
    "start_time": "2024-06-22T15:15:03.271Z"
   },
   {
    "duration": 1130,
    "start_time": "2024-06-22T15:15:03.470Z"
   },
   {
    "duration": 194,
    "start_time": "2024-06-22T15:15:04.601Z"
   },
   {
    "duration": 365,
    "start_time": "2024-06-22T15:15:04.796Z"
   },
   {
    "duration": 15,
    "start_time": "2024-06-22T15:15:05.162Z"
   },
   {
    "duration": 7,
    "start_time": "2024-06-22T15:15:05.178Z"
   },
   {
    "duration": 114,
    "start_time": "2024-06-22T15:15:05.186Z"
   },
   {
    "duration": 123,
    "start_time": "2024-06-22T15:15:05.304Z"
   },
   {
    "duration": 97,
    "start_time": "2024-06-22T15:15:05.429Z"
   },
   {
    "duration": 39,
    "start_time": "2024-06-22T15:15:05.527Z"
   },
   {
    "duration": 24,
    "start_time": "2024-06-22T15:15:05.567Z"
   },
   {
    "duration": 29,
    "start_time": "2024-06-22T15:15:05.592Z"
   },
   {
    "duration": 24,
    "start_time": "2024-06-22T15:15:05.622Z"
   },
   {
    "duration": 17,
    "start_time": "2024-06-22T15:15:05.648Z"
   },
   {
    "duration": 10,
    "start_time": "2024-06-22T15:15:05.666Z"
   },
   {
    "duration": 44,
    "start_time": "2024-06-22T15:15:05.677Z"
   },
   {
    "duration": 12,
    "start_time": "2024-06-22T15:15:05.722Z"
   },
   {
    "duration": 13,
    "start_time": "2024-06-22T15:15:05.736Z"
   },
   {
    "duration": 20,
    "start_time": "2024-06-22T15:15:05.751Z"
   },
   {
    "duration": 297,
    "start_time": "2024-06-22T15:15:05.772Z"
   },
   {
    "duration": 3,
    "start_time": "2024-06-22T15:15:06.071Z"
   },
   {
    "duration": 196,
    "start_time": "2024-06-22T15:15:06.075Z"
   },
   {
    "duration": 264,
    "start_time": "2024-06-22T15:15:06.272Z"
   },
   {
    "duration": 276,
    "start_time": "2024-06-22T15:15:06.537Z"
   },
   {
    "duration": 7,
    "start_time": "2024-06-22T15:15:06.814Z"
   },
   {
    "duration": 1804,
    "start_time": "2024-06-22T15:15:06.822Z"
   },
   {
    "duration": 14,
    "start_time": "2024-06-22T15:15:08.627Z"
   },
   {
    "duration": 16,
    "start_time": "2024-06-22T15:15:08.642Z"
   },
   {
    "duration": 11,
    "start_time": "2024-06-22T15:15:08.659Z"
   },
   {
    "duration": 14,
    "start_time": "2024-06-22T15:15:08.671Z"
   },
   {
    "duration": 34,
    "start_time": "2024-06-22T15:15:08.686Z"
   },
   {
    "duration": 5,
    "start_time": "2024-06-22T15:15:08.721Z"
   },
   {
    "duration": 8,
    "start_time": "2024-06-22T15:15:08.727Z"
   },
   {
    "duration": 36,
    "start_time": "2024-06-22T15:15:08.736Z"
   },
   {
    "duration": 14,
    "start_time": "2024-06-22T15:15:08.773Z"
   },
   {
    "duration": 23,
    "start_time": "2024-06-22T15:15:08.788Z"
   },
   {
    "duration": 17,
    "start_time": "2024-06-22T15:15:08.812Z"
   },
   {
    "duration": 23,
    "start_time": "2024-06-22T15:15:08.830Z"
   },
   {
    "duration": 33,
    "start_time": "2024-06-22T15:15:08.854Z"
   },
   {
    "duration": 323,
    "start_time": "2024-06-22T15:15:08.888Z"
   },
   {
    "duration": 189,
    "start_time": "2024-06-22T15:15:09.213Z"
   },
   {
    "duration": 19,
    "start_time": "2024-06-22T15:15:09.403Z"
   },
   {
    "duration": 607,
    "start_time": "2024-06-22T15:15:09.423Z"
   },
   {
    "duration": 274,
    "start_time": "2024-06-22T15:15:10.032Z"
   },
   {
    "duration": 270,
    "start_time": "2024-06-22T15:15:10.308Z"
   },
   {
    "duration": 5,
    "start_time": "2024-06-22T15:15:10.579Z"
   },
   {
    "duration": 141,
    "start_time": "2024-06-22T15:15:10.586Z"
   },
   {
    "duration": 15,
    "start_time": "2024-06-22T15:15:10.729Z"
   },
   {
    "duration": 9,
    "start_time": "2024-06-22T15:15:10.745Z"
   },
   {
    "duration": 14,
    "start_time": "2024-06-22T15:15:10.755Z"
   },
   {
    "duration": 4,
    "start_time": "2024-06-22T15:15:10.770Z"
   },
   {
    "duration": 1082,
    "start_time": "2024-06-22T15:15:41.620Z"
   },
   {
    "duration": 6,
    "start_time": "2024-06-22T15:15:50.795Z"
   },
   {
    "duration": 1056,
    "start_time": "2024-06-22T15:15:56.515Z"
   },
   {
    "duration": 92,
    "start_time": "2024-06-22T15:15:57.573Z"
   },
   {
    "duration": 5,
    "start_time": "2024-06-22T15:15:57.666Z"
   },
   {
    "duration": 123,
    "start_time": "2024-06-22T15:15:57.673Z"
   },
   {
    "duration": 43,
    "start_time": "2024-06-22T15:15:57.797Z"
   },
   {
    "duration": 35,
    "start_time": "2024-06-22T15:15:57.841Z"
   },
   {
    "duration": 44,
    "start_time": "2024-06-22T15:15:57.878Z"
   },
   {
    "duration": 56,
    "start_time": "2024-06-22T15:15:57.924Z"
   },
   {
    "duration": 49,
    "start_time": "2024-06-22T15:15:57.982Z"
   },
   {
    "duration": 11,
    "start_time": "2024-06-22T15:15:58.033Z"
   },
   {
    "duration": 17,
    "start_time": "2024-06-22T15:15:58.045Z"
   },
   {
    "duration": 9,
    "start_time": "2024-06-22T15:15:58.064Z"
   },
   {
    "duration": 19,
    "start_time": "2024-06-22T15:15:58.074Z"
   },
   {
    "duration": 44,
    "start_time": "2024-06-22T15:15:58.120Z"
   },
   {
    "duration": 10,
    "start_time": "2024-06-22T15:15:58.165Z"
   },
   {
    "duration": 18,
    "start_time": "2024-06-22T15:15:58.176Z"
   },
   {
    "duration": 4,
    "start_time": "2024-06-22T15:15:58.196Z"
   },
   {
    "duration": 374,
    "start_time": "2024-06-22T15:15:58.202Z"
   },
   {
    "duration": 205,
    "start_time": "2024-06-22T15:15:58.577Z"
   },
   {
    "duration": 18,
    "start_time": "2024-06-22T15:15:58.783Z"
   },
   {
    "duration": 193,
    "start_time": "2024-06-22T15:15:58.803Z"
   },
   {
    "duration": 1102,
    "start_time": "2024-06-22T15:15:58.997Z"
   },
   {
    "duration": 202,
    "start_time": "2024-06-22T15:16:00.100Z"
   },
   {
    "duration": 412,
    "start_time": "2024-06-22T15:16:00.303Z"
   },
   {
    "duration": 19,
    "start_time": "2024-06-22T15:16:00.716Z"
   },
   {
    "duration": 68,
    "start_time": "2024-06-22T15:16:00.736Z"
   },
   {
    "duration": 266,
    "start_time": "2024-06-22T15:16:00.805Z"
   },
   {
    "duration": 183,
    "start_time": "2024-06-22T15:16:01.075Z"
   },
   {
    "duration": 99,
    "start_time": "2024-06-22T15:16:01.260Z"
   },
   {
    "duration": 35,
    "start_time": "2024-06-22T15:16:01.361Z"
   },
   {
    "duration": 52,
    "start_time": "2024-06-22T15:16:01.397Z"
   },
   {
    "duration": 21,
    "start_time": "2024-06-22T15:16:01.451Z"
   },
   {
    "duration": 56,
    "start_time": "2024-06-22T15:16:01.474Z"
   },
   {
    "duration": 29,
    "start_time": "2024-06-22T15:16:01.532Z"
   },
   {
    "duration": 10,
    "start_time": "2024-06-22T15:16:01.562Z"
   },
   {
    "duration": 52,
    "start_time": "2024-06-22T15:16:01.573Z"
   },
   {
    "duration": 14,
    "start_time": "2024-06-22T15:16:01.627Z"
   },
   {
    "duration": 22,
    "start_time": "2024-06-22T15:16:01.642Z"
   },
   {
    "duration": 34,
    "start_time": "2024-06-22T15:16:01.665Z"
   },
   {
    "duration": 350,
    "start_time": "2024-06-22T15:16:01.700Z"
   },
   {
    "duration": 3,
    "start_time": "2024-06-22T15:16:02.052Z"
   },
   {
    "duration": 242,
    "start_time": "2024-06-22T15:16:02.057Z"
   },
   {
    "duration": 281,
    "start_time": "2024-06-22T15:16:02.301Z"
   },
   {
    "duration": 273,
    "start_time": "2024-06-22T15:16:02.583Z"
   },
   {
    "duration": 3,
    "start_time": "2024-06-22T15:16:02.857Z"
   },
   {
    "duration": 1753,
    "start_time": "2024-06-22T15:16:02.862Z"
   },
   {
    "duration": 13,
    "start_time": "2024-06-22T15:16:04.620Z"
   },
   {
    "duration": 13,
    "start_time": "2024-06-22T15:16:04.634Z"
   },
   {
    "duration": 10,
    "start_time": "2024-06-22T15:16:04.648Z"
   },
   {
    "duration": 12,
    "start_time": "2024-06-22T15:16:04.660Z"
   },
   {
    "duration": 9,
    "start_time": "2024-06-22T15:16:04.674Z"
   },
   {
    "duration": 4,
    "start_time": "2024-06-22T15:16:04.685Z"
   },
   {
    "duration": 4,
    "start_time": "2024-06-22T15:16:04.720Z"
   },
   {
    "duration": 22,
    "start_time": "2024-06-22T15:16:04.725Z"
   },
   {
    "duration": 8,
    "start_time": "2024-06-22T15:16:04.748Z"
   },
   {
    "duration": 13,
    "start_time": "2024-06-22T15:16:04.757Z"
   },
   {
    "duration": 9,
    "start_time": "2024-06-22T15:16:04.771Z"
   },
   {
    "duration": 26,
    "start_time": "2024-06-22T15:16:04.781Z"
   },
   {
    "duration": 21,
    "start_time": "2024-06-22T15:16:04.808Z"
   },
   {
    "duration": 337,
    "start_time": "2024-06-22T15:16:04.831Z"
   },
   {
    "duration": 189,
    "start_time": "2024-06-22T15:16:05.170Z"
   },
   {
    "duration": 12,
    "start_time": "2024-06-22T15:16:05.360Z"
   },
   {
    "duration": 589,
    "start_time": "2024-06-22T15:16:05.374Z"
   },
   {
    "duration": 241,
    "start_time": "2024-06-22T15:16:05.965Z"
   },
   {
    "duration": 285,
    "start_time": "2024-06-22T15:16:06.207Z"
   },
   {
    "duration": 6,
    "start_time": "2024-06-22T15:16:06.493Z"
   },
   {
    "duration": 153,
    "start_time": "2024-06-22T15:16:06.500Z"
   },
   {
    "duration": 15,
    "start_time": "2024-06-22T15:16:06.655Z"
   },
   {
    "duration": 4,
    "start_time": "2024-06-22T15:16:06.671Z"
   },
   {
    "duration": 16,
    "start_time": "2024-06-22T15:16:06.677Z"
   },
   {
    "duration": 13,
    "start_time": "2024-06-22T15:16:06.694Z"
   },
   {
    "duration": 5,
    "start_time": "2024-06-22T15:22:25.915Z"
   },
   {
    "duration": 143,
    "start_time": "2024-06-22T15:25:18.994Z"
   },
   {
    "duration": 115,
    "start_time": "2024-06-22T15:25:33.864Z"
   },
   {
    "duration": 133,
    "start_time": "2024-06-22T15:25:41.455Z"
   },
   {
    "duration": 133,
    "start_time": "2024-06-22T15:25:47.723Z"
   },
   {
    "duration": 209,
    "start_time": "2024-06-22T15:25:52.055Z"
   },
   {
    "duration": 263,
    "start_time": "2024-06-22T15:25:57.643Z"
   },
   {
    "duration": 1081,
    "start_time": "2024-06-22T15:26:05.756Z"
   },
   {
    "duration": 4,
    "start_time": "2024-06-22T15:38:07.966Z"
   },
   {
    "duration": 5,
    "start_time": "2024-06-22T15:38:39.819Z"
   },
   {
    "duration": 4,
    "start_time": "2024-06-22T15:39:50.279Z"
   },
   {
    "duration": 111,
    "start_time": "2024-06-22T16:32:12.207Z"
   },
   {
    "duration": 12,
    "start_time": "2024-06-22T16:32:29.927Z"
   },
   {
    "duration": 14,
    "start_time": "2024-06-22T16:32:45.618Z"
   },
   {
    "duration": 3987,
    "start_time": "2024-06-22T16:33:06.719Z"
   },
   {
    "duration": 272,
    "start_time": "2024-06-22T16:47:13.811Z"
   },
   {
    "duration": 1200,
    "start_time": "2024-06-23T05:20:40.392Z"
   },
   {
    "duration": 386,
    "start_time": "2024-06-23T05:20:41.593Z"
   },
   {
    "duration": 6,
    "start_time": "2024-06-23T05:20:41.981Z"
   },
   {
    "duration": 153,
    "start_time": "2024-06-23T05:20:41.989Z"
   },
   {
    "duration": 28,
    "start_time": "2024-06-23T05:20:42.143Z"
   },
   {
    "duration": 54,
    "start_time": "2024-06-23T05:20:42.172Z"
   },
   {
    "duration": 24,
    "start_time": "2024-06-23T05:20:42.228Z"
   },
   {
    "duration": 78,
    "start_time": "2024-06-23T05:20:42.253Z"
   },
   {
    "duration": 38,
    "start_time": "2024-06-23T05:20:42.332Z"
   },
   {
    "duration": 11,
    "start_time": "2024-06-23T05:20:42.372Z"
   },
   {
    "duration": 17,
    "start_time": "2024-06-23T05:20:42.384Z"
   },
   {
    "duration": 26,
    "start_time": "2024-06-23T05:20:42.402Z"
   },
   {
    "duration": 16,
    "start_time": "2024-06-23T05:20:42.429Z"
   },
   {
    "duration": 35,
    "start_time": "2024-06-23T05:20:42.447Z"
   },
   {
    "duration": 9,
    "start_time": "2024-06-23T05:20:42.484Z"
   },
   {
    "duration": 30,
    "start_time": "2024-06-23T05:20:42.494Z"
   },
   {
    "duration": 4,
    "start_time": "2024-06-23T05:20:42.525Z"
   },
   {
    "duration": 295,
    "start_time": "2024-06-23T05:20:42.531Z"
   },
   {
    "duration": 19,
    "start_time": "2024-06-23T05:20:42.827Z"
   },
   {
    "duration": 190,
    "start_time": "2024-06-23T05:20:42.847Z"
   },
   {
    "duration": 1089,
    "start_time": "2024-06-23T05:20:43.038Z"
   },
   {
    "duration": 189,
    "start_time": "2024-06-23T05:20:44.128Z"
   },
   {
    "duration": 353,
    "start_time": "2024-06-23T05:20:44.319Z"
   },
   {
    "duration": 16,
    "start_time": "2024-06-23T05:20:44.674Z"
   },
   {
    "duration": 26,
    "start_time": "2024-06-23T05:20:44.691Z"
   },
   {
    "duration": 26,
    "start_time": "2024-06-23T05:20:44.718Z"
   },
   {
    "duration": 90,
    "start_time": "2024-06-23T05:20:44.745Z"
   },
   {
    "duration": 86,
    "start_time": "2024-06-23T05:20:44.838Z"
   },
   {
    "duration": 135,
    "start_time": "2024-06-23T05:20:44.926Z"
   },
   {
    "duration": 23,
    "start_time": "2024-06-23T05:20:45.062Z"
   },
   {
    "duration": 47,
    "start_time": "2024-06-23T05:20:45.087Z"
   },
   {
    "duration": 63,
    "start_time": "2024-06-23T05:20:45.135Z"
   },
   {
    "duration": 38,
    "start_time": "2024-06-23T05:20:45.199Z"
   },
   {
    "duration": 55,
    "start_time": "2024-06-23T05:20:45.238Z"
   },
   {
    "duration": 17,
    "start_time": "2024-06-23T05:20:45.294Z"
   },
   {
    "duration": 31,
    "start_time": "2024-06-23T05:20:45.312Z"
   },
   {
    "duration": 12,
    "start_time": "2024-06-23T05:20:45.344Z"
   },
   {
    "duration": 26,
    "start_time": "2024-06-23T05:20:45.357Z"
   },
   {
    "duration": 308,
    "start_time": "2024-06-23T05:20:45.384Z"
   },
   {
    "duration": 3,
    "start_time": "2024-06-23T05:20:45.694Z"
   },
   {
    "duration": 189,
    "start_time": "2024-06-23T05:20:45.698Z"
   },
   {
    "duration": 256,
    "start_time": "2024-06-23T05:20:45.888Z"
   },
   {
    "duration": 276,
    "start_time": "2024-06-23T05:20:46.146Z"
   },
   {
    "duration": 3,
    "start_time": "2024-06-23T05:20:46.423Z"
   },
   {
    "duration": 1671,
    "start_time": "2024-06-23T05:20:46.427Z"
   },
   {
    "duration": 23,
    "start_time": "2024-06-23T05:20:48.099Z"
   },
   {
    "duration": 12,
    "start_time": "2024-06-23T05:20:48.124Z"
   },
   {
    "duration": 10,
    "start_time": "2024-06-23T05:20:48.138Z"
   },
   {
    "duration": 14,
    "start_time": "2024-06-23T05:20:48.149Z"
   },
   {
    "duration": 12,
    "start_time": "2024-06-23T05:20:48.164Z"
   },
   {
    "duration": 10,
    "start_time": "2024-06-23T05:20:48.177Z"
   },
   {
    "duration": 3,
    "start_time": "2024-06-23T05:20:48.188Z"
   },
   {
    "duration": 41,
    "start_time": "2024-06-23T05:20:48.192Z"
   },
   {
    "duration": 10,
    "start_time": "2024-06-23T05:20:48.235Z"
   },
   {
    "duration": 13,
    "start_time": "2024-06-23T05:20:48.247Z"
   },
   {
    "duration": 3,
    "start_time": "2024-06-23T05:20:48.262Z"
   },
   {
    "duration": 27,
    "start_time": "2024-06-23T05:20:48.266Z"
   },
   {
    "duration": 27,
    "start_time": "2024-06-23T05:20:48.294Z"
   },
   {
    "duration": 316,
    "start_time": "2024-06-23T05:20:48.323Z"
   },
   {
    "duration": 190,
    "start_time": "2024-06-23T05:20:48.641Z"
   },
   {
    "duration": 13,
    "start_time": "2024-06-23T05:20:48.833Z"
   },
   {
    "duration": 575,
    "start_time": "2024-06-23T05:20:48.848Z"
   },
   {
    "duration": 164,
    "start_time": "2024-06-23T05:20:49.424Z"
   },
   {
    "duration": 332,
    "start_time": "2024-06-23T05:20:49.590Z"
   },
   {
    "duration": 5,
    "start_time": "2024-06-23T05:20:49.923Z"
   },
   {
    "duration": 151,
    "start_time": "2024-06-23T05:20:49.929Z"
   },
   {
    "duration": 4,
    "start_time": "2024-06-23T05:20:50.081Z"
   },
   {
    "duration": 20,
    "start_time": "2024-06-23T05:20:50.086Z"
   },
   {
    "duration": 102,
    "start_time": "2024-06-23T05:22:34.043Z"
   },
   {
    "duration": 9,
    "start_time": "2024-06-23T05:22:48.473Z"
   },
   {
    "duration": 11,
    "start_time": "2024-06-23T05:22:59.948Z"
   },
   {
    "duration": 9,
    "start_time": "2024-06-23T05:23:41.443Z"
   },
   {
    "duration": 5,
    "start_time": "2024-06-23T05:23:51.617Z"
   },
   {
    "duration": 4,
    "start_time": "2024-06-23T05:24:32.867Z"
   },
   {
    "duration": 102,
    "start_time": "2024-06-23T05:24:32.873Z"
   },
   {
    "duration": 5,
    "start_time": "2024-06-23T05:24:32.976Z"
   },
   {
    "duration": 105,
    "start_time": "2024-06-23T05:24:32.982Z"
   },
   {
    "duration": 45,
    "start_time": "2024-06-23T05:24:33.089Z"
   },
   {
    "duration": 25,
    "start_time": "2024-06-23T05:24:33.136Z"
   },
   {
    "duration": 20,
    "start_time": "2024-06-23T05:24:33.163Z"
   },
   {
    "duration": 80,
    "start_time": "2024-06-23T05:24:33.185Z"
   },
   {
    "duration": 37,
    "start_time": "2024-06-23T05:24:33.267Z"
   },
   {
    "duration": 11,
    "start_time": "2024-06-23T05:24:33.320Z"
   },
   {
    "duration": 29,
    "start_time": "2024-06-23T05:24:33.333Z"
   },
   {
    "duration": 9,
    "start_time": "2024-06-23T05:24:33.363Z"
   },
   {
    "duration": 15,
    "start_time": "2024-06-23T05:24:33.374Z"
   },
   {
    "duration": 10,
    "start_time": "2024-06-23T05:24:36.540Z"
   },
   {
    "duration": 7,
    "start_time": "2024-06-23T05:24:52.988Z"
   },
   {
    "duration": 12,
    "start_time": "2024-06-23T05:25:08.701Z"
   },
   {
    "duration": 4,
    "start_time": "2024-06-23T05:25:32.923Z"
   },
   {
    "duration": 213,
    "start_time": "2024-06-23T05:25:36.738Z"
   },
   {
    "duration": 1032,
    "start_time": "2024-06-23T05:26:29.356Z"
   },
   {
    "duration": 95,
    "start_time": "2024-06-23T05:26:30.390Z"
   },
   {
    "duration": 5,
    "start_time": "2024-06-23T05:26:30.486Z"
   },
   {
    "duration": 201,
    "start_time": "2024-06-23T05:26:30.492Z"
   },
   {
    "duration": 42,
    "start_time": "2024-06-23T05:26:30.694Z"
   },
   {
    "duration": 33,
    "start_time": "2024-06-23T05:26:30.738Z"
   },
   {
    "duration": 35,
    "start_time": "2024-06-23T05:26:30.773Z"
   },
   {
    "duration": 80,
    "start_time": "2024-06-23T05:26:30.809Z"
   },
   {
    "duration": 38,
    "start_time": "2024-06-23T05:26:30.890Z"
   },
   {
    "duration": 26,
    "start_time": "2024-06-23T05:26:30.929Z"
   },
   {
    "duration": 82,
    "start_time": "2024-06-23T05:26:30.956Z"
   },
   {
    "duration": 39,
    "start_time": "2024-06-23T05:26:31.039Z"
   },
   {
    "duration": 150,
    "start_time": "2024-06-23T05:26:31.082Z"
   },
   {
    "duration": 87,
    "start_time": "2024-06-23T05:26:31.234Z"
   },
   {
    "duration": 28,
    "start_time": "2024-06-23T05:26:31.323Z"
   },
   {
    "duration": 118,
    "start_time": "2024-06-23T05:26:31.352Z"
   },
   {
    "duration": 102,
    "start_time": "2024-06-23T05:26:31.472Z"
   },
   {
    "duration": 416,
    "start_time": "2024-06-23T05:26:31.576Z"
   },
   {
    "duration": 28,
    "start_time": "2024-06-23T05:26:31.993Z"
   },
   {
    "duration": 295,
    "start_time": "2024-06-23T05:26:32.023Z"
   },
   {
    "duration": 1144,
    "start_time": "2024-06-23T05:26:32.319Z"
   },
   {
    "duration": 194,
    "start_time": "2024-06-23T05:26:33.465Z"
   },
   {
    "duration": 359,
    "start_time": "2024-06-23T05:26:33.661Z"
   },
   {
    "duration": 15,
    "start_time": "2024-06-23T05:26:34.022Z"
   },
   {
    "duration": 7,
    "start_time": "2024-06-23T05:26:34.038Z"
   },
   {
    "duration": 12,
    "start_time": "2024-06-23T05:26:34.046Z"
   },
   {
    "duration": 115,
    "start_time": "2024-06-23T05:26:34.059Z"
   },
   {
    "duration": 94,
    "start_time": "2024-06-23T05:26:34.175Z"
   },
   {
    "duration": 135,
    "start_time": "2024-06-23T05:26:34.271Z"
   },
   {
    "duration": 29,
    "start_time": "2024-06-23T05:26:34.407Z"
   },
   {
    "duration": 8,
    "start_time": "2024-06-23T05:26:34.438Z"
   },
   {
    "duration": 20,
    "start_time": "2024-06-23T05:26:34.448Z"
   },
   {
    "duration": 18,
    "start_time": "2024-06-23T05:26:34.470Z"
   },
   {
    "duration": 36,
    "start_time": "2024-06-23T05:26:34.489Z"
   },
   {
    "duration": 20,
    "start_time": "2024-06-23T05:26:34.526Z"
   },
   {
    "duration": 10,
    "start_time": "2024-06-23T05:26:34.548Z"
   },
   {
    "duration": 11,
    "start_time": "2024-06-23T05:26:34.559Z"
   },
   {
    "duration": 3,
    "start_time": "2024-06-23T05:26:34.572Z"
   },
   {
    "duration": 297,
    "start_time": "2024-06-23T05:26:34.576Z"
   },
   {
    "duration": 3,
    "start_time": "2024-06-23T05:26:34.877Z"
   },
   {
    "duration": 182,
    "start_time": "2024-06-23T05:26:34.881Z"
   },
   {
    "duration": 250,
    "start_time": "2024-06-23T05:26:35.065Z"
   },
   {
    "duration": 282,
    "start_time": "2024-06-23T05:26:35.316Z"
   },
   {
    "duration": 3,
    "start_time": "2024-06-23T05:26:35.600Z"
   },
   {
    "duration": 1728,
    "start_time": "2024-06-23T05:26:35.604Z"
   },
   {
    "duration": 14,
    "start_time": "2024-06-23T05:26:37.334Z"
   },
   {
    "duration": 14,
    "start_time": "2024-06-23T05:26:37.349Z"
   },
   {
    "duration": 10,
    "start_time": "2024-06-23T05:26:37.364Z"
   },
   {
    "duration": 14,
    "start_time": "2024-06-23T05:26:37.375Z"
   },
   {
    "duration": 35,
    "start_time": "2024-06-23T05:26:37.390Z"
   },
   {
    "duration": 5,
    "start_time": "2024-06-23T05:26:37.427Z"
   },
   {
    "duration": 4,
    "start_time": "2024-06-23T05:26:37.433Z"
   },
   {
    "duration": 17,
    "start_time": "2024-06-23T05:26:37.438Z"
   },
   {
    "duration": 8,
    "start_time": "2024-06-23T05:26:37.457Z"
   },
   {
    "duration": 15,
    "start_time": "2024-06-23T05:26:37.466Z"
   },
   {
    "duration": 3,
    "start_time": "2024-06-23T05:26:37.482Z"
   },
   {
    "duration": 43,
    "start_time": "2024-06-23T05:26:37.486Z"
   },
   {
    "duration": 11,
    "start_time": "2024-06-23T05:26:37.530Z"
   },
   {
    "duration": 319,
    "start_time": "2024-06-23T05:26:37.542Z"
   },
   {
    "duration": 182,
    "start_time": "2024-06-23T05:26:37.863Z"
   },
   {
    "duration": 13,
    "start_time": "2024-06-23T05:26:38.046Z"
   },
   {
    "duration": 587,
    "start_time": "2024-06-23T05:26:38.061Z"
   },
   {
    "duration": 166,
    "start_time": "2024-06-23T05:26:38.649Z"
   },
   {
    "duration": 332,
    "start_time": "2024-06-23T05:26:38.819Z"
   },
   {
    "duration": 5,
    "start_time": "2024-06-23T05:26:39.153Z"
   },
   {
    "duration": 141,
    "start_time": "2024-06-23T05:26:39.159Z"
   },
   {
    "duration": 4,
    "start_time": "2024-06-23T05:26:39.302Z"
   },
   {
    "duration": 5,
    "start_time": "2024-06-23T05:26:39.319Z"
   },
   {
    "duration": 63,
    "start_time": "2024-06-23T05:27:27.037Z"
   },
   {
    "duration": 53,
    "start_time": "2024-06-23T09:12:50.321Z"
   },
   {
    "duration": 1328,
    "start_time": "2024-06-23T09:12:58.283Z"
   },
   {
    "duration": 223,
    "start_time": "2024-06-23T09:12:59.614Z"
   },
   {
    "duration": 6,
    "start_time": "2024-06-23T09:12:59.838Z"
   },
   {
    "duration": 162,
    "start_time": "2024-06-23T09:12:59.847Z"
   },
   {
    "duration": 55,
    "start_time": "2024-06-23T09:13:00.011Z"
   },
   {
    "duration": 34,
    "start_time": "2024-06-23T09:13:00.067Z"
   },
   {
    "duration": 53,
    "start_time": "2024-06-23T09:13:00.103Z"
   },
   {
    "duration": 78,
    "start_time": "2024-06-23T09:13:00.157Z"
   },
   {
    "duration": 45,
    "start_time": "2024-06-23T09:13:00.245Z"
   },
   {
    "duration": 19,
    "start_time": "2024-06-23T09:13:00.292Z"
   },
   {
    "duration": 119,
    "start_time": "2024-06-23T09:13:00.313Z"
   },
   {
    "duration": 177,
    "start_time": "2024-06-23T09:13:00.434Z"
   },
   {
    "duration": 47,
    "start_time": "2024-06-23T09:13:00.612Z"
   },
   {
    "duration": 84,
    "start_time": "2024-06-23T09:13:00.661Z"
   },
   {
    "duration": 29,
    "start_time": "2024-06-23T09:13:00.746Z"
   },
   {
    "duration": 44,
    "start_time": "2024-06-23T09:13:00.776Z"
   },
   {
    "duration": 66,
    "start_time": "2024-06-23T09:13:00.822Z"
   },
   {
    "duration": 372,
    "start_time": "2024-06-23T09:13:00.890Z"
   },
   {
    "duration": 42,
    "start_time": "2024-06-23T09:13:01.264Z"
   },
   {
    "duration": 276,
    "start_time": "2024-06-23T09:13:01.308Z"
   },
   {
    "duration": 1602,
    "start_time": "2024-06-23T09:13:01.586Z"
   },
   {
    "duration": 237,
    "start_time": "2024-06-23T09:13:03.190Z"
   },
   {
    "duration": 447,
    "start_time": "2024-06-23T09:13:03.429Z"
   },
   {
    "duration": 18,
    "start_time": "2024-06-23T09:13:03.878Z"
   },
   {
    "duration": 6,
    "start_time": "2024-06-23T09:13:03.898Z"
   },
   {
    "duration": 26,
    "start_time": "2024-06-23T09:13:03.906Z"
   },
   {
    "duration": 134,
    "start_time": "2024-06-23T09:13:03.946Z"
   },
   {
    "duration": 111,
    "start_time": "2024-06-23T09:13:04.084Z"
   },
   {
    "duration": 189,
    "start_time": "2024-06-23T09:13:04.197Z"
   },
   {
    "duration": 32,
    "start_time": "2024-06-23T09:13:04.388Z"
   },
   {
    "duration": 29,
    "start_time": "2024-06-23T09:13:04.422Z"
   },
   {
    "duration": 32,
    "start_time": "2024-06-23T09:13:04.453Z"
   },
   {
    "duration": 24,
    "start_time": "2024-06-23T09:13:04.487Z"
   },
   {
    "duration": 44,
    "start_time": "2024-06-23T09:13:04.513Z"
   },
   {
    "duration": 29,
    "start_time": "2024-06-23T09:13:04.558Z"
   },
   {
    "duration": 18,
    "start_time": "2024-06-23T09:13:04.589Z"
   },
   {
    "duration": 38,
    "start_time": "2024-06-23T09:13:04.609Z"
   },
   {
    "duration": 4,
    "start_time": "2024-06-23T09:13:04.648Z"
   },
   {
    "duration": 375,
    "start_time": "2024-06-23T09:13:04.654Z"
   },
   {
    "duration": 4,
    "start_time": "2024-06-23T09:13:05.030Z"
   },
   {
    "duration": 224,
    "start_time": "2024-06-23T09:13:05.036Z"
   },
   {
    "duration": 317,
    "start_time": "2024-06-23T09:13:05.262Z"
   },
   {
    "duration": 358,
    "start_time": "2024-06-23T09:13:05.580Z"
   },
   {
    "duration": 6,
    "start_time": "2024-06-23T09:13:05.940Z"
   },
   {
    "duration": 2107,
    "start_time": "2024-06-23T09:13:05.947Z"
   },
   {
    "duration": 17,
    "start_time": "2024-06-23T09:13:08.056Z"
   },
   {
    "duration": 18,
    "start_time": "2024-06-23T09:13:08.074Z"
   },
   {
    "duration": 13,
    "start_time": "2024-06-23T09:13:08.094Z"
   },
   {
    "duration": 44,
    "start_time": "2024-06-23T09:13:08.109Z"
   },
   {
    "duration": 15,
    "start_time": "2024-06-23T09:13:08.154Z"
   },
   {
    "duration": 8,
    "start_time": "2024-06-23T09:13:08.170Z"
   },
   {
    "duration": 8,
    "start_time": "2024-06-23T09:13:08.179Z"
   },
   {
    "duration": 27,
    "start_time": "2024-06-23T09:13:08.189Z"
   },
   {
    "duration": 15,
    "start_time": "2024-06-23T09:13:08.217Z"
   },
   {
    "duration": 27,
    "start_time": "2024-06-23T09:13:08.234Z"
   },
   {
    "duration": 4,
    "start_time": "2024-06-23T09:13:08.262Z"
   },
   {
    "duration": 46,
    "start_time": "2024-06-23T09:13:08.267Z"
   },
   {
    "duration": 22,
    "start_time": "2024-06-23T09:13:08.315Z"
   },
   {
    "duration": 518,
    "start_time": "2024-06-23T09:13:08.338Z"
   },
   {
    "duration": 427,
    "start_time": "2024-06-23T09:13:08.858Z"
   },
   {
    "duration": 71,
    "start_time": "2024-06-23T09:13:09.286Z"
   },
   {
    "duration": 1095,
    "start_time": "2024-06-23T09:13:09.359Z"
   },
   {
    "duration": 206,
    "start_time": "2024-06-23T09:13:10.456Z"
   },
   {
    "duration": 435,
    "start_time": "2024-06-23T09:13:10.664Z"
   },
   {
    "duration": 7,
    "start_time": "2024-06-23T09:13:11.101Z"
   },
   {
    "duration": 178,
    "start_time": "2024-06-23T09:13:11.110Z"
   },
   {
    "duration": 6,
    "start_time": "2024-06-23T09:13:11.290Z"
   },
   {
    "duration": 22,
    "start_time": "2024-06-23T09:13:11.298Z"
   },
   {
    "duration": 53,
    "start_time": "2024-06-23T09:13:22.262Z"
   },
   {
    "duration": 13,
    "start_time": "2024-06-23T09:17:46.925Z"
   },
   {
    "duration": 10,
    "start_time": "2024-06-23T09:34:40.074Z"
   },
   {
    "duration": 9,
    "start_time": "2024-06-23T09:34:53.145Z"
   }
  ],
  "kernelspec": {
   "display_name": "Python 3 (ipykernel)",
   "language": "python",
   "name": "python3"
  },
  "language_info": {
   "codemirror_mode": {
    "name": "ipython",
    "version": 3
   },
   "file_extension": ".py",
   "mimetype": "text/x-python",
   "name": "python",
   "nbconvert_exporter": "python",
   "pygments_lexer": "ipython3",
   "version": "3.9.18"
  },
  "toc": {
   "base_numbering": 1,
   "nav_menu": {},
   "number_sections": true,
   "sideBar": true,
   "skip_h1_title": true,
   "title_cell": "Table of Contents",
   "title_sidebar": "Contents",
   "toc_cell": false,
   "toc_position": {
    "height": "calc(100% - 180px)",
    "left": "10px",
    "top": "150px",
    "width": "228px"
   },
   "toc_section_display": true,
   "toc_window_display": true
  }
 },
 "nbformat": 4,
 "nbformat_minor": 4
}
